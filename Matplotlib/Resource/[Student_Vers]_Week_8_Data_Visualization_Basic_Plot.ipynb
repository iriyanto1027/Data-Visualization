{
  "nbformat": 4,
  "nbformat_minor": 0,
  "metadata": {
    "colab": {
      "name": "[Student Vers] Week 8 Data Visualization: Basic Plot.ipynb",
      "provenance": [],
      "collapsed_sections": []
    },
    "kernelspec": {
      "name": "python3",
      "display_name": "Python 3"
    }
  },
  "cells": [
    {
      "cell_type": "markdown",
      "metadata": {
        "id": "93VF7VtBZw-p",
        "colab_type": "text"
      },
      "source": [
        "# <center> Visualization with Python: Basic Plot Data with matplotlib</center>\n",
        "\n",
        "This course is devoted to student of Undergraduate Student of Informatics, Telkom University. \n",
        "\n",
        "Detail of Course\n",
        "\n",
        "\n",
        "*   Course Name: (CSH4W3) Data Visualization\n",
        "\n",
        "*   Lecturer: Dr. Putu Harry Gunawan\n",
        "\n",
        "\n",
        "---\n",
        "\n",
        "This course inlcude basic review of Python using numpy and pandas.\n",
        "\n",
        "\n"
      ]
    },
    {
      "cell_type": "markdown",
      "metadata": {
        "id": "ncByF0ZVbZnh",
        "colab_type": "text"
      },
      "source": [
        "# Basic Python"
      ]
    },
    {
      "cell_type": "markdown",
      "metadata": {
        "id": "8Qeg8IFXWyzN",
        "colab_type": "text"
      },
      "source": [
        "**Variabels**"
      ]
    },
    {
      "cell_type": "code",
      "metadata": {
        "id": "xmkp8XtwW6fb",
        "colab_type": "code",
        "colab": {}
      },
      "source": [
        "A =  \n",
        "B =  \n",
        "C =  \n",
        "print(A)\n",
        "print(B)\n",
        "print(C)"
      ],
      "execution_count": 0,
      "outputs": []
    },
    {
      "cell_type": "markdown",
      "metadata": {
        "id": "6CWKsGU-W7I4",
        "colab_type": "text"
      },
      "source": [
        "Arrays"
      ]
    },
    {
      "cell_type": "code",
      "metadata": {
        "id": "tc-9ZzBwXAc_",
        "colab_type": "code",
        "colab": {}
      },
      "source": [
        "cars = [ ]\n",
        "\n",
        "length = len(cars)\n",
        "\n",
        "print(cars)\n",
        "print(length)"
      ],
      "execution_count": 0,
      "outputs": []
    },
    {
      "cell_type": "markdown",
      "metadata": {
        "id": "HzBiAHpGXK2y",
        "colab_type": "text"
      },
      "source": [
        "Get the first element and the last element"
      ]
    },
    {
      "cell_type": "code",
      "metadata": {
        "id": "V_dCKzspXNVg",
        "colab_type": "code",
        "colab": {}
      },
      "source": [
        "x = cars[0]\n",
        "print(x)\n",
        "\n",
        "x = cars[-1]\n",
        "print(x)"
      ],
      "execution_count": 0,
      "outputs": []
    },
    {
      "cell_type": "markdown",
      "metadata": {
        "id": "2I1kU8wWXRTW",
        "colab_type": "text"
      },
      "source": [
        "Adding, delete by index and value"
      ]
    },
    {
      "cell_type": "code",
      "metadata": {
        "id": "l8M2jTgTXhAg",
        "colab_type": "code",
        "colab": {}
      },
      "source": [
        "#Adding Honda\n",
        "cars.append(\"Honda\")\n",
        "print(cars)\n",
        "\n",
        "#Delete third element\n",
        "cars.pop(2)\n",
        "print(cars)\n",
        "\n",
        "#Remove Volvo\n",
        "cars.remove(\"Volvo\")\n",
        "print(cars)"
      ],
      "execution_count": 0,
      "outputs": []
    },
    {
      "cell_type": "markdown",
      "metadata": {
        "id": "86s9GhuyXumG",
        "colab_type": "text"
      },
      "source": [
        "Loop process"
      ]
    },
    {
      "cell_type": "code",
      "metadata": {
        "id": "pfXf2lkfXwjI",
        "colab_type": "code",
        "colab": {}
      },
      "source": [
        "for x in cars:\n",
        "  print(x)"
      ],
      "execution_count": 0,
      "outputs": []
    },
    {
      "cell_type": "code",
      "metadata": {
        "id": "pD77IctyXxvL",
        "colab_type": "code",
        "colab": {}
      },
      "source": [
        "for i in range(0,len(cars)):\n",
        "  print(cars[i])"
      ],
      "execution_count": 0,
      "outputs": []
    },
    {
      "cell_type": "markdown",
      "metadata": {
        "id": "ZBWOLiPjb3LZ",
        "colab_type": "text"
      },
      "source": [
        "**NumPy**\n",
        "\n",
        "NumPy is a general-purpose array-processing package. It provides a high-performance multidimensional array object, and tools for working with these arrays."
      ]
    },
    {
      "cell_type": "code",
      "metadata": {
        "id": "yTny7rJVcKd1",
        "colab_type": "code",
        "colab": {}
      },
      "source": [
        "# Python program to demonstrate \n",
        "# array creation techniques \n",
        "import numpy as np \n",
        "\n",
        "Vec = \n",
        "Vec"
      ],
      "execution_count": 0,
      "outputs": []
    },
    {
      "cell_type": "code",
      "metadata": {
        "id": "_UNHq9ClcuS8",
        "colab_type": "code",
        "colab": {}
      },
      "source": [
        "# Creating array from list with type float \n",
        "a = np.array( ) \n",
        "print (\"Array created using passed list:\\n\", a) \n",
        "\n",
        "# Creating array from tuple \n",
        "b = np.array( ) \n",
        "print (\"\\nArray created using passed tuple:\\n\", b) \n",
        "\n",
        "# Creating a 3X4 array with all zeros \n",
        "c = np.zeros( ) \n",
        "print (\"\\nAn array initialized with all zeros:\\n\", c) \n",
        "\n",
        "# Create a constant value array of complex type \n",
        "d = np.full( ) \n",
        "print (\"\\nAn array initialized with all 6s.\"\n",
        "\t\t\t\"Array type is complex:\\n\", d) "
      ],
      "execution_count": 0,
      "outputs": []
    },
    {
      "cell_type": "code",
      "metadata": {
        "id": "lGXHQJTvcvuU",
        "colab_type": "code",
        "colab": {}
      },
      "source": [
        "# Create an array with random values \n",
        "e =  \n",
        "print (\"\\nA random array:\\n\", e) \n"
      ],
      "execution_count": 0,
      "outputs": []
    },
    {
      "cell_type": "code",
      "metadata": {
        "id": "chHFrt-Tc0PE",
        "colab_type": "code",
        "colab": {}
      },
      "source": [
        "# Create a sequence of integers \n",
        "# from 0 to 30 with steps of 5 \n",
        "f = \n",
        "print (\"\\nA sequential array with steps of 5:\\n\", f) \n",
        "\n",
        "# Create a sequence of 10 values in range 0 to 5 \n",
        "g = \n",
        "print (\"\\nA sequential array with 10 values between\"\n",
        "\t\t\t\t\t\t\t\t\t\t\"0 and 5:\\n\", g) \n"
      ],
      "execution_count": 0,
      "outputs": []
    },
    {
      "cell_type": "code",
      "metadata": {
        "id": "b321YtGic9WD",
        "colab_type": "code",
        "colab": {}
      },
      "source": [
        "# Reshaping 3X4 array to 2X2X3 array \n",
        "arr = np.array([[1, 2, 3, 4], \n",
        "\t\t\t\t[5, 2, 4, 2], \n",
        "\t\t\t\t[1, 2, 0, 1]]) \n",
        "\n",
        "newarr =  \n",
        "\n",
        "print (\"\\nOriginal array:\\n\", arr) \n",
        "print (\"Reshaped array:\\n\", newarr) "
      ],
      "execution_count": 0,
      "outputs": []
    },
    {
      "cell_type": "code",
      "metadata": {
        "id": "RAIxQjKPdBx-",
        "colab_type": "code",
        "colab": {}
      },
      "source": [
        "# Flatten array \n",
        "arr = np.array([[1, 2, 3], [4, 5, 6]]) \n",
        "flarr = \n",
        "\n",
        "print (\"\\nOriginal array:\\n\", arr) \n",
        "print (\"Fattened array:\\n\", flarr) "
      ],
      "execution_count": 0,
      "outputs": []
    },
    {
      "cell_type": "markdown",
      "metadata": {
        "id": "WP21vc-Rdam8",
        "colab_type": "text"
      },
      "source": [
        "**Array Indexing**: Knowing the basics of array indexing is important for analysing and manipulating the array object. NumPy offers many ways to do array indexing.\n",
        "\n",
        "\n",
        "\n",
        "*   **Slicing**: Just like lists in python, NumPy arrays can be sliced. As arrays can be multidimensional, you need to specify a slice for each dimension of the array.\n",
        "*   **Integer array indexing**: In this method, lists are passed for indexing for each dimension. One to one mapping of corresponding elements is done to construct a new arbitrary array.\n",
        "*   **LBoolean array indexing**: This method is used when we want to pick elements from array which satisfy some condition.\n"
      ]
    },
    {
      "cell_type": "code",
      "metadata": {
        "id": "dc5veJzvdb_d",
        "colab_type": "code",
        "colab": {}
      },
      "source": [
        "# Python program to demonstrate \n",
        "# indexing in numpy \n",
        "import numpy as np \n",
        "\n",
        "# An exemplar array \n",
        "arr = np.array([[-1, 2, 0, 4], \n",
        "\t\t\t\t[4, -0.5, 6, 0], \n",
        "\t\t\t\t[2.6, 0, 7, 8], \n",
        "\t\t\t\t[3, -7, 4, 2.0]]) \n",
        "\n",
        "# Slicing array \n",
        "temp = arr[:2, ::2] \n",
        "print (\"Array with first 2 rows and alternate\"\n",
        "\t\t\t\t\t\"columns(0 and 2):\\n\", temp) "
      ],
      "execution_count": 0,
      "outputs": []
    },
    {
      "cell_type": "code",
      "metadata": {
        "id": "Ki5f7WBtdgV-",
        "colab_type": "code",
        "colab": {}
      },
      "source": [
        "# Integer array indexing example \n",
        "temp =  \n",
        "print (\"\\nElements at indices (0, 3), (1, 2), (2, 1),\"\n",
        "\t\t\t\t\t\t\t\t\t\"(3, 0):\\n\", temp) "
      ],
      "execution_count": 0,
      "outputs": []
    },
    {
      "cell_type": "code",
      "metadata": {
        "id": "7DK1iNJgdqgH",
        "colab_type": "code",
        "colab": {}
      },
      "source": [
        "# boolean array indexing example \n",
        "cond = arr > 0 # cond is a boolean array \n",
        "temp = arr[cond] \n",
        "print (\"\\nElements greater than 0:\\n\", temp) "
      ],
      "execution_count": 0,
      "outputs": []
    },
    {
      "cell_type": "markdown",
      "metadata": {
        "id": "ztfawTVQd00H",
        "colab_type": "text"
      },
      "source": [
        "**Basic operations**: Plethora of built-in arithmetic functions are provided in NumPy.\n",
        "\n",
        "\n",
        "\n",
        "*   **Operations on single array**: We can use overloaded arithmetic operators to do element-wise operation on array to create a new array. In case of +=, -=, *= operators, the exsisting array is modified.\n",
        "\n"
      ]
    },
    {
      "cell_type": "code",
      "metadata": {
        "id": "tkX6rdf7d15c",
        "colab_type": "code",
        "colab": {}
      },
      "source": [
        "# Python program to demonstrate \n",
        "# basic operations on single array \n",
        "import numpy as np \n",
        "\n",
        "a = np.array([1, 2, 5, 3]) \n",
        "\n",
        "# add 1 to every element \n",
        "print (\"Adding 1 to every element:\",  ) \n",
        "\n",
        "# subtract 3 from each element \n",
        "print (\"Subtracting 3 from each element:\",  ) \n",
        "\n",
        "# multiply each element by 10 \n",
        "print (\"Multiplying each element by 10:\",  ) \n",
        "\n",
        "# square each element \n",
        "print (\"Squaring each element:\",  ) \n",
        "\n",
        "# modify existing array \n",
        "a *= 2\n",
        "print (\"Doubled each element of original array:\",  ) \n",
        "\n",
        "# transpose of array \n",
        "a = np.array([[1, 2, 3], [3, 4, 5], [9, 6, 0]]) \n",
        "\n",
        "print (\"\\nOriginal array:\\n\", ) \n",
        "print (\"Transpose of array:\\n\",  ) "
      ],
      "execution_count": 0,
      "outputs": []
    },
    {
      "cell_type": "markdown",
      "metadata": {
        "id": "JSdEiSajeFWL",
        "colab_type": "text"
      },
      "source": [
        "\n",
        "*   **Binary operators**: These operations apply on array elementwise and a new array is created. You can use all basic arithmetic operators like +, -, /, , etc. In case of +=, -=, = operators, the exsisting array is modified."
      ]
    },
    {
      "cell_type": "code",
      "metadata": {
        "id": "qjQe8tEmeLoP",
        "colab_type": "code",
        "colab": {}
      },
      "source": [
        "# Python program to demonstrate \n",
        "# binary operators in Numpy \n",
        "import numpy as np \n",
        "\n",
        "a = np.array([[1, 2], \n",
        "\t\t\t[3, 4]]) \n",
        "b = np.array([[4, 3], \n",
        "\t\t\t[2, 1]]) \n",
        "\n",
        "# add arrays \n",
        "print (\"Array sum:\\n\",  ) \n",
        "\n",
        "# multiply arrays (elementwise multiplication) \n",
        "print (\"Array multiplication:\\n\",  ) \n",
        "\n",
        "# matrix multiplication \n",
        "print (\"Matrix multiplication:\\n\",  ) \n",
        "#print (\"Matrix multiplication:\\n\", a@b) \n",
        "\n",
        "# inverse matrix \n",
        "print (\"Inverse of Matrix a:\\n\",  ) \n",
        "#print (\"Matrix multiplication:\\n\", a@b) \n"
      ],
      "execution_count": 0,
      "outputs": []
    },
    {
      "cell_type": "markdown",
      "metadata": {
        "id": "3cz2ojkfix__",
        "colab_type": "text"
      },
      "source": [
        "Define a function"
      ]
    },
    {
      "cell_type": "code",
      "metadata": {
        "id": "bkABCvt1izmO",
        "colab_type": "code",
        "colab": {}
      },
      "source": [
        "def function(x):"
      ],
      "execution_count": 0,
      "outputs": []
    },
    {
      "cell_type": "markdown",
      "metadata": {
        "id": "0ppxYfjyv19A",
        "colab_type": "text"
      },
      "source": [
        "Dataframe and data"
      ]
    },
    {
      "cell_type": "code",
      "metadata": {
        "id": "4X9BCuRGv4b1",
        "colab_type": "code",
        "colab": {}
      },
      "source": [
        "import pandas as pd\n",
        "\n",
        "url = 'http://bit.ly/Test-PHN'\n",
        "data = pd.read_csv(url, index_col=0)\n",
        "\n"
      ],
      "execution_count": 0,
      "outputs": []
    },
    {
      "cell_type": "markdown",
      "metadata": {
        "id": "sXtEV57zwKk0",
        "colab_type": "text"
      },
      "source": [
        "Convert dataframe to array"
      ]
    },
    {
      "cell_type": "code",
      "metadata": {
        "id": "uBlfHpMav-M8",
        "colab_type": "code",
        "colab": {}
      },
      "source": [
        "A =  \n",
        "\n",
        "A"
      ],
      "execution_count": 0,
      "outputs": []
    },
    {
      "cell_type": "markdown",
      "metadata": {
        "id": "_QNsBoNgXN58",
        "colab_type": "text"
      },
      "source": [
        "# Basic Plot"
      ]
    },
    {
      "cell_type": "markdown",
      "metadata": {
        "id": "sBphk-XcghOe",
        "colab_type": "text"
      },
      "source": [
        "Plot a function $\\sin(x)$ where $x \\in [0,2\\pi]$"
      ]
    },
    {
      "cell_type": "code",
      "metadata": {
        "id": "cLBtFuOIf4YO",
        "colab_type": "code",
        "colab": {}
      },
      "source": [
        "import matplotlib.pyplot as plt\n",
        "import numpy as np\n",
        "\n",
        "#make an array x which consits of 100 points with range (0,2*pi)\n",
        "x = np.linspace(0,2*np.pi,100)\n",
        "\n",
        "#plot\n",
        "plt.plot(np.sin(x))"
      ],
      "execution_count": 0,
      "outputs": []
    },
    {
      "cell_type": "markdown",
      "metadata": {
        "id": "308MuF1ihM03",
        "colab_type": "text"
      },
      "source": [
        "Add show() function"
      ]
    },
    {
      "cell_type": "code",
      "metadata": {
        "id": "XcN4bAGthHhp",
        "colab_type": "code",
        "colab": {}
      },
      "source": [
        ""
      ],
      "execution_count": 0,
      "outputs": []
    },
    {
      "cell_type": "markdown",
      "metadata": {
        "id": "QxcdF6RFiC6j",
        "colab_type": "text"
      },
      "source": [
        "label, legend and title"
      ]
    },
    {
      "cell_type": "code",
      "metadata": {
        "id": "77VMbiAoiFWN",
        "colab_type": "code",
        "colab": {}
      },
      "source": [
        "plt.xlabel( )\n",
        "plt.ylabel( )\n",
        "\n",
        "plt.plot(np.sin(x), color='red', linewidth=3)\n",
        "\n",
        "plt.legend(('sin(x)',), loc='upper right')\n",
        "plt.title( )\n",
        "plt.show()"
      ],
      "execution_count": 0,
      "outputs": []
    },
    {
      "cell_type": "markdown",
      "metadata": {
        "id": "jKECf-ISiTWX",
        "colab_type": "text"
      },
      "source": [
        "add grid()"
      ]
    },
    {
      "cell_type": "code",
      "metadata": {
        "id": "x9_Z35IQiWYA",
        "colab_type": "code",
        "colab": {}
      },
      "source": [
        "\n",
        "\n",
        "plt.grid()\n",
        "\n"
      ],
      "execution_count": 0,
      "outputs": []
    },
    {
      "cell_type": "markdown",
      "metadata": {
        "id": "fVuLoQoOnh_X",
        "colab_type": "text"
      },
      "source": [
        "Font size of label and title"
      ]
    },
    {
      "cell_type": "code",
      "metadata": {
        "id": "1VaXPu14nnJD",
        "colab_type": "code",
        "colab": {}
      },
      "source": [
        "plt.xlabel( )\n",
        "plt.ylabel( )\n",
        "\n",
        "plt.grid()\n",
        "\n",
        "plt.plot(np.sin(x), color='red', linewidth=3)\n",
        "\n",
        "plt.legend(('sin(x)',), loc='upper right')\n",
        "plt.title('Plot sin(x)', fontsize=20)\n",
        "plt.show()"
      ],
      "execution_count": 0,
      "outputs": []
    },
    {
      "cell_type": "markdown",
      "metadata": {
        "id": "2TUoSZBIop3d",
        "colab_type": "text"
      },
      "source": [
        "Tickx label font size"
      ]
    },
    {
      "cell_type": "code",
      "metadata": {
        "id": "aF458qTwowTs",
        "colab_type": "code",
        "colab": {}
      },
      "source": [
        "plt.xlabel('x', fontsize=20)\n",
        "plt.ylabel('y', fontsize=20)\n",
        "\n",
        "plt.tick_params( )\n",
        "\n",
        "plt.grid()\n",
        "\n",
        "plt.plot(np.sin(x), color='red', linewidth=3)\n",
        "\n",
        "plt.legend(('sin(x)',), loc='upper right')\n",
        "plt.title('Plot sin(x)', fontsize=20)\n",
        "plt.show()"
      ],
      "execution_count": 0,
      "outputs": []
    },
    {
      "cell_type": "markdown",
      "metadata": {
        "id": "WDIH03q0pS5l",
        "colab_type": "text"
      },
      "source": [
        "Save figure "
      ]
    },
    {
      "cell_type": "code",
      "metadata": {
        "id": "ZtQYEHc4pVG0",
        "colab_type": "code",
        "colab": {}
      },
      "source": [
        "plt.xlabel('x', fontsize=20)\n",
        "plt.ylabel('y', fontsize=20)\n",
        "plt.tick_params(direction='out', length=6, width=2, colors='blue',\n",
        "               grid_color='green', grid_alpha=0.5, labelsize=20)\n",
        "plt.grid()\n",
        "\n",
        "plt.plot(np.sin(x), color='red', linewidth=3)\n",
        "\n",
        "plt.legend(('sin(x)',), loc='upper right')\n",
        "plt.title('Plot sin(x)', fontsize=20)\n",
        "\n",
        "plt.savefig('fig_png.png', dpi=None, facecolor='w', edgecolor='w',\n",
        "        orientation='portrait')\n",
        "\n",
        "plt.show()"
      ],
      "execution_count": 0,
      "outputs": []
    },
    {
      "cell_type": "markdown",
      "metadata": {
        "id": "pP-4LNHZr1Ye",
        "colab_type": "text"
      },
      "source": [
        "**Exercise 1**\n",
        "\n",
        "Make a plot of two functions $\\sin(x)$ and $\\cos(x)$ where $x \\in (0, 4\\pi)$. Note please define a function of sin and cos separately"
      ]
    },
    {
      "cell_type": "code",
      "metadata": {
        "id": "ToM50myysGhf",
        "colab_type": "code",
        "colab": {}
      },
      "source": [
        "import matplotlib.pyplot as plt\n",
        "import numpy as np\n",
        "\n",
        "def fsin(x):\n",
        "  return\n",
        "\n",
        "def fcos(x):\n",
        "  return\n",
        "\n",
        "#define variable x\n",
        "\n",
        "#plot the functions\n"
      ],
      "execution_count": 0,
      "outputs": []
    },
    {
      "cell_type": "markdown",
      "metadata": {
        "id": "ggA_V-1bsxm-",
        "colab_type": "text"
      },
      "source": [
        "**Exercise 2**\n",
        "\n",
        "Make a plot of a function $f(x)=x^2 -2x+2$ where $x \\in [0, 100]$. Note please define a function of sin and cos separately"
      ]
    },
    {
      "cell_type": "code",
      "metadata": {
        "id": "bsRXOstNtD5s",
        "colab_type": "code",
        "colab": {}
      },
      "source": [
        "import matplotlib.pyplot as plt\n",
        "import numpy as np\n",
        "\n",
        "def f(x):\n",
        "  return\n",
        "\n",
        "\n",
        "#define variable x\n",
        "\n",
        "#plot the functions"
      ],
      "execution_count": 0,
      "outputs": []
    },
    {
      "cell_type": "markdown",
      "metadata": {
        "id": "TNn66yMizLCQ",
        "colab_type": "text"
      },
      "source": [
        "**Exercise 3**\n",
        "\n",
        "Make a plot as the folowing figure, with random value\n",
        "\n",
        "<img src = \"https://i.imgur.com/CdgWJiM.png\" align = \"center\">"
      ]
    },
    {
      "cell_type": "code",
      "metadata": {
        "id": "2E16lo5F0CyE",
        "colab_type": "code",
        "colab": {}
      },
      "source": [
        "import matplotlib.pyplot as plt\n",
        "import numpy as np\n",
        "\n"
      ],
      "execution_count": 0,
      "outputs": []
    },
    {
      "cell_type": "markdown",
      "metadata": {
        "id": "Z1kaDC6Ct2zS",
        "colab_type": "text"
      },
      "source": [
        "# Categorial plot"
      ]
    },
    {
      "cell_type": "markdown",
      "metadata": {
        "id": "WnmLqKLJuCSk",
        "colab_type": "text"
      },
      "source": [
        "Plot in subplot with bar and scatter"
      ]
    },
    {
      "cell_type": "code",
      "metadata": {
        "id": "zfEF1sHwkGQ2",
        "colab_type": "code",
        "colab": {}
      },
      "source": [
        "import matplotlib.pyplot as plt\n",
        "\n",
        "data = {'apples': 10, 'oranges': 15, 'lemons': 5, 'limes': 20}\n",
        "\n",
        "names = list(data.keys())\n",
        "values = list(data.values())\n",
        "print(names)\n",
        "print(values)\n",
        "\n",
        "plt.plot(names,values)\n",
        "plt.show()"
      ],
      "execution_count": 0,
      "outputs": []
    },
    {
      "cell_type": "markdown",
      "metadata": {
        "id": "8Z34nKnFumam",
        "colab_type": "text"
      },
      "source": [
        "Subplot"
      ]
    },
    {
      "cell_type": "code",
      "metadata": {
        "id": "P20upiItuNpw",
        "colab_type": "code",
        "colab": {}
      },
      "source": [
        "fig, axs = plt.subplots(1, 3)\n",
        "axs[0].\n",
        "axs[1]. \n",
        "axs[2]. \n",
        "fig.suptitle('Categorical Plotting')\n",
        "plt.show()"
      ],
      "execution_count": 0,
      "outputs": []
    },
    {
      "cell_type": "markdown",
      "metadata": {
        "id": "oc2TtakVu1xf",
        "colab_type": "text"
      },
      "source": [
        "Show in figsize and share y label"
      ]
    },
    {
      "cell_type": "code",
      "metadata": {
        "id": "0SUqxLxlvIly",
        "colab_type": "code",
        "colab": {}
      },
      "source": [
        "fig, axs = plt.subplots(1, 3, figsize=(9,3), sharey=True)\n",
        "axs[0]. \n",
        "axs[1]. \n",
        "axs[2]. \n",
        "fig.suptitle('Categorical Plotting')\n",
        "plt.show()"
      ],
      "execution_count": 0,
      "outputs": []
    },
    {
      "cell_type": "markdown",
      "metadata": {
        "id": "1iW3fIMNwTsB",
        "colab_type": "text"
      },
      "source": [
        "**Exercise 4**\n",
        "\n",
        "Make a plot with sub plot as the following example\n",
        "\n",
        "<img src = \"https://i.imgur.com/9JrII2T.png\" align = \"center\">\n",
        "\n",
        "\n"
      ]
    },
    {
      "cell_type": "code",
      "metadata": {
        "id": "phCn1O4CwipI",
        "colab_type": "code",
        "colab": {}
      },
      "source": [
        "fig, axs = plt.subplots(2, 2, figsize=(6,6))\n",
        " \n",
        "fig.suptitle('Categorical Plotting')\n",
        "plt.show()"
      ],
      "execution_count": 0,
      "outputs": []
    },
    {
      "cell_type": "markdown",
      "metadata": {
        "id": "zPwG-nG_0Xy5",
        "colab_type": "text"
      },
      "source": [
        "**Homework**\n",
        "\n",
        "Find any 4 data sets in internet and plot with subplot as previous example"
      ]
    },
    {
      "cell_type": "markdown",
      "metadata": {
        "id": "8CjEwhrjkG24",
        "colab_type": "text"
      },
      "source": [
        "# Bar and pie chart"
      ]
    },
    {
      "cell_type": "markdown",
      "metadata": {
        "id": "lIK_yk731iRj",
        "colab_type": "text"
      },
      "source": [
        "**Stacked bar graph**"
      ]
    },
    {
      "cell_type": "code",
      "metadata": {
        "id": "n7sKaTCeZotD",
        "colab_type": "code",
        "colab": {}
      },
      "source": [
        "import numpy as np\n",
        "import matplotlib.pyplot as plt\n",
        "\n",
        "\n",
        "N = 5\n",
        "menMeans = (20, 35, 30, 35, 27)\n",
        "womenMeans = (25, 32, 34, 20, 25)\n",
        "menStd = (2, 3, 4, 1, 2)\n",
        "womenStd = (3, 5, 2, 3, 3)\n",
        "ind = np.arange(N)    # the x locations for the groups\n",
        "width = 0.35       # the width of the bars: can also be len(x) sequence\n",
        "\n",
        "p1 = plt.bar( )\n",
        "p2 = plt.bar( )\n",
        "\n",
        "plt.ylabel('Scores')\n",
        "plt.title('Scores by group and gender')\n",
        "plt.xticks(ind, ('G1', 'G2', 'G3', 'G4', 'G5'))\n",
        "plt.yticks(np.arange(0, 81, 10))\n",
        "plt.legend((p1[0], p2[0]), ('Men', 'Women'))\n",
        "\n",
        "plt.show()"
      ],
      "execution_count": 0,
      "outputs": []
    },
    {
      "cell_type": "markdown",
      "metadata": {
        "id": "K5wI-q8-fNK_",
        "colab_type": "text"
      },
      "source": [
        "**Horizontal bar chart**"
      ]
    },
    {
      "cell_type": "code",
      "metadata": {
        "id": "VOU_oRsQfNag",
        "colab_type": "code",
        "colab": {}
      },
      "source": [
        "import matplotlib.pyplot as plt\n",
        "import numpy as np\n",
        "\n",
        "# Fixing random state for reproducibility\n",
        "np.random.seed(19680801)\n",
        "\n",
        "\n",
        "plt.rcdefaults()\n",
        "fig, ax = plt.subplots()\n",
        "\n",
        "# Example data\n",
        "people = ('Tom', 'Dick', 'Harry', 'Slim', 'Jim')\n",
        "y_pos = np.arange(len(people))\n",
        "performance = 3 + 10 * np.random.rand(len(people))\n",
        "error = np.random.rand(len(people))\n",
        "\n",
        "ax.barh( )\n",
        "ax.set_yticks(y_pos)\n",
        "ax.set_yticklabels(people)\n",
        "ax.invert_yaxis()  # labels read top-to-bottom\n",
        "ax.set_xlabel('Performance')\n",
        "ax.set_title('How fast do you want to go today?')\n",
        "\n",
        "plt.show()"
      ],
      "execution_count": 0,
      "outputs": []
    },
    {
      "cell_type": "markdown",
      "metadata": {
        "id": "IyBhIbeqf4J-",
        "colab_type": "text"
      },
      "source": [
        "**Pie chart**"
      ]
    },
    {
      "cell_type": "code",
      "metadata": {
        "id": "TUPT2Yrvf4fP",
        "colab_type": "code",
        "colab": {}
      },
      "source": [
        "import matplotlib.pyplot as plt\n",
        "\n",
        "# Pie chart, where the slices will be ordered and plotted counter-clockwise:\n",
        "labels = 'Frogs', 'Hogs', 'Dogs', 'Logs'\n",
        "sizes = [15, 30, 45, 10]\n",
        "explode = (0, 0.1, 0, 0)  # only \"explode\" the 2nd slice (i.e. 'Hogs')\n",
        "\n",
        "fig1, ax1 = plt.subplots()\n",
        "ax1.pie()\n",
        "ax1.axis('equal')  # Equal aspect ratio ensures that pie is drawn as a circle.\n",
        "\n",
        "plt.show()"
      ],
      "execution_count": 0,
      "outputs": []
    }
  ]
}