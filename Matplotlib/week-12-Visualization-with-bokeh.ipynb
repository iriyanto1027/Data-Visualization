{
 "cells": [
  {
   "cell_type": "code",
   "execution_count": 2,
   "metadata": {},
   "outputs": [],
   "source": [
    "import bokeh\n",
    "bokeh.__version__\n",
    "import sys"
   ]
  },
  {
   "cell_type": "markdown",
   "metadata": {},
   "source": [
    "### Getting Started"
   ]
  },
  {
   "cell_type": "code",
   "execution_count": 3,
   "metadata": {},
   "outputs": [],
   "source": [
    "from bokeh.plotting import figure, show\n",
    "from bokeh.io import output_file, output_notebook"
   ]
  },
  {
   "cell_type": "raw",
   "metadata": {},
   "source": [
    "The figure() function creates a new figure for plotting.\n",
    "The output_file() function is used to specify a HTML file to store output.\n",
    "The show() function displays the Bokeh figure in browser on in notebook.\n",
    "Next, set up two numpy arrays where second array is sine value of first."
   ]
  },
  {
   "cell_type": "code",
   "execution_count": 5,
   "metadata": {},
   "outputs": [],
   "source": [
    "import numpy as np\n",
    "import math\n",
    "x=np.arange(0, math.pi*2, 0.05)\n",
    "y=np.sin(x)\n",
    "## To obtain a Bokeh Figure object, specify the title and x and y axis labels as below:\n",
    "p = figure(title=\"sine wave example\", x_axis_label='x', y_axis_label='y')\n",
    "## The Figure object contains a line() method that adds a line glyph to the figure. It needs data series for x and y axes.\n",
    "p.line(x, y, legend=\"sine\", line_width=2)\n",
    "##  set the output file and call show() function.\n",
    "output_file(\"sine.html\")\n",
    "show(p)\n"
   ]
  },
  {
   "cell_type": "markdown",
   "metadata": {},
   "source": [
    "If you want to display the html in jupyter notebook, use the function \"output_notebook\""
   ]
  },
  {
   "cell_type": "code",
   "execution_count": 6,
   "metadata": {},
   "outputs": [
    {
     "data": {
      "text/html": [
       "\n",
       "    <div class=\"bk-root\">\n",
       "        <a href=\"https://bokeh.pydata.org\" target=\"_blank\" class=\"bk-logo bk-logo-small bk-logo-notebook\"></a>\n",
       "        <span id=\"9d9dd134-90cf-4741-b15d-df16714c4560\">Loading BokehJS ...</span>\n",
       "    </div>"
      ]
     },
     "metadata": {},
     "output_type": "display_data"
    },
    {
     "data": {
      "application/javascript": [
       "\n",
       "(function(root) {\n",
       "  function now() {\n",
       "    return new Date();\n",
       "  }\n",
       "\n",
       "  var force = true;\n",
       "\n",
       "  if (typeof (root._bokeh_onload_callbacks) === \"undefined\" || force === true) {\n",
       "    root._bokeh_onload_callbacks = [];\n",
       "    root._bokeh_is_loading = undefined;\n",
       "  }\n",
       "\n",
       "  var JS_MIME_TYPE = 'application/javascript';\n",
       "  var HTML_MIME_TYPE = 'text/html';\n",
       "  var EXEC_MIME_TYPE = 'application/vnd.bokehjs_exec.v0+json';\n",
       "  var CLASS_NAME = 'output_bokeh rendered_html';\n",
       "\n",
       "  /**\n",
       "   * Render data to the DOM node\n",
       "   */\n",
       "  function render(props, node) {\n",
       "    var script = document.createElement(\"script\");\n",
       "    node.appendChild(script);\n",
       "  }\n",
       "\n",
       "  /**\n",
       "   * Handle when an output is cleared or removed\n",
       "   */\n",
       "  function handleClearOutput(event, handle) {\n",
       "    var cell = handle.cell;\n",
       "\n",
       "    var id = cell.output_area._bokeh_element_id;\n",
       "    var server_id = cell.output_area._bokeh_server_id;\n",
       "    // Clean up Bokeh references\n",
       "    if (id !== undefined) {\n",
       "      Bokeh.index[id].model.document.clear();\n",
       "      delete Bokeh.index[id];\n",
       "    }\n",
       "\n",
       "    if (server_id !== undefined) {\n",
       "      // Clean up Bokeh references\n",
       "      var cmd = \"from bokeh.io.state import curstate; print(curstate().uuid_to_server['\" + server_id + \"'].get_sessions()[0].document.roots[0]._id)\";\n",
       "      cell.notebook.kernel.execute(cmd, {\n",
       "        iopub: {\n",
       "          output: function(msg) {\n",
       "            var element_id = msg.content.text.trim();\n",
       "            Bokeh.index[element_id].model.document.clear();\n",
       "            delete Bokeh.index[element_id];\n",
       "          }\n",
       "        }\n",
       "      });\n",
       "      // Destroy server and session\n",
       "      var cmd = \"import bokeh.io.notebook as ion; ion.destroy_server('\" + server_id + \"')\";\n",
       "      cell.notebook.kernel.execute(cmd);\n",
       "    }\n",
       "  }\n",
       "\n",
       "  /**\n",
       "   * Handle when a new output is added\n",
       "   */\n",
       "  function handleAddOutput(event, handle) {\n",
       "    var output_area = handle.output_area;\n",
       "    var output = handle.output;\n",
       "\n",
       "    // limit handleAddOutput to display_data with EXEC_MIME_TYPE content only\n",
       "    if ((output.output_type != \"display_data\") || (!output.data.hasOwnProperty(EXEC_MIME_TYPE))) {\n",
       "      return\n",
       "    }\n",
       "\n",
       "    var toinsert = output_area.element.find(\".\" + CLASS_NAME.split(' ')[0]);\n",
       "\n",
       "    if (output.metadata[EXEC_MIME_TYPE][\"id\"] !== undefined) {\n",
       "      toinsert[toinsert.length - 1].firstChild.textContent = output.data[JS_MIME_TYPE];\n",
       "      // store reference to embed id on output_area\n",
       "      output_area._bokeh_element_id = output.metadata[EXEC_MIME_TYPE][\"id\"];\n",
       "    }\n",
       "    if (output.metadata[EXEC_MIME_TYPE][\"server_id\"] !== undefined) {\n",
       "      var bk_div = document.createElement(\"div\");\n",
       "      bk_div.innerHTML = output.data[HTML_MIME_TYPE];\n",
       "      var script_attrs = bk_div.children[0].attributes;\n",
       "      for (var i = 0; i < script_attrs.length; i++) {\n",
       "        toinsert[toinsert.length - 1].firstChild.setAttribute(script_attrs[i].name, script_attrs[i].value);\n",
       "      }\n",
       "      // store reference to server id on output_area\n",
       "      output_area._bokeh_server_id = output.metadata[EXEC_MIME_TYPE][\"server_id\"];\n",
       "    }\n",
       "  }\n",
       "\n",
       "  function register_renderer(events, OutputArea) {\n",
       "\n",
       "    function append_mime(data, metadata, element) {\n",
       "      // create a DOM node to render to\n",
       "      var toinsert = this.create_output_subarea(\n",
       "        metadata,\n",
       "        CLASS_NAME,\n",
       "        EXEC_MIME_TYPE\n",
       "      );\n",
       "      this.keyboard_manager.register_events(toinsert);\n",
       "      // Render to node\n",
       "      var props = {data: data, metadata: metadata[EXEC_MIME_TYPE]};\n",
       "      render(props, toinsert[toinsert.length - 1]);\n",
       "      element.append(toinsert);\n",
       "      return toinsert\n",
       "    }\n",
       "\n",
       "    /* Handle when an output is cleared or removed */\n",
       "    events.on('clear_output.CodeCell', handleClearOutput);\n",
       "    events.on('delete.Cell', handleClearOutput);\n",
       "\n",
       "    /* Handle when a new output is added */\n",
       "    events.on('output_added.OutputArea', handleAddOutput);\n",
       "\n",
       "    /**\n",
       "     * Register the mime type and append_mime function with output_area\n",
       "     */\n",
       "    OutputArea.prototype.register_mime_type(EXEC_MIME_TYPE, append_mime, {\n",
       "      /* Is output safe? */\n",
       "      safe: true,\n",
       "      /* Index of renderer in `output_area.display_order` */\n",
       "      index: 0\n",
       "    });\n",
       "  }\n",
       "\n",
       "  // register the mime type if in Jupyter Notebook environment and previously unregistered\n",
       "  if (root.Jupyter !== undefined) {\n",
       "    var events = require('base/js/events');\n",
       "    var OutputArea = require('notebook/js/outputarea').OutputArea;\n",
       "\n",
       "    if (OutputArea.prototype.mime_types().indexOf(EXEC_MIME_TYPE) == -1) {\n",
       "      register_renderer(events, OutputArea);\n",
       "    }\n",
       "  }\n",
       "\n",
       "  \n",
       "  if (typeof (root._bokeh_timeout) === \"undefined\" || force === true) {\n",
       "    root._bokeh_timeout = Date.now() + 5000;\n",
       "    root._bokeh_failed_load = false;\n",
       "  }\n",
       "\n",
       "  var NB_LOAD_WARNING = {'data': {'text/html':\n",
       "     \"<div style='background-color: #fdd'>\\n\"+\n",
       "     \"<p>\\n\"+\n",
       "     \"BokehJS does not appear to have successfully loaded. If loading BokehJS from CDN, this \\n\"+\n",
       "     \"may be due to a slow or bad network connection. Possible fixes:\\n\"+\n",
       "     \"</p>\\n\"+\n",
       "     \"<ul>\\n\"+\n",
       "     \"<li>re-rerun `output_notebook()` to attempt to load from CDN again, or</li>\\n\"+\n",
       "     \"<li>use INLINE resources instead, as so:</li>\\n\"+\n",
       "     \"</ul>\\n\"+\n",
       "     \"<code>\\n\"+\n",
       "     \"from bokeh.resources import INLINE\\n\"+\n",
       "     \"output_notebook(resources=INLINE)\\n\"+\n",
       "     \"</code>\\n\"+\n",
       "     \"</div>\"}};\n",
       "\n",
       "  function display_loaded() {\n",
       "    var el = document.getElementById(\"9d9dd134-90cf-4741-b15d-df16714c4560\");\n",
       "    if (el != null) {\n",
       "      el.textContent = \"BokehJS is loading...\";\n",
       "    }\n",
       "    if (root.Bokeh !== undefined) {\n",
       "      if (el != null) {\n",
       "        el.textContent = \"BokehJS \" + root.Bokeh.version + \" successfully loaded.\";\n",
       "      }\n",
       "    } else if (Date.now() < root._bokeh_timeout) {\n",
       "      setTimeout(display_loaded, 100)\n",
       "    }\n",
       "  }\n",
       "\n",
       "\n",
       "  function run_callbacks() {\n",
       "    try {\n",
       "      root._bokeh_onload_callbacks.forEach(function(callback) { callback() });\n",
       "    }\n",
       "    finally {\n",
       "      delete root._bokeh_onload_callbacks\n",
       "    }\n",
       "    console.info(\"Bokeh: all callbacks have finished\");\n",
       "  }\n",
       "\n",
       "  function load_libs(js_urls, callback) {\n",
       "    root._bokeh_onload_callbacks.push(callback);\n",
       "    if (root._bokeh_is_loading > 0) {\n",
       "      console.log(\"Bokeh: BokehJS is being loaded, scheduling callback at\", now());\n",
       "      return null;\n",
       "    }\n",
       "    if (js_urls == null || js_urls.length === 0) {\n",
       "      run_callbacks();\n",
       "      return null;\n",
       "    }\n",
       "    console.log(\"Bokeh: BokehJS not loaded, scheduling load and callback at\", now());\n",
       "    root._bokeh_is_loading = js_urls.length;\n",
       "    for (var i = 0; i < js_urls.length; i++) {\n",
       "      var url = js_urls[i];\n",
       "      var s = document.createElement('script');\n",
       "      s.src = url;\n",
       "      s.async = false;\n",
       "      s.onreadystatechange = s.onload = function() {\n",
       "        root._bokeh_is_loading--;\n",
       "        if (root._bokeh_is_loading === 0) {\n",
       "          console.log(\"Bokeh: all BokehJS libraries loaded\");\n",
       "          run_callbacks()\n",
       "        }\n",
       "      };\n",
       "      s.onerror = function() {\n",
       "        console.warn(\"failed to load library \" + url);\n",
       "      };\n",
       "      console.log(\"Bokeh: injecting script tag for BokehJS library: \", url);\n",
       "      document.getElementsByTagName(\"head\")[0].appendChild(s);\n",
       "    }\n",
       "  };var element = document.getElementById(\"9d9dd134-90cf-4741-b15d-df16714c4560\");\n",
       "  if (element == null) {\n",
       "    console.log(\"Bokeh: ERROR: autoload.js configured with elementid '9d9dd134-90cf-4741-b15d-df16714c4560' but no matching script tag was found. \")\n",
       "    return false;\n",
       "  }\n",
       "\n",
       "  var js_urls = [\"https://cdn.pydata.org/bokeh/release/bokeh-0.12.16.min.js\", \"https://cdn.pydata.org/bokeh/release/bokeh-widgets-0.12.16.min.js\", \"https://cdn.pydata.org/bokeh/release/bokeh-tables-0.12.16.min.js\", \"https://cdn.pydata.org/bokeh/release/bokeh-gl-0.12.16.min.js\"];\n",
       "\n",
       "  var inline_js = [\n",
       "    function(Bokeh) {\n",
       "      Bokeh.set_log_level(\"info\");\n",
       "    },\n",
       "    \n",
       "    function(Bokeh) {\n",
       "      \n",
       "    },\n",
       "    function(Bokeh) {\n",
       "      console.log(\"Bokeh: injecting CSS: https://cdn.pydata.org/bokeh/release/bokeh-0.12.16.min.css\");\n",
       "      Bokeh.embed.inject_css(\"https://cdn.pydata.org/bokeh/release/bokeh-0.12.16.min.css\");\n",
       "      console.log(\"Bokeh: injecting CSS: https://cdn.pydata.org/bokeh/release/bokeh-widgets-0.12.16.min.css\");\n",
       "      Bokeh.embed.inject_css(\"https://cdn.pydata.org/bokeh/release/bokeh-widgets-0.12.16.min.css\");\n",
       "      console.log(\"Bokeh: injecting CSS: https://cdn.pydata.org/bokeh/release/bokeh-tables-0.12.16.min.css\");\n",
       "      Bokeh.embed.inject_css(\"https://cdn.pydata.org/bokeh/release/bokeh-tables-0.12.16.min.css\");\n",
       "    }\n",
       "  ];\n",
       "\n",
       "  function run_inline_js() {\n",
       "    \n",
       "    if ((root.Bokeh !== undefined) || (force === true)) {\n",
       "      for (var i = 0; i < inline_js.length; i++) {\n",
       "        inline_js[i].call(root, root.Bokeh);\n",
       "      }if (force === true) {\n",
       "        display_loaded();\n",
       "      }} else if (Date.now() < root._bokeh_timeout) {\n",
       "      setTimeout(run_inline_js, 100);\n",
       "    } else if (!root._bokeh_failed_load) {\n",
       "      console.log(\"Bokeh: BokehJS failed to load within specified timeout.\");\n",
       "      root._bokeh_failed_load = true;\n",
       "    } else if (force !== true) {\n",
       "      var cell = $(document.getElementById(\"9d9dd134-90cf-4741-b15d-df16714c4560\")).parents('.cell').data().cell;\n",
       "      cell.output_area.append_execute_result(NB_LOAD_WARNING)\n",
       "    }\n",
       "\n",
       "  }\n",
       "\n",
       "  if (root._bokeh_is_loading === 0) {\n",
       "    console.log(\"Bokeh: BokehJS loaded, going straight to plotting\");\n",
       "    run_inline_js();\n",
       "  } else {\n",
       "    load_libs(js_urls, function() {\n",
       "      console.log(\"Bokeh: BokehJS plotting callback run at\", now());\n",
       "      run_inline_js();\n",
       "    });\n",
       "  }\n",
       "}(window));"
      ],
      "application/vnd.bokehjs_load.v0+json": "\n(function(root) {\n  function now() {\n    return new Date();\n  }\n\n  var force = true;\n\n  if (typeof (root._bokeh_onload_callbacks) === \"undefined\" || force === true) {\n    root._bokeh_onload_callbacks = [];\n    root._bokeh_is_loading = undefined;\n  }\n\n  \n\n  \n  if (typeof (root._bokeh_timeout) === \"undefined\" || force === true) {\n    root._bokeh_timeout = Date.now() + 5000;\n    root._bokeh_failed_load = false;\n  }\n\n  var NB_LOAD_WARNING = {'data': {'text/html':\n     \"<div style='background-color: #fdd'>\\n\"+\n     \"<p>\\n\"+\n     \"BokehJS does not appear to have successfully loaded. If loading BokehJS from CDN, this \\n\"+\n     \"may be due to a slow or bad network connection. Possible fixes:\\n\"+\n     \"</p>\\n\"+\n     \"<ul>\\n\"+\n     \"<li>re-rerun `output_notebook()` to attempt to load from CDN again, or</li>\\n\"+\n     \"<li>use INLINE resources instead, as so:</li>\\n\"+\n     \"</ul>\\n\"+\n     \"<code>\\n\"+\n     \"from bokeh.resources import INLINE\\n\"+\n     \"output_notebook(resources=INLINE)\\n\"+\n     \"</code>\\n\"+\n     \"</div>\"}};\n\n  function display_loaded() {\n    var el = document.getElementById(\"9d9dd134-90cf-4741-b15d-df16714c4560\");\n    if (el != null) {\n      el.textContent = \"BokehJS is loading...\";\n    }\n    if (root.Bokeh !== undefined) {\n      if (el != null) {\n        el.textContent = \"BokehJS \" + root.Bokeh.version + \" successfully loaded.\";\n      }\n    } else if (Date.now() < root._bokeh_timeout) {\n      setTimeout(display_loaded, 100)\n    }\n  }\n\n\n  function run_callbacks() {\n    try {\n      root._bokeh_onload_callbacks.forEach(function(callback) { callback() });\n    }\n    finally {\n      delete root._bokeh_onload_callbacks\n    }\n    console.info(\"Bokeh: all callbacks have finished\");\n  }\n\n  function load_libs(js_urls, callback) {\n    root._bokeh_onload_callbacks.push(callback);\n    if (root._bokeh_is_loading > 0) {\n      console.log(\"Bokeh: BokehJS is being loaded, scheduling callback at\", now());\n      return null;\n    }\n    if (js_urls == null || js_urls.length === 0) {\n      run_callbacks();\n      return null;\n    }\n    console.log(\"Bokeh: BokehJS not loaded, scheduling load and callback at\", now());\n    root._bokeh_is_loading = js_urls.length;\n    for (var i = 0; i < js_urls.length; i++) {\n      var url = js_urls[i];\n      var s = document.createElement('script');\n      s.src = url;\n      s.async = false;\n      s.onreadystatechange = s.onload = function() {\n        root._bokeh_is_loading--;\n        if (root._bokeh_is_loading === 0) {\n          console.log(\"Bokeh: all BokehJS libraries loaded\");\n          run_callbacks()\n        }\n      };\n      s.onerror = function() {\n        console.warn(\"failed to load library \" + url);\n      };\n      console.log(\"Bokeh: injecting script tag for BokehJS library: \", url);\n      document.getElementsByTagName(\"head\")[0].appendChild(s);\n    }\n  };var element = document.getElementById(\"9d9dd134-90cf-4741-b15d-df16714c4560\");\n  if (element == null) {\n    console.log(\"Bokeh: ERROR: autoload.js configured with elementid '9d9dd134-90cf-4741-b15d-df16714c4560' but no matching script tag was found. \")\n    return false;\n  }\n\n  var js_urls = [\"https://cdn.pydata.org/bokeh/release/bokeh-0.12.16.min.js\", \"https://cdn.pydata.org/bokeh/release/bokeh-widgets-0.12.16.min.js\", \"https://cdn.pydata.org/bokeh/release/bokeh-tables-0.12.16.min.js\", \"https://cdn.pydata.org/bokeh/release/bokeh-gl-0.12.16.min.js\"];\n\n  var inline_js = [\n    function(Bokeh) {\n      Bokeh.set_log_level(\"info\");\n    },\n    \n    function(Bokeh) {\n      \n    },\n    function(Bokeh) {\n      console.log(\"Bokeh: injecting CSS: https://cdn.pydata.org/bokeh/release/bokeh-0.12.16.min.css\");\n      Bokeh.embed.inject_css(\"https://cdn.pydata.org/bokeh/release/bokeh-0.12.16.min.css\");\n      console.log(\"Bokeh: injecting CSS: https://cdn.pydata.org/bokeh/release/bokeh-widgets-0.12.16.min.css\");\n      Bokeh.embed.inject_css(\"https://cdn.pydata.org/bokeh/release/bokeh-widgets-0.12.16.min.css\");\n      console.log(\"Bokeh: injecting CSS: https://cdn.pydata.org/bokeh/release/bokeh-tables-0.12.16.min.css\");\n      Bokeh.embed.inject_css(\"https://cdn.pydata.org/bokeh/release/bokeh-tables-0.12.16.min.css\");\n    }\n  ];\n\n  function run_inline_js() {\n    \n    if ((root.Bokeh !== undefined) || (force === true)) {\n      for (var i = 0; i < inline_js.length; i++) {\n        inline_js[i].call(root, root.Bokeh);\n      }if (force === true) {\n        display_loaded();\n      }} else if (Date.now() < root._bokeh_timeout) {\n      setTimeout(run_inline_js, 100);\n    } else if (!root._bokeh_failed_load) {\n      console.log(\"Bokeh: BokehJS failed to load within specified timeout.\");\n      root._bokeh_failed_load = true;\n    } else if (force !== true) {\n      var cell = $(document.getElementById(\"9d9dd134-90cf-4741-b15d-df16714c4560\")).parents('.cell').data().cell;\n      cell.output_area.append_execute_result(NB_LOAD_WARNING)\n    }\n\n  }\n\n  if (root._bokeh_is_loading === 0) {\n    console.log(\"Bokeh: BokehJS loaded, going straight to plotting\");\n    run_inline_js();\n  } else {\n    load_libs(js_urls, function() {\n      console.log(\"Bokeh: BokehJS plotting callback run at\", now());\n      run_inline_js();\n    });\n  }\n}(window));"
     },
     "metadata": {},
     "output_type": "display_data"
    },
    {
     "data": {
      "text/html": [
       "\n",
       "<div class=\"bk-root\">\n",
       "    <div class=\"bk-plotdiv\" id=\"6ed259b1-0fdd-4a3d-885e-9a3008f84022\"></div>\n",
       "</div>"
      ]
     },
     "metadata": {},
     "output_type": "display_data"
    },
    {
     "data": {
      "application/javascript": [
       "(function(root) {\n",
       "  function embed_document(root) {\n",
       "    \n",
       "  var docs_json = {\"15670451-6d01-488d-9735-5d1cf8ad5729\":{\"roots\":{\"references\":[{\"attributes\":{},\"id\":\"b78f6dd1-3bc1-4be2-84f6-53ea4cfbcb5c\",\"type\":\"UnionRenderers\"},{\"attributes\":{},\"id\":\"73c45bfe-5fcf-4da7-b48e-c2be55ea3a9d\",\"type\":\"HelpTool\"},{\"attributes\":{\"dimension\":1,\"plot\":{\"id\":\"347abddd-710a-4a46-a135-4f2c6ee8d257\",\"subtype\":\"Figure\",\"type\":\"Plot\"},\"ticker\":{\"id\":\"e03f312f-4787-4edd-9be5-cb076c2dcaf8\",\"type\":\"BasicTicker\"}},\"id\":\"f583501a-83ff-4890-a306-bd5aa51fc4c3\",\"type\":\"Grid\"},{\"attributes\":{},\"id\":\"dc0a9d1d-c0e1-4ff1-8b54-8dfa2b3291a9\",\"type\":\"ResetTool\"},{\"attributes\":{\"data_source\":{\"id\":\"fbaf62fa-f1b8-4bf8-b78b-f200a714c725\",\"type\":\"ColumnDataSource\"},\"glyph\":{\"id\":\"0186f2e1-d7cc-496c-ae5e-570ef454f607\",\"type\":\"Line\"},\"hover_glyph\":null,\"muted_glyph\":null,\"nonselection_glyph\":{\"id\":\"101c76e7-61f9-494a-959d-69fd95d3ca26\",\"type\":\"Line\"},\"selection_glyph\":null,\"view\":{\"id\":\"b4d41952-f81f-44ad-94a5-90c728ad3e24\",\"type\":\"CDSView\"}},\"id\":\"96c38233-c264-4e0e-9173-7cb0c611274c\",\"type\":\"GlyphRenderer\"},{\"attributes\":{\"line_color\":\"#1f77b4\",\"line_width\":2,\"x\":{\"field\":\"x\"},\"y\":{\"field\":\"y\"}},\"id\":\"0186f2e1-d7cc-496c-ae5e-570ef454f607\",\"type\":\"Line\"},{\"attributes\":{},\"id\":\"31cc02d1-e6e4-4e5d-92de-670c890c26b5\",\"type\":\"PanTool\"},{\"attributes\":{\"source\":{\"id\":\"fbaf62fa-f1b8-4bf8-b78b-f200a714c725\",\"type\":\"ColumnDataSource\"}},\"id\":\"b4d41952-f81f-44ad-94a5-90c728ad3e24\",\"type\":\"CDSView\"},{\"attributes\":{\"axis_label\":\"y\",\"formatter\":{\"id\":\"9c1a8aaa-23ce-4233-9cd7-1ec48f8710e8\",\"type\":\"BasicTickFormatter\"},\"plot\":{\"id\":\"347abddd-710a-4a46-a135-4f2c6ee8d257\",\"subtype\":\"Figure\",\"type\":\"Plot\"},\"ticker\":{\"id\":\"e03f312f-4787-4edd-9be5-cb076c2dcaf8\",\"type\":\"BasicTicker\"}},\"id\":\"fe10989b-db65-4bbc-a311-08e38860a4f3\",\"type\":\"LinearAxis\"},{\"attributes\":{},\"id\":\"e03f312f-4787-4edd-9be5-cb076c2dcaf8\",\"type\":\"BasicTicker\"},{\"attributes\":{\"plot\":null,\"text\":\"sine wave example\"},\"id\":\"5ce491be-88b8-44b7-8dca-d23df645b50a\",\"type\":\"Title\"},{\"attributes\":{\"axis_label\":\"x\",\"formatter\":{\"id\":\"fa1352e6-25ff-47b3-b70a-75baa4978a37\",\"type\":\"BasicTickFormatter\"},\"plot\":{\"id\":\"347abddd-710a-4a46-a135-4f2c6ee8d257\",\"subtype\":\"Figure\",\"type\":\"Plot\"},\"ticker\":{\"id\":\"84698d76-0af0-4f5f-9302-0ea306f00a74\",\"type\":\"BasicTicker\"}},\"id\":\"1fba56a0-7bfb-4b26-8e7f-5d49b3e5ec49\",\"type\":\"LinearAxis\"},{\"attributes\":{\"line_alpha\":0.1,\"line_color\":\"#1f77b4\",\"line_width\":2,\"x\":{\"field\":\"x\"},\"y\":{\"field\":\"y\"}},\"id\":\"101c76e7-61f9-494a-959d-69fd95d3ca26\",\"type\":\"Line\"},{\"attributes\":{},\"id\":\"fa1352e6-25ff-47b3-b70a-75baa4978a37\",\"type\":\"BasicTickFormatter\"},{\"attributes\":{\"below\":[{\"id\":\"1fba56a0-7bfb-4b26-8e7f-5d49b3e5ec49\",\"type\":\"LinearAxis\"}],\"left\":[{\"id\":\"fe10989b-db65-4bbc-a311-08e38860a4f3\",\"type\":\"LinearAxis\"}],\"renderers\":[{\"id\":\"1fba56a0-7bfb-4b26-8e7f-5d49b3e5ec49\",\"type\":\"LinearAxis\"},{\"id\":\"c2fb696f-5ac0-4a2e-91f8-8bb922e0c23f\",\"type\":\"Grid\"},{\"id\":\"fe10989b-db65-4bbc-a311-08e38860a4f3\",\"type\":\"LinearAxis\"},{\"id\":\"f583501a-83ff-4890-a306-bd5aa51fc4c3\",\"type\":\"Grid\"},{\"id\":\"b1ba754b-54be-4dbb-adf1-53f5659c7a2b\",\"type\":\"BoxAnnotation\"},{\"id\":\"3c2995bb-2f79-4cb2-b936-887477e12c13\",\"type\":\"Legend\"},{\"id\":\"96c38233-c264-4e0e-9173-7cb0c611274c\",\"type\":\"GlyphRenderer\"}],\"title\":{\"id\":\"5ce491be-88b8-44b7-8dca-d23df645b50a\",\"type\":\"Title\"},\"toolbar\":{\"id\":\"c03883f1-57fe-4b25-8553-303ab421cb3b\",\"type\":\"Toolbar\"},\"x_range\":{\"id\":\"5c0de33e-656e-4bb2-be9c-ca7eabb33fd4\",\"type\":\"DataRange1d\"},\"x_scale\":{\"id\":\"c34666c1-58d3-46d0-b807-b5f208e2267c\",\"type\":\"LinearScale\"},\"y_range\":{\"id\":\"5f42c900-13b4-426f-8842-dc6c57dd9dce\",\"type\":\"DataRange1d\"},\"y_scale\":{\"id\":\"c52507b9-ed61-47bb-92c6-0110d42f1b23\",\"type\":\"LinearScale\"}},\"id\":\"347abddd-710a-4a46-a135-4f2c6ee8d257\",\"subtype\":\"Figure\",\"type\":\"Plot\"},{\"attributes\":{},\"id\":\"714aacd6-a8fb-4686-828c-fe17ea951db6\",\"type\":\"Selection\"},{\"attributes\":{},\"id\":\"c34666c1-58d3-46d0-b807-b5f208e2267c\",\"type\":\"LinearScale\"},{\"attributes\":{},\"id\":\"9c1a8aaa-23ce-4233-9cd7-1ec48f8710e8\",\"type\":\"BasicTickFormatter\"},{\"attributes\":{\"bottom_units\":\"screen\",\"fill_alpha\":{\"value\":0.5},\"fill_color\":{\"value\":\"lightgrey\"},\"left_units\":\"screen\",\"level\":\"overlay\",\"line_alpha\":{\"value\":1.0},\"line_color\":{\"value\":\"black\"},\"line_dash\":[4,4],\"line_width\":{\"value\":2},\"plot\":null,\"render_mode\":\"css\",\"right_units\":\"screen\",\"top_units\":\"screen\"},\"id\":\"b1ba754b-54be-4dbb-adf1-53f5659c7a2b\",\"type\":\"BoxAnnotation\"},{\"attributes\":{\"plot\":{\"id\":\"347abddd-710a-4a46-a135-4f2c6ee8d257\",\"subtype\":\"Figure\",\"type\":\"Plot\"},\"ticker\":{\"id\":\"84698d76-0af0-4f5f-9302-0ea306f00a74\",\"type\":\"BasicTicker\"}},\"id\":\"c2fb696f-5ac0-4a2e-91f8-8bb922e0c23f\",\"type\":\"Grid\"},{\"attributes\":{\"callback\":null},\"id\":\"5c0de33e-656e-4bb2-be9c-ca7eabb33fd4\",\"type\":\"DataRange1d\"},{\"attributes\":{\"active_drag\":\"auto\",\"active_inspect\":\"auto\",\"active_scroll\":\"auto\",\"active_tap\":\"auto\",\"tools\":[{\"id\":\"31cc02d1-e6e4-4e5d-92de-670c890c26b5\",\"type\":\"PanTool\"},{\"id\":\"b17fa663-edb4-4ae2-9318-a899155f2636\",\"type\":\"WheelZoomTool\"},{\"id\":\"6480596f-8a5f-4c3c-9ef8-035c446ce468\",\"type\":\"BoxZoomTool\"},{\"id\":\"42288eae-f0c7-445a-8cd1-a834fc694928\",\"type\":\"SaveTool\"},{\"id\":\"dc0a9d1d-c0e1-4ff1-8b54-8dfa2b3291a9\",\"type\":\"ResetTool\"},{\"id\":\"73c45bfe-5fcf-4da7-b48e-c2be55ea3a9d\",\"type\":\"HelpTool\"}]},\"id\":\"c03883f1-57fe-4b25-8553-303ab421cb3b\",\"type\":\"Toolbar\"},{\"attributes\":{\"callback\":null},\"id\":\"5f42c900-13b4-426f-8842-dc6c57dd9dce\",\"type\":\"DataRange1d\"},{\"attributes\":{},\"id\":\"84698d76-0af0-4f5f-9302-0ea306f00a74\",\"type\":\"BasicTicker\"},{\"attributes\":{\"items\":[{\"id\":\"15e07698-e33f-4a92-82d1-51ce84196539\",\"type\":\"LegendItem\"}],\"plot\":{\"id\":\"347abddd-710a-4a46-a135-4f2c6ee8d257\",\"subtype\":\"Figure\",\"type\":\"Plot\"}},\"id\":\"3c2995bb-2f79-4cb2-b936-887477e12c13\",\"type\":\"Legend\"},{\"attributes\":{\"overlay\":{\"id\":\"b1ba754b-54be-4dbb-adf1-53f5659c7a2b\",\"type\":\"BoxAnnotation\"}},\"id\":\"6480596f-8a5f-4c3c-9ef8-035c446ce468\",\"type\":\"BoxZoomTool\"},{\"attributes\":{},\"id\":\"c52507b9-ed61-47bb-92c6-0110d42f1b23\",\"type\":\"LinearScale\"},{\"attributes\":{\"callback\":null,\"data\":{\"x\":{\"__ndarray__\":\"AAAAAAAAAACamZmZmZmpP5qZmZmZmbk/NDMzMzMzwz+amZmZmZnJPwAAAAAAANA/NDMzMzMz0z9nZmZmZmbWP5qZmZmZmdk/zczMzMzM3D8AAAAAAADgP5qZmZmZmeE/NDMzMzMz4z/NzMzMzMzkP2dmZmZmZuY/AAAAAAAA6D+amZmZmZnpPzQzMzMzM+s/zczMzMzM7D9nZmZmZmbuPwAAAAAAAPA/zczMzMzM8D+amZmZmZnxP2dmZmZmZvI/NDMzMzMz8z8AAAAAAAD0P83MzMzMzPQ/mpmZmZmZ9T9nZmZmZmb2PzQzMzMzM/c/AAAAAAAA+D/NzMzMzMz4P5qZmZmZmfk/Z2ZmZmZm+j80MzMzMzP7PwAAAAAAAPw/zczMzMzM/D+amZmZmZn9P2dmZmZmZv4/NDMzMzMz/z8AAAAAAAAAQGdmZmZmZgBAzczMzMzMAEAzMzMzMzMBQJqZmZmZmQFAAAAAAAAAAkBnZmZmZmYCQM3MzMzMzAJANDMzMzMzA0CamZmZmZkDQAAAAAAAAARAZ2ZmZmZmBEDNzMzMzMwEQDQzMzMzMwVAmpmZmZmZBUAAAAAAAAAGQGdmZmZmZgZAzczMzMzMBkA0MzMzMzMHQJqZmZmZmQdAAAAAAAAACEBnZmZmZmYIQM3MzMzMzAhANDMzMzMzCUCamZmZmZkJQAAAAAAAAApAZ2ZmZmZmCkDNzMzMzMwKQDQzMzMzMwtAmpmZmZmZC0AAAAAAAAAMQGdmZmZmZgxAzczMzMzMDEA0MzMzMzMNQJqZmZmZmQ1AAAAAAAAADkBnZmZmZmYOQM3MzMzMzA5ANDMzMzMzD0CamZmZmZkPQAAAAAAAABBAMzMzMzMzEEBnZmZmZmYQQJqZmZmZmRBAzczMzMzMEEAAAAAAAAARQDMzMzMzMxFAZ2ZmZmZmEUCamZmZmZkRQM3MzMzMzBFAAAAAAAAAEkAzMzMzMzMSQGdmZmZmZhJAmpmZmZmZEkDNzMzMzMwSQAAAAAAAABNANDMzMzMzE0BnZmZmZmYTQJqZmZmZmRNAzczMzMzME0AAAAAAAAAUQDQzMzMzMxRAZ2ZmZmZmFECamZmZmZkUQM3MzMzMzBRAAAAAAAAAFUA0MzMzMzMVQGdmZmZmZhVAmpmZmZmZFUDNzMzMzMwVQAAAAAAAABZANDMzMzMzFkBnZmZmZmYWQJqZmZmZmRZAzczMzMzMFkAAAAAAAAAXQDQzMzMzMxdAZ2ZmZmZmF0CamZmZmZkXQM3MzMzMzBdAAAAAAAAAGEA0MzMzMzMYQGdmZmZmZhhAmpmZmZmZGEDNzMzMzMwYQAAAAAAAABlA\",\"dtype\":\"float64\",\"shape\":[126]},\"y\":{\"__ndarray__\":\"AAAAAAAAAAA8ZP+i3papPyzLi8uujrk/I+3f6ckgwz+80j0j/23JP3cV89Tuqs8/NLq6lc3p0j+MCjmlCfLVP2tnK+k67Ng/JUb5rXnW2z/wBUt06K7eP9RoSZHaueA/WkGlF40R4j+r15Phr13jP7kZRmluneQ/DY+/FvzP5T/N/r/ClPTmP4OARjR9Cug/QahdmAMR6T9vJuTzfwfqP+4MCY9U7eo/wfI2Wu7B6z84Yy1MxYTsP5liDLlcNe0/xVUaokPT7T+MQRH+FF7uP0sexfl31e4/vuH5MCA57z8D4UTfzYjvP9xD2ghOxO8/i20sm3rr7z9oe0iFOv7vP8VC4MeB/O8/yIr3fFHm7z+2mC/Xt7vvP0aCsRjQfO8/8BW9gcIp7z91guc2xMLuP1c4Gh8XSO4/d8dnuQm67T9GtNHq9hjtP/tnH8RFZew/+3LrP2mf6z/qUxH538fqPwjXqtkz3+k/qePQwvnl6D8iL1gt0dznP+jJxsNjxOY/mNHD9WSd5T98v0aFkWjkP7DKzw2vJuM/oqb2hYvY4T+7haC7/H7gP/1nY5a/Nd4/DKckJDFa2z/8g8E5Im3YP8DlXSNycNU/1yNVLQpm0j/TMEjWuJ/OP0aravHEX8g/W9W2bTgQwj+e7yAPOmq3Py4QmIIPSqU/DSjuo9E3gb8yLeg5N+Otv4ykZCStsru/lwy3ygIxxL+AV+iIw3vKv3RM/xDJWtC/nOiDYTlt078fYrp+O3PWv9c1iiXgatm/8dHwQ0FS3L9YwwYwgyffv0EbLuxq9OC/IQZ19jpK4r+gwOz/VpTjvyvQtM7r0eS/zrMfLS4C5r9A1LlrWyTnv64e3N25N+i/K5R6UJk76b+9yOJ6Uy/qv7wtImlMEuu/2BLQ3/Lj679wg/u4wKPsvyWKATo7Ue2/7e0UYvPr7b/wKEUxhnPuv6km1+ec5+6/gEDHPe1H77+N9FCSOZTvv7rsXRNRzO+/zhrD3A/w779S7DcPX//vv2Dk+N40+u+//z0MmpTg779ylCSmjrLvv6TrInZAcO+/k88+d9QZ778zmeD1ga/uv8c3P/qMMe6/uSLYHEag7b+WTt1SCvzsv9ckurJCRey/o43VMGR86783ErxU76Hqv4P64eZvtum/cAUyl3y66L9P96Gctq7nv1ewCk7Jk+a/zcyFtGlq5b+09ZYXVjPkv7UAa4NV7+K/oMd6STef4b8uNuN70kPgv8rfjscKvN2/azkq5mnd2r8bvQtkmO3Xvwpad1F37tS/wKKwivHh0b+L+Mn79JPNv1z7M9cZUce/2vTYRFP/wL8dzb7bWEW1v7wS9cPd/KC/\",\"dtype\":\"float64\",\"shape\":[126]}},\"selected\":{\"id\":\"714aacd6-a8fb-4686-828c-fe17ea951db6\",\"type\":\"Selection\"},\"selection_policy\":{\"id\":\"b78f6dd1-3bc1-4be2-84f6-53ea4cfbcb5c\",\"type\":\"UnionRenderers\"}},\"id\":\"fbaf62fa-f1b8-4bf8-b78b-f200a714c725\",\"type\":\"ColumnDataSource\"},{\"attributes\":{},\"id\":\"b17fa663-edb4-4ae2-9318-a899155f2636\",\"type\":\"WheelZoomTool\"},{\"attributes\":{\"label\":{\"value\":\"sine\"},\"renderers\":[{\"id\":\"96c38233-c264-4e0e-9173-7cb0c611274c\",\"type\":\"GlyphRenderer\"}]},\"id\":\"15e07698-e33f-4a92-82d1-51ce84196539\",\"type\":\"LegendItem\"},{\"attributes\":{},\"id\":\"42288eae-f0c7-445a-8cd1-a834fc694928\",\"type\":\"SaveTool\"}],\"root_ids\":[\"347abddd-710a-4a46-a135-4f2c6ee8d257\"]},\"title\":\"Bokeh Application\",\"version\":\"0.12.16\"}};\n",
       "  var render_items = [{\"docid\":\"15670451-6d01-488d-9735-5d1cf8ad5729\",\"elementid\":\"6ed259b1-0fdd-4a3d-885e-9a3008f84022\",\"modelid\":\"347abddd-710a-4a46-a135-4f2c6ee8d257\"}];\n",
       "  root.Bokeh.embed.embed_items_notebook(docs_json, render_items);\n",
       "\n",
       "  }\n",
       "  if (root.Bokeh !== undefined) {\n",
       "    embed_document(root);\n",
       "  } else {\n",
       "    var attempts = 0;\n",
       "    var timer = setInterval(function(root) {\n",
       "      if (root.Bokeh !== undefined) {\n",
       "        embed_document(root);\n",
       "        clearInterval(timer);\n",
       "      }\n",
       "      attempts++;\n",
       "      if (attempts > 100) {\n",
       "        console.log(\"Bokeh: ERROR: Unable to run BokehJS code because BokehJS library is missing\")\n",
       "        clearInterval(timer);\n",
       "      }\n",
       "    }, 10, root)\n",
       "  }\n",
       "})(window);"
      ],
      "application/vnd.bokehjs_exec.v0+json": ""
     },
     "metadata": {
      "application/vnd.bokehjs_exec.v0+json": {
       "id": "347abddd-710a-4a46-a135-4f2c6ee8d257"
      }
     },
     "output_type": "display_data"
    }
   ],
   "source": [
    "#from bokeh.plotting import figure, output_notebook, show\n",
    "output_notebook()\n",
    "show(p)"
   ]
  },
  {
   "cell_type": "markdown",
   "metadata": {},
   "source": [
    "### Plots with Glyphs"
   ]
  },
  {
   "cell_type": "code",
   "execution_count": 7,
   "metadata": {},
   "outputs": [
    {
     "data": {
      "text/html": [
       "\n",
       "<div class=\"bk-root\">\n",
       "    <div class=\"bk-plotdiv\" id=\"cffc34e4-ff7e-47ae-8c34-e0d79ae3869f\"></div>\n",
       "</div>"
      ]
     },
     "metadata": {},
     "output_type": "display_data"
    },
    {
     "data": {
      "application/javascript": [
       "(function(root) {\n",
       "  function embed_document(root) {\n",
       "    \n",
       "  var docs_json = {\"40e49ddf-3cf0-43ad-98ab-fc9ccf979151\":{\"roots\":{\"references\":[{\"attributes\":{},\"id\":\"ae2977c9-3641-4f92-981e-a228bbdd8ad7\",\"type\":\"WheelZoomTool\"},{\"attributes\":{},\"id\":\"9be067cf-20a2-4601-8e95-aa2fd79a1847\",\"type\":\"BasicTicker\"},{\"attributes\":{\"below\":[{\"id\":\"61383841-238c-4084-997a-e74e96d04a1a\",\"type\":\"LinearAxis\"}],\"left\":[{\"id\":\"bdf41206-a1d2-4dfc-88cd-fd50d7c373b0\",\"type\":\"LinearAxis\"}],\"renderers\":[{\"id\":\"61383841-238c-4084-997a-e74e96d04a1a\",\"type\":\"LinearAxis\"},{\"id\":\"ed899894-6dd7-4616-bfe0-ea64c2b574a9\",\"type\":\"Grid\"},{\"id\":\"bdf41206-a1d2-4dfc-88cd-fd50d7c373b0\",\"type\":\"LinearAxis\"},{\"id\":\"53ce563c-0177-4de2-88bb-402e78405da5\",\"type\":\"Grid\"},{\"id\":\"71d0a031-3130-4300-9386-e15a9e04743a\",\"type\":\"BoxAnnotation\"},{\"id\":\"83995788-5de3-4bb2-bf9d-3a15fbae1f42\",\"type\":\"GlyphRenderer\"}],\"title\":{\"id\":\"b480b7f4-28ac-4089-8f34-5e41a11cc1ee\",\"type\":\"Title\"},\"toolbar\":{\"id\":\"dfcd9f43-d582-4923-ab00-b0fda4affc87\",\"type\":\"Toolbar\"},\"x_range\":{\"id\":\"72c23eaf-fb4f-4271-ba14-f49e41826067\",\"type\":\"DataRange1d\"},\"x_scale\":{\"id\":\"fa2dfb32-93e7-4d7b-836d-e8decaa93e16\",\"type\":\"LinearScale\"},\"y_range\":{\"id\":\"1943d837-04bb-47fc-92f8-7b6c13bc3b59\",\"type\":\"DataRange1d\"},\"y_scale\":{\"id\":\"e3683702-6908-43c5-a622-5dbb7803645d\",\"type\":\"LinearScale\"}},\"id\":\"67c8df8d-bf2e-48e0-9c50-623fefd32112\",\"subtype\":\"Figure\",\"type\":\"Plot\"},{\"attributes\":{},\"id\":\"45dbddf9-6fdd-4f23-9194-04a92009ad11\",\"type\":\"PanTool\"},{\"attributes\":{},\"id\":\"5bbcfdca-28f3-4576-a71a-09374b9fb735\",\"type\":\"BasicTicker\"},{\"attributes\":{\"data_source\":{\"id\":\"5d108de1-50a1-4033-83ae-197df7e012f4\",\"type\":\"ColumnDataSource\"},\"glyph\":{\"id\":\"fe7b9f41-d49b-41ae-bea0-89ed57702c7d\",\"type\":\"Line\"},\"hover_glyph\":null,\"muted_glyph\":null,\"nonselection_glyph\":{\"id\":\"80a9e094-8e1f-4a9f-8cd2-9bcf02636410\",\"type\":\"Line\"},\"selection_glyph\":null,\"view\":{\"id\":\"d8a3c882-d97a-41c2-a86e-f0cc5fd1a0d7\",\"type\":\"CDSView\"}},\"id\":\"83995788-5de3-4bb2-bf9d-3a15fbae1f42\",\"type\":\"GlyphRenderer\"},{\"attributes\":{},\"id\":\"e1fe3a4f-9431-491c-bb7a-f312b9e5520f\",\"type\":\"BasicTickFormatter\"},{\"attributes\":{},\"id\":\"970eec1f-c5b5-4965-88f3-a906da92bdd4\",\"type\":\"BasicTickFormatter\"},{\"attributes\":{},\"id\":\"10a384ea-788a-4502-837f-b1d40c8a0b6b\",\"type\":\"UnionRenderers\"},{\"attributes\":{},\"id\":\"8045fe9d-ba79-45d0-90be-ce987fd6e38f\",\"type\":\"Selection\"},{\"attributes\":{\"line_color\":\"#1f77b4\",\"x\":{\"field\":\"x\"},\"y\":{\"field\":\"y\"}},\"id\":\"fe7b9f41-d49b-41ae-bea0-89ed57702c7d\",\"type\":\"Line\"},{\"attributes\":{\"bottom_units\":\"screen\",\"fill_alpha\":{\"value\":0.5},\"fill_color\":{\"value\":\"lightgrey\"},\"left_units\":\"screen\",\"level\":\"overlay\",\"line_alpha\":{\"value\":1.0},\"line_color\":{\"value\":\"black\"},\"line_dash\":[4,4],\"line_width\":{\"value\":2},\"plot\":null,\"render_mode\":\"css\",\"right_units\":\"screen\",\"top_units\":\"screen\"},\"id\":\"71d0a031-3130-4300-9386-e15a9e04743a\",\"type\":\"BoxAnnotation\"},{\"attributes\":{\"source\":{\"id\":\"5d108de1-50a1-4033-83ae-197df7e012f4\",\"type\":\"ColumnDataSource\"}},\"id\":\"d8a3c882-d97a-41c2-a86e-f0cc5fd1a0d7\",\"type\":\"CDSView\"},{\"attributes\":{},\"id\":\"816ea2c7-f869-4ff6-9b7a-b0a8195d07ef\",\"type\":\"ResetTool\"},{\"attributes\":{\"callback\":null},\"id\":\"1943d837-04bb-47fc-92f8-7b6c13bc3b59\",\"type\":\"DataRange1d\"},{\"attributes\":{\"callback\":null},\"id\":\"72c23eaf-fb4f-4271-ba14-f49e41826067\",\"type\":\"DataRange1d\"},{\"attributes\":{\"overlay\":{\"id\":\"71d0a031-3130-4300-9386-e15a9e04743a\",\"type\":\"BoxAnnotation\"}},\"id\":\"237a8739-8f05-43f8-af3a-bbf4c2f730bf\",\"type\":\"BoxZoomTool\"},{\"attributes\":{\"line_alpha\":0.1,\"line_color\":\"#1f77b4\",\"x\":{\"field\":\"x\"},\"y\":{\"field\":\"y\"}},\"id\":\"80a9e094-8e1f-4a9f-8cd2-9bcf02636410\",\"type\":\"Line\"},{\"attributes\":{\"plot\":{\"id\":\"67c8df8d-bf2e-48e0-9c50-623fefd32112\",\"subtype\":\"Figure\",\"type\":\"Plot\"},\"ticker\":{\"id\":\"9be067cf-20a2-4601-8e95-aa2fd79a1847\",\"type\":\"BasicTicker\"}},\"id\":\"ed899894-6dd7-4616-bfe0-ea64c2b574a9\",\"type\":\"Grid\"},{\"attributes\":{},\"id\":\"fa2dfb32-93e7-4d7b-836d-e8decaa93e16\",\"type\":\"LinearScale\"},{\"attributes\":{},\"id\":\"d58f41d3-d8ae-47e0-a2e4-eb0a1fa498f8\",\"type\":\"HelpTool\"},{\"attributes\":{\"plot\":null,\"text\":\"Line Plot example\"},\"id\":\"b480b7f4-28ac-4089-8f34-5e41a11cc1ee\",\"type\":\"Title\"},{\"attributes\":{},\"id\":\"ae39384d-f6e6-4992-9fe5-810f20aac548\",\"type\":\"SaveTool\"},{\"attributes\":{\"active_drag\":\"auto\",\"active_inspect\":\"auto\",\"active_scroll\":\"auto\",\"active_tap\":\"auto\",\"tools\":[{\"id\":\"45dbddf9-6fdd-4f23-9194-04a92009ad11\",\"type\":\"PanTool\"},{\"id\":\"ae2977c9-3641-4f92-981e-a228bbdd8ad7\",\"type\":\"WheelZoomTool\"},{\"id\":\"237a8739-8f05-43f8-af3a-bbf4c2f730bf\",\"type\":\"BoxZoomTool\"},{\"id\":\"ae39384d-f6e6-4992-9fe5-810f20aac548\",\"type\":\"SaveTool\"},{\"id\":\"816ea2c7-f869-4ff6-9b7a-b0a8195d07ef\",\"type\":\"ResetTool\"},{\"id\":\"d58f41d3-d8ae-47e0-a2e4-eb0a1fa498f8\",\"type\":\"HelpTool\"}]},\"id\":\"dfcd9f43-d582-4923-ab00-b0fda4affc87\",\"type\":\"Toolbar\"},{\"attributes\":{},\"id\":\"e3683702-6908-43c5-a622-5dbb7803645d\",\"type\":\"LinearScale\"},{\"attributes\":{\"callback\":null,\"data\":{\"x\":[1,2,3,4,5],\"y\":[2,4,6,8,10]},\"selected\":{\"id\":\"8045fe9d-ba79-45d0-90be-ce987fd6e38f\",\"type\":\"Selection\"},\"selection_policy\":{\"id\":\"10a384ea-788a-4502-837f-b1d40c8a0b6b\",\"type\":\"UnionRenderers\"}},\"id\":\"5d108de1-50a1-4033-83ae-197df7e012f4\",\"type\":\"ColumnDataSource\"},{\"attributes\":{\"dimension\":1,\"plot\":{\"id\":\"67c8df8d-bf2e-48e0-9c50-623fefd32112\",\"subtype\":\"Figure\",\"type\":\"Plot\"},\"ticker\":{\"id\":\"5bbcfdca-28f3-4576-a71a-09374b9fb735\",\"type\":\"BasicTicker\"}},\"id\":\"53ce563c-0177-4de2-88bb-402e78405da5\",\"type\":\"Grid\"},{\"attributes\":{\"axis_label\":\"y\",\"formatter\":{\"id\":\"e1fe3a4f-9431-491c-bb7a-f312b9e5520f\",\"type\":\"BasicTickFormatter\"},\"plot\":{\"id\":\"67c8df8d-bf2e-48e0-9c50-623fefd32112\",\"subtype\":\"Figure\",\"type\":\"Plot\"},\"ticker\":{\"id\":\"5bbcfdca-28f3-4576-a71a-09374b9fb735\",\"type\":\"BasicTicker\"}},\"id\":\"bdf41206-a1d2-4dfc-88cd-fd50d7c373b0\",\"type\":\"LinearAxis\"},{\"attributes\":{\"axis_label\":\"x\",\"formatter\":{\"id\":\"970eec1f-c5b5-4965-88f3-a906da92bdd4\",\"type\":\"BasicTickFormatter\"},\"plot\":{\"id\":\"67c8df8d-bf2e-48e0-9c50-623fefd32112\",\"subtype\":\"Figure\",\"type\":\"Plot\"},\"ticker\":{\"id\":\"9be067cf-20a2-4601-8e95-aa2fd79a1847\",\"type\":\"BasicTicker\"}},\"id\":\"61383841-238c-4084-997a-e74e96d04a1a\",\"type\":\"LinearAxis\"}],\"root_ids\":[\"67c8df8d-bf2e-48e0-9c50-623fefd32112\"]},\"title\":\"Bokeh Application\",\"version\":\"0.12.16\"}};\n",
       "  var render_items = [{\"docid\":\"40e49ddf-3cf0-43ad-98ab-fc9ccf979151\",\"elementid\":\"cffc34e4-ff7e-47ae-8c34-e0d79ae3869f\",\"modelid\":\"67c8df8d-bf2e-48e0-9c50-623fefd32112\"}];\n",
       "  root.Bokeh.embed.embed_items_notebook(docs_json, render_items);\n",
       "\n",
       "  }\n",
       "  if (root.Bokeh !== undefined) {\n",
       "    embed_document(root);\n",
       "  } else {\n",
       "    var attempts = 0;\n",
       "    var timer = setInterval(function(root) {\n",
       "      if (root.Bokeh !== undefined) {\n",
       "        embed_document(root);\n",
       "        clearInterval(timer);\n",
       "      }\n",
       "      attempts++;\n",
       "      if (attempts > 100) {\n",
       "        console.log(\"Bokeh: ERROR: Unable to run BokehJS code because BokehJS library is missing\")\n",
       "        clearInterval(timer);\n",
       "      }\n",
       "    }, 10, root)\n",
       "  }\n",
       "})(window);"
      ],
      "application/vnd.bokehjs_exec.v0+json": ""
     },
     "metadata": {
      "application/vnd.bokehjs_exec.v0+json": {
       "id": "67c8df8d-bf2e-48e0-9c50-623fefd32112"
      }
     },
     "output_type": "display_data"
    }
   ],
   "source": [
    "# Line PLot\n",
    "from bokeh.plotting import figure, output_file, show\n",
    "x=[1,2,3,4,5]\n",
    "y=[2,4,6,8,10]\n",
    "output_file('line.html')\n",
    "fig=figure(title='Line Plot example', x_axis_label='x', y_axis_label='y')\n",
    "fig.line(x,y)\n",
    "show(fig)"
   ]
  },
  {
   "cell_type": "code",
   "execution_count": 8,
   "metadata": {},
   "outputs": [
    {
     "data": {
      "text/html": [
       "\n",
       "<div class=\"bk-root\">\n",
       "    <div class=\"bk-plotdiv\" id=\"9a250406-948b-47a0-b14a-cc53e84d51b7\"></div>\n",
       "</div>"
      ]
     },
     "metadata": {},
     "output_type": "display_data"
    },
    {
     "data": {
      "application/javascript": [
       "(function(root) {\n",
       "  function embed_document(root) {\n",
       "    \n",
       "  var docs_json = {\"49816ebd-4330-4e4d-bfe6-e1bdc9733d58\":{\"roots\":{\"references\":[{\"attributes\":{},\"id\":\"11c58809-b92d-453e-a199-f38a0878231d\",\"type\":\"LinearScale\"},{\"attributes\":{},\"id\":\"d8477383-23dc-4b6a-8b0b-58ea1c4c0b6e\",\"type\":\"BasicTicker\"},{\"attributes\":{},\"id\":\"9e66ede9-93b4-4410-b46a-b3b2350bb236\",\"type\":\"WheelZoomTool\"},{\"attributes\":{\"plot\":{\"id\":\"e2564f0b-7c28-4f2c-bed6-0564162e3b9e\",\"subtype\":\"Figure\",\"type\":\"Plot\"},\"ticker\":{\"id\":\"3832dea0-2ccc-4ff2-b2f1-d45338807717\",\"type\":\"BasicTicker\"}},\"id\":\"f49947f1-2cb3-4d38-9823-cf39b52d3c40\",\"type\":\"Grid\"},{\"attributes\":{\"callback\":null},\"id\":\"f7450bb7-4e20-4b74-b690-92e9b0d4d09d\",\"type\":\"DataRange1d\"},{\"attributes\":{},\"id\":\"3832dea0-2ccc-4ff2-b2f1-d45338807717\",\"type\":\"BasicTicker\"},{\"attributes\":{},\"id\":\"b8c8effb-acfc-4991-87bc-5eae4298902e\",\"type\":\"LinearScale\"},{\"attributes\":{\"plot\":null,\"text\":\"\"},\"id\":\"24fade46-f2be-42ec-a066-3e801fdd32f3\",\"type\":\"Title\"},{\"attributes\":{\"callback\":null},\"id\":\"5dd331d9-6ab6-4b13-9dbd-7717a763b2e3\",\"type\":\"DataRange1d\"},{\"attributes\":{},\"id\":\"d683c187-18f0-47b6-b05e-0b63bf42f877\",\"type\":\"PanTool\"},{\"attributes\":{\"overlay\":{\"id\":\"026ae3bc-02a0-4768-a38c-4eff1997767f\",\"type\":\"BoxAnnotation\"}},\"id\":\"79c05197-c91c-426c-8753-10c6f95993ad\",\"type\":\"BoxZoomTool\"},{\"attributes\":{},\"id\":\"5bf12ae6-c156-41b8-a84e-7af34953f0ec\",\"type\":\"BasicTickFormatter\"},{\"attributes\":{\"dimension\":1,\"plot\":{\"id\":\"e2564f0b-7c28-4f2c-bed6-0564162e3b9e\",\"subtype\":\"Figure\",\"type\":\"Plot\"},\"ticker\":{\"id\":\"d8477383-23dc-4b6a-8b0b-58ea1c4c0b6e\",\"type\":\"BasicTicker\"}},\"id\":\"266b470d-3bb9-434f-80c3-861e10c7f45c\",\"type\":\"Grid\"},{\"attributes\":{},\"id\":\"24f43b1c-448d-44a0-b887-e217d3d7cda5\",\"type\":\"Selection\"},{\"attributes\":{\"formatter\":{\"id\":\"5b52744a-e81d-4650-b469-5c58c44ecf9f\",\"type\":\"BasicTickFormatter\"},\"plot\":{\"id\":\"e2564f0b-7c28-4f2c-bed6-0564162e3b9e\",\"subtype\":\"Figure\",\"type\":\"Plot\"},\"ticker\":{\"id\":\"d8477383-23dc-4b6a-8b0b-58ea1c4c0b6e\",\"type\":\"BasicTicker\"}},\"id\":\"2687de2b-c949-4e88-86ea-79e79300a18f\",\"type\":\"LinearAxis\"},{\"attributes\":{\"data_source\":{\"id\":\"3634eeeb-e3f3-490e-8c6d-293b870a56f0\",\"type\":\"ColumnDataSource\"},\"glyph\":{\"id\":\"c30b1fdb-12ca-4516-b636-6131836640aa\",\"type\":\"HBar\"},\"hover_glyph\":null,\"muted_glyph\":null,\"nonselection_glyph\":{\"id\":\"40b7a9b0-7acb-4e85-ae19-1f10e25251b0\",\"type\":\"HBar\"},\"selection_glyph\":null,\"view\":{\"id\":\"000839c7-d878-4714-aa48-4dad39974820\",\"type\":\"CDSView\"}},\"id\":\"16cad16b-62be-430a-a614-cf196fdd7c25\",\"type\":\"GlyphRenderer\"},{\"attributes\":{\"below\":[{\"id\":\"04b10ddc-90d8-47a9-8229-c51e9273c13a\",\"type\":\"LinearAxis\"}],\"left\":[{\"id\":\"2687de2b-c949-4e88-86ea-79e79300a18f\",\"type\":\"LinearAxis\"}],\"plot_height\":200,\"plot_width\":400,\"renderers\":[{\"id\":\"04b10ddc-90d8-47a9-8229-c51e9273c13a\",\"type\":\"LinearAxis\"},{\"id\":\"f49947f1-2cb3-4d38-9823-cf39b52d3c40\",\"type\":\"Grid\"},{\"id\":\"2687de2b-c949-4e88-86ea-79e79300a18f\",\"type\":\"LinearAxis\"},{\"id\":\"266b470d-3bb9-434f-80c3-861e10c7f45c\",\"type\":\"Grid\"},{\"id\":\"026ae3bc-02a0-4768-a38c-4eff1997767f\",\"type\":\"BoxAnnotation\"},{\"id\":\"16cad16b-62be-430a-a614-cf196fdd7c25\",\"type\":\"GlyphRenderer\"}],\"title\":{\"id\":\"24fade46-f2be-42ec-a066-3e801fdd32f3\",\"type\":\"Title\"},\"toolbar\":{\"id\":\"59ed25c4-cc3a-4bf2-a444-a8e6e96b38ae\",\"type\":\"Toolbar\"},\"x_range\":{\"id\":\"5dd331d9-6ab6-4b13-9dbd-7717a763b2e3\",\"type\":\"DataRange1d\"},\"x_scale\":{\"id\":\"b8c8effb-acfc-4991-87bc-5eae4298902e\",\"type\":\"LinearScale\"},\"y_range\":{\"id\":\"f7450bb7-4e20-4b74-b690-92e9b0d4d09d\",\"type\":\"DataRange1d\"},\"y_scale\":{\"id\":\"11c58809-b92d-453e-a199-f38a0878231d\",\"type\":\"LinearScale\"}},\"id\":\"e2564f0b-7c28-4f2c-bed6-0564162e3b9e\",\"subtype\":\"Figure\",\"type\":\"Plot\"},{\"attributes\":{},\"id\":\"1cd19555-415c-43ea-9f20-336de07ab7e0\",\"type\":\"ResetTool\"},{\"attributes\":{\"formatter\":{\"id\":\"5bf12ae6-c156-41b8-a84e-7af34953f0ec\",\"type\":\"BasicTickFormatter\"},\"plot\":{\"id\":\"e2564f0b-7c28-4f2c-bed6-0564162e3b9e\",\"subtype\":\"Figure\",\"type\":\"Plot\"},\"ticker\":{\"id\":\"3832dea0-2ccc-4ff2-b2f1-d45338807717\",\"type\":\"BasicTicker\"}},\"id\":\"04b10ddc-90d8-47a9-8229-c51e9273c13a\",\"type\":\"LinearAxis\"},{\"attributes\":{\"active_drag\":\"auto\",\"active_inspect\":\"auto\",\"active_scroll\":\"auto\",\"active_tap\":\"auto\",\"tools\":[{\"id\":\"d683c187-18f0-47b6-b05e-0b63bf42f877\",\"type\":\"PanTool\"},{\"id\":\"9e66ede9-93b4-4410-b46a-b3b2350bb236\",\"type\":\"WheelZoomTool\"},{\"id\":\"79c05197-c91c-426c-8753-10c6f95993ad\",\"type\":\"BoxZoomTool\"},{\"id\":\"1c9b7b4b-c595-4ec6-a113-9badab0b8486\",\"type\":\"SaveTool\"},{\"id\":\"1cd19555-415c-43ea-9f20-336de07ab7e0\",\"type\":\"ResetTool\"},{\"id\":\"92b0ad3e-faa7-4a8c-ad38-18f30145207b\",\"type\":\"HelpTool\"}]},\"id\":\"59ed25c4-cc3a-4bf2-a444-a8e6e96b38ae\",\"type\":\"Toolbar\"},{\"attributes\":{\"bottom_units\":\"screen\",\"fill_alpha\":{\"value\":0.5},\"fill_color\":{\"value\":\"lightgrey\"},\"left_units\":\"screen\",\"level\":\"overlay\",\"line_alpha\":{\"value\":1.0},\"line_color\":{\"value\":\"black\"},\"line_dash\":[4,4],\"line_width\":{\"value\":2},\"plot\":null,\"render_mode\":\"css\",\"right_units\":\"screen\",\"top_units\":\"screen\"},\"id\":\"026ae3bc-02a0-4768-a38c-4eff1997767f\",\"type\":\"BoxAnnotation\"},{\"attributes\":{},\"id\":\"1c9b7b4b-c595-4ec6-a113-9badab0b8486\",\"type\":\"SaveTool\"},{\"attributes\":{},\"id\":\"92b0ad3e-faa7-4a8c-ad38-18f30145207b\",\"type\":\"HelpTool\"},{\"attributes\":{},\"id\":\"5b52744a-e81d-4650-b469-5c58c44ecf9f\",\"type\":\"BasicTickFormatter\"},{\"attributes\":{},\"id\":\"980090ff-6d37-4446-938e-35f4d1cfc3f8\",\"type\":\"UnionRenderers\"},{\"attributes\":{\"callback\":null,\"data\":{\"right\":[1,2,3],\"y\":[2,4,6]},\"selected\":{\"id\":\"24f43b1c-448d-44a0-b887-e217d3d7cda5\",\"type\":\"Selection\"},\"selection_policy\":{\"id\":\"980090ff-6d37-4446-938e-35f4d1cfc3f8\",\"type\":\"UnionRenderers\"}},\"id\":\"3634eeeb-e3f3-490e-8c6d-293b870a56f0\",\"type\":\"ColumnDataSource\"},{\"attributes\":{\"source\":{\"id\":\"3634eeeb-e3f3-490e-8c6d-293b870a56f0\",\"type\":\"ColumnDataSource\"}},\"id\":\"000839c7-d878-4714-aa48-4dad39974820\",\"type\":\"CDSView\"},{\"attributes\":{\"fill_alpha\":{\"value\":0.1},\"fill_color\":{\"value\":\"#1f77b4\"},\"height\":{\"value\":1},\"line_alpha\":{\"value\":0.1},\"line_color\":{\"value\":\"#1f77b4\"},\"right\":{\"field\":\"right\"},\"y\":{\"field\":\"y\"}},\"id\":\"40b7a9b0-7acb-4e85-ae19-1f10e25251b0\",\"type\":\"HBar\"},{\"attributes\":{\"fill_color\":{\"value\":\"Cyan\"},\"height\":{\"value\":1},\"line_color\":{\"value\":\"Cyan\"},\"right\":{\"field\":\"right\"},\"y\":{\"field\":\"y\"}},\"id\":\"c30b1fdb-12ca-4516-b636-6131836640aa\",\"type\":\"HBar\"}],\"root_ids\":[\"e2564f0b-7c28-4f2c-bed6-0564162e3b9e\"]},\"title\":\"Bokeh Application\",\"version\":\"0.12.16\"}};\n",
       "  var render_items = [{\"docid\":\"49816ebd-4330-4e4d-bfe6-e1bdc9733d58\",\"elementid\":\"9a250406-948b-47a0-b14a-cc53e84d51b7\",\"modelid\":\"e2564f0b-7c28-4f2c-bed6-0564162e3b9e\"}];\n",
       "  root.Bokeh.embed.embed_items_notebook(docs_json, render_items);\n",
       "\n",
       "  }\n",
       "  if (root.Bokeh !== undefined) {\n",
       "    embed_document(root);\n",
       "  } else {\n",
       "    var attempts = 0;\n",
       "    var timer = setInterval(function(root) {\n",
       "      if (root.Bokeh !== undefined) {\n",
       "        embed_document(root);\n",
       "        clearInterval(timer);\n",
       "      }\n",
       "      attempts++;\n",
       "      if (attempts > 100) {\n",
       "        console.log(\"Bokeh: ERROR: Unable to run BokehJS code because BokehJS library is missing\")\n",
       "        clearInterval(timer);\n",
       "      }\n",
       "    }, 10, root)\n",
       "  }\n",
       "})(window);"
      ],
      "application/vnd.bokehjs_exec.v0+json": ""
     },
     "metadata": {
      "application/vnd.bokehjs_exec.v0+json": {
       "id": "e2564f0b-7c28-4f2c-bed6-0564162e3b9e"
      }
     },
     "output_type": "display_data"
    }
   ],
   "source": [
    "## Bar Plot\n",
    "from bokeh.plotting import figure, output_file, show\n",
    "fig = figure(plot_width=400, plot_height=200)\n",
    "fig.hbar(y=[2,4,6], height=1, left=0, right=[1,2,3], color=\"Cyan\")\n",
    "output_file('bar.html')\n",
    "show(fig)"
   ]
  },
  {
   "cell_type": "code",
   "execution_count": 9,
   "metadata": {},
   "outputs": [
    {
     "data": {
      "text/html": [
       "\n",
       "<div class=\"bk-root\">\n",
       "    <div class=\"bk-plotdiv\" id=\"d40822b5-b4bf-45f7-a7fa-fb90d03ad976\"></div>\n",
       "</div>"
      ]
     },
     "metadata": {},
     "output_type": "display_data"
    },
    {
     "data": {
      "application/javascript": [
       "(function(root) {\n",
       "  function embed_document(root) {\n",
       "    \n",
       "  var docs_json = {\"aef52ea1-131d-438c-9035-0d1c39752978\":{\"roots\":{\"references\":[{\"attributes\":{\"data_source\":{\"id\":\"c3321cbf-3bb1-4906-8205-53e2a03b0725\",\"type\":\"ColumnDataSource\"},\"glyph\":{\"id\":\"8e783477-fb82-499b-8980-35b81cab221a\",\"type\":\"VBar\"},\"hover_glyph\":null,\"muted_glyph\":null,\"nonselection_glyph\":{\"id\":\"07c0be6f-4a62-4cbf-8ee6-b1c6a82a0035\",\"type\":\"VBar\"},\"selection_glyph\":null,\"view\":{\"id\":\"db1413ee-c144-45f3-9221-dd4c1d3e1296\",\"type\":\"CDSView\"}},\"id\":\"1e2820b3-bbb7-4579-88f7-b8e54f473654\",\"type\":\"GlyphRenderer\"},{\"attributes\":{\"dimension\":1,\"plot\":{\"id\":\"104f6b30-f803-4074-b045-bc127b65c976\",\"subtype\":\"Figure\",\"type\":\"Plot\"},\"ticker\":{\"id\":\"b9260ead-9dd5-4e0f-b993-49878866c5b1\",\"type\":\"BasicTicker\"}},\"id\":\"26ef8bd6-60f7-4f3f-90d6-5de49b98c2b1\",\"type\":\"Grid\"},{\"attributes\":{},\"id\":\"e94bded7-67e3-4eea-9c66-837fb1148641\",\"type\":\"Selection\"},{\"attributes\":{\"plot\":{\"id\":\"104f6b30-f803-4074-b045-bc127b65c976\",\"subtype\":\"Figure\",\"type\":\"Plot\"},\"ticker\":{\"id\":\"2f0e47d5-9ba5-4273-876e-565b8b56eda9\",\"type\":\"BasicTicker\"}},\"id\":\"ac87644d-4291-4637-b7c6-0b6f3416e2f9\",\"type\":\"Grid\"},{\"attributes\":{},\"id\":\"8f0c80db-ea2d-4f39-9eb0-1252e998ced5\",\"type\":\"WheelZoomTool\"},{\"attributes\":{},\"id\":\"c3df321a-7d0c-47ec-a5bf-fab2c348b700\",\"type\":\"SaveTool\"},{\"attributes\":{},\"id\":\"578e5606-3f87-4f6a-881f-e8195f32a031\",\"type\":\"HelpTool\"},{\"attributes\":{},\"id\":\"c14bf65b-ed5d-4969-b497-ad017c4c58aa\",\"type\":\"ResetTool\"},{\"attributes\":{},\"id\":\"8c0b77d7-b945-47c4-afce-d8ce4edaf74d\",\"type\":\"LinearScale\"},{\"attributes\":{\"fill_alpha\":{\"value\":0.1},\"fill_color\":{\"value\":\"#1f77b4\"},\"line_alpha\":{\"value\":0.1},\"line_color\":{\"value\":\"#1f77b4\"},\"top\":{\"field\":\"top\"},\"width\":{\"value\":0.5},\"x\":{\"field\":\"x\"}},\"id\":\"07c0be6f-4a62-4cbf-8ee6-b1c6a82a0035\",\"type\":\"VBar\"},{\"attributes\":{},\"id\":\"2f0e47d5-9ba5-4273-876e-565b8b56eda9\",\"type\":\"BasicTicker\"},{\"attributes\":{},\"id\":\"f015a7f1-0ff9-4b07-8d26-1079b3ab9a23\",\"type\":\"BasicTickFormatter\"},{\"attributes\":{\"formatter\":{\"id\":\"7aa91431-5554-4687-ade8-6233ab1d1761\",\"type\":\"BasicTickFormatter\"},\"plot\":{\"id\":\"104f6b30-f803-4074-b045-bc127b65c976\",\"subtype\":\"Figure\",\"type\":\"Plot\"},\"ticker\":{\"id\":\"b9260ead-9dd5-4e0f-b993-49878866c5b1\",\"type\":\"BasicTicker\"}},\"id\":\"1d1c44a9-6e47-43b6-aa82-885ac83c51cc\",\"type\":\"LinearAxis\"},{\"attributes\":{\"formatter\":{\"id\":\"f015a7f1-0ff9-4b07-8d26-1079b3ab9a23\",\"type\":\"BasicTickFormatter\"},\"plot\":{\"id\":\"104f6b30-f803-4074-b045-bc127b65c976\",\"subtype\":\"Figure\",\"type\":\"Plot\"},\"ticker\":{\"id\":\"2f0e47d5-9ba5-4273-876e-565b8b56eda9\",\"type\":\"BasicTicker\"}},\"id\":\"6b2cd72d-f82f-4e14-8951-25c37d008b0b\",\"type\":\"LinearAxis\"},{\"attributes\":{\"fill_color\":{\"value\":\"Cyan\"},\"line_color\":{\"value\":\"Cyan\"},\"top\":{\"field\":\"top\"},\"width\":{\"value\":0.5},\"x\":{\"field\":\"x\"}},\"id\":\"8e783477-fb82-499b-8980-35b81cab221a\",\"type\":\"VBar\"},{\"attributes\":{},\"id\":\"7aa91431-5554-4687-ade8-6233ab1d1761\",\"type\":\"BasicTickFormatter\"},{\"attributes\":{\"overlay\":{\"id\":\"f60ff10a-e3b9-4176-9568-7c2245f47ad3\",\"type\":\"BoxAnnotation\"}},\"id\":\"1a25dddb-fb6f-4e28-baa0-1202fa1f835c\",\"type\":\"BoxZoomTool\"},{\"attributes\":{\"below\":[{\"id\":\"6b2cd72d-f82f-4e14-8951-25c37d008b0b\",\"type\":\"LinearAxis\"}],\"left\":[{\"id\":\"1d1c44a9-6e47-43b6-aa82-885ac83c51cc\",\"type\":\"LinearAxis\"}],\"plot_height\":400,\"plot_width\":200,\"renderers\":[{\"id\":\"6b2cd72d-f82f-4e14-8951-25c37d008b0b\",\"type\":\"LinearAxis\"},{\"id\":\"ac87644d-4291-4637-b7c6-0b6f3416e2f9\",\"type\":\"Grid\"},{\"id\":\"1d1c44a9-6e47-43b6-aa82-885ac83c51cc\",\"type\":\"LinearAxis\"},{\"id\":\"26ef8bd6-60f7-4f3f-90d6-5de49b98c2b1\",\"type\":\"Grid\"},{\"id\":\"f60ff10a-e3b9-4176-9568-7c2245f47ad3\",\"type\":\"BoxAnnotation\"},{\"id\":\"1e2820b3-bbb7-4579-88f7-b8e54f473654\",\"type\":\"GlyphRenderer\"}],\"title\":{\"id\":\"c6b8d4ce-5919-47a5-8e0a-1f15f0526fef\",\"type\":\"Title\"},\"toolbar\":{\"id\":\"170b42e0-9fcc-4528-9b4d-ac0a8ebb0fdc\",\"type\":\"Toolbar\"},\"x_range\":{\"id\":\"bab9f2b3-d86b-4c00-9377-d6c7068d060a\",\"type\":\"DataRange1d\"},\"x_scale\":{\"id\":\"8c0b77d7-b945-47c4-afce-d8ce4edaf74d\",\"type\":\"LinearScale\"},\"y_range\":{\"id\":\"56bc28db-9691-48ee-9650-a94f4f0a9f65\",\"type\":\"DataRange1d\"},\"y_scale\":{\"id\":\"a0bb3c8c-53d5-4241-9907-423cfedf0d28\",\"type\":\"LinearScale\"}},\"id\":\"104f6b30-f803-4074-b045-bc127b65c976\",\"subtype\":\"Figure\",\"type\":\"Plot\"},{\"attributes\":{},\"id\":\"f225d333-e1cf-47d9-8dc1-5792f5731e5b\",\"type\":\"UnionRenderers\"},{\"attributes\":{},\"id\":\"a0bb3c8c-53d5-4241-9907-423cfedf0d28\",\"type\":\"LinearScale\"},{\"attributes\":{\"callback\":null,\"data\":{\"top\":[2,4,6],\"x\":[1,2,3]},\"selected\":{\"id\":\"e94bded7-67e3-4eea-9c66-837fb1148641\",\"type\":\"Selection\"},\"selection_policy\":{\"id\":\"f225d333-e1cf-47d9-8dc1-5792f5731e5b\",\"type\":\"UnionRenderers\"}},\"id\":\"c3321cbf-3bb1-4906-8205-53e2a03b0725\",\"type\":\"ColumnDataSource\"},{\"attributes\":{},\"id\":\"b9260ead-9dd5-4e0f-b993-49878866c5b1\",\"type\":\"BasicTicker\"},{\"attributes\":{},\"id\":\"9830359b-35d1-4445-9649-5b62af1123e2\",\"type\":\"PanTool\"},{\"attributes\":{\"bottom_units\":\"screen\",\"fill_alpha\":{\"value\":0.5},\"fill_color\":{\"value\":\"lightgrey\"},\"left_units\":\"screen\",\"level\":\"overlay\",\"line_alpha\":{\"value\":1.0},\"line_color\":{\"value\":\"black\"},\"line_dash\":[4,4],\"line_width\":{\"value\":2},\"plot\":null,\"render_mode\":\"css\",\"right_units\":\"screen\",\"top_units\":\"screen\"},\"id\":\"f60ff10a-e3b9-4176-9568-7c2245f47ad3\",\"type\":\"BoxAnnotation\"},{\"attributes\":{\"callback\":null},\"id\":\"56bc28db-9691-48ee-9650-a94f4f0a9f65\",\"type\":\"DataRange1d\"},{\"attributes\":{\"plot\":null,\"text\":\"\"},\"id\":\"c6b8d4ce-5919-47a5-8e0a-1f15f0526fef\",\"type\":\"Title\"},{\"attributes\":{\"source\":{\"id\":\"c3321cbf-3bb1-4906-8205-53e2a03b0725\",\"type\":\"ColumnDataSource\"}},\"id\":\"db1413ee-c144-45f3-9221-dd4c1d3e1296\",\"type\":\"CDSView\"},{\"attributes\":{\"active_drag\":\"auto\",\"active_inspect\":\"auto\",\"active_scroll\":\"auto\",\"active_tap\":\"auto\",\"tools\":[{\"id\":\"9830359b-35d1-4445-9649-5b62af1123e2\",\"type\":\"PanTool\"},{\"id\":\"8f0c80db-ea2d-4f39-9eb0-1252e998ced5\",\"type\":\"WheelZoomTool\"},{\"id\":\"1a25dddb-fb6f-4e28-baa0-1202fa1f835c\",\"type\":\"BoxZoomTool\"},{\"id\":\"c3df321a-7d0c-47ec-a5bf-fab2c348b700\",\"type\":\"SaveTool\"},{\"id\":\"c14bf65b-ed5d-4969-b497-ad017c4c58aa\",\"type\":\"ResetTool\"},{\"id\":\"578e5606-3f87-4f6a-881f-e8195f32a031\",\"type\":\"HelpTool\"}]},\"id\":\"170b42e0-9fcc-4528-9b4d-ac0a8ebb0fdc\",\"type\":\"Toolbar\"},{\"attributes\":{\"callback\":null},\"id\":\"bab9f2b3-d86b-4c00-9377-d6c7068d060a\",\"type\":\"DataRange1d\"}],\"root_ids\":[\"104f6b30-f803-4074-b045-bc127b65c976\"]},\"title\":\"Bokeh Application\",\"version\":\"0.12.16\"}};\n",
       "  var render_items = [{\"docid\":\"aef52ea1-131d-438c-9035-0d1c39752978\",\"elementid\":\"d40822b5-b4bf-45f7-a7fa-fb90d03ad976\",\"modelid\":\"104f6b30-f803-4074-b045-bc127b65c976\"}];\n",
       "  root.Bokeh.embed.embed_items_notebook(docs_json, render_items);\n",
       "\n",
       "  }\n",
       "  if (root.Bokeh !== undefined) {\n",
       "    embed_document(root);\n",
       "  } else {\n",
       "    var attempts = 0;\n",
       "    var timer = setInterval(function(root) {\n",
       "      if (root.Bokeh !== undefined) {\n",
       "        embed_document(root);\n",
       "        clearInterval(timer);\n",
       "      }\n",
       "      attempts++;\n",
       "      if (attempts > 100) {\n",
       "        console.log(\"Bokeh: ERROR: Unable to run BokehJS code because BokehJS library is missing\")\n",
       "        clearInterval(timer);\n",
       "      }\n",
       "    }, 10, root)\n",
       "  }\n",
       "})(window);"
      ],
      "application/vnd.bokehjs_exec.v0+json": ""
     },
     "metadata": {
      "application/vnd.bokehjs_exec.v0+json": {
       "id": "104f6b30-f803-4074-b045-bc127b65c976"
      }
     },
     "output_type": "display_data"
    }
   ],
   "source": [
    "# Vertical Bar\n",
    "from bokeh.plotting import figure, output_file, show\n",
    "fig = figure(plot_width=200, plot_height=400)\n",
    "fig.vbar(x=[1,2,3], width=0.5, bottom=0, top=[2,4,6], color=\"Cyan\")\n",
    "output_file('bar.html')\n",
    "show(fig)"
   ]
  },
  {
   "cell_type": "code",
   "execution_count": 10,
   "metadata": {},
   "outputs": [
    {
     "data": {
      "text/html": [
       "\n",
       "<div class=\"bk-root\">\n",
       "    <div class=\"bk-plotdiv\" id=\"0341cc5b-dbb4-4f65-a133-452dadafaa29\"></div>\n",
       "</div>"
      ]
     },
     "metadata": {},
     "output_type": "display_data"
    },
    {
     "data": {
      "application/javascript": [
       "(function(root) {\n",
       "  function embed_document(root) {\n",
       "    \n",
       "  var docs_json = {\"fe97811e-ed1f-4221-96ff-c4ff898a00c6\":{\"roots\":{\"references\":[{\"attributes\":{},\"id\":\"1f49e6b1-565c-40bb-97b3-f74590c9a80b\",\"type\":\"BasicTicker\"},{\"attributes\":{\"plot\":{\"id\":\"a2e64c96-619e-47eb-8391-7918d4788501\",\"subtype\":\"Figure\",\"type\":\"Plot\"},\"ticker\":{\"id\":\"1f49e6b1-565c-40bb-97b3-f74590c9a80b\",\"type\":\"BasicTicker\"}},\"id\":\"ba538ef9-b58c-417c-89c1-e820252c79c7\",\"type\":\"Grid\"},{\"attributes\":{},\"id\":\"a4e8a058-9210-4224-a8a6-e29c15c738e0\",\"type\":\"UnionRenderers\"},{\"attributes\":{},\"id\":\"79853821-eaff-484f-98df-749283323e96\",\"type\":\"BasicTickFormatter\"},{\"attributes\":{\"callback\":null},\"id\":\"16ace3ab-1023-4640-aa2c-d82b0e8913b6\",\"type\":\"DataRange1d\"},{\"attributes\":{},\"id\":\"3ee8ac1e-0110-4fa4-9d77-a3b20af5c41f\",\"type\":\"PanTool\"},{\"attributes\":{\"overlay\":{\"id\":\"3ced41ff-6fe8-4f86-b636-010b3708b443\",\"type\":\"BoxAnnotation\"}},\"id\":\"b21a3224-c417-40cd-8716-39bf2a754d18\",\"type\":\"BoxZoomTool\"},{\"attributes\":{\"plot\":null,\"text\":\"\"},\"id\":\"619b34f5-549f-48e0-a970-1ba0e637c799\",\"type\":\"Title\"},{\"attributes\":{\"active_drag\":\"auto\",\"active_inspect\":\"auto\",\"active_scroll\":\"auto\",\"active_tap\":\"auto\",\"tools\":[{\"id\":\"3ee8ac1e-0110-4fa4-9d77-a3b20af5c41f\",\"type\":\"PanTool\"},{\"id\":\"0a1593bb-e0e9-44d0-8106-a165c5b97bcc\",\"type\":\"WheelZoomTool\"},{\"id\":\"b21a3224-c417-40cd-8716-39bf2a754d18\",\"type\":\"BoxZoomTool\"},{\"id\":\"eaba64c2-9525-4264-b1b0-afc2da8cbe02\",\"type\":\"SaveTool\"},{\"id\":\"f3fbcb49-b263-4c18-ba84-74f651ce47f6\",\"type\":\"ResetTool\"},{\"id\":\"1188d5f5-dce9-4bb2-9c01-2a182697f0b3\",\"type\":\"HelpTool\"}]},\"id\":\"86ee41b8-f2e0-4534-9172-3da9f7b3a715\",\"type\":\"Toolbar\"},{\"attributes\":{\"dimension\":1,\"plot\":{\"id\":\"a2e64c96-619e-47eb-8391-7918d4788501\",\"subtype\":\"Figure\",\"type\":\"Plot\"},\"ticker\":{\"id\":\"427878b3-dbbb-416c-be0d-8047e32ddf83\",\"type\":\"BasicTicker\"}},\"id\":\"a5917bb2-c82e-480d-ad96-cc974b478db9\",\"type\":\"Grid\"},{\"attributes\":{},\"id\":\"3b8abdf8-be1f-4bd6-adca-9f65821f6dae\",\"type\":\"LinearScale\"},{\"attributes\":{\"formatter\":{\"id\":\"79853821-eaff-484f-98df-749283323e96\",\"type\":\"BasicTickFormatter\"},\"plot\":{\"id\":\"a2e64c96-619e-47eb-8391-7918d4788501\",\"subtype\":\"Figure\",\"type\":\"Plot\"},\"ticker\":{\"id\":\"427878b3-dbbb-416c-be0d-8047e32ddf83\",\"type\":\"BasicTicker\"}},\"id\":\"f8900675-91ce-45f7-b9e9-6b6a4f96e79b\",\"type\":\"LinearAxis\"},{\"attributes\":{\"bottom_units\":\"screen\",\"fill_alpha\":{\"value\":0.5},\"fill_color\":{\"value\":\"lightgrey\"},\"left_units\":\"screen\",\"level\":\"overlay\",\"line_alpha\":{\"value\":1.0},\"line_color\":{\"value\":\"black\"},\"line_dash\":[4,4],\"line_width\":{\"value\":2},\"plot\":null,\"render_mode\":\"css\",\"right_units\":\"screen\",\"top_units\":\"screen\"},\"id\":\"3ced41ff-6fe8-4f86-b636-010b3708b443\",\"type\":\"BoxAnnotation\"},{\"attributes\":{},\"id\":\"be852e22-681a-42e7-b18c-3cb2d2076e4e\",\"type\":\"Selection\"},{\"attributes\":{\"fill_alpha\":0.1,\"fill_color\":\"#1f77b4\",\"line_alpha\":0.1,\"line_color\":\"#1f77b4\",\"x\":{\"field\":\"x\"},\"y\":{\"field\":\"y\"}},\"id\":\"4cc7aee9-63b3-4b0a-bd8d-dfeba9ff3521\",\"type\":\"Patch\"},{\"attributes\":{},\"id\":\"2ae46c77-8423-47d7-b283-2962112ae338\",\"type\":\"BasicTickFormatter\"},{\"attributes\":{\"below\":[{\"id\":\"26d7fb05-9400-4dbd-846c-84e8d1bb76d0\",\"type\":\"LinearAxis\"}],\"left\":[{\"id\":\"f8900675-91ce-45f7-b9e9-6b6a4f96e79b\",\"type\":\"LinearAxis\"}],\"plot_height\":300,\"plot_width\":300,\"renderers\":[{\"id\":\"26d7fb05-9400-4dbd-846c-84e8d1bb76d0\",\"type\":\"LinearAxis\"},{\"id\":\"ba538ef9-b58c-417c-89c1-e820252c79c7\",\"type\":\"Grid\"},{\"id\":\"f8900675-91ce-45f7-b9e9-6b6a4f96e79b\",\"type\":\"LinearAxis\"},{\"id\":\"a5917bb2-c82e-480d-ad96-cc974b478db9\",\"type\":\"Grid\"},{\"id\":\"3ced41ff-6fe8-4f86-b636-010b3708b443\",\"type\":\"BoxAnnotation\"},{\"id\":\"527a6adf-6668-42c5-a665-3207f06dd81e\",\"type\":\"GlyphRenderer\"}],\"title\":{\"id\":\"619b34f5-549f-48e0-a970-1ba0e637c799\",\"type\":\"Title\"},\"toolbar\":{\"id\":\"86ee41b8-f2e0-4534-9172-3da9f7b3a715\",\"type\":\"Toolbar\"},\"x_range\":{\"id\":\"c3875a59-a27a-4557-a608-853eea77d6d1\",\"type\":\"DataRange1d\"},\"x_scale\":{\"id\":\"8ac8d420-f253-44f8-b716-9a29210a65c4\",\"type\":\"LinearScale\"},\"y_range\":{\"id\":\"16ace3ab-1023-4640-aa2c-d82b0e8913b6\",\"type\":\"DataRange1d\"},\"y_scale\":{\"id\":\"3b8abdf8-be1f-4bd6-adca-9f65821f6dae\",\"type\":\"LinearScale\"}},\"id\":\"a2e64c96-619e-47eb-8391-7918d4788501\",\"subtype\":\"Figure\",\"type\":\"Plot\"},{\"attributes\":{},\"id\":\"427878b3-dbbb-416c-be0d-8047e32ddf83\",\"type\":\"BasicTicker\"},{\"attributes\":{\"callback\":null},\"id\":\"c3875a59-a27a-4557-a608-853eea77d6d1\",\"type\":\"DataRange1d\"},{\"attributes\":{},\"id\":\"1188d5f5-dce9-4bb2-9c01-2a182697f0b3\",\"type\":\"HelpTool\"},{\"attributes\":{\"data_source\":{\"id\":\"b3ef3d39-47b2-488a-ac2e-6619e60b45b1\",\"type\":\"ColumnDataSource\"},\"glyph\":{\"id\":\"5b9bb1dd-8d3a-436d-83fb-23a71e918aeb\",\"type\":\"Patch\"},\"hover_glyph\":null,\"muted_glyph\":null,\"nonselection_glyph\":{\"id\":\"4cc7aee9-63b3-4b0a-bd8d-dfeba9ff3521\",\"type\":\"Patch\"},\"selection_glyph\":null,\"view\":{\"id\":\"d6ae6607-cc8d-4d94-86b4-ce4945f0a60c\",\"type\":\"CDSView\"}},\"id\":\"527a6adf-6668-42c5-a665-3207f06dd81e\",\"type\":\"GlyphRenderer\"},{\"attributes\":{},\"id\":\"0a1593bb-e0e9-44d0-8106-a165c5b97bcc\",\"type\":\"WheelZoomTool\"},{\"attributes\":{\"fill_color\":\"green\",\"line_color\":\"green\",\"x\":{\"field\":\"x\"},\"y\":{\"field\":\"y\"}},\"id\":\"5b9bb1dd-8d3a-436d-83fb-23a71e918aeb\",\"type\":\"Patch\"},{\"attributes\":{\"source\":{\"id\":\"b3ef3d39-47b2-488a-ac2e-6619e60b45b1\",\"type\":\"ColumnDataSource\"}},\"id\":\"d6ae6607-cc8d-4d94-86b4-ce4945f0a60c\",\"type\":\"CDSView\"},{\"attributes\":{},\"id\":\"8ac8d420-f253-44f8-b716-9a29210a65c4\",\"type\":\"LinearScale\"},{\"attributes\":{},\"id\":\"f3fbcb49-b263-4c18-ba84-74f651ce47f6\",\"type\":\"ResetTool\"},{\"attributes\":{\"callback\":null,\"data\":{\"x\":[1,3,2,4],\"y\":[2,3,5,7]},\"selected\":{\"id\":\"be852e22-681a-42e7-b18c-3cb2d2076e4e\",\"type\":\"Selection\"},\"selection_policy\":{\"id\":\"a4e8a058-9210-4224-a8a6-e29c15c738e0\",\"type\":\"UnionRenderers\"}},\"id\":\"b3ef3d39-47b2-488a-ac2e-6619e60b45b1\",\"type\":\"ColumnDataSource\"},{\"attributes\":{\"formatter\":{\"id\":\"2ae46c77-8423-47d7-b283-2962112ae338\",\"type\":\"BasicTickFormatter\"},\"plot\":{\"id\":\"a2e64c96-619e-47eb-8391-7918d4788501\",\"subtype\":\"Figure\",\"type\":\"Plot\"},\"ticker\":{\"id\":\"1f49e6b1-565c-40bb-97b3-f74590c9a80b\",\"type\":\"BasicTicker\"}},\"id\":\"26d7fb05-9400-4dbd-846c-84e8d1bb76d0\",\"type\":\"LinearAxis\"},{\"attributes\":{},\"id\":\"eaba64c2-9525-4264-b1b0-afc2da8cbe02\",\"type\":\"SaveTool\"}],\"root_ids\":[\"a2e64c96-619e-47eb-8391-7918d4788501\"]},\"title\":\"Bokeh Application\",\"version\":\"0.12.16\"}};\n",
       "  var render_items = [{\"docid\":\"fe97811e-ed1f-4221-96ff-c4ff898a00c6\",\"elementid\":\"0341cc5b-dbb4-4f65-a133-452dadafaa29\",\"modelid\":\"a2e64c96-619e-47eb-8391-7918d4788501\"}];\n",
       "  root.Bokeh.embed.embed_items_notebook(docs_json, render_items);\n",
       "\n",
       "  }\n",
       "  if (root.Bokeh !== undefined) {\n",
       "    embed_document(root);\n",
       "  } else {\n",
       "    var attempts = 0;\n",
       "    var timer = setInterval(function(root) {\n",
       "      if (root.Bokeh !== undefined) {\n",
       "        embed_document(root);\n",
       "        clearInterval(timer);\n",
       "      }\n",
       "      attempts++;\n",
       "      if (attempts > 100) {\n",
       "        console.log(\"Bokeh: ERROR: Unable to run BokehJS code because BokehJS library is missing\")\n",
       "        clearInterval(timer);\n",
       "      }\n",
       "    }, 10, root)\n",
       "  }\n",
       "})(window);"
      ],
      "application/vnd.bokehjs_exec.v0+json": ""
     },
     "metadata": {
      "application/vnd.bokehjs_exec.v0+json": {
       "id": "a2e64c96-619e-47eb-8391-7918d4788501"
      }
     },
     "output_type": "display_data"
    }
   ],
   "source": [
    "## Patch PLots\n",
    "from bokeh.plotting import figure, output_file, show\n",
    "p = figure(plot_width=300, plot_height=300)\n",
    "p.patch(x=[1, 3,2,4], y=[2,3,5,7], color=\"green\")\n",
    "output_file('patch.html')\n",
    "show(p)"
   ]
  },
  {
   "cell_type": "code",
   "execution_count": 11,
   "metadata": {},
   "outputs": [
    {
     "data": {
      "text/html": [
       "\n",
       "<div class=\"bk-root\">\n",
       "    <div class=\"bk-plotdiv\" id=\"e3021d6a-28e5-4f2e-bbc1-92d23e846e88\"></div>\n",
       "</div>"
      ]
     },
     "metadata": {},
     "output_type": "display_data"
    },
    {
     "data": {
      "application/javascript": [
       "(function(root) {\n",
       "  function embed_document(root) {\n",
       "    \n",
       "  var docs_json = {\"3e3dd609-0157-41a8-afec-831701649a28\":{\"roots\":{\"references\":[{\"attributes\":{\"overlay\":{\"id\":\"3b470499-2744-409c-987b-19cdc6f8bbed\",\"type\":\"BoxAnnotation\"}},\"id\":\"b6c0e140-ce99-442b-bc23-fd3d541e5fd1\",\"type\":\"BoxZoomTool\"},{\"attributes\":{\"plot\":{\"id\":\"56f97aa2-dce6-46c6-b676-2f47cd72d179\",\"subtype\":\"Figure\",\"type\":\"Plot\"},\"ticker\":{\"id\":\"5de29d2a-7752-4053-bc9f-d155b67674e6\",\"type\":\"BasicTicker\"}},\"id\":\"bf6b3d5e-5a76-443a-83ba-751633b84b2d\",\"type\":\"Grid\"},{\"attributes\":{},\"id\":\"369bae65-ad69-4fa8-b99d-f8cf2efc5b4b\",\"type\":\"ResetTool\"},{\"attributes\":{\"callback\":null,\"data\":{\"fill_color\":[\"red\",\"blue\",\"black\"],\"xs\":[[5,3,4],[2,4,3],[2,3,5,4]],\"ys\":[[6,4,2],[3,6,7],[2,4,7,8]]},\"selected\":{\"id\":\"e6c5aafc-fb6f-40f0-9b99-b91916074c5e\",\"type\":\"Selection\"},\"selection_policy\":{\"id\":\"bb46d640-cc91-4360-a98c-b77a37ee2de4\",\"type\":\"UnionRenderers\"}},\"id\":\"3d937537-0ff0-4174-a170-45f87b015a3f\",\"type\":\"ColumnDataSource\"},{\"attributes\":{},\"id\":\"910be71f-338d-42c1-85be-9b13674cfe23\",\"type\":\"LinearScale\"},{\"attributes\":{\"below\":[{\"id\":\"30b35a3b-42a2-458a-a2d8-e3a8905b368c\",\"type\":\"LinearAxis\"}],\"left\":[{\"id\":\"2c5a4091-093f-405d-bb72-0304dd03728b\",\"type\":\"LinearAxis\"}],\"renderers\":[{\"id\":\"30b35a3b-42a2-458a-a2d8-e3a8905b368c\",\"type\":\"LinearAxis\"},{\"id\":\"bf6b3d5e-5a76-443a-83ba-751633b84b2d\",\"type\":\"Grid\"},{\"id\":\"2c5a4091-093f-405d-bb72-0304dd03728b\",\"type\":\"LinearAxis\"},{\"id\":\"270c24d5-be63-4b83-8481-1294f70e42be\",\"type\":\"Grid\"},{\"id\":\"3b470499-2744-409c-987b-19cdc6f8bbed\",\"type\":\"BoxAnnotation\"},{\"id\":\"4b594f0b-afcd-4382-a8ce-cd6bdc2b8877\",\"type\":\"GlyphRenderer\"}],\"title\":{\"id\":\"80955082-55b4-434c-9596-f3298d2caa47\",\"type\":\"Title\"},\"toolbar\":{\"id\":\"b9b59ffd-cb3a-4553-a06e-3297623f24fc\",\"type\":\"Toolbar\"},\"x_range\":{\"id\":\"703361e1-f771-4fb6-95be-da87ffc493a0\",\"type\":\"DataRange1d\"},\"x_scale\":{\"id\":\"910be71f-338d-42c1-85be-9b13674cfe23\",\"type\":\"LinearScale\"},\"y_range\":{\"id\":\"ba3cb2c4-a835-44ef-abb3-a8680cd78ab5\",\"type\":\"DataRange1d\"},\"y_scale\":{\"id\":\"26c0e584-753a-4ec7-b968-44a555af4bc4\",\"type\":\"LinearScale\"}},\"id\":\"56f97aa2-dce6-46c6-b676-2f47cd72d179\",\"subtype\":\"Figure\",\"type\":\"Plot\"},{\"attributes\":{},\"id\":\"81a82ab2-c3bd-452d-97cf-efa3b8049322\",\"type\":\"HelpTool\"},{\"attributes\":{},\"id\":\"d4dec9b3-6e05-4332-a960-9eb8d0e75fe8\",\"type\":\"BasicTicker\"},{\"attributes\":{\"plot\":null,\"text\":\"\"},\"id\":\"80955082-55b4-434c-9596-f3298d2caa47\",\"type\":\"Title\"},{\"attributes\":{\"bottom_units\":\"screen\",\"fill_alpha\":{\"value\":0.5},\"fill_color\":{\"value\":\"lightgrey\"},\"left_units\":\"screen\",\"level\":\"overlay\",\"line_alpha\":{\"value\":1.0},\"line_color\":{\"value\":\"black\"},\"line_dash\":[4,4],\"line_width\":{\"value\":2},\"plot\":null,\"render_mode\":\"css\",\"right_units\":\"screen\",\"top_units\":\"screen\"},\"id\":\"3b470499-2744-409c-987b-19cdc6f8bbed\",\"type\":\"BoxAnnotation\"},{\"attributes\":{\"dimension\":1,\"plot\":{\"id\":\"56f97aa2-dce6-46c6-b676-2f47cd72d179\",\"subtype\":\"Figure\",\"type\":\"Plot\"},\"ticker\":{\"id\":\"d4dec9b3-6e05-4332-a960-9eb8d0e75fe8\",\"type\":\"BasicTicker\"}},\"id\":\"270c24d5-be63-4b83-8481-1294f70e42be\",\"type\":\"Grid\"},{\"attributes\":{},\"id\":\"5de29d2a-7752-4053-bc9f-d155b67674e6\",\"type\":\"BasicTicker\"},{\"attributes\":{\"fill_alpha\":{\"value\":0.1},\"fill_color\":{\"value\":\"#1f77b4\"},\"line_alpha\":{\"value\":0.1},\"line_color\":{\"value\":\"#1f77b4\"},\"xs\":{\"field\":\"xs\"},\"ys\":{\"field\":\"ys\"}},\"id\":\"d8292859-9ee2-475d-89fa-d8dff880d504\",\"type\":\"Patches\"},{\"attributes\":{},\"id\":\"26c0e584-753a-4ec7-b968-44a555af4bc4\",\"type\":\"LinearScale\"},{\"attributes\":{\"callback\":null},\"id\":\"ba3cb2c4-a835-44ef-abb3-a8680cd78ab5\",\"type\":\"DataRange1d\"},{\"attributes\":{\"formatter\":{\"id\":\"19542631-b1d4-4029-922c-460864d53284\",\"type\":\"BasicTickFormatter\"},\"plot\":{\"id\":\"56f97aa2-dce6-46c6-b676-2f47cd72d179\",\"subtype\":\"Figure\",\"type\":\"Plot\"},\"ticker\":{\"id\":\"d4dec9b3-6e05-4332-a960-9eb8d0e75fe8\",\"type\":\"BasicTicker\"}},\"id\":\"2c5a4091-093f-405d-bb72-0304dd03728b\",\"type\":\"LinearAxis\"},{\"attributes\":{},\"id\":\"d3ef5e70-f20f-4358-8f3e-33079056cac0\",\"type\":\"BasicTickFormatter\"},{\"attributes\":{},\"id\":\"81ee28f9-beef-403c-ba10-beb0cfa4d5c2\",\"type\":\"PanTool\"},{\"attributes\":{\"fill_color\":{\"field\":\"fill_color\"},\"line_color\":{\"value\":\"white\"},\"xs\":{\"field\":\"xs\"},\"ys\":{\"field\":\"ys\"}},\"id\":\"a7882303-4a7f-497f-aefa-ba4472008116\",\"type\":\"Patches\"},{\"attributes\":{},\"id\":\"e6c5aafc-fb6f-40f0-9b99-b91916074c5e\",\"type\":\"Selection\"},{\"attributes\":{\"active_drag\":\"auto\",\"active_inspect\":\"auto\",\"active_scroll\":\"auto\",\"active_tap\":\"auto\",\"tools\":[{\"id\":\"81ee28f9-beef-403c-ba10-beb0cfa4d5c2\",\"type\":\"PanTool\"},{\"id\":\"28aa73a6-052a-4001-878e-6e14e86ef849\",\"type\":\"WheelZoomTool\"},{\"id\":\"b6c0e140-ce99-442b-bc23-fd3d541e5fd1\",\"type\":\"BoxZoomTool\"},{\"id\":\"1af1186d-08eb-45dd-8e9a-e4e6aba0b028\",\"type\":\"SaveTool\"},{\"id\":\"369bae65-ad69-4fa8-b99d-f8cf2efc5b4b\",\"type\":\"ResetTool\"},{\"id\":\"81a82ab2-c3bd-452d-97cf-efa3b8049322\",\"type\":\"HelpTool\"}]},\"id\":\"b9b59ffd-cb3a-4553-a06e-3297623f24fc\",\"type\":\"Toolbar\"},{\"attributes\":{\"formatter\":{\"id\":\"d3ef5e70-f20f-4358-8f3e-33079056cac0\",\"type\":\"BasicTickFormatter\"},\"plot\":{\"id\":\"56f97aa2-dce6-46c6-b676-2f47cd72d179\",\"subtype\":\"Figure\",\"type\":\"Plot\"},\"ticker\":{\"id\":\"5de29d2a-7752-4053-bc9f-d155b67674e6\",\"type\":\"BasicTicker\"}},\"id\":\"30b35a3b-42a2-458a-a2d8-e3a8905b368c\",\"type\":\"LinearAxis\"},{\"attributes\":{},\"id\":\"19542631-b1d4-4029-922c-460864d53284\",\"type\":\"BasicTickFormatter\"},{\"attributes\":{\"data_source\":{\"id\":\"3d937537-0ff0-4174-a170-45f87b015a3f\",\"type\":\"ColumnDataSource\"},\"glyph\":{\"id\":\"a7882303-4a7f-497f-aefa-ba4472008116\",\"type\":\"Patches\"},\"hover_glyph\":null,\"muted_glyph\":null,\"nonselection_glyph\":{\"id\":\"d8292859-9ee2-475d-89fa-d8dff880d504\",\"type\":\"Patches\"},\"selection_glyph\":null,\"view\":{\"id\":\"1dafee83-58bc-4e23-947f-49ec2bacbf58\",\"type\":\"CDSView\"}},\"id\":\"4b594f0b-afcd-4382-a8ce-cd6bdc2b8877\",\"type\":\"GlyphRenderer\"},{\"attributes\":{\"callback\":null},\"id\":\"703361e1-f771-4fb6-95be-da87ffc493a0\",\"type\":\"DataRange1d\"},{\"attributes\":{},\"id\":\"bb46d640-cc91-4360-a98c-b77a37ee2de4\",\"type\":\"UnionRenderers\"},{\"attributes\":{\"source\":{\"id\":\"3d937537-0ff0-4174-a170-45f87b015a3f\",\"type\":\"ColumnDataSource\"}},\"id\":\"1dafee83-58bc-4e23-947f-49ec2bacbf58\",\"type\":\"CDSView\"},{\"attributes\":{},\"id\":\"1af1186d-08eb-45dd-8e9a-e4e6aba0b028\",\"type\":\"SaveTool\"},{\"attributes\":{},\"id\":\"28aa73a6-052a-4001-878e-6e14e86ef849\",\"type\":\"WheelZoomTool\"}],\"root_ids\":[\"56f97aa2-dce6-46c6-b676-2f47cd72d179\"]},\"title\":\"Bokeh Application\",\"version\":\"0.12.16\"}};\n",
       "  var render_items = [{\"docid\":\"3e3dd609-0157-41a8-afec-831701649a28\",\"elementid\":\"e3021d6a-28e5-4f2e-bbc1-92d23e846e88\",\"modelid\":\"56f97aa2-dce6-46c6-b676-2f47cd72d179\"}];\n",
       "  root.Bokeh.embed.embed_items_notebook(docs_json, render_items);\n",
       "\n",
       "  }\n",
       "  if (root.Bokeh !== undefined) {\n",
       "    embed_document(root);\n",
       "  } else {\n",
       "    var attempts = 0;\n",
       "    var timer = setInterval(function(root) {\n",
       "      if (root.Bokeh !== undefined) {\n",
       "        embed_document(root);\n",
       "        clearInterval(timer);\n",
       "      }\n",
       "      attempts++;\n",
       "      if (attempts > 100) {\n",
       "        console.log(\"Bokeh: ERROR: Unable to run BokehJS code because BokehJS library is missing\")\n",
       "        clearInterval(timer);\n",
       "      }\n",
       "    }, 10, root)\n",
       "  }\n",
       "})(window);"
      ],
      "application/vnd.bokehjs_exec.v0+json": ""
     },
     "metadata": {
      "application/vnd.bokehjs_exec.v0+json": {
       "id": "56f97aa2-dce6-46c6-b676-2f47cd72d179"
      }
     },
     "output_type": "display_data"
    }
   ],
   "source": [
    "## Other example\n",
    "from bokeh.plotting import figure, output_file, show\n",
    "xs = [[5,3,4], [2,4,3], [2,3,5,4]]\n",
    "ys = [[6,4,2], [3,6,7], [2,4,7,8]]\n",
    "fig = figure()\n",
    "fig.patches(xs, ys, fill_color = ['red', 'blue', 'black'], line_color =\n",
    "'white')\n",
    "output_file('patch_plot.html')\n",
    "show(fig)\n"
   ]
  },
  {
   "cell_type": "code",
   "execution_count": 12,
   "metadata": {},
   "outputs": [
    {
     "data": {
      "text/html": [
       "\n",
       "<div class=\"bk-root\">\n",
       "    <div class=\"bk-plotdiv\" id=\"482fd60f-8e23-466d-9caa-ccc68a514e33\"></div>\n",
       "</div>"
      ]
     },
     "metadata": {},
     "output_type": "display_data"
    },
    {
     "data": {
      "application/javascript": [
       "(function(root) {\n",
       "  function embed_document(root) {\n",
       "    \n",
       "  var docs_json = {\"637dc8e4-2d35-430d-8854-0997d145a6ec\":{\"roots\":{\"references\":[{\"attributes\":{},\"id\":\"002f17d0-898d-4cd8-9bd7-d4a2e0142a60\",\"type\":\"HelpTool\"},{\"attributes\":{\"fill_alpha\":{\"value\":0.1},\"fill_color\":{\"value\":\"#1f77b4\"},\"line_alpha\":{\"value\":0.1},\"line_color\":{\"value\":\"#1f77b4\"},\"size\":{\"units\":\"screen\",\"value\":20},\"x\":{\"field\":\"x\"},\"y\":{\"field\":\"y\"}},\"id\":\"1c5bb2cf-9d40-4a4d-a531-1cc191af3583\",\"type\":\"Circle\"},{\"attributes\":{},\"id\":\"9c50daf7-57cd-41a8-b6ed-ff926794da72\",\"type\":\"LinearScale\"},{\"attributes\":{},\"id\":\"3ddab1ce-73cd-4c00-8143-2a3e71038270\",\"type\":\"Selection\"},{\"attributes\":{\"formatter\":{\"id\":\"5b5d66c5-065f-4859-b846-7cab6424f012\",\"type\":\"BasicTickFormatter\"},\"plot\":{\"id\":\"b3a78262-9b93-470f-bb74-9f38371a288f\",\"subtype\":\"Figure\",\"type\":\"Plot\"},\"ticker\":{\"id\":\"92a9ec6c-19cc-43a2-9615-00ec9479d44c\",\"type\":\"BasicTicker\"}},\"id\":\"2f237075-5495-4b59-a5e0-dce078f84ed8\",\"type\":\"LinearAxis\"},{\"attributes\":{\"data_source\":{\"id\":\"bdb96162-0b75-4875-b448-0cfd3da7b636\",\"type\":\"ColumnDataSource\"},\"glyph\":{\"id\":\"adb9102c-90b4-4d93-802c-a8a803964219\",\"type\":\"Circle\"},\"hover_glyph\":null,\"muted_glyph\":null,\"nonselection_glyph\":{\"id\":\"1c5bb2cf-9d40-4a4d-a531-1cc191af3583\",\"type\":\"Circle\"},\"selection_glyph\":null,\"view\":{\"id\":\"e113e243-2398-4d24-b1e6-ba050d497e29\",\"type\":\"CDSView\"}},\"id\":\"2c17b81b-1598-4fa1-8cab-4964750d2ba3\",\"type\":\"GlyphRenderer\"},{\"attributes\":{\"below\":[{\"id\":\"a4cc5e73-322f-4f48-9293-aa134e9a7f56\",\"type\":\"LinearAxis\"}],\"left\":[{\"id\":\"2f237075-5495-4b59-a5e0-dce078f84ed8\",\"type\":\"LinearAxis\"}],\"renderers\":[{\"id\":\"a4cc5e73-322f-4f48-9293-aa134e9a7f56\",\"type\":\"LinearAxis\"},{\"id\":\"3a43f29e-7be6-4899-921f-4e52689d4839\",\"type\":\"Grid\"},{\"id\":\"2f237075-5495-4b59-a5e0-dce078f84ed8\",\"type\":\"LinearAxis\"},{\"id\":\"0f007ce7-c5bd-46b2-bdec-1849fa1025f0\",\"type\":\"Grid\"},{\"id\":\"d044b361-20d0-4ae0-a7b0-3c051a14720b\",\"type\":\"BoxAnnotation\"},{\"id\":\"2c17b81b-1598-4fa1-8cab-4964750d2ba3\",\"type\":\"GlyphRenderer\"}],\"title\":{\"id\":\"ed589320-5493-4d8e-b07e-b7a8fa68a000\",\"type\":\"Title\"},\"toolbar\":{\"id\":\"5bf6c8d4-2ddb-4561-87b4-1cb5621ed11b\",\"type\":\"Toolbar\"},\"x_range\":{\"id\":\"00f545db-b220-4286-bf1b-404b1f317c1f\",\"type\":\"DataRange1d\"},\"x_scale\":{\"id\":\"9c50daf7-57cd-41a8-b6ed-ff926794da72\",\"type\":\"LinearScale\"},\"y_range\":{\"id\":\"f1bf9584-0e76-468a-9e5c-e2a60b10444d\",\"type\":\"DataRange1d\"},\"y_scale\":{\"id\":\"abe7d937-3801-43e2-8689-0b21c3a5c640\",\"type\":\"LinearScale\"}},\"id\":\"b3a78262-9b93-470f-bb74-9f38371a288f\",\"subtype\":\"Figure\",\"type\":\"Plot\"},{\"attributes\":{\"plot\":null,\"text\":\"\"},\"id\":\"ed589320-5493-4d8e-b07e-b7a8fa68a000\",\"type\":\"Title\"},{\"attributes\":{},\"id\":\"e879c947-e26c-4f3d-8872-255502257bb1\",\"type\":\"SaveTool\"},{\"attributes\":{},\"id\":\"38056495-ba9c-4683-a9af-a710ee5124e7\",\"type\":\"BasicTicker\"},{\"attributes\":{\"source\":{\"id\":\"bdb96162-0b75-4875-b448-0cfd3da7b636\",\"type\":\"ColumnDataSource\"}},\"id\":\"e113e243-2398-4d24-b1e6-ba050d497e29\",\"type\":\"CDSView\"},{\"attributes\":{},\"id\":\"5b5d66c5-065f-4859-b846-7cab6424f012\",\"type\":\"BasicTickFormatter\"},{\"attributes\":{\"plot\":{\"id\":\"b3a78262-9b93-470f-bb74-9f38371a288f\",\"subtype\":\"Figure\",\"type\":\"Plot\"},\"ticker\":{\"id\":\"38056495-ba9c-4683-a9af-a710ee5124e7\",\"type\":\"BasicTicker\"}},\"id\":\"3a43f29e-7be6-4899-921f-4e52689d4839\",\"type\":\"Grid\"},{\"attributes\":{\"overlay\":{\"id\":\"d044b361-20d0-4ae0-a7b0-3c051a14720b\",\"type\":\"BoxAnnotation\"}},\"id\":\"3ade1982-54f9-4abe-b095-fc17ec4e9d82\",\"type\":\"BoxZoomTool\"},{\"attributes\":{},\"id\":\"05afe671-8393-4415-834f-bfaa059b7e21\",\"type\":\"WheelZoomTool\"},{\"attributes\":{\"formatter\":{\"id\":\"94d89b2d-f0aa-4847-994f-f9a7dd8f9c4f\",\"type\":\"BasicTickFormatter\"},\"plot\":{\"id\":\"b3a78262-9b93-470f-bb74-9f38371a288f\",\"subtype\":\"Figure\",\"type\":\"Plot\"},\"ticker\":{\"id\":\"38056495-ba9c-4683-a9af-a710ee5124e7\",\"type\":\"BasicTicker\"}},\"id\":\"a4cc5e73-322f-4f48-9293-aa134e9a7f56\",\"type\":\"LinearAxis\"},{\"attributes\":{\"active_drag\":\"auto\",\"active_inspect\":\"auto\",\"active_scroll\":\"auto\",\"active_tap\":\"auto\",\"tools\":[{\"id\":\"b0210d1d-ec50-4f84-82c9-2e0e5b739f53\",\"type\":\"PanTool\"},{\"id\":\"05afe671-8393-4415-834f-bfaa059b7e21\",\"type\":\"WheelZoomTool\"},{\"id\":\"3ade1982-54f9-4abe-b095-fc17ec4e9d82\",\"type\":\"BoxZoomTool\"},{\"id\":\"e879c947-e26c-4f3d-8872-255502257bb1\",\"type\":\"SaveTool\"},{\"id\":\"55eb63b3-4d89-4603-905a-d2877b804c39\",\"type\":\"ResetTool\"},{\"id\":\"002f17d0-898d-4cd8-9bd7-d4a2e0142a60\",\"type\":\"HelpTool\"}]},\"id\":\"5bf6c8d4-2ddb-4561-87b4-1cb5621ed11b\",\"type\":\"Toolbar\"},{\"attributes\":{},\"id\":\"abe7d937-3801-43e2-8689-0b21c3a5c640\",\"type\":\"LinearScale\"},{\"attributes\":{},\"id\":\"a26dafcc-75bb-48d5-b226-7ab50d242dbf\",\"type\":\"UnionRenderers\"},{\"attributes\":{\"callback\":null},\"id\":\"00f545db-b220-4286-bf1b-404b1f317c1f\",\"type\":\"DataRange1d\"},{\"attributes\":{},\"id\":\"55eb63b3-4d89-4603-905a-d2877b804c39\",\"type\":\"ResetTool\"},{\"attributes\":{\"bottom_units\":\"screen\",\"fill_alpha\":{\"value\":0.5},\"fill_color\":{\"value\":\"lightgrey\"},\"left_units\":\"screen\",\"level\":\"overlay\",\"line_alpha\":{\"value\":1.0},\"line_color\":{\"value\":\"black\"},\"line_dash\":[4,4],\"line_width\":{\"value\":2},\"plot\":null,\"render_mode\":\"css\",\"right_units\":\"screen\",\"top_units\":\"screen\"},\"id\":\"d044b361-20d0-4ae0-a7b0-3c051a14720b\",\"type\":\"BoxAnnotation\"},{\"attributes\":{\"fill_color\":{\"value\":\"grey\"},\"line_color\":{\"value\":\"#1f77b4\"},\"size\":{\"units\":\"screen\",\"value\":20},\"x\":{\"field\":\"x\"},\"y\":{\"field\":\"y\"}},\"id\":\"adb9102c-90b4-4d93-802c-a8a803964219\",\"type\":\"Circle\"},{\"attributes\":{},\"id\":\"b0210d1d-ec50-4f84-82c9-2e0e5b739f53\",\"type\":\"PanTool\"},{\"attributes\":{\"dimension\":1,\"plot\":{\"id\":\"b3a78262-9b93-470f-bb74-9f38371a288f\",\"subtype\":\"Figure\",\"type\":\"Plot\"},\"ticker\":{\"id\":\"92a9ec6c-19cc-43a2-9615-00ec9479d44c\",\"type\":\"BasicTicker\"}},\"id\":\"0f007ce7-c5bd-46b2-bdec-1849fa1025f0\",\"type\":\"Grid\"},{\"attributes\":{},\"id\":\"92a9ec6c-19cc-43a2-9615-00ec9479d44c\",\"type\":\"BasicTicker\"},{\"attributes\":{},\"id\":\"94d89b2d-f0aa-4847-994f-f9a7dd8f9c4f\",\"type\":\"BasicTickFormatter\"},{\"attributes\":{\"callback\":null},\"id\":\"f1bf9584-0e76-468a-9e5c-e2a60b10444d\",\"type\":\"DataRange1d\"},{\"attributes\":{\"callback\":null,\"data\":{\"x\":[1,4,3,2,5],\"y\":[6,5,2,4,7]},\"selected\":{\"id\":\"3ddab1ce-73cd-4c00-8143-2a3e71038270\",\"type\":\"Selection\"},\"selection_policy\":{\"id\":\"a26dafcc-75bb-48d5-b226-7ab50d242dbf\",\"type\":\"UnionRenderers\"}},\"id\":\"bdb96162-0b75-4875-b448-0cfd3da7b636\",\"type\":\"ColumnDataSource\"}],\"root_ids\":[\"b3a78262-9b93-470f-bb74-9f38371a288f\"]},\"title\":\"Bokeh Application\",\"version\":\"0.12.16\"}};\n",
       "  var render_items = [{\"docid\":\"637dc8e4-2d35-430d-8854-0997d145a6ec\",\"elementid\":\"482fd60f-8e23-466d-9caa-ccc68a514e33\",\"modelid\":\"b3a78262-9b93-470f-bb74-9f38371a288f\"}];\n",
       "  root.Bokeh.embed.embed_items_notebook(docs_json, render_items);\n",
       "\n",
       "  }\n",
       "  if (root.Bokeh !== undefined) {\n",
       "    embed_document(root);\n",
       "  } else {\n",
       "    var attempts = 0;\n",
       "    var timer = setInterval(function(root) {\n",
       "      if (root.Bokeh !== undefined) {\n",
       "        embed_document(root);\n",
       "        clearInterval(timer);\n",
       "      }\n",
       "      attempts++;\n",
       "      if (attempts > 100) {\n",
       "        console.log(\"Bokeh: ERROR: Unable to run BokehJS code because BokehJS library is missing\")\n",
       "        clearInterval(timer);\n",
       "      }\n",
       "    }, 10, root)\n",
       "  }\n",
       "})(window);"
      ],
      "application/vnd.bokehjs_exec.v0+json": ""
     },
     "metadata": {
      "application/vnd.bokehjs_exec.v0+json": {
       "id": "b3a78262-9b93-470f-bb74-9f38371a288f"
      }
     },
     "output_type": "display_data"
    }
   ],
   "source": [
    "## Scatter plot\n",
    "from bokeh.plotting import figure, output_file, show\n",
    "fig = figure()\n",
    "fig.scatter([1, 4, 3, 2, 5], [6, 5, 2, 4, 7], marker=\"circle\", size=20,\n",
    "fill_color=\"grey\")\n",
    "output_file('scatter.html')\n",
    "show(fig)"
   ]
  },
  {
   "cell_type": "markdown",
   "metadata": {},
   "source": [
    "## Area Plots"
   ]
  },
  {
   "cell_type": "code",
   "execution_count": 20,
   "metadata": {},
   "outputs": [
    {
     "ename": "AttributeError",
     "evalue": "'Figure' object has no attribute 'harea'",
     "output_type": "error",
     "traceback": [
      "\u001b[1;31m---------------------------------------------------------------------------\u001b[0m",
      "\u001b[1;31mAttributeError\u001b[0m                            Traceback (most recent call last)",
      "\u001b[1;32m<ipython-input-20-79b5bf26fec7>\u001b[0m in \u001b[0;36m<module>\u001b[1;34m\u001b[0m\n\u001b[0;32m      5\u001b[0m \u001b[0my1\u001b[0m\u001b[1;33m=\u001b[0m\u001b[1;33m[\u001b[0m\u001b[1;36m2\u001b[0m\u001b[1;33m,\u001b[0m \u001b[1;36m6\u001b[0m\u001b[1;33m,\u001b[0m \u001b[1;36m4\u001b[0m\u001b[1;33m,\u001b[0m \u001b[1;36m3\u001b[0m\u001b[1;33m,\u001b[0m \u001b[1;36m5\u001b[0m\u001b[1;33m]\u001b[0m\u001b[1;33m\u001b[0m\u001b[1;33m\u001b[0m\u001b[0m\n\u001b[0;32m      6\u001b[0m \u001b[0my2\u001b[0m\u001b[1;33m=\u001b[0m\u001b[1;33m[\u001b[0m\u001b[1;36m1\u001b[0m\u001b[1;33m,\u001b[0m \u001b[1;36m4\u001b[0m\u001b[1;33m,\u001b[0m \u001b[1;36m2\u001b[0m\u001b[1;33m,\u001b[0m \u001b[1;36m2\u001b[0m\u001b[1;33m,\u001b[0m \u001b[1;36m3\u001b[0m\u001b[1;33m]\u001b[0m\u001b[1;33m\u001b[0m\u001b[1;33m\u001b[0m\u001b[0m\n\u001b[1;32m----> 7\u001b[1;33m \u001b[0mfig\u001b[0m\u001b[1;33m.\u001b[0m\u001b[0mharea\u001b[0m\u001b[1;33m(\u001b[0m\u001b[0mx\u001b[0m\u001b[1;33m=\u001b[0m\u001b[0mx\u001b[0m\u001b[1;33m,\u001b[0m\u001b[0my1\u001b[0m\u001b[1;33m=\u001b[0m\u001b[0my1\u001b[0m\u001b[1;33m,\u001b[0m\u001b[0my2\u001b[0m\u001b[1;33m=\u001b[0m\u001b[0my2\u001b[0m\u001b[1;33m)\u001b[0m\u001b[1;33m\u001b[0m\u001b[1;33m\u001b[0m\u001b[0m\n\u001b[0m\u001b[0;32m      8\u001b[0m \u001b[0moutput_file\u001b[0m\u001b[1;33m(\u001b[0m\u001b[1;34m'area.html'\u001b[0m\u001b[1;33m)\u001b[0m\u001b[1;33m\u001b[0m\u001b[1;33m\u001b[0m\u001b[0m\n\u001b[0;32m      9\u001b[0m \u001b[0mshow\u001b[0m\u001b[1;33m(\u001b[0m\u001b[0mfig\u001b[0m\u001b[1;33m)\u001b[0m\u001b[1;33m\u001b[0m\u001b[1;33m\u001b[0m\u001b[0m\n",
      "\u001b[1;31mAttributeError\u001b[0m: 'Figure' object has no attribute 'harea'"
     ]
    }
   ],
   "source": [
    "#Vertical Area\n",
    "from bokeh.plotting import figure, output_file, show\n",
    "fig = figure()\n",
    "x=[1, 2, 3, 4, 5]\n",
    "y1=[2, 6, 4, 3, 5]\n",
    "y2=[1, 4, 2, 2, 3]\n",
    "fig.varea(x=x,y1=y1,y2=y2)\n",
    "output_file('area.html')\n",
    "show(fig)"
   ]
  },
  {
   "cell_type": "code",
   "execution_count": 21,
   "metadata": {},
   "outputs": [
    {
     "ename": "AttributeError",
     "evalue": "'Figure' object has no attribute 'harea'",
     "output_type": "error",
     "traceback": [
      "\u001b[1;31m---------------------------------------------------------------------------\u001b[0m",
      "\u001b[1;31mAttributeError\u001b[0m                            Traceback (most recent call last)",
      "\u001b[1;32m<ipython-input-21-dea0267c0e5e>\u001b[0m in \u001b[0;36m<module>\u001b[1;34m\u001b[0m\n\u001b[0;32m      5\u001b[0m \u001b[0mx1\u001b[0m\u001b[1;33m=\u001b[0m\u001b[1;33m[\u001b[0m\u001b[1;36m2\u001b[0m\u001b[1;33m,\u001b[0m \u001b[1;36m6\u001b[0m\u001b[1;33m,\u001b[0m \u001b[1;36m4\u001b[0m\u001b[1;33m,\u001b[0m \u001b[1;36m3\u001b[0m\u001b[1;33m,\u001b[0m \u001b[1;36m5\u001b[0m\u001b[1;33m]\u001b[0m\u001b[1;33m\u001b[0m\u001b[1;33m\u001b[0m\u001b[0m\n\u001b[0;32m      6\u001b[0m \u001b[0mx2\u001b[0m\u001b[1;33m=\u001b[0m\u001b[1;33m[\u001b[0m\u001b[1;36m1\u001b[0m\u001b[1;33m,\u001b[0m \u001b[1;36m4\u001b[0m\u001b[1;33m,\u001b[0m \u001b[1;36m2\u001b[0m\u001b[1;33m,\u001b[0m \u001b[1;36m2\u001b[0m\u001b[1;33m,\u001b[0m \u001b[1;36m3\u001b[0m\u001b[1;33m]\u001b[0m\u001b[1;33m\u001b[0m\u001b[1;33m\u001b[0m\u001b[0m\n\u001b[1;32m----> 7\u001b[1;33m \u001b[0mfig\u001b[0m\u001b[1;33m.\u001b[0m\u001b[0mharea\u001b[0m\u001b[1;33m(\u001b[0m\u001b[0mx1\u001b[0m\u001b[1;33m=\u001b[0m\u001b[0mx1\u001b[0m\u001b[1;33m,\u001b[0m\u001b[0mx2\u001b[0m\u001b[1;33m=\u001b[0m\u001b[0mx2\u001b[0m\u001b[1;33m,\u001b[0m\u001b[0my\u001b[0m\u001b[1;33m=\u001b[0m\u001b[0my\u001b[0m\u001b[1;33m)\u001b[0m\u001b[1;33m\u001b[0m\u001b[1;33m\u001b[0m\u001b[0m\n\u001b[0m\u001b[0;32m      8\u001b[0m \u001b[0moutput_file\u001b[0m\u001b[1;33m(\u001b[0m\u001b[1;34m'area.html'\u001b[0m\u001b[1;33m)\u001b[0m\u001b[1;33m\u001b[0m\u001b[1;33m\u001b[0m\u001b[0m\n\u001b[0;32m      9\u001b[0m \u001b[0mshow\u001b[0m\u001b[1;33m(\u001b[0m\u001b[0mfig\u001b[0m\u001b[1;33m)\u001b[0m\u001b[1;33m\u001b[0m\u001b[1;33m\u001b[0m\u001b[0m\n",
      "\u001b[1;31mAttributeError\u001b[0m: 'Figure' object has no attribute 'harea'"
     ]
    }
   ],
   "source": [
    "# Horizontal Area\n",
    "from bokeh.plotting import figure, output_file, show\n",
    "fig = figure()\n",
    "y=[1, 2, 3, 4, 5]\n",
    "x1=[2, 6, 4, 3, 5]\n",
    "x2=[1, 4, 2, 2, 3]\n",
    "fig.harea(x1=x1,x2=x2,y=y)\n",
    "output_file('area.html')\n",
    "show(fig)"
   ]
  },
  {
   "cell_type": "code",
   "execution_count": 22,
   "metadata": {},
   "outputs": [
    {
     "data": {
      "text/html": [
       "\n",
       "<div class=\"bk-root\">\n",
       "    <div class=\"bk-plotdiv\" id=\"3f8db94b-7eab-4a14-8baf-d1c997c91ac3\"></div>\n",
       "</div>"
      ]
     },
     "metadata": {},
     "output_type": "display_data"
    },
    {
     "data": {
      "application/javascript": [
       "(function(root) {\n",
       "  function embed_document(root) {\n",
       "    \n",
       "  var docs_json = {\"f467029f-795c-424a-8a91-8b0c2b9bc6c1\":{\"roots\":{\"references\":[{\"attributes\":{\"below\":[{\"id\":\"7560406d-b17a-43de-953e-429c18912083\",\"type\":\"LinearAxis\"}],\"left\":[{\"id\":\"457aa52e-ac6e-4e37-a980-2e6429c76a16\",\"type\":\"LinearAxis\"}],\"plot_height\":300,\"plot_width\":300,\"renderers\":[{\"id\":\"7560406d-b17a-43de-953e-429c18912083\",\"type\":\"LinearAxis\"},{\"id\":\"2b7a79c8-4e2d-4db1-b2b3-f90a2755ed87\",\"type\":\"Grid\"},{\"id\":\"457aa52e-ac6e-4e37-a980-2e6429c76a16\",\"type\":\"LinearAxis\"},{\"id\":\"70574b6a-d241-4e55-b785-7fabc8c96640\",\"type\":\"Grid\"},{\"id\":\"4f262193-64c3-4b90-94a4-5f9f54a5a4a8\",\"type\":\"BoxAnnotation\"},{\"id\":\"18e826b6-512b-4257-9506-a5ae27e36df0\",\"type\":\"GlyphRenderer\"},{\"id\":\"945effaf-74c0-4912-abd2-7957c8ad5763\",\"type\":\"GlyphRenderer\"},{\"id\":\"fca86c81-1ac3-40d9-8cab-db33101dd337\",\"type\":\"GlyphRenderer\"}],\"title\":{\"id\":\"0f9a870d-1e13-4603-a1b7-e91db3bbf8c1\",\"type\":\"Title\"},\"toolbar\":{\"id\":\"3b5fab39-8d7d-4ef1-b8f0-c72b89403d2c\",\"type\":\"Toolbar\"},\"x_range\":{\"id\":\"218d1f63-5a9d-4e52-9889-30cb26fd51d7\",\"type\":\"DataRange1d\"},\"x_scale\":{\"id\":\"5fb1a451-97cc-404c-ae7f-be3116d87f12\",\"type\":\"LinearScale\"},\"y_range\":{\"id\":\"80cfcc49-690a-4bb6-ac86-e05063a7d15f\",\"type\":\"DataRange1d\"},\"y_scale\":{\"id\":\"da38e20c-e18b-4384-8bf5-e2775672b1d2\",\"type\":\"LinearScale\"}},\"id\":\"b7c3fbb0-1a58-40da-9f74-b04a5153f660\",\"subtype\":\"Figure\",\"type\":\"Plot\"},{\"attributes\":{\"data_source\":{\"id\":\"50f64e13-469c-4e37-934d-a6d6e3d371ad\",\"type\":\"ColumnDataSource\"},\"glyph\":{\"id\":\"6c5b1d6f-2c42-42e0-b330-577d30a0176d\",\"type\":\"CircleCross\"},\"hover_glyph\":null,\"muted_glyph\":null,\"nonselection_glyph\":{\"id\":\"80f825e8-df80-421b-8404-98618ff8d613\",\"type\":\"CircleCross\"},\"selection_glyph\":null,\"view\":{\"id\":\"de2004f8-cc2b-40bb-991b-370e20dda058\",\"type\":\"CDSView\"}},\"id\":\"945effaf-74c0-4912-abd2-7957c8ad5763\",\"type\":\"GlyphRenderer\"},{\"attributes\":{\"callback\":null,\"data\":{\"x\":[1,2,3],\"y\":[3,7,5]},\"selected\":{\"id\":\"eae90167-169e-42d5-b941-75d1597d3750\",\"type\":\"Selection\"},\"selection_policy\":{\"id\":\"c32e0538-b1d0-4b6c-a534-12c1fe73b210\",\"type\":\"UnionRenderers\"}},\"id\":\"b4a1af3f-8d39-4c88-8cc5-ca3342149600\",\"type\":\"ColumnDataSource\"},{\"attributes\":{\"callback\":null,\"data\":{\"x\":[2,4,6],\"y\":[5,8,9]},\"selected\":{\"id\":\"02a79a9b-ba26-43e7-921d-335cdd04c5d4\",\"type\":\"Selection\"},\"selection_policy\":{\"id\":\"d3610150-259d-4fa1-9b16-e8b45e9c4272\",\"type\":\"UnionRenderers\"}},\"id\":\"50f64e13-469c-4e37-934d-a6d6e3d371ad\",\"type\":\"ColumnDataSource\"},{\"attributes\":{\"fill_alpha\":{\"value\":0.1},\"fill_color\":{\"value\":\"#1f77b4\"},\"line_alpha\":{\"value\":0.1},\"line_color\":{\"value\":\"#1f77b4\"},\"line_width\":{\"value\":2},\"size\":{\"units\":\"screen\",\"value\":20},\"x\":{\"field\":\"x\"},\"y\":{\"field\":\"y\"}},\"id\":\"80f825e8-df80-421b-8404-98618ff8d613\",\"type\":\"CircleCross\"},{\"attributes\":{\"active_drag\":\"auto\",\"active_inspect\":\"auto\",\"active_scroll\":\"auto\",\"active_tap\":\"auto\",\"tools\":[{\"id\":\"cffdcb1a-2388-419c-ad18-7da9fdd59055\",\"type\":\"PanTool\"},{\"id\":\"8c402bea-ff51-458c-b187-f4396ea42359\",\"type\":\"WheelZoomTool\"},{\"id\":\"7c9b4896-dae9-4f31-91dd-89bc0a5185a9\",\"type\":\"BoxZoomTool\"},{\"id\":\"db4d40fb-797b-40dc-936d-1fd4e03821f1\",\"type\":\"SaveTool\"},{\"id\":\"7d38ebd0-4fd3-4dfc-bac2-9ce5c123a063\",\"type\":\"ResetTool\"},{\"id\":\"28dc6d4e-02ff-45ac-ad22-c7ca14c88161\",\"type\":\"HelpTool\"}]},\"id\":\"3b5fab39-8d7d-4ef1-b8f0-c72b89403d2c\",\"type\":\"Toolbar\"},{\"attributes\":{\"source\":{\"id\":\"b4a1af3f-8d39-4c88-8cc5-ca3342149600\",\"type\":\"ColumnDataSource\"}},\"id\":\"838e6948-753a-4406-9459-7e7255976d3a\",\"type\":\"CDSView\"},{\"attributes\":{\"callback\":null},\"id\":\"218d1f63-5a9d-4e52-9889-30cb26fd51d7\",\"type\":\"DataRange1d\"},{\"attributes\":{},\"id\":\"d3610150-259d-4fa1-9b16-e8b45e9c4272\",\"type\":\"UnionRenderers\"},{\"attributes\":{\"callback\":null,\"data\":{\"x\":[5,7,2],\"y\":[2,4,9]},\"selected\":{\"id\":\"ec219e18-4888-47ef-92ea-b3713768614e\",\"type\":\"Selection\"},\"selection_policy\":{\"id\":\"be008236-88b3-4f77-bb21-ae1cecb99216\",\"type\":\"UnionRenderers\"}},\"id\":\"1153e0ff-f0ed-4331-a595-f852f7306f75\",\"type\":\"ColumnDataSource\"},{\"attributes\":{\"callback\":null},\"id\":\"80cfcc49-690a-4bb6-ac86-e05063a7d15f\",\"type\":\"DataRange1d\"},{\"attributes\":{\"fill_alpha\":{\"value\":0.2},\"fill_color\":{\"value\":\"blue\"},\"line_color\":{\"value\":\"#1f77b4\"},\"line_width\":{\"value\":2},\"size\":{\"units\":\"screen\",\"value\":20},\"x\":{\"field\":\"x\"},\"y\":{\"field\":\"y\"}},\"id\":\"6c5b1d6f-2c42-42e0-b330-577d30a0176d\",\"type\":\"CircleCross\"},{\"attributes\":{},\"id\":\"5fb1a451-97cc-404c-ae7f-be3116d87f12\",\"type\":\"LinearScale\"},{\"attributes\":{},\"id\":\"da38e20c-e18b-4384-8bf5-e2775672b1d2\",\"type\":\"LinearScale\"},{\"attributes\":{\"plot\":null,\"text\":\"\"},\"id\":\"0f9a870d-1e13-4603-a1b7-e91db3bbf8c1\",\"type\":\"Title\"},{\"attributes\":{\"plot\":{\"id\":\"b7c3fbb0-1a58-40da-9f74-b04a5153f660\",\"subtype\":\"Figure\",\"type\":\"Plot\"},\"ticker\":{\"id\":\"02d9364e-d872-4897-8e64-287bcf4ed736\",\"type\":\"BasicTicker\"}},\"id\":\"2b7a79c8-4e2d-4db1-b2b3-f90a2755ed87\",\"type\":\"Grid\"},{\"attributes\":{\"formatter\":{\"id\":\"9ade19fc-fe0a-4dd1-9fff-75c25f5d1193\",\"type\":\"BasicTickFormatter\"},\"plot\":{\"id\":\"b7c3fbb0-1a58-40da-9f74-b04a5153f660\",\"subtype\":\"Figure\",\"type\":\"Plot\"},\"ticker\":{\"id\":\"02d9364e-d872-4897-8e64-287bcf4ed736\",\"type\":\"BasicTicker\"}},\"id\":\"7560406d-b17a-43de-953e-429c18912083\",\"type\":\"LinearAxis\"},{\"attributes\":{},\"id\":\"02d9364e-d872-4897-8e64-287bcf4ed736\",\"type\":\"BasicTicker\"},{\"attributes\":{\"fill_alpha\":{\"value\":0.1},\"fill_color\":{\"value\":\"#1f77b4\"},\"line_alpha\":{\"value\":0.1},\"line_color\":{\"value\":\"#1f77b4\"},\"size\":{\"units\":\"screen\",\"value\":20},\"x\":{\"field\":\"x\"},\"y\":{\"field\":\"y\"}},\"id\":\"575b609f-de16-49ef-8b00-646d75aa3961\",\"type\":\"Circle\"},{\"attributes\":{\"formatter\":{\"id\":\"bdf86f83-df6e-43f5-b87b-4845eec398bd\",\"type\":\"BasicTickFormatter\"},\"plot\":{\"id\":\"b7c3fbb0-1a58-40da-9f74-b04a5153f660\",\"subtype\":\"Figure\",\"type\":\"Plot\"},\"ticker\":{\"id\":\"d5d1a3a2-7dab-4832-99e1-e25858f72ba3\",\"type\":\"BasicTicker\"}},\"id\":\"457aa52e-ac6e-4e37-a980-2e6429c76a16\",\"type\":\"LinearAxis\"},{\"attributes\":{},\"id\":\"d5d1a3a2-7dab-4832-99e1-e25858f72ba3\",\"type\":\"BasicTicker\"},{\"attributes\":{},\"id\":\"bdf86f83-df6e-43f5-b87b-4845eec398bd\",\"type\":\"BasicTickFormatter\"},{\"attributes\":{\"dimension\":1,\"plot\":{\"id\":\"b7c3fbb0-1a58-40da-9f74-b04a5153f660\",\"subtype\":\"Figure\",\"type\":\"Plot\"},\"ticker\":{\"id\":\"d5d1a3a2-7dab-4832-99e1-e25858f72ba3\",\"type\":\"BasicTicker\"}},\"id\":\"70574b6a-d241-4e55-b785-7fabc8c96640\",\"type\":\"Grid\"},{\"attributes\":{\"fill_alpha\":{\"value\":0.1},\"fill_color\":{\"value\":\"#1f77b4\"},\"line_alpha\":{\"value\":0.1},\"line_color\":{\"value\":\"#1f77b4\"},\"line_width\":{\"value\":2},\"size\":{\"units\":\"screen\",\"value\":20},\"x\":{\"field\":\"x\"},\"y\":{\"field\":\"y\"}},\"id\":\"865c08d0-601c-47eb-9275-59dda8750468\",\"type\":\"CircleX\"},{\"attributes\":{},\"id\":\"02a79a9b-ba26-43e7-921d-335cdd04c5d4\",\"type\":\"Selection\"},{\"attributes\":{\"source\":{\"id\":\"1153e0ff-f0ed-4331-a595-f852f7306f75\",\"type\":\"ColumnDataSource\"}},\"id\":\"1d718c4f-698c-4326-b750-4649ec3b139b\",\"type\":\"CDSView\"},{\"attributes\":{\"data_source\":{\"id\":\"b4a1af3f-8d39-4c88-8cc5-ca3342149600\",\"type\":\"ColumnDataSource\"},\"glyph\":{\"id\":\"05867221-7778-4b77-a955-1809504f7f42\",\"type\":\"Circle\"},\"hover_glyph\":null,\"muted_glyph\":null,\"nonselection_glyph\":{\"id\":\"575b609f-de16-49ef-8b00-646d75aa3961\",\"type\":\"Circle\"},\"selection_glyph\":null,\"view\":{\"id\":\"838e6948-753a-4406-9459-7e7255976d3a\",\"type\":\"CDSView\"}},\"id\":\"18e826b6-512b-4257-9506-a5ae27e36df0\",\"type\":\"GlyphRenderer\"},{\"attributes\":{},\"id\":\"ec219e18-4888-47ef-92ea-b3713768614e\",\"type\":\"Selection\"},{\"attributes\":{},\"id\":\"be008236-88b3-4f77-bb21-ae1cecb99216\",\"type\":\"UnionRenderers\"},{\"attributes\":{\"fill_alpha\":{\"value\":0.6},\"fill_color\":{\"value\":\"green\"},\"line_color\":{\"value\":\"#1f77b4\"},\"line_width\":{\"value\":2},\"size\":{\"units\":\"screen\",\"value\":20},\"x\":{\"field\":\"x\"},\"y\":{\"field\":\"y\"}},\"id\":\"bc25789b-a244-4cef-8b5e-4e33fc09434d\",\"type\":\"CircleX\"},{\"attributes\":{\"bottom_units\":\"screen\",\"fill_alpha\":{\"value\":0.5},\"fill_color\":{\"value\":\"lightgrey\"},\"left_units\":\"screen\",\"level\":\"overlay\",\"line_alpha\":{\"value\":1.0},\"line_color\":{\"value\":\"black\"},\"line_dash\":[4,4],\"line_width\":{\"value\":2},\"plot\":null,\"render_mode\":\"css\",\"right_units\":\"screen\",\"top_units\":\"screen\"},\"id\":\"4f262193-64c3-4b90-94a4-5f9f54a5a4a8\",\"type\":\"BoxAnnotation\"},{\"attributes\":{\"source\":{\"id\":\"50f64e13-469c-4e37-934d-a6d6e3d371ad\",\"type\":\"ColumnDataSource\"}},\"id\":\"de2004f8-cc2b-40bb-991b-370e20dda058\",\"type\":\"CDSView\"},{\"attributes\":{},\"id\":\"cffdcb1a-2388-419c-ad18-7da9fdd59055\",\"type\":\"PanTool\"},{\"attributes\":{},\"id\":\"8c402bea-ff51-458c-b187-f4396ea42359\",\"type\":\"WheelZoomTool\"},{\"attributes\":{\"overlay\":{\"id\":\"4f262193-64c3-4b90-94a4-5f9f54a5a4a8\",\"type\":\"BoxAnnotation\"}},\"id\":\"7c9b4896-dae9-4f31-91dd-89bc0a5185a9\",\"type\":\"BoxZoomTool\"},{\"attributes\":{},\"id\":\"eae90167-169e-42d5-b941-75d1597d3750\",\"type\":\"Selection\"},{\"attributes\":{\"fill_color\":{\"value\":\"red\"},\"line_color\":{\"value\":\"#1f77b4\"},\"size\":{\"units\":\"screen\",\"value\":20},\"x\":{\"field\":\"x\"},\"y\":{\"field\":\"y\"}},\"id\":\"05867221-7778-4b77-a955-1809504f7f42\",\"type\":\"Circle\"},{\"attributes\":{},\"id\":\"db4d40fb-797b-40dc-936d-1fd4e03821f1\",\"type\":\"SaveTool\"},{\"attributes\":{},\"id\":\"7d38ebd0-4fd3-4dfc-bac2-9ce5c123a063\",\"type\":\"ResetTool\"},{\"attributes\":{},\"id\":\"28dc6d4e-02ff-45ac-ad22-c7ca14c88161\",\"type\":\"HelpTool\"},{\"attributes\":{\"data_source\":{\"id\":\"1153e0ff-f0ed-4331-a595-f852f7306f75\",\"type\":\"ColumnDataSource\"},\"glyph\":{\"id\":\"bc25789b-a244-4cef-8b5e-4e33fc09434d\",\"type\":\"CircleX\"},\"hover_glyph\":null,\"muted_glyph\":null,\"nonselection_glyph\":{\"id\":\"865c08d0-601c-47eb-9275-59dda8750468\",\"type\":\"CircleX\"},\"selection_glyph\":null,\"view\":{\"id\":\"1d718c4f-698c-4326-b750-4649ec3b139b\",\"type\":\"CDSView\"}},\"id\":\"fca86c81-1ac3-40d9-8cab-db33101dd337\",\"type\":\"GlyphRenderer\"},{\"attributes\":{},\"id\":\"c32e0538-b1d0-4b6c-a534-12c1fe73b210\",\"type\":\"UnionRenderers\"},{\"attributes\":{},\"id\":\"9ade19fc-fe0a-4dd1-9fff-75c25f5d1193\",\"type\":\"BasicTickFormatter\"}],\"root_ids\":[\"b7c3fbb0-1a58-40da-9f74-b04a5153f660\"]},\"title\":\"Bokeh Application\",\"version\":\"0.12.16\"}};\n",
       "  var render_items = [{\"docid\":\"f467029f-795c-424a-8a91-8b0c2b9bc6c1\",\"elementid\":\"3f8db94b-7eab-4a14-8baf-d1c997c91ac3\",\"modelid\":\"b7c3fbb0-1a58-40da-9f74-b04a5153f660\"}];\n",
       "  root.Bokeh.embed.embed_items_notebook(docs_json, render_items);\n",
       "\n",
       "  }\n",
       "  if (root.Bokeh !== undefined) {\n",
       "    embed_document(root);\n",
       "  } else {\n",
       "    var attempts = 0;\n",
       "    var timer = setInterval(function(root) {\n",
       "      if (root.Bokeh !== undefined) {\n",
       "        embed_document(root);\n",
       "        clearInterval(timer);\n",
       "      }\n",
       "      attempts++;\n",
       "      if (attempts > 100) {\n",
       "        console.log(\"Bokeh: ERROR: Unable to run BokehJS code because BokehJS library is missing\")\n",
       "        clearInterval(timer);\n",
       "      }\n",
       "    }, 10, root)\n",
       "  }\n",
       "})(window);"
      ],
      "application/vnd.bokehjs_exec.v0+json": ""
     },
     "metadata": {
      "application/vnd.bokehjs_exec.v0+json": {
       "id": "b7c3fbb0-1a58-40da-9f74-b04a5153f660"
      }
     },
     "output_type": "display_data"
    }
   ],
   "source": [
    "#Circle plots\n",
    "from bokeh.plotting import figure, output_file, show\n",
    "plot = figure(plot_width=300, plot_height=300)\n",
    "plot.circle(x=[1, 2, 3], y=[3,7,5], size=20, fill_color='red')\n",
    "plot.circle_cross(x=[2,4,6], y=[5,8,9], size=20,\n",
    "fill_color='blue',fill_alpha=0.2, line_width=2)\n",
    "plot.circle_x(x=[5,7,2], y=[2,4,9], size=20, fill_color='green',fill_alpha=0.6,\n",
    "line_width=2)\n",
    "show(plot)\n"
   ]
  },
  {
   "cell_type": "code",
   "execution_count": 23,
   "metadata": {},
   "outputs": [
    {
     "data": {
      "text/html": [
       "\n",
       "<div class=\"bk-root\">\n",
       "    <div class=\"bk-plotdiv\" id=\"094e76d7-8b35-49bb-904a-b14b1460354d\"></div>\n",
       "</div>"
      ]
     },
     "metadata": {},
     "output_type": "display_data"
    },
    {
     "data": {
      "application/javascript": [
       "(function(root) {\n",
       "  function embed_document(root) {\n",
       "    \n",
       "  var docs_json = {\"5f93c85e-2f7e-475e-baa2-b9751ae06e62\":{\"roots\":{\"references\":[{\"attributes\":{},\"id\":\"d530f4c8-1013-4c91-8cd0-e720356942c1\",\"type\":\"UnionRenderers\"},{\"attributes\":{},\"id\":\"f9699b00-9288-44ba-ad01-d017b03c8f10\",\"type\":\"BasicTicker\"},{\"attributes\":{},\"id\":\"f4e24a07-fb27-4cfa-aad4-a9e5290f03c4\",\"type\":\"Selection\"},{\"attributes\":{},\"id\":\"224cb4bd-0786-4625-8e30-754d6fe3cba2\",\"type\":\"Selection\"},{\"attributes\":{\"fill_color\":{\"value\":null},\"height\":{\"units\":\"data\",\"value\":10},\"line_color\":{\"value\":\"#1f77b4\"},\"line_width\":{\"value\":2},\"width\":{\"units\":\"data\",\"value\":30},\"x\":{\"value\":7},\"y\":{\"value\":6}},\"id\":\"3ed57fbf-0e46-4fee-82cf-13211b92fef8\",\"type\":\"Ellipse\"},{\"attributes\":{\"callback\":null},\"id\":\"61b7350f-b72c-4ed3-871d-1cc6d495eeb6\",\"type\":\"DataRange1d\"},{\"attributes\":{\"data_source\":{\"id\":\"1fc47714-8131-48d6-b531-989d81d182d0\",\"type\":\"ColumnDataSource\"},\"glyph\":{\"id\":\"7d72f21a-6bb1-4298-be61-166929ba9d0e\",\"type\":\"Rect\"},\"hover_glyph\":null,\"muted_glyph\":null,\"nonselection_glyph\":{\"id\":\"5de2f1a9-7481-4b09-99f7-3716485f8674\",\"type\":\"Rect\"},\"selection_glyph\":null,\"view\":{\"id\":\"05ba1f33-9f3a-4e21-b560-991a60e3ea1a\",\"type\":\"CDSView\"}},\"id\":\"efa9542f-d94d-45fd-b0d1-f2f18df55893\",\"type\":\"GlyphRenderer\"},{\"attributes\":{},\"id\":\"71f663ee-eebb-4b76-b984-5267363879aa\",\"type\":\"LinearScale\"},{\"attributes\":{\"dimension\":1,\"plot\":{\"id\":\"6bdf3154-8ead-438e-868f-3c02b9d59711\",\"subtype\":\"Figure\",\"type\":\"Plot\"},\"ticker\":{\"id\":\"f9699b00-9288-44ba-ad01-d017b03c8f10\",\"type\":\"BasicTicker\"}},\"id\":\"a415412d-5398-4f1e-a09e-5fb3fd2df2e7\",\"type\":\"Grid\"},{\"attributes\":{\"bottom_units\":\"screen\",\"fill_alpha\":{\"value\":0.5},\"fill_color\":{\"value\":\"lightgrey\"},\"left_units\":\"screen\",\"level\":\"overlay\",\"line_alpha\":{\"value\":1.0},\"line_color\":{\"value\":\"black\"},\"line_dash\":[4,4],\"line_width\":{\"value\":2},\"plot\":null,\"render_mode\":\"css\",\"right_units\":\"screen\",\"top_units\":\"screen\"},\"id\":\"6d4e1355-129b-404a-9b17-3d6d04e99d67\",\"type\":\"BoxAnnotation\"},{\"attributes\":{},\"id\":\"022a2596-996c-40bb-a51f-7662e670e91b\",\"type\":\"Selection\"},{\"attributes\":{\"source\":{\"id\":\"1fc47714-8131-48d6-b531-989d81d182d0\",\"type\":\"ColumnDataSource\"}},\"id\":\"05ba1f33-9f3a-4e21-b560-991a60e3ea1a\",\"type\":\"CDSView\"},{\"attributes\":{},\"id\":\"fa390ff1-3383-4a77-b9f9-c0fb3bf9bd74\",\"type\":\"PanTool\"},{\"attributes\":{},\"id\":\"631772bf-3fac-4fef-bc76-545ff4642aa4\",\"type\":\"WheelZoomTool\"},{\"attributes\":{\"callback\":null,\"data\":{},\"selected\":{\"id\":\"f4e24a07-fb27-4cfa-aad4-a9e5290f03c4\",\"type\":\"Selection\"},\"selection_policy\":{\"id\":\"a52a3378-d523-4e03-9131-bfd86a3ffaca\",\"type\":\"UnionRenderers\"}},\"id\":\"23968517-ddf0-4ede-858a-1bfeda3ee39b\",\"type\":\"ColumnDataSource\"},{\"attributes\":{\"formatter\":{\"id\":\"cdd533ca-4323-4dcd-afa6-9d8d471b87b9\",\"type\":\"BasicTickFormatter\"},\"plot\":{\"id\":\"6bdf3154-8ead-438e-868f-3c02b9d59711\",\"subtype\":\"Figure\",\"type\":\"Plot\"},\"ticker\":{\"id\":\"f9699b00-9288-44ba-ad01-d017b03c8f10\",\"type\":\"BasicTicker\"}},\"id\":\"7713da5a-3c0a-42af-b3bd-9bba952c05b5\",\"type\":\"LinearAxis\"},{\"attributes\":{\"overlay\":{\"id\":\"6d4e1355-129b-404a-9b17-3d6d04e99d67\",\"type\":\"BoxAnnotation\"}},\"id\":\"1f74e795-e64e-4cf6-8411-6032086ddf69\",\"type\":\"BoxZoomTool\"},{\"attributes\":{\"fill_alpha\":{\"value\":0.1},\"fill_color\":{\"value\":\"#1f77b4\"},\"line_alpha\":{\"value\":0.1},\"line_color\":{\"value\":\"#1f77b4\"},\"size\":{\"units\":\"screen\",\"value\":80},\"x\":{\"value\":2},\"y\":{\"value\":3}},\"id\":\"13620e07-db73-4072-baf9-8e273a43e8a7\",\"type\":\"Square\"},{\"attributes\":{},\"id\":\"020b9178-9b08-4ece-8b9a-72560d60635f\",\"type\":\"UnionRenderers\"},{\"attributes\":{},\"id\":\"33ad59e5-3f4d-4581-9ec2-16b55a82265c\",\"type\":\"HelpTool\"},{\"attributes\":{},\"id\":\"18275de2-65f2-4322-ad46-a67f04b6a5a3\",\"type\":\"ResetTool\"},{\"attributes\":{},\"id\":\"543b90fe-0a3a-4308-850d-7455c878280f\",\"type\":\"SaveTool\"},{\"attributes\":{\"fill_alpha\":{\"value\":0.1},\"fill_color\":{\"value\":\"#1f77b4\"},\"height\":{\"units\":\"data\",\"value\":10},\"line_alpha\":{\"value\":0.1},\"line_color\":{\"value\":\"#1f77b4\"},\"line_width\":{\"value\":2},\"width\":{\"units\":\"data\",\"value\":30},\"x\":{\"value\":7},\"y\":{\"value\":6}},\"id\":\"a57077b3-ff15-4538-a398-e9ab06972894\",\"type\":\"Ellipse\"},{\"attributes\":{\"source\":{\"id\":\"56237261-cb29-4607-b149-678428c0d613\",\"type\":\"ColumnDataSource\"}},\"id\":\"53ad09ed-9876-4d9c-bcee-c7c77942b000\",\"type\":\"CDSView\"},{\"attributes\":{\"fill_color\":{\"value\":\"#1f77b4\"},\"height\":{\"units\":\"screen\",\"value\":50},\"line_color\":{\"value\":\"#1f77b4\"},\"width\":{\"units\":\"screen\",\"value\":100},\"x\":{\"value\":10},\"y\":{\"value\":10}},\"id\":\"7d72f21a-6bb1-4298-be61-166929ba9d0e\",\"type\":\"Rect\"},{\"attributes\":{\"data_source\":{\"id\":\"ad235fba-3c21-42dc-b6a7-2b772b3ef829\",\"type\":\"ColumnDataSource\"},\"glyph\":{\"id\":\"294d5f22-16b5-4ab2-9caa-b0f5b07c3a57\",\"type\":\"Oval\"},\"hover_glyph\":null,\"muted_glyph\":null,\"nonselection_glyph\":{\"id\":\"0ec8c182-76e0-40ea-a534-7d39dc47532d\",\"type\":\"Oval\"},\"selection_glyph\":null,\"view\":{\"id\":\"0900f315-d933-48e5-a989-1e6dde7b5922\",\"type\":\"CDSView\"}},\"id\":\"070a9470-bf05-442b-9cda-6a517d1391b6\",\"type\":\"GlyphRenderer\"},{\"attributes\":{\"active_drag\":\"auto\",\"active_inspect\":\"auto\",\"active_scroll\":\"auto\",\"active_tap\":\"auto\",\"tools\":[{\"id\":\"fa390ff1-3383-4a77-b9f9-c0fb3bf9bd74\",\"type\":\"PanTool\"},{\"id\":\"631772bf-3fac-4fef-bc76-545ff4642aa4\",\"type\":\"WheelZoomTool\"},{\"id\":\"1f74e795-e64e-4cf6-8411-6032086ddf69\",\"type\":\"BoxZoomTool\"},{\"id\":\"543b90fe-0a3a-4308-850d-7455c878280f\",\"type\":\"SaveTool\"},{\"id\":\"18275de2-65f2-4322-ad46-a67f04b6a5a3\",\"type\":\"ResetTool\"},{\"id\":\"33ad59e5-3f4d-4581-9ec2-16b55a82265c\",\"type\":\"HelpTool\"}]},\"id\":\"92ba36e8-b929-461c-ac26-e92ebece9a79\",\"type\":\"Toolbar\"},{\"attributes\":{\"source\":{\"id\":\"23968517-ddf0-4ede-858a-1bfeda3ee39b\",\"type\":\"ColumnDataSource\"}},\"id\":\"b30e765a-1006-4e09-93ca-f80c15a80965\",\"type\":\"CDSView\"},{\"attributes\":{\"fill_alpha\":{\"value\":0.1},\"fill_color\":{\"value\":\"#1f77b4\"},\"height\":{\"units\":\"screen\",\"value\":50},\"line_alpha\":{\"value\":0.1},\"line_color\":{\"value\":\"#1f77b4\"},\"width\":{\"units\":\"screen\",\"value\":100},\"x\":{\"value\":10},\"y\":{\"value\":10}},\"id\":\"5de2f1a9-7481-4b09-99f7-3716485f8674\",\"type\":\"Rect\"},{\"attributes\":{\"data_source\":{\"id\":\"56237261-cb29-4607-b149-678428c0d613\",\"type\":\"ColumnDataSource\"},\"glyph\":{\"id\":\"006542fe-79b5-4feb-97b0-c12c8c6348ed\",\"type\":\"Square\"},\"hover_glyph\":null,\"muted_glyph\":null,\"nonselection_glyph\":{\"id\":\"13620e07-db73-4072-baf9-8e273a43e8a7\",\"type\":\"Square\"},\"selection_glyph\":null,\"view\":{\"id\":\"53ad09ed-9876-4d9c-bcee-c7c77942b000\",\"type\":\"CDSView\"}},\"id\":\"ac30ec1b-7d47-4d35-8eae-3eb689f3d330\",\"type\":\"GlyphRenderer\"},{\"attributes\":{\"callback\":null,\"data\":{},\"selected\":{\"id\":\"022a2596-996c-40bb-a51f-7662e670e91b\",\"type\":\"Selection\"},\"selection_policy\":{\"id\":\"020b9178-9b08-4ece-8b9a-72560d60635f\",\"type\":\"UnionRenderers\"}},\"id\":\"56237261-cb29-4607-b149-678428c0d613\",\"type\":\"ColumnDataSource\"},{\"attributes\":{\"fill_color\":{\"value\":\"red\"},\"line_color\":{\"value\":\"red\"},\"size\":{\"units\":\"screen\",\"value\":80},\"x\":{\"value\":2},\"y\":{\"value\":3}},\"id\":\"006542fe-79b5-4feb-97b0-c12c8c6348ed\",\"type\":\"Square\"},{\"attributes\":{\"angle\":{\"units\":\"rad\",\"value\":-0.4},\"fill_alpha\":{\"value\":0.1},\"fill_color\":{\"value\":\"#1f77b4\"},\"height\":{\"units\":\"data\",\"value\":1},\"line_alpha\":{\"value\":0.1},\"line_color\":{\"value\":\"#1f77b4\"},\"width\":{\"units\":\"data\",\"value\":2},\"x\":{\"value\":6},\"y\":{\"value\":6}},\"id\":\"0ec8c182-76e0-40ea-a534-7d39dc47532d\",\"type\":\"Oval\"},{\"attributes\":{\"data_source\":{\"id\":\"23968517-ddf0-4ede-858a-1bfeda3ee39b\",\"type\":\"ColumnDataSource\"},\"glyph\":{\"id\":\"3ed57fbf-0e46-4fee-82cf-13211b92fef8\",\"type\":\"Ellipse\"},\"hover_glyph\":null,\"muted_glyph\":null,\"nonselection_glyph\":{\"id\":\"a57077b3-ff15-4538-a398-e9ab06972894\",\"type\":\"Ellipse\"},\"selection_glyph\":null,\"view\":{\"id\":\"b30e765a-1006-4e09-93ca-f80c15a80965\",\"type\":\"CDSView\"}},\"id\":\"13c3433a-dbbe-4cc3-b0c7-e36ce8542a21\",\"type\":\"GlyphRenderer\"},{\"attributes\":{},\"id\":\"cdd533ca-4323-4dcd-afa6-9d8d471b87b9\",\"type\":\"BasicTickFormatter\"},{\"attributes\":{\"source\":{\"id\":\"ad235fba-3c21-42dc-b6a7-2b772b3ef829\",\"type\":\"ColumnDataSource\"}},\"id\":\"0900f315-d933-48e5-a989-1e6dde7b5922\",\"type\":\"CDSView\"},{\"attributes\":{\"plot\":{\"id\":\"6bdf3154-8ead-438e-868f-3c02b9d59711\",\"subtype\":\"Figure\",\"type\":\"Plot\"},\"ticker\":{\"id\":\"a39fe649-e6ec-4e93-bba3-f846fc905db1\",\"type\":\"BasicTicker\"}},\"id\":\"84bc96d6-1de1-4132-bf8c-eb34bc9ab370\",\"type\":\"Grid\"},{\"attributes\":{\"angle\":{\"units\":\"rad\",\"value\":-0.4},\"fill_color\":{\"value\":\"#1f77b4\"},\"height\":{\"units\":\"data\",\"value\":1},\"line_color\":{\"value\":\"#1f77b4\"},\"width\":{\"units\":\"data\",\"value\":2},\"x\":{\"value\":6},\"y\":{\"value\":6}},\"id\":\"294d5f22-16b5-4ab2-9caa-b0f5b07c3a57\",\"type\":\"Oval\"},{\"attributes\":{\"plot\":null,\"text\":\"\"},\"id\":\"6585acc7-8aa9-4d64-b804-f7ff4a52fd10\",\"type\":\"Title\"},{\"attributes\":{},\"id\":\"c0642301-b933-4b68-91fe-655b14e3d786\",\"type\":\"Selection\"},{\"attributes\":{},\"id\":\"f0dd14f9-3669-4bf4-bab9-f78bacfce69e\",\"type\":\"UnionRenderers\"},{\"attributes\":{},\"id\":\"ffb966a8-2e0a-49d4-a106-baa55efc119a\",\"type\":\"BasicTickFormatter\"},{\"attributes\":{\"callback\":null},\"id\":\"625d808c-1889-49f4-8bef-4f45e51056e3\",\"type\":\"DataRange1d\"},{\"attributes\":{\"callback\":null,\"data\":{},\"selected\":{\"id\":\"c0642301-b933-4b68-91fe-655b14e3d786\",\"type\":\"Selection\"},\"selection_policy\":{\"id\":\"f0dd14f9-3669-4bf4-bab9-f78bacfce69e\",\"type\":\"UnionRenderers\"}},\"id\":\"ad235fba-3c21-42dc-b6a7-2b772b3ef829\",\"type\":\"ColumnDataSource\"},{\"attributes\":{},\"id\":\"a52a3378-d523-4e03-9131-bfd86a3ffaca\",\"type\":\"UnionRenderers\"},{\"attributes\":{},\"id\":\"ccec65b4-80e3-4bab-800e-ecfce09d7cb2\",\"type\":\"LinearScale\"},{\"attributes\":{\"below\":[{\"id\":\"112e5248-fb86-429a-8e74-655fa4bdc82e\",\"type\":\"LinearAxis\"}],\"left\":[{\"id\":\"7713da5a-3c0a-42af-b3bd-9bba952c05b5\",\"type\":\"LinearAxis\"}],\"plot_height\":300,\"plot_width\":300,\"renderers\":[{\"id\":\"112e5248-fb86-429a-8e74-655fa4bdc82e\",\"type\":\"LinearAxis\"},{\"id\":\"84bc96d6-1de1-4132-bf8c-eb34bc9ab370\",\"type\":\"Grid\"},{\"id\":\"7713da5a-3c0a-42af-b3bd-9bba952c05b5\",\"type\":\"LinearAxis\"},{\"id\":\"a415412d-5398-4f1e-a09e-5fb3fd2df2e7\",\"type\":\"Grid\"},{\"id\":\"6d4e1355-129b-404a-9b17-3d6d04e99d67\",\"type\":\"BoxAnnotation\"},{\"id\":\"efa9542f-d94d-45fd-b0d1-f2f18df55893\",\"type\":\"GlyphRenderer\"},{\"id\":\"ac30ec1b-7d47-4d35-8eae-3eb689f3d330\",\"type\":\"GlyphRenderer\"},{\"id\":\"13c3433a-dbbe-4cc3-b0c7-e36ce8542a21\",\"type\":\"GlyphRenderer\"},{\"id\":\"070a9470-bf05-442b-9cda-6a517d1391b6\",\"type\":\"GlyphRenderer\"}],\"title\":{\"id\":\"6585acc7-8aa9-4d64-b804-f7ff4a52fd10\",\"type\":\"Title\"},\"toolbar\":{\"id\":\"92ba36e8-b929-461c-ac26-e92ebece9a79\",\"type\":\"Toolbar\"},\"x_range\":{\"id\":\"61b7350f-b72c-4ed3-871d-1cc6d495eeb6\",\"type\":\"DataRange1d\"},\"x_scale\":{\"id\":\"71f663ee-eebb-4b76-b984-5267363879aa\",\"type\":\"LinearScale\"},\"y_range\":{\"id\":\"625d808c-1889-49f4-8bef-4f45e51056e3\",\"type\":\"DataRange1d\"},\"y_scale\":{\"id\":\"ccec65b4-80e3-4bab-800e-ecfce09d7cb2\",\"type\":\"LinearScale\"}},\"id\":\"6bdf3154-8ead-438e-868f-3c02b9d59711\",\"subtype\":\"Figure\",\"type\":\"Plot\"},{\"attributes\":{},\"id\":\"a39fe649-e6ec-4e93-bba3-f846fc905db1\",\"type\":\"BasicTicker\"},{\"attributes\":{\"formatter\":{\"id\":\"ffb966a8-2e0a-49d4-a106-baa55efc119a\",\"type\":\"BasicTickFormatter\"},\"plot\":{\"id\":\"6bdf3154-8ead-438e-868f-3c02b9d59711\",\"subtype\":\"Figure\",\"type\":\"Plot\"},\"ticker\":{\"id\":\"a39fe649-e6ec-4e93-bba3-f846fc905db1\",\"type\":\"BasicTicker\"}},\"id\":\"112e5248-fb86-429a-8e74-655fa4bdc82e\",\"type\":\"LinearAxis\"},{\"attributes\":{\"callback\":null,\"data\":{},\"selected\":{\"id\":\"224cb4bd-0786-4625-8e30-754d6fe3cba2\",\"type\":\"Selection\"},\"selection_policy\":{\"id\":\"d530f4c8-1013-4c91-8cd0-e720356942c1\",\"type\":\"UnionRenderers\"}},\"id\":\"1fc47714-8131-48d6-b531-989d81d182d0\",\"type\":\"ColumnDataSource\"}],\"root_ids\":[\"6bdf3154-8ead-438e-868f-3c02b9d59711\"]},\"title\":\"Bokeh Application\",\"version\":\"0.12.16\"}};\n",
       "  var render_items = [{\"docid\":\"5f93c85e-2f7e-475e-baa2-b9751ae06e62\",\"elementid\":\"094e76d7-8b35-49bb-904a-b14b1460354d\",\"modelid\":\"6bdf3154-8ead-438e-868f-3c02b9d59711\"}];\n",
       "  root.Bokeh.embed.embed_items_notebook(docs_json, render_items);\n",
       "\n",
       "  }\n",
       "  if (root.Bokeh !== undefined) {\n",
       "    embed_document(root);\n",
       "  } else {\n",
       "    var attempts = 0;\n",
       "    var timer = setInterval(function(root) {\n",
       "      if (root.Bokeh !== undefined) {\n",
       "        embed_document(root);\n",
       "        clearInterval(timer);\n",
       "      }\n",
       "      attempts++;\n",
       "      if (attempts > 100) {\n",
       "        console.log(\"Bokeh: ERROR: Unable to run BokehJS code because BokehJS library is missing\")\n",
       "        clearInterval(timer);\n",
       "      }\n",
       "    }, 10, root)\n",
       "  }\n",
       "})(window);"
      ],
      "application/vnd.bokehjs_exec.v0+json": ""
     },
     "metadata": {
      "application/vnd.bokehjs_exec.v0+json": {
       "id": "6bdf3154-8ead-438e-868f-3c02b9d59711"
      }
     },
     "output_type": "display_data"
    }
   ],
   "source": [
    "# Rectangle, Oval, and Polygon\n",
    "from bokeh.plotting import figure, output_file, show\n",
    "fig = figure(plot_width=300, plot_height=300)\n",
    "fig.rect(x=10,y=10,width=100, height=50, width_units='screen',\n",
    "height_units='screen')\n",
    "fig.square(x=2,y=3,size=80, color='red')\n",
    "fig.ellipse(x=7,y=6, width=30, height=10, fill_color=None, line_width=2)\n",
    "fig.oval(x=6,y=6,width=2, height=1, angle=-0.4)\n",
    "show(fig)\n"
   ]
  },
  {
   "cell_type": "code",
   "execution_count": 24,
   "metadata": {},
   "outputs": [
    {
     "data": {
      "text/html": [
       "\n",
       "<div class=\"bk-root\">\n",
       "    <div class=\"bk-plotdiv\" id=\"1d820036-ebc4-4f13-b359-579922e906b4\"></div>\n",
       "</div>"
      ]
     },
     "metadata": {},
     "output_type": "display_data"
    },
    {
     "data": {
      "application/javascript": [
       "(function(root) {\n",
       "  function embed_document(root) {\n",
       "    \n",
       "  var docs_json = {\"47d681fc-3b45-400c-8ac2-caef1fd93ba5\":{\"roots\":{\"references\":[{\"attributes\":{},\"id\":\"9b274361-a95a-4ac5-bda5-eeb76f99b5b0\",\"type\":\"HelpTool\"},{\"attributes\":{\"source\":{\"id\":\"eb823422-90f9-4b99-a562-d7bd695f3f3c\",\"type\":\"ColumnDataSource\"}},\"id\":\"db05b5ac-7e4d-4169-ad81-202a459170d4\",\"type\":\"CDSView\"},{\"attributes\":{},\"id\":\"5464a489-9563-441e-b94e-990930688877\",\"type\":\"ResetTool\"},{\"attributes\":{\"active_drag\":\"auto\",\"active_inspect\":\"auto\",\"active_scroll\":\"auto\",\"active_tap\":\"auto\",\"tools\":[{\"id\":\"337d8c5d-fb34-4ac8-8da0-81e04c1ef1fc\",\"type\":\"PanTool\"},{\"id\":\"db0aebbd-7332-49da-afbd-55acef721bc2\",\"type\":\"WheelZoomTool\"},{\"id\":\"213733bd-b8d3-4024-acd4-0f69a5d72f99\",\"type\":\"BoxZoomTool\"},{\"id\":\"99924ba1-8f87-4b03-9f55-9ab03bb4f695\",\"type\":\"SaveTool\"},{\"id\":\"5464a489-9563-441e-b94e-990930688877\",\"type\":\"ResetTool\"},{\"id\":\"9b274361-a95a-4ac5-bda5-eeb76f99b5b0\",\"type\":\"HelpTool\"}]},\"id\":\"2225558e-3548-498c-8c67-0ea230bcb628\",\"type\":\"Toolbar\"},{\"attributes\":{\"data_source\":{\"id\":\"1eea25e2-c569-49b2-b62b-614b9decd24a\",\"type\":\"ColumnDataSource\"},\"glyph\":{\"id\":\"80027824-a241-47c1-89b3-def097d3cb2e\",\"type\":\"Wedge\"},\"hover_glyph\":null,\"muted_glyph\":null,\"nonselection_glyph\":{\"id\":\"70d302bc-62ef-401f-b873-f9fe634f1bbf\",\"type\":\"Wedge\"},\"selection_glyph\":null,\"view\":{\"id\":\"ad43fa62-1c32-42fd-8f38-564a93e14061\",\"type\":\"CDSView\"}},\"id\":\"8b79624e-6af3-4864-abf4-cbafa4698341\",\"type\":\"GlyphRenderer\"},{\"attributes\":{\"source\":{\"id\":\"d0eb1fec-9434-40b9-9044-6e5df0adf6bb\",\"type\":\"ColumnDataSource\"}},\"id\":\"7e98ffb2-8f72-41b1-b87d-d7673efc3820\",\"type\":\"CDSView\"},{\"attributes\":{},\"id\":\"07b9d814-c51e-484a-9b1b-bdda00c3690c\",\"type\":\"LinearScale\"},{\"attributes\":{\"end_angle\":{\"units\":\"rad\",\"value\":4.5},\"fill_alpha\":{\"value\":0.6},\"fill_color\":{\"value\":\"green\"},\"inner_radius\":{\"units\":\"screen\",\"value\":100},\"line_alpha\":{\"value\":0.6},\"line_color\":{\"value\":\"green\"},\"outer_radius\":{\"units\":\"screen\",\"value\":75},\"start_angle\":{\"units\":\"rad\",\"value\":0.4},\"x\":{\"value\":3},\"y\":{\"value\":3}},\"id\":\"0f50bae6-3dcd-4612-aa23-f0e2420e9b7d\",\"type\":\"AnnularWedge\"},{\"attributes\":{},\"id\":\"a75edecd-b87b-485e-8033-dd9cdca6227e\",\"type\":\"BasicTicker\"},{\"attributes\":{},\"id\":\"99924ba1-8f87-4b03-9f55-9ab03bb4f695\",\"type\":\"SaveTool\"},{\"attributes\":{\"data_source\":{\"id\":\"d0eb1fec-9434-40b9-9044-6e5df0adf6bb\",\"type\":\"ColumnDataSource\"},\"glyph\":{\"id\":\"0f50bae6-3dcd-4612-aa23-f0e2420e9b7d\",\"type\":\"AnnularWedge\"},\"hover_glyph\":null,\"muted_glyph\":null,\"nonselection_glyph\":{\"id\":\"f9cedc21-28be-4d33-a20b-d432aafaba7b\",\"type\":\"AnnularWedge\"},\"selection_glyph\":null,\"view\":{\"id\":\"7e98ffb2-8f72-41b1-b87d-d7673efc3820\",\"type\":\"CDSView\"}},\"id\":\"cbce0caa-c3a0-4f90-b7a4-524eed1d9aa3\",\"type\":\"GlyphRenderer\"},{\"attributes\":{\"bottom_units\":\"screen\",\"fill_alpha\":{\"value\":0.5},\"fill_color\":{\"value\":\"lightgrey\"},\"left_units\":\"screen\",\"level\":\"overlay\",\"line_alpha\":{\"value\":1.0},\"line_color\":{\"value\":\"black\"},\"line_dash\":[4,4],\"line_width\":{\"value\":2},\"plot\":null,\"render_mode\":\"css\",\"right_units\":\"screen\",\"top_units\":\"screen\"},\"id\":\"e866df34-9c60-4ca4-a82e-d1091cfad75f\",\"type\":\"BoxAnnotation\"},{\"attributes\":{\"plot\":{\"id\":\"e8ce5f29-da06-4ebd-b9ac-db52976d2826\",\"subtype\":\"Figure\",\"type\":\"Plot\"},\"ticker\":{\"id\":\"04e149f6-5535-4067-810e-4fb106f3c598\",\"type\":\"BasicTicker\"}},\"id\":\"7cc95f56-3af0-4083-9ec3-74496648dc77\",\"type\":\"Grid\"},{\"attributes\":{\"source\":{\"id\":\"1eea25e2-c569-49b2-b62b-614b9decd24a\",\"type\":\"ColumnDataSource\"}},\"id\":\"ad43fa62-1c32-42fd-8f38-564a93e14061\",\"type\":\"CDSView\"},{\"attributes\":{\"formatter\":{\"id\":\"ffd9ea4d-928a-4bf5-9109-187f9c380746\",\"type\":\"BasicTickFormatter\"},\"plot\":{\"id\":\"e8ce5f29-da06-4ebd-b9ac-db52976d2826\",\"subtype\":\"Figure\",\"type\":\"Plot\"},\"ticker\":{\"id\":\"a75edecd-b87b-485e-8033-dd9cdca6227e\",\"type\":\"BasicTicker\"}},\"id\":\"605ebcd9-0c8d-4dcd-b830-12bf698ae7af\",\"type\":\"LinearAxis\"},{\"attributes\":{},\"id\":\"d3c41617-acb2-415a-be81-8b2cab4eabcb\",\"type\":\"Selection\"},{\"attributes\":{},\"id\":\"597fc46f-e016-4942-b30f-f79b8100500b\",\"type\":\"BasicTickFormatter\"},{\"attributes\":{\"callback\":null},\"id\":\"7b82fec5-760e-4602-b0e0-35a1b86131e2\",\"type\":\"DataRange1d\"},{\"attributes\":{},\"id\":\"ffd9ea4d-928a-4bf5-9109-187f9c380746\",\"type\":\"BasicTickFormatter\"},{\"attributes\":{\"dimension\":1,\"plot\":{\"id\":\"e8ce5f29-da06-4ebd-b9ac-db52976d2826\",\"subtype\":\"Figure\",\"type\":\"Plot\"},\"ticker\":{\"id\":\"a75edecd-b87b-485e-8033-dd9cdca6227e\",\"type\":\"BasicTicker\"}},\"id\":\"123cf5b1-98ba-4b74-8908-adaa50f5c947\",\"type\":\"Grid\"},{\"attributes\":{\"plot\":null,\"text\":\"\"},\"id\":\"05b9fc64-55ae-443e-a42b-1de8add899c4\",\"type\":\"Title\"},{\"attributes\":{\"formatter\":{\"id\":\"597fc46f-e016-4942-b30f-f79b8100500b\",\"type\":\"BasicTickFormatter\"},\"plot\":{\"id\":\"e8ce5f29-da06-4ebd-b9ac-db52976d2826\",\"subtype\":\"Figure\",\"type\":\"Plot\"},\"ticker\":{\"id\":\"04e149f6-5535-4067-810e-4fb106f3c598\",\"type\":\"BasicTicker\"}},\"id\":\"70c8cd76-a639-4530-8028-df179ace8a5a\",\"type\":\"LinearAxis\"},{\"attributes\":{},\"id\":\"55eee6e2-5577-4f8f-8aee-88cba4f5615e\",\"type\":\"UnionRenderers\"},{\"attributes\":{\"callback\":null,\"data\":{},\"selected\":{\"id\":\"d3c41617-acb2-415a-be81-8b2cab4eabcb\",\"type\":\"Selection\"},\"selection_policy\":{\"id\":\"55eee6e2-5577-4f8f-8aee-88cba4f5615e\",\"type\":\"UnionRenderers\"}},\"id\":\"1eea25e2-c569-49b2-b62b-614b9decd24a\",\"type\":\"ColumnDataSource\"},{\"attributes\":{},\"id\":\"b6ea4123-26f1-4e90-8ff1-389b426eb266\",\"type\":\"UnionRenderers\"},{\"attributes\":{\"end_angle\":{\"units\":\"rad\",\"value\":1.5707963267948966},\"line_color\":{\"value\":\"#1f77b4\"},\"radius\":{\"units\":\"screen\",\"value\":50},\"start_angle\":{\"units\":\"rad\",\"value\":0.0},\"x\":{\"value\":3},\"y\":{\"value\":3}},\"id\":\"1fb29ff0-b69f-475e-a11f-a47d21b0a5c6\",\"type\":\"Arc\"},{\"attributes\":{},\"id\":\"245c79ea-13d4-438f-8640-d9abeb3ce3ba\",\"type\":\"Selection\"},{\"attributes\":{},\"id\":\"3fa6af44-f724-4db6-b14c-d3b32cba482a\",\"type\":\"LinearScale\"},{\"attributes\":{},\"id\":\"5e96d65e-2120-497e-80b5-b411f16b42f3\",\"type\":\"UnionRenderers\"},{\"attributes\":{\"direction\":\"clock\",\"end_angle\":{\"units\":\"rad\",\"value\":3.141592653589793},\"fill_color\":{\"value\":\"#1f77b4\"},\"line_color\":{\"value\":\"#1f77b4\"},\"radius\":{\"units\":\"screen\",\"value\":30},\"start_angle\":{\"units\":\"rad\",\"value\":0},\"x\":{\"value\":3},\"y\":{\"value\":3}},\"id\":\"80027824-a241-47c1-89b3-def097d3cb2e\",\"type\":\"Wedge\"},{\"attributes\":{\"callback\":null},\"id\":\"aaeb22aa-db74-4729-a373-6d9d96cd43c6\",\"type\":\"DataRange1d\"},{\"attributes\":{\"data_source\":{\"id\":\"eb823422-90f9-4b99-a562-d7bd695f3f3c\",\"type\":\"ColumnDataSource\"},\"glyph\":{\"id\":\"1fb29ff0-b69f-475e-a11f-a47d21b0a5c6\",\"type\":\"Arc\"},\"hover_glyph\":null,\"muted_glyph\":null,\"nonselection_glyph\":{\"id\":\"df5d53b7-78a7-4496-9a3b-d361837295e6\",\"type\":\"Arc\"},\"selection_glyph\":null,\"view\":{\"id\":\"db05b5ac-7e4d-4169-ad81-202a459170d4\",\"type\":\"CDSView\"}},\"id\":\"3b120d74-e5df-4514-bc95-7ea5a43e0a65\",\"type\":\"GlyphRenderer\"},{\"attributes\":{},\"id\":\"db0aebbd-7332-49da-afbd-55acef721bc2\",\"type\":\"WheelZoomTool\"},{\"attributes\":{},\"id\":\"337d8c5d-fb34-4ac8-8da0-81e04c1ef1fc\",\"type\":\"PanTool\"},{\"attributes\":{},\"id\":\"143bc9ab-3ea8-46df-bcb8-7382e0722838\",\"type\":\"Selection\"},{\"attributes\":{\"overlay\":{\"id\":\"e866df34-9c60-4ca4-a82e-d1091cfad75f\",\"type\":\"BoxAnnotation\"}},\"id\":\"213733bd-b8d3-4024-acd4-0f69a5d72f99\",\"type\":\"BoxZoomTool\"},{\"attributes\":{\"callback\":null,\"data\":{},\"selected\":{\"id\":\"143bc9ab-3ea8-46df-bcb8-7382e0722838\",\"type\":\"Selection\"},\"selection_policy\":{\"id\":\"b6ea4123-26f1-4e90-8ff1-389b426eb266\",\"type\":\"UnionRenderers\"}},\"id\":\"d0eb1fec-9434-40b9-9044-6e5df0adf6bb\",\"type\":\"ColumnDataSource\"},{\"attributes\":{\"end_angle\":{\"units\":\"rad\",\"value\":4.5},\"fill_alpha\":{\"value\":0.1},\"fill_color\":{\"value\":\"#1f77b4\"},\"inner_radius\":{\"units\":\"screen\",\"value\":100},\"line_alpha\":{\"value\":0.1},\"line_color\":{\"value\":\"#1f77b4\"},\"outer_radius\":{\"units\":\"screen\",\"value\":75},\"start_angle\":{\"units\":\"rad\",\"value\":0.4},\"x\":{\"value\":3},\"y\":{\"value\":3}},\"id\":\"f9cedc21-28be-4d33-a20b-d432aafaba7b\",\"type\":\"AnnularWedge\"},{\"attributes\":{},\"id\":\"04e149f6-5535-4067-810e-4fb106f3c598\",\"type\":\"BasicTicker\"},{\"attributes\":{\"end_angle\":{\"units\":\"rad\",\"value\":1.5707963267948966},\"line_alpha\":{\"value\":0.1},\"line_color\":{\"value\":\"#1f77b4\"},\"radius\":{\"units\":\"screen\",\"value\":50},\"start_angle\":{\"units\":\"rad\",\"value\":0.0},\"x\":{\"value\":3},\"y\":{\"value\":3}},\"id\":\"df5d53b7-78a7-4496-9a3b-d361837295e6\",\"type\":\"Arc\"},{\"attributes\":{\"direction\":\"clock\",\"end_angle\":{\"units\":\"rad\",\"value\":3.141592653589793},\"fill_alpha\":{\"value\":0.1},\"fill_color\":{\"value\":\"#1f77b4\"},\"line_alpha\":{\"value\":0.1},\"line_color\":{\"value\":\"#1f77b4\"},\"radius\":{\"units\":\"screen\",\"value\":30},\"start_angle\":{\"units\":\"rad\",\"value\":0},\"x\":{\"value\":3},\"y\":{\"value\":3}},\"id\":\"70d302bc-62ef-401f-b873-f9fe634f1bbf\",\"type\":\"Wedge\"},{\"attributes\":{\"callback\":null,\"data\":{},\"selected\":{\"id\":\"245c79ea-13d4-438f-8640-d9abeb3ce3ba\",\"type\":\"Selection\"},\"selection_policy\":{\"id\":\"5e96d65e-2120-497e-80b5-b411f16b42f3\",\"type\":\"UnionRenderers\"}},\"id\":\"eb823422-90f9-4b99-a562-d7bd695f3f3c\",\"type\":\"ColumnDataSource\"},{\"attributes\":{\"below\":[{\"id\":\"70c8cd76-a639-4530-8028-df179ace8a5a\",\"type\":\"LinearAxis\"}],\"left\":[{\"id\":\"605ebcd9-0c8d-4dcd-b830-12bf698ae7af\",\"type\":\"LinearAxis\"}],\"plot_height\":300,\"plot_width\":300,\"renderers\":[{\"id\":\"70c8cd76-a639-4530-8028-df179ace8a5a\",\"type\":\"LinearAxis\"},{\"id\":\"7cc95f56-3af0-4083-9ec3-74496648dc77\",\"type\":\"Grid\"},{\"id\":\"605ebcd9-0c8d-4dcd-b830-12bf698ae7af\",\"type\":\"LinearAxis\"},{\"id\":\"123cf5b1-98ba-4b74-8908-adaa50f5c947\",\"type\":\"Grid\"},{\"id\":\"e866df34-9c60-4ca4-a82e-d1091cfad75f\",\"type\":\"BoxAnnotation\"},{\"id\":\"3b120d74-e5df-4514-bc95-7ea5a43e0a65\",\"type\":\"GlyphRenderer\"},{\"id\":\"8b79624e-6af3-4864-abf4-cbafa4698341\",\"type\":\"GlyphRenderer\"},{\"id\":\"cbce0caa-c3a0-4f90-b7a4-524eed1d9aa3\",\"type\":\"GlyphRenderer\"}],\"title\":{\"id\":\"05b9fc64-55ae-443e-a42b-1de8add899c4\",\"type\":\"Title\"},\"toolbar\":{\"id\":\"2225558e-3548-498c-8c67-0ea230bcb628\",\"type\":\"Toolbar\"},\"x_range\":{\"id\":\"aaeb22aa-db74-4729-a373-6d9d96cd43c6\",\"type\":\"DataRange1d\"},\"x_scale\":{\"id\":\"3fa6af44-f724-4db6-b14c-d3b32cba482a\",\"type\":\"LinearScale\"},\"y_range\":{\"id\":\"7b82fec5-760e-4602-b0e0-35a1b86131e2\",\"type\":\"DataRange1d\"},\"y_scale\":{\"id\":\"07b9d814-c51e-484a-9b1b-bdda00c3690c\",\"type\":\"LinearScale\"}},\"id\":\"e8ce5f29-da06-4ebd-b9ac-db52976d2826\",\"subtype\":\"Figure\",\"type\":\"Plot\"}],\"root_ids\":[\"e8ce5f29-da06-4ebd-b9ac-db52976d2826\"]},\"title\":\"Bokeh Application\",\"version\":\"0.12.16\"}};\n",
       "  var render_items = [{\"docid\":\"47d681fc-3b45-400c-8ac2-caef1fd93ba5\",\"elementid\":\"1d820036-ebc4-4f13-b359-579922e906b4\",\"modelid\":\"e8ce5f29-da06-4ebd-b9ac-db52976d2826\"}];\n",
       "  root.Bokeh.embed.embed_items_notebook(docs_json, render_items);\n",
       "\n",
       "  }\n",
       "  if (root.Bokeh !== undefined) {\n",
       "    embed_document(root);\n",
       "  } else {\n",
       "    var attempts = 0;\n",
       "    var timer = setInterval(function(root) {\n",
       "      if (root.Bokeh !== undefined) {\n",
       "        embed_document(root);\n",
       "        clearInterval(timer);\n",
       "      }\n",
       "      attempts++;\n",
       "      if (attempts > 100) {\n",
       "        console.log(\"Bokeh: ERROR: Unable to run BokehJS code because BokehJS library is missing\")\n",
       "        clearInterval(timer);\n",
       "      }\n",
       "    }, 10, root)\n",
       "  }\n",
       "})(window);"
      ],
      "application/vnd.bokehjs_exec.v0+json": ""
     },
     "metadata": {
      "application/vnd.bokehjs_exec.v0+json": {
       "id": "e8ce5f29-da06-4ebd-b9ac-db52976d2826"
      }
     },
     "output_type": "display_data"
    }
   ],
   "source": [
    "## Wedges and Arch\n",
    "from bokeh.plotting import figure, output_file, show\n",
    "import math\n",
    "fig = figure(plot_width=300, plot_height=300)\n",
    "fig.arc(x=3, y=3, radius=50, radius_units='screen', start_angle=0.0,\n",
    "end_angle=math.pi/2)\n",
    "fig.wedge(x=3, y=3, radius=30, radius_units='screen',\n",
    " start_angle=0, end_angle=math.pi, direction='clock')\n",
    "fig.annular_wedge(x=3,y=3, inner_radius=100,\n",
    "outer_radius=75,outer_radius_units='screen',\n",
    " inner_radius_units='screen',start_angle=0.4,\n",
    "end_angle=4.5,color=\"green\", alpha=0.6)\n",
    "show(fig)"
   ]
  },
  {
   "cell_type": "markdown",
   "metadata": {},
   "source": [
    "### Specialized Curves "
   ]
  },
  {
   "cell_type": "code",
   "execution_count": 28,
   "metadata": {},
   "outputs": [
    {
     "data": {
      "text/html": [
       "\n",
       "<div class=\"bk-root\">\n",
       "    <div class=\"bk-plotdiv\" id=\"006fa78c-d5ae-4a1c-9d2a-8416d14e63e9\"></div>\n",
       "</div>"
      ]
     },
     "metadata": {},
     "output_type": "display_data"
    },
    {
     "data": {
      "application/javascript": [
       "(function(root) {\n",
       "  function embed_document(root) {\n",
       "    \n",
       "  var docs_json = {\"b2f71fd1-6129-4ab3-8e2d-97c08ee55bbc\":{\"roots\":{\"references\":[{\"attributes\":{\"source\":{\"id\":\"41355df7-31fe-4152-8958-a0da7e70576b\",\"type\":\"ColumnDataSource\"}},\"id\":\"76a1c78e-b3c4-46f5-a84d-4c3de3ff54ee\",\"type\":\"CDSView\"},{\"attributes\":{},\"id\":\"cb780b02-1d6b-41de-86af-86424d6144f8\",\"type\":\"BasicTickFormatter\"},{\"attributes\":{},\"id\":\"12b98da6-62ce-4b2b-9a2d-e08f1255858f\",\"type\":\"WheelZoomTool\"},{\"attributes\":{\"plot\":{\"id\":\"3992ea7c-82d6-4660-b9b2-35add424acc2\",\"subtype\":\"Figure\",\"type\":\"Plot\"},\"ticker\":{\"id\":\"a15359c4-4e28-49d3-ac18-949ee1811d5d\",\"type\":\"BasicTicker\"}},\"id\":\"728b47b2-4f36-4be7-adc8-3a49497e5fa1\",\"type\":\"Grid\"},{\"attributes\":{\"formatter\":{\"id\":\"cb780b02-1d6b-41de-86af-86424d6144f8\",\"type\":\"BasicTickFormatter\"},\"plot\":{\"id\":\"3992ea7c-82d6-4660-b9b2-35add424acc2\",\"subtype\":\"Figure\",\"type\":\"Plot\"},\"ticker\":{\"id\":\"a15359c4-4e28-49d3-ac18-949ee1811d5d\",\"type\":\"BasicTicker\"}},\"id\":\"056abdc1-b901-45f4-b0e3-baefcbe726ed\",\"type\":\"LinearAxis\"},{\"attributes\":{\"bottom_units\":\"screen\",\"fill_alpha\":{\"value\":0.5},\"fill_color\":{\"value\":\"lightgrey\"},\"left_units\":\"screen\",\"level\":\"overlay\",\"line_alpha\":{\"value\":1.0},\"line_color\":{\"value\":\"black\"},\"line_dash\":[4,4],\"line_width\":{\"value\":2},\"plot\":null,\"render_mode\":\"css\",\"right_units\":\"screen\",\"top_units\":\"screen\"},\"id\":\"f87b1e1d-f7eb-4173-82c0-bbd990052a0a\",\"type\":\"BoxAnnotation\"},{\"attributes\":{},\"id\":\"f11adfde-9dc0-4a9f-a2f1-4060d2b98f60\",\"type\":\"LinearScale\"},{\"attributes\":{\"callback\":null},\"id\":\"4473b019-5666-4e8f-a800-5f478918efef\",\"type\":\"DataRange1d\"},{\"attributes\":{},\"id\":\"1d067ecf-0515-426e-ab3f-ea179a1effb5\",\"type\":\"Selection\"},{\"attributes\":{\"cx0\":{\"value\":2.1},\"cx1\":{\"value\":1.9},\"cy0\":{\"value\":4.2},\"cy1\":{\"value\":3.8},\"line_alpha\":{\"value\":0.1},\"line_color\":{\"value\":\"#1f77b4\"},\"line_width\":{\"value\":2},\"x0\":{\"value\":2},\"x1\":{\"value\":2.4},\"y0\":{\"value\":4},\"y1\":{\"value\":4}},\"id\":\"aad29ff4-0e34-48eb-b613-a4d040345328\",\"type\":\"Bezier\"},{\"attributes\":{\"data_source\":{\"id\":\"41355df7-31fe-4152-8958-a0da7e70576b\",\"type\":\"ColumnDataSource\"},\"glyph\":{\"id\":\"fe86e41a-772b-4a94-9e06-6ea03b884cba\",\"type\":\"Bezier\"},\"hover_glyph\":null,\"muted_glyph\":null,\"nonselection_glyph\":{\"id\":\"aad29ff4-0e34-48eb-b613-a4d040345328\",\"type\":\"Bezier\"},\"selection_glyph\":null,\"view\":{\"id\":\"76a1c78e-b3c4-46f5-a84d-4c3de3ff54ee\",\"type\":\"CDSView\"}},\"id\":\"adf4fed4-7d13-4372-a605-313301ae042d\",\"type\":\"GlyphRenderer\"},{\"attributes\":{\"active_drag\":\"auto\",\"active_inspect\":\"auto\",\"active_scroll\":\"auto\",\"active_tap\":\"auto\",\"tools\":[{\"id\":\"c1227a4d-80ea-4ce3-8be6-9088d976d9e7\",\"type\":\"PanTool\"},{\"id\":\"12b98da6-62ce-4b2b-9a2d-e08f1255858f\",\"type\":\"WheelZoomTool\"},{\"id\":\"16807f3f-bd3d-4ce6-9c80-836512f0b1ee\",\"type\":\"BoxZoomTool\"},{\"id\":\"78e3b7c0-5131-4a80-99de-4643bbc9baed\",\"type\":\"SaveTool\"},{\"id\":\"672871e3-8532-46ba-a725-9e6733715c7c\",\"type\":\"ResetTool\"},{\"id\":\"4de52660-ca18-41b7-b1bd-ef5976b9f5a5\",\"type\":\"HelpTool\"}]},\"id\":\"476e21cc-e1b6-4dfa-b887-a148c593df32\",\"type\":\"Toolbar\"},{\"attributes\":{},\"id\":\"4de52660-ca18-41b7-b1bd-ef5976b9f5a5\",\"type\":\"HelpTool\"},{\"attributes\":{},\"id\":\"c1227a4d-80ea-4ce3-8be6-9088d976d9e7\",\"type\":\"PanTool\"},{\"attributes\":{\"overlay\":{\"id\":\"f87b1e1d-f7eb-4173-82c0-bbd990052a0a\",\"type\":\"BoxAnnotation\"}},\"id\":\"16807f3f-bd3d-4ce6-9c80-836512f0b1ee\",\"type\":\"BoxZoomTool\"},{\"attributes\":{},\"id\":\"672871e3-8532-46ba-a725-9e6733715c7c\",\"type\":\"ResetTool\"},{\"attributes\":{},\"id\":\"39bc02c5-47e5-4589-97d7-c6be60205cbd\",\"type\":\"BasicTicker\"},{\"attributes\":{},\"id\":\"a15359c4-4e28-49d3-ac18-949ee1811d5d\",\"type\":\"BasicTicker\"},{\"attributes\":{},\"id\":\"78e3b7c0-5131-4a80-99de-4643bbc9baed\",\"type\":\"SaveTool\"},{\"attributes\":{\"below\":[{\"id\":\"056abdc1-b901-45f4-b0e3-baefcbe726ed\",\"type\":\"LinearAxis\"}],\"left\":[{\"id\":\"a927233e-2776-443b-92ef-de6b7e9c55a2\",\"type\":\"LinearAxis\"}],\"plot_height\":300,\"plot_width\":300,\"renderers\":[{\"id\":\"056abdc1-b901-45f4-b0e3-baefcbe726ed\",\"type\":\"LinearAxis\"},{\"id\":\"728b47b2-4f36-4be7-adc8-3a49497e5fa1\",\"type\":\"Grid\"},{\"id\":\"a927233e-2776-443b-92ef-de6b7e9c55a2\",\"type\":\"LinearAxis\"},{\"id\":\"9bb70310-8e9d-4f0c-aa63-513e5099c4e5\",\"type\":\"Grid\"},{\"id\":\"f87b1e1d-f7eb-4173-82c0-bbd990052a0a\",\"type\":\"BoxAnnotation\"},{\"id\":\"adf4fed4-7d13-4372-a605-313301ae042d\",\"type\":\"GlyphRenderer\"}],\"title\":{\"id\":\"30fc9781-9f15-42de-823b-93ba6cd01f3a\",\"type\":\"Title\"},\"toolbar\":{\"id\":\"476e21cc-e1b6-4dfa-b887-a148c593df32\",\"type\":\"Toolbar\"},\"x_range\":{\"id\":\"1a60da65-08b2-49be-b49c-b5a266721831\",\"type\":\"DataRange1d\"},\"x_scale\":{\"id\":\"f11adfde-9dc0-4a9f-a2f1-4060d2b98f60\",\"type\":\"LinearScale\"},\"y_range\":{\"id\":\"4473b019-5666-4e8f-a800-5f478918efef\",\"type\":\"DataRange1d\"},\"y_scale\":{\"id\":\"55f8cc0e-1fa1-4393-b586-06ef5c9297af\",\"type\":\"LinearScale\"}},\"id\":\"3992ea7c-82d6-4660-b9b2-35add424acc2\",\"subtype\":\"Figure\",\"type\":\"Plot\"},{\"attributes\":{\"callback\":null,\"data\":{},\"selected\":{\"id\":\"1d067ecf-0515-426e-ab3f-ea179a1effb5\",\"type\":\"Selection\"},\"selection_policy\":{\"id\":\"d97d2b91-0439-4c0d-b406-0d128d202cfa\",\"type\":\"UnionRenderers\"}},\"id\":\"41355df7-31fe-4152-8958-a0da7e70576b\",\"type\":\"ColumnDataSource\"},{\"attributes\":{},\"id\":\"d97d2b91-0439-4c0d-b406-0d128d202cfa\",\"type\":\"UnionRenderers\"},{\"attributes\":{\"callback\":null},\"id\":\"1a60da65-08b2-49be-b49c-b5a266721831\",\"type\":\"DataRange1d\"},{\"attributes\":{\"dimension\":1,\"plot\":{\"id\":\"3992ea7c-82d6-4660-b9b2-35add424acc2\",\"subtype\":\"Figure\",\"type\":\"Plot\"},\"ticker\":{\"id\":\"39bc02c5-47e5-4589-97d7-c6be60205cbd\",\"type\":\"BasicTicker\"}},\"id\":\"9bb70310-8e9d-4f0c-aa63-513e5099c4e5\",\"type\":\"Grid\"},{\"attributes\":{\"plot\":null,\"text\":\"\"},\"id\":\"30fc9781-9f15-42de-823b-93ba6cd01f3a\",\"type\":\"Title\"},{\"attributes\":{\"formatter\":{\"id\":\"23681349-4e60-4343-b360-604155931ebd\",\"type\":\"BasicTickFormatter\"},\"plot\":{\"id\":\"3992ea7c-82d6-4660-b9b2-35add424acc2\",\"subtype\":\"Figure\",\"type\":\"Plot\"},\"ticker\":{\"id\":\"39bc02c5-47e5-4589-97d7-c6be60205cbd\",\"type\":\"BasicTicker\"}},\"id\":\"a927233e-2776-443b-92ef-de6b7e9c55a2\",\"type\":\"LinearAxis\"},{\"attributes\":{\"cx0\":{\"value\":2.1},\"cx1\":{\"value\":1.9},\"cy0\":{\"value\":4.2},\"cy1\":{\"value\":3.8},\"line_color\":{\"value\":\"red\"},\"line_width\":{\"value\":2},\"x0\":{\"value\":2},\"x1\":{\"value\":2.4},\"y0\":{\"value\":4},\"y1\":{\"value\":4}},\"id\":\"fe86e41a-772b-4a94-9e06-6ea03b884cba\",\"type\":\"Bezier\"},{\"attributes\":{},\"id\":\"23681349-4e60-4343-b360-604155931ebd\",\"type\":\"BasicTickFormatter\"},{\"attributes\":{},\"id\":\"55f8cc0e-1fa1-4393-b586-06ef5c9297af\",\"type\":\"LinearScale\"}],\"root_ids\":[\"3992ea7c-82d6-4660-b9b2-35add424acc2\"]},\"title\":\"Bokeh Application\",\"version\":\"0.12.16\"}};\n",
       "  var render_items = [{\"docid\":\"b2f71fd1-6129-4ab3-8e2d-97c08ee55bbc\",\"elementid\":\"006fa78c-d5ae-4a1c-9d2a-8416d14e63e9\",\"modelid\":\"3992ea7c-82d6-4660-b9b2-35add424acc2\"}];\n",
       "  root.Bokeh.embed.embed_items_notebook(docs_json, render_items);\n",
       "\n",
       "  }\n",
       "  if (root.Bokeh !== undefined) {\n",
       "    embed_document(root);\n",
       "  } else {\n",
       "    var attempts = 0;\n",
       "    var timer = setInterval(function(root) {\n",
       "      if (root.Bokeh !== undefined) {\n",
       "        embed_document(root);\n",
       "        clearInterval(timer);\n",
       "      }\n",
       "      attempts++;\n",
       "      if (attempts > 100) {\n",
       "        console.log(\"Bokeh: ERROR: Unable to run BokehJS code because BokehJS library is missing\")\n",
       "        clearInterval(timer);\n",
       "      }\n",
       "    }, 10, root)\n",
       "  }\n",
       "})(window);"
      ],
      "application/vnd.bokehjs_exec.v0+json": ""
     },
     "metadata": {
      "application/vnd.bokehjs_exec.v0+json": {
       "id": "3992ea7c-82d6-4660-b9b2-35add424acc2"
      }
     },
     "output_type": "display_data"
    }
   ],
   "source": [
    "### Beizer\n",
    "x=2\n",
    "y=4\n",
    "xp02=x+0.4\n",
    "xp01=x+0.1\n",
    "xm01=x-0.1\n",
    "yp01=y+0.2\n",
    "ym01=y-0.2\n",
    "fig=figure(plot_width=300, plot_height=300)\n",
    "fig.bezier(x0=x, y0=y, x1=xp02, y1=y, cx0=xp01, cy0=yp01,cx1=xm01, cy1=ym01, line_color=\"red\", line_width=2)\n",
    "show(fig)"
   ]
  },
  {
   "cell_type": "markdown",
   "metadata": {},
   "source": [
    "### Categorical Axes"
   ]
  },
  {
   "cell_type": "code",
   "execution_count": 33,
   "metadata": {},
   "outputs": [
    {
     "data": {
      "text/html": [
       "\n",
       "<div class=\"bk-root\">\n",
       "    <div class=\"bk-plotdiv\" id=\"e993bb55-c4cd-45f2-8815-cf42adb2dfa9\"></div>\n",
       "</div>"
      ]
     },
     "metadata": {},
     "output_type": "display_data"
    },
    {
     "data": {
      "application/javascript": [
       "(function(root) {\n",
       "  function embed_document(root) {\n",
       "    \n",
       "  var docs_json = {\"a92b53f9-4f03-4736-b6fc-d01b90dcc5c4\":{\"roots\":{\"references\":[{\"attributes\":{\"callback\":null,\"data\":{\"top\":[23,17,35,29,12],\"x\":[\"C\",\"C++\",\"Java\",\"Python\",\"PHP\"]},\"selected\":{\"id\":\"a0f1bc5b-9e33-405d-83c3-f52b67be586f\",\"type\":\"Selection\"},\"selection_policy\":{\"id\":\"092f87f2-592a-4d65-90dd-f4c2bcde993b\",\"type\":\"UnionRenderers\"}},\"id\":\"4f9639a7-2868-413d-8256-089b728ad644\",\"type\":\"ColumnDataSource\"},{\"attributes\":{\"fill_color\":{\"value\":\"#1f77b4\"},\"line_color\":{\"value\":\"#1f77b4\"},\"top\":{\"field\":\"top\"},\"width\":{\"value\":0.5},\"x\":{\"field\":\"x\"}},\"id\":\"b103ad23-35bb-44f5-956e-43ce70fd42fa\",\"type\":\"VBar\"},{\"attributes\":{\"plot\":null,\"text\":\"\"},\"id\":\"c9faa09f-43a2-4f5a-91c1-ae31d1a3baa4\",\"type\":\"Title\"},{\"attributes\":{},\"id\":\"5ed99758-ce67-4fc2-a532-e12bb4c2d26a\",\"type\":\"ResetTool\"},{\"attributes\":{},\"id\":\"1bb4f829-4ec4-44c6-8029-2fb65c0a71a7\",\"type\":\"BasicTickFormatter\"},{\"attributes\":{\"callback\":null,\"factors\":[\"C\",\"C++\",\"Java\",\"Python\",\"PHP\"]},\"id\":\"6a74d961-85b8-4112-b404-530d910c0f26\",\"type\":\"FactorRange\"},{\"attributes\":{},\"id\":\"a0f1bc5b-9e33-405d-83c3-f52b67be586f\",\"type\":\"Selection\"},{\"attributes\":{},\"id\":\"aa04dfa8-967c-4235-bb4c-b6e85dee5863\",\"type\":\"HelpTool\"},{\"attributes\":{},\"id\":\"092f87f2-592a-4d65-90dd-f4c2bcde993b\",\"type\":\"UnionRenderers\"},{\"attributes\":{},\"id\":\"8da9351e-03d7-42ce-b66b-6665756663c8\",\"type\":\"PanTool\"},{\"attributes\":{\"source\":{\"id\":\"4f9639a7-2868-413d-8256-089b728ad644\",\"type\":\"ColumnDataSource\"}},\"id\":\"042ebbd6-12e6-4203-930b-19d2971023ed\",\"type\":\"CDSView\"},{\"attributes\":{},\"id\":\"1db655df-d6ef-40ac-a0f7-37ea30898031\",\"type\":\"CategoricalScale\"},{\"attributes\":{\"formatter\":{\"id\":\"daa9ad85-888f-4873-b5a7-9727ddc469f3\",\"type\":\"CategoricalTickFormatter\"},\"plot\":{\"id\":\"fb16ca24-190a-4e82-b50d-4cf826f147cd\",\"subtype\":\"Figure\",\"type\":\"Plot\"},\"ticker\":{\"id\":\"33708684-7d52-4ff1-9f38-a20458e10e70\",\"type\":\"CategoricalTicker\"}},\"id\":\"dc6ce753-3fb3-4da4-9bd1-b5fceb7346d0\",\"type\":\"CategoricalAxis\"},{\"attributes\":{\"data_source\":{\"id\":\"4f9639a7-2868-413d-8256-089b728ad644\",\"type\":\"ColumnDataSource\"},\"glyph\":{\"id\":\"b103ad23-35bb-44f5-956e-43ce70fd42fa\",\"type\":\"VBar\"},\"hover_glyph\":null,\"muted_glyph\":null,\"nonselection_glyph\":{\"id\":\"f3239b24-8844-4110-9c4e-573ac359767e\",\"type\":\"VBar\"},\"selection_glyph\":null,\"view\":{\"id\":\"042ebbd6-12e6-4203-930b-19d2971023ed\",\"type\":\"CDSView\"}},\"id\":\"c0c996d0-3de2-463c-ade4-88deec9b6f21\",\"type\":\"GlyphRenderer\"},{\"attributes\":{},\"id\":\"3dff154c-4934-4ed7-be5a-2edc186ed563\",\"type\":\"LinearScale\"},{\"attributes\":{\"below\":[{\"id\":\"dc6ce753-3fb3-4da4-9bd1-b5fceb7346d0\",\"type\":\"CategoricalAxis\"}],\"left\":[{\"id\":\"93ab11ee-5c16-4804-8fa3-67a0a50a94ff\",\"type\":\"LinearAxis\"}],\"plot_height\":300,\"plot_width\":300,\"renderers\":[{\"id\":\"dc6ce753-3fb3-4da4-9bd1-b5fceb7346d0\",\"type\":\"CategoricalAxis\"},{\"id\":\"70f30b6c-537c-45bb-b73b-aa20f129149a\",\"type\":\"Grid\"},{\"id\":\"93ab11ee-5c16-4804-8fa3-67a0a50a94ff\",\"type\":\"LinearAxis\"},{\"id\":\"7856b340-3472-4beb-b458-f513fa02b58b\",\"type\":\"Grid\"},{\"id\":\"f5d62b2c-2f50-4016-b2e6-761f668168cc\",\"type\":\"BoxAnnotation\"},{\"id\":\"c0c996d0-3de2-463c-ade4-88deec9b6f21\",\"type\":\"GlyphRenderer\"}],\"title\":{\"id\":\"c9faa09f-43a2-4f5a-91c1-ae31d1a3baa4\",\"type\":\"Title\"},\"toolbar\":{\"id\":\"3dc5ea82-d341-4569-9d8d-16568d3229d3\",\"type\":\"Toolbar\"},\"x_range\":{\"id\":\"6a74d961-85b8-4112-b404-530d910c0f26\",\"type\":\"FactorRange\"},\"x_scale\":{\"id\":\"1db655df-d6ef-40ac-a0f7-37ea30898031\",\"type\":\"CategoricalScale\"},\"y_range\":{\"id\":\"3503055f-eccf-4cdf-8091-3607fdad6135\",\"type\":\"DataRange1d\"},\"y_scale\":{\"id\":\"3dff154c-4934-4ed7-be5a-2edc186ed563\",\"type\":\"LinearScale\"}},\"id\":\"fb16ca24-190a-4e82-b50d-4cf826f147cd\",\"subtype\":\"Figure\",\"type\":\"Plot\"},{\"attributes\":{\"bottom_units\":\"screen\",\"fill_alpha\":{\"value\":0.5},\"fill_color\":{\"value\":\"lightgrey\"},\"left_units\":\"screen\",\"level\":\"overlay\",\"line_alpha\":{\"value\":1.0},\"line_color\":{\"value\":\"black\"},\"line_dash\":[4,4],\"line_width\":{\"value\":2},\"plot\":null,\"render_mode\":\"css\",\"right_units\":\"screen\",\"top_units\":\"screen\"},\"id\":\"f5d62b2c-2f50-4016-b2e6-761f668168cc\",\"type\":\"BoxAnnotation\"},{\"attributes\":{},\"id\":\"9da9db4e-cd39-4cec-82e6-ddfd24509cdd\",\"type\":\"WheelZoomTool\"},{\"attributes\":{},\"id\":\"b7bdd17c-b779-4955-89d9-47e7295006a2\",\"type\":\"SaveTool\"},{\"attributes\":{\"dimension\":1,\"plot\":{\"id\":\"fb16ca24-190a-4e82-b50d-4cf826f147cd\",\"subtype\":\"Figure\",\"type\":\"Plot\"},\"ticker\":{\"id\":\"d26e8636-85d0-48f3-b7b6-7984807c8c37\",\"type\":\"BasicTicker\"}},\"id\":\"7856b340-3472-4beb-b458-f513fa02b58b\",\"type\":\"Grid\"},{\"attributes\":{\"formatter\":{\"id\":\"1bb4f829-4ec4-44c6-8029-2fb65c0a71a7\",\"type\":\"BasicTickFormatter\"},\"plot\":{\"id\":\"fb16ca24-190a-4e82-b50d-4cf826f147cd\",\"subtype\":\"Figure\",\"type\":\"Plot\"},\"ticker\":{\"id\":\"d26e8636-85d0-48f3-b7b6-7984807c8c37\",\"type\":\"BasicTicker\"}},\"id\":\"93ab11ee-5c16-4804-8fa3-67a0a50a94ff\",\"type\":\"LinearAxis\"},{\"attributes\":{\"fill_alpha\":{\"value\":0.1},\"fill_color\":{\"value\":\"#1f77b4\"},\"line_alpha\":{\"value\":0.1},\"line_color\":{\"value\":\"#1f77b4\"},\"top\":{\"field\":\"top\"},\"width\":{\"value\":0.5},\"x\":{\"field\":\"x\"}},\"id\":\"f3239b24-8844-4110-9c4e-573ac359767e\",\"type\":\"VBar\"},{\"attributes\":{},\"id\":\"d26e8636-85d0-48f3-b7b6-7984807c8c37\",\"type\":\"BasicTicker\"},{\"attributes\":{\"plot\":{\"id\":\"fb16ca24-190a-4e82-b50d-4cf826f147cd\",\"subtype\":\"Figure\",\"type\":\"Plot\"},\"ticker\":{\"id\":\"33708684-7d52-4ff1-9f38-a20458e10e70\",\"type\":\"CategoricalTicker\"}},\"id\":\"70f30b6c-537c-45bb-b73b-aa20f129149a\",\"type\":\"Grid\"},{\"attributes\":{\"callback\":null},\"id\":\"3503055f-eccf-4cdf-8091-3607fdad6135\",\"type\":\"DataRange1d\"},{\"attributes\":{},\"id\":\"33708684-7d52-4ff1-9f38-a20458e10e70\",\"type\":\"CategoricalTicker\"},{\"attributes\":{\"active_drag\":\"auto\",\"active_inspect\":\"auto\",\"active_scroll\":\"auto\",\"active_tap\":\"auto\",\"tools\":[{\"id\":\"8da9351e-03d7-42ce-b66b-6665756663c8\",\"type\":\"PanTool\"},{\"id\":\"9da9db4e-cd39-4cec-82e6-ddfd24509cdd\",\"type\":\"WheelZoomTool\"},{\"id\":\"a1afeecb-993f-409f-9216-2b9318e89e41\",\"type\":\"BoxZoomTool\"},{\"id\":\"b7bdd17c-b779-4955-89d9-47e7295006a2\",\"type\":\"SaveTool\"},{\"id\":\"5ed99758-ce67-4fc2-a532-e12bb4c2d26a\",\"type\":\"ResetTool\"},{\"id\":\"aa04dfa8-967c-4235-bb4c-b6e85dee5863\",\"type\":\"HelpTool\"}]},\"id\":\"3dc5ea82-d341-4569-9d8d-16568d3229d3\",\"type\":\"Toolbar\"},{\"attributes\":{},\"id\":\"daa9ad85-888f-4873-b5a7-9727ddc469f3\",\"type\":\"CategoricalTickFormatter\"},{\"attributes\":{\"overlay\":{\"id\":\"f5d62b2c-2f50-4016-b2e6-761f668168cc\",\"type\":\"BoxAnnotation\"}},\"id\":\"a1afeecb-993f-409f-9216-2b9318e89e41\",\"type\":\"BoxZoomTool\"}],\"root_ids\":[\"fb16ca24-190a-4e82-b50d-4cf826f147cd\"]},\"title\":\"Bokeh Application\",\"version\":\"0.12.16\"}};\n",
       "  var render_items = [{\"docid\":\"a92b53f9-4f03-4736-b6fc-d01b90dcc5c4\",\"elementid\":\"e993bb55-c4cd-45f2-8815-cf42adb2dfa9\",\"modelid\":\"fb16ca24-190a-4e82-b50d-4cf826f147cd\"}];\n",
       "  root.Bokeh.embed.embed_items_notebook(docs_json, render_items);\n",
       "\n",
       "  }\n",
       "  if (root.Bokeh !== undefined) {\n",
       "    embed_document(root);\n",
       "  } else {\n",
       "    var attempts = 0;\n",
       "    var timer = setInterval(function(root) {\n",
       "      if (root.Bokeh !== undefined) {\n",
       "        embed_document(root);\n",
       "        clearInterval(timer);\n",
       "      }\n",
       "      attempts++;\n",
       "      if (attempts > 100) {\n",
       "        console.log(\"Bokeh: ERROR: Unable to run BokehJS code because BokehJS library is missing\")\n",
       "        clearInterval(timer);\n",
       "      }\n",
       "    }, 10, root)\n",
       "  }\n",
       "})(window);"
      ],
      "application/vnd.bokehjs_exec.v0+json": ""
     },
     "metadata": {
      "application/vnd.bokehjs_exec.v0+json": {
       "id": "fb16ca24-190a-4e82-b50d-4cf826f147cd"
      }
     },
     "output_type": "display_data"
    }
   ],
   "source": [
    "langs=['C', 'C++', 'Java', 'Python', 'PHP']\n",
    "fig=figure(x_range=langs, plot_width=300, plot_height=300)\n",
    "from bokeh.plotting import figure, output_file, show\n",
    "langs=['C', 'C++', 'Java', 'Python', 'PHP']\n",
    "students=[23,17,35,29,12]\n",
    "fig=figure(x_range=langs, plot_width=300, plot_height=300)\n",
    "fig.vbar(x=langs, top=students, width=0.5)\n",
    "show(fig)\n"
   ]
  },
  {
   "cell_type": "code",
   "execution_count": 34,
   "metadata": {},
   "outputs": [],
   "source": [
    "## or you can show with the different colors"
   ]
  },
  {
   "cell_type": "code",
   "execution_count": 36,
   "metadata": {},
   "outputs": [
    {
     "data": {
      "text/html": [
       "\n",
       "<div class=\"bk-root\">\n",
       "    <div class=\"bk-plotdiv\" id=\"dbc3bcc6-e521-451c-ae35-1d77dc424b96\"></div>\n",
       "</div>"
      ]
     },
     "metadata": {},
     "output_type": "display_data"
    },
    {
     "data": {
      "application/javascript": [
       "(function(root) {\n",
       "  function embed_document(root) {\n",
       "    \n",
       "  var docs_json = {\"9bb38fd9-09d5-4739-aa1f-f733064f2195\":{\"roots\":{\"references\":[{\"attributes\":{},\"id\":\"5ed99758-ce67-4fc2-a532-e12bb4c2d26a\",\"type\":\"ResetTool\"},{\"attributes\":{},\"id\":\"1bb4f829-4ec4-44c6-8029-2fb65c0a71a7\",\"type\":\"BasicTickFormatter\"},{\"attributes\":{\"callback\":null,\"factors\":[\"C\",\"C++\",\"Java\",\"Python\",\"PHP\"]},\"id\":\"6a74d961-85b8-4112-b404-530d910c0f26\",\"type\":\"FactorRange\"},{\"attributes\":{},\"id\":\"aa04dfa8-967c-4235-bb4c-b6e85dee5863\",\"type\":\"HelpTool\"},{\"attributes\":{},\"id\":\"8da9351e-03d7-42ce-b66b-6665756663c8\",\"type\":\"PanTool\"},{\"attributes\":{\"formatter\":{\"id\":\"daa9ad85-888f-4873-b5a7-9727ddc469f3\",\"type\":\"CategoricalTickFormatter\"},\"plot\":{\"id\":\"fb16ca24-190a-4e82-b50d-4cf826f147cd\",\"subtype\":\"Figure\",\"type\":\"Plot\"},\"ticker\":{\"id\":\"33708684-7d52-4ff1-9f38-a20458e10e70\",\"type\":\"CategoricalTicker\"}},\"id\":\"dc6ce753-3fb3-4da4-9bd1-b5fceb7346d0\",\"type\":\"CategoricalAxis\"},{\"attributes\":{\"below\":[{\"id\":\"dc6ce753-3fb3-4da4-9bd1-b5fceb7346d0\",\"type\":\"CategoricalAxis\"}],\"left\":[{\"id\":\"93ab11ee-5c16-4804-8fa3-67a0a50a94ff\",\"type\":\"LinearAxis\"}],\"plot_height\":300,\"plot_width\":300,\"renderers\":[{\"id\":\"dc6ce753-3fb3-4da4-9bd1-b5fceb7346d0\",\"type\":\"CategoricalAxis\"},{\"id\":\"70f30b6c-537c-45bb-b73b-aa20f129149a\",\"type\":\"Grid\"},{\"id\":\"93ab11ee-5c16-4804-8fa3-67a0a50a94ff\",\"type\":\"LinearAxis\"},{\"id\":\"7856b340-3472-4beb-b458-f513fa02b58b\",\"type\":\"Grid\"},{\"id\":\"f5d62b2c-2f50-4016-b2e6-761f668168cc\",\"type\":\"BoxAnnotation\"},{\"id\":\"c0c996d0-3de2-463c-ade4-88deec9b6f21\",\"type\":\"GlyphRenderer\"},{\"id\":\"78ef1b17-0c8c-4b90-b20b-988c1ea00900\",\"type\":\"GlyphRenderer\"},{\"id\":\"9d13c70b-a7de-4131-990d-12a3e12a7c23\",\"type\":\"GlyphRenderer\"}],\"title\":{\"id\":\"c9faa09f-43a2-4f5a-91c1-ae31d1a3baa4\",\"type\":\"Title\"},\"toolbar\":{\"id\":\"3dc5ea82-d341-4569-9d8d-16568d3229d3\",\"type\":\"Toolbar\"},\"x_range\":{\"id\":\"6a74d961-85b8-4112-b404-530d910c0f26\",\"type\":\"FactorRange\"},\"x_scale\":{\"id\":\"1db655df-d6ef-40ac-a0f7-37ea30898031\",\"type\":\"CategoricalScale\"},\"y_range\":{\"id\":\"3503055f-eccf-4cdf-8091-3607fdad6135\",\"type\":\"DataRange1d\"},\"y_scale\":{\"id\":\"3dff154c-4934-4ed7-be5a-2edc186ed563\",\"type\":\"LinearScale\"}},\"id\":\"fb16ca24-190a-4e82-b50d-4cf826f147cd\",\"subtype\":\"Figure\",\"type\":\"Plot\"},{\"attributes\":{\"bottom_units\":\"screen\",\"fill_alpha\":{\"value\":0.5},\"fill_color\":{\"value\":\"lightgrey\"},\"left_units\":\"screen\",\"level\":\"overlay\",\"line_alpha\":{\"value\":1.0},\"line_color\":{\"value\":\"black\"},\"line_dash\":[4,4],\"line_width\":{\"value\":2},\"plot\":null,\"render_mode\":\"css\",\"right_units\":\"screen\",\"top_units\":\"screen\"},\"id\":\"f5d62b2c-2f50-4016-b2e6-761f668168cc\",\"type\":\"BoxAnnotation\"},{\"attributes\":{},\"id\":\"9da9db4e-cd39-4cec-82e6-ddfd24509cdd\",\"type\":\"WheelZoomTool\"},{\"attributes\":{\"source\":{\"id\":\"b6253954-0c08-4313-8ac6-1b8484340b5f\",\"type\":\"ColumnDataSource\"}},\"id\":\"ae34fe92-6255-46a6-8665-34ae263ce17e\",\"type\":\"CDSView\"},{\"attributes\":{\"indices\":[],\"line_indices\":[]},\"id\":\"97ad91ad-42d9-4d36-833c-5bfb1a9a2244\",\"type\":\"Selection\"},{\"attributes\":{\"formatter\":{\"id\":\"1bb4f829-4ec4-44c6-8029-2fb65c0a71a7\",\"type\":\"BasicTickFormatter\"},\"plot\":{\"id\":\"fb16ca24-190a-4e82-b50d-4cf826f147cd\",\"subtype\":\"Figure\",\"type\":\"Plot\"},\"ticker\":{\"id\":\"d26e8636-85d0-48f3-b7b6-7984807c8c37\",\"type\":\"BasicTicker\"}},\"id\":\"93ab11ee-5c16-4804-8fa3-67a0a50a94ff\",\"type\":\"LinearAxis\"},{\"attributes\":{\"callback\":null,\"data\":{\"fill_color\":[\"red\",\"green\",\"orange\",\"navy\",\"cyan\"],\"line_color\":[\"red\",\"green\",\"orange\",\"navy\",\"cyan\"],\"top\":[23,17,35,29,12],\"x\":[\"C\",\"C++\",\"Java\",\"Python\",\"PHP\"]},\"selected\":{\"id\":\"97ad91ad-42d9-4d36-833c-5bfb1a9a2244\",\"type\":\"Selection\"},\"selection_policy\":{\"id\":\"f144b210-9c36-4d32-8233-ad10f1ef298f\",\"type\":\"UnionRenderers\"}},\"id\":\"531d569e-3187-454a-89b0-ea5c8fa44e7c\",\"type\":\"ColumnDataSource\"},{\"attributes\":{\"fill_alpha\":{\"value\":0.1},\"fill_color\":{\"value\":\"#1f77b4\"},\"line_alpha\":{\"value\":0.1},\"line_color\":{\"value\":\"#1f77b4\"},\"top\":{\"field\":\"top\"},\"width\":{\"value\":0.5},\"x\":{\"field\":\"x\"}},\"id\":\"986a3a49-3793-4242-8b88-a09c6e831721\",\"type\":\"VBar\"},{\"attributes\":{\"data_source\":{\"id\":\"b6253954-0c08-4313-8ac6-1b8484340b5f\",\"type\":\"ColumnDataSource\"},\"glyph\":{\"id\":\"39548b92-196a-419c-8303-18cf564e23eb\",\"type\":\"VBar\"},\"hover_glyph\":null,\"muted_glyph\":null,\"nonselection_glyph\":{\"id\":\"986a3a49-3793-4242-8b88-a09c6e831721\",\"type\":\"VBar\"},\"selection_glyph\":null,\"view\":{\"id\":\"ae34fe92-6255-46a6-8665-34ae263ce17e\",\"type\":\"CDSView\"}},\"id\":\"9d13c70b-a7de-4131-990d-12a3e12a7c23\",\"type\":\"GlyphRenderer\"},{\"attributes\":{\"callback\":null},\"id\":\"3503055f-eccf-4cdf-8091-3607fdad6135\",\"type\":\"DataRange1d\"},{\"attributes\":{\"active_drag\":\"auto\",\"active_inspect\":\"auto\",\"active_scroll\":\"auto\",\"active_tap\":\"auto\",\"tools\":[{\"id\":\"8da9351e-03d7-42ce-b66b-6665756663c8\",\"type\":\"PanTool\"},{\"id\":\"9da9db4e-cd39-4cec-82e6-ddfd24509cdd\",\"type\":\"WheelZoomTool\"},{\"id\":\"a1afeecb-993f-409f-9216-2b9318e89e41\",\"type\":\"BoxZoomTool\"},{\"id\":\"b7bdd17c-b779-4955-89d9-47e7295006a2\",\"type\":\"SaveTool\"},{\"id\":\"5ed99758-ce67-4fc2-a532-e12bb4c2d26a\",\"type\":\"ResetTool\"},{\"id\":\"aa04dfa8-967c-4235-bb4c-b6e85dee5863\",\"type\":\"HelpTool\"}]},\"id\":\"3dc5ea82-d341-4569-9d8d-16568d3229d3\",\"type\":\"Toolbar\"},{\"attributes\":{\"fill_color\":{\"field\":\"fill_color\"},\"line_color\":{\"field\":\"line_color\"},\"top\":{\"field\":\"top\"},\"width\":{\"value\":0.5},\"x\":{\"field\":\"x\"}},\"id\":\"39548b92-196a-419c-8303-18cf564e23eb\",\"type\":\"VBar\"},{\"attributes\":{\"callback\":null,\"data\":{\"top\":[23,17,35,29,12],\"x\":[\"C\",\"C++\",\"Java\",\"Python\",\"PHP\"]},\"selected\":{\"id\":\"a0f1bc5b-9e33-405d-83c3-f52b67be586f\",\"type\":\"Selection\"},\"selection_policy\":{\"id\":\"092f87f2-592a-4d65-90dd-f4c2bcde993b\",\"type\":\"UnionRenderers\"}},\"id\":\"4f9639a7-2868-413d-8256-089b728ad644\",\"type\":\"ColumnDataSource\"},{\"attributes\":{\"fill_color\":{\"value\":\"#1f77b4\"},\"line_color\":{\"value\":\"#1f77b4\"},\"top\":{\"field\":\"top\"},\"width\":{\"value\":0.5},\"x\":{\"field\":\"x\"}},\"id\":\"b103ad23-35bb-44f5-956e-43ce70fd42fa\",\"type\":\"VBar\"},{\"attributes\":{\"plot\":null,\"text\":\"\"},\"id\":\"c9faa09f-43a2-4f5a-91c1-ae31d1a3baa4\",\"type\":\"Title\"},{\"attributes\":{\"fill_alpha\":{\"value\":0.1},\"fill_color\":{\"value\":\"#1f77b4\"},\"line_alpha\":{\"value\":0.1},\"line_color\":{\"value\":\"#1f77b4\"},\"top\":{\"field\":\"top\"},\"width\":{\"value\":0.5},\"x\":{\"field\":\"x\"}},\"id\":\"0202b562-995c-4c67-bba5-9cc6d719321d\",\"type\":\"VBar\"},{\"attributes\":{},\"id\":\"a0f1bc5b-9e33-405d-83c3-f52b67be586f\",\"type\":\"Selection\"},{\"attributes\":{\"data_source\":{\"id\":\"531d569e-3187-454a-89b0-ea5c8fa44e7c\",\"type\":\"ColumnDataSource\"},\"glyph\":{\"id\":\"90e31421-6c20-4f72-87b2-fbaeb97a869b\",\"type\":\"VBar\"},\"hover_glyph\":null,\"muted_glyph\":null,\"nonselection_glyph\":{\"id\":\"0202b562-995c-4c67-bba5-9cc6d719321d\",\"type\":\"VBar\"},\"selection_glyph\":null,\"view\":{\"id\":\"f589843a-081c-44cd-806f-2daef2730b32\",\"type\":\"CDSView\"}},\"id\":\"78ef1b17-0c8c-4b90-b20b-988c1ea00900\",\"type\":\"GlyphRenderer\"},{\"attributes\":{\"source\":{\"id\":\"531d569e-3187-454a-89b0-ea5c8fa44e7c\",\"type\":\"ColumnDataSource\"}},\"id\":\"f589843a-081c-44cd-806f-2daef2730b32\",\"type\":\"CDSView\"},{\"attributes\":{\"fill_color\":{\"field\":\"fill_color\"},\"line_color\":{\"field\":\"line_color\"},\"top\":{\"field\":\"top\"},\"width\":{\"value\":0.5},\"x\":{\"field\":\"x\"}},\"id\":\"90e31421-6c20-4f72-87b2-fbaeb97a869b\",\"type\":\"VBar\"},{\"attributes\":{},\"id\":\"092f87f2-592a-4d65-90dd-f4c2bcde993b\",\"type\":\"UnionRenderers\"},{\"attributes\":{\"source\":{\"id\":\"4f9639a7-2868-413d-8256-089b728ad644\",\"type\":\"ColumnDataSource\"}},\"id\":\"042ebbd6-12e6-4203-930b-19d2971023ed\",\"type\":\"CDSView\"},{\"attributes\":{},\"id\":\"1db655df-d6ef-40ac-a0f7-37ea30898031\",\"type\":\"CategoricalScale\"},{\"attributes\":{\"data_source\":{\"id\":\"4f9639a7-2868-413d-8256-089b728ad644\",\"type\":\"ColumnDataSource\"},\"glyph\":{\"id\":\"b103ad23-35bb-44f5-956e-43ce70fd42fa\",\"type\":\"VBar\"},\"hover_glyph\":null,\"muted_glyph\":null,\"nonselection_glyph\":{\"id\":\"f3239b24-8844-4110-9c4e-573ac359767e\",\"type\":\"VBar\"},\"selection_glyph\":null,\"view\":{\"id\":\"042ebbd6-12e6-4203-930b-19d2971023ed\",\"type\":\"CDSView\"}},\"id\":\"c0c996d0-3de2-463c-ade4-88deec9b6f21\",\"type\":\"GlyphRenderer\"},{\"attributes\":{},\"id\":\"f144b210-9c36-4d32-8233-ad10f1ef298f\",\"type\":\"UnionRenderers\"},{\"attributes\":{},\"id\":\"3dff154c-4934-4ed7-be5a-2edc186ed563\",\"type\":\"LinearScale\"},{\"attributes\":{},\"id\":\"b7bdd17c-b779-4955-89d9-47e7295006a2\",\"type\":\"SaveTool\"},{\"attributes\":{},\"id\":\"f31455c8-84b5-4b1b-a37a-e917ee24c675\",\"type\":\"UnionRenderers\"},{\"attributes\":{\"callback\":null,\"data\":{\"fill_color\":[\"red\",\"green\",\"orange\",\"navy\",\"cyan\"],\"line_color\":[\"red\",\"green\",\"orange\",\"navy\",\"cyan\"],\"top\":[23,17,35,29,12],\"x\":[\"C\",\"C++\",\"Java\",\"Python\",\"PHP\"]},\"selected\":{\"id\":\"98f67348-7270-4bb3-8a9e-f03ffdab22fe\",\"type\":\"Selection\"},\"selection_policy\":{\"id\":\"f31455c8-84b5-4b1b-a37a-e917ee24c675\",\"type\":\"UnionRenderers\"}},\"id\":\"b6253954-0c08-4313-8ac6-1b8484340b5f\",\"type\":\"ColumnDataSource\"},{\"attributes\":{},\"id\":\"98f67348-7270-4bb3-8a9e-f03ffdab22fe\",\"type\":\"Selection\"},{\"attributes\":{\"dimension\":1,\"plot\":{\"id\":\"fb16ca24-190a-4e82-b50d-4cf826f147cd\",\"subtype\":\"Figure\",\"type\":\"Plot\"},\"ticker\":{\"id\":\"d26e8636-85d0-48f3-b7b6-7984807c8c37\",\"type\":\"BasicTicker\"}},\"id\":\"7856b340-3472-4beb-b458-f513fa02b58b\",\"type\":\"Grid\"},{\"attributes\":{\"fill_alpha\":{\"value\":0.1},\"fill_color\":{\"value\":\"#1f77b4\"},\"line_alpha\":{\"value\":0.1},\"line_color\":{\"value\":\"#1f77b4\"},\"top\":{\"field\":\"top\"},\"width\":{\"value\":0.5},\"x\":{\"field\":\"x\"}},\"id\":\"f3239b24-8844-4110-9c4e-573ac359767e\",\"type\":\"VBar\"},{\"attributes\":{},\"id\":\"d26e8636-85d0-48f3-b7b6-7984807c8c37\",\"type\":\"BasicTicker\"},{\"attributes\":{\"plot\":{\"id\":\"fb16ca24-190a-4e82-b50d-4cf826f147cd\",\"subtype\":\"Figure\",\"type\":\"Plot\"},\"ticker\":{\"id\":\"33708684-7d52-4ff1-9f38-a20458e10e70\",\"type\":\"CategoricalTicker\"}},\"id\":\"70f30b6c-537c-45bb-b73b-aa20f129149a\",\"type\":\"Grid\"},{\"attributes\":{},\"id\":\"33708684-7d52-4ff1-9f38-a20458e10e70\",\"type\":\"CategoricalTicker\"},{\"attributes\":{},\"id\":\"daa9ad85-888f-4873-b5a7-9727ddc469f3\",\"type\":\"CategoricalTickFormatter\"},{\"attributes\":{\"overlay\":{\"id\":\"f5d62b2c-2f50-4016-b2e6-761f668168cc\",\"type\":\"BoxAnnotation\"}},\"id\":\"a1afeecb-993f-409f-9216-2b9318e89e41\",\"type\":\"BoxZoomTool\"}],\"root_ids\":[\"fb16ca24-190a-4e82-b50d-4cf826f147cd\"]},\"title\":\"Bokeh Application\",\"version\":\"0.12.16\"}};\n",
       "  var render_items = [{\"docid\":\"9bb38fd9-09d5-4739-aa1f-f733064f2195\",\"elementid\":\"dbc3bcc6-e521-451c-ae35-1d77dc424b96\",\"modelid\":\"fb16ca24-190a-4e82-b50d-4cf826f147cd\"}];\n",
       "  root.Bokeh.embed.embed_items_notebook(docs_json, render_items);\n",
       "\n",
       "  }\n",
       "  if (root.Bokeh !== undefined) {\n",
       "    embed_document(root);\n",
       "  } else {\n",
       "    var attempts = 0;\n",
       "    var timer = setInterval(function(root) {\n",
       "      if (root.Bokeh !== undefined) {\n",
       "        embed_document(root);\n",
       "        clearInterval(timer);\n",
       "      }\n",
       "      attempts++;\n",
       "      if (attempts > 100) {\n",
       "        console.log(\"Bokeh: ERROR: Unable to run BokehJS code because BokehJS library is missing\")\n",
       "        clearInterval(timer);\n",
       "      }\n",
       "    }, 10, root)\n",
       "  }\n",
       "})(window);"
      ],
      "application/vnd.bokehjs_exec.v0+json": ""
     },
     "metadata": {
      "application/vnd.bokehjs_exec.v0+json": {
       "id": "fb16ca24-190a-4e82-b50d-4cf826f147cd"
      }
     },
     "output_type": "display_data"
    }
   ],
   "source": [
    "cols=['red','green','orange','navy', 'cyan']\n",
    "fig.vbar(x=langs, top=students, color=cols,width=0.5)\n",
    "show(fig)"
   ]
  },
  {
   "cell_type": "code",
   "execution_count": 39,
   "metadata": {},
   "outputs": [
    {
     "data": {
      "text/html": [
       "\n",
       "<div class=\"bk-root\">\n",
       "    <div class=\"bk-plotdiv\" id=\"c8b95fe0-bed1-4ae8-b1f7-0fd118115e12\"></div>\n",
       "</div>"
      ]
     },
     "metadata": {},
     "output_type": "display_data"
    },
    {
     "data": {
      "application/javascript": [
       "(function(root) {\n",
       "  function embed_document(root) {\n",
       "    \n",
       "  var docs_json = {\"a2f452be-cc1c-4518-bdab-44c162e98297\":{\"roots\":{\"references\":[{\"attributes\":{\"callback\":null,\"data\":{\"Feb\":[8,45,10],\"Jan\":[10,40,5],\"Mar\":[25,60,22],\"products\":[\"computer\",\"mobile\",\"printer\"]},\"selected\":{\"id\":\"7e3bff38-bee0-4973-b200-6c2ba9fff30c\",\"type\":\"Selection\"},\"selection_policy\":{\"id\":\"a37ab4c9-9fdb-4e7c-82c4-f27157e28409\",\"type\":\"UnionRenderers\"}},\"id\":\"23efa6fa-f392-48aa-9675-ce9731a5ff61\",\"type\":\"ColumnDataSource\"},{\"attributes\":{\"dimension\":1,\"plot\":{\"id\":\"2a686c65-269b-4ec3-9a42-47882a539147\",\"subtype\":\"Figure\",\"type\":\"Plot\"},\"ticker\":{\"id\":\"92cda6cd-b1c9-4b37-a6df-65dc8c90a6a8\",\"type\":\"BasicTicker\"}},\"id\":\"8b66d249-6ddb-45d7-928b-f027b5873416\",\"type\":\"Grid\"},{\"attributes\":{},\"id\":\"44f64f97-b375-40b2-b0b0-a9b0b1c65ff2\",\"type\":\"CategoricalTicker\"},{\"attributes\":{},\"id\":\"82de7c58-83ce-44b9-9c61-92c9e0079c4e\",\"type\":\"Selection\"},{\"attributes\":{},\"id\":\"59f10205-cc65-4c7f-bf69-62f0277758ff\",\"type\":\"Selection\"},{\"attributes\":{\"active_drag\":\"auto\",\"active_inspect\":\"auto\",\"active_scroll\":\"auto\",\"active_tap\":\"auto\",\"tools\":[{\"id\":\"c65c0771-a809-4b93-8397-daf96b609e75\",\"type\":\"PanTool\"},{\"id\":\"ccee03ea-6207-49f9-a87b-99f682663b11\",\"type\":\"WheelZoomTool\"},{\"id\":\"390bf3da-f766-4130-adb0-5fa921554a16\",\"type\":\"BoxZoomTool\"},{\"id\":\"5aa7f652-9dbb-4922-84e3-c2bf71f81874\",\"type\":\"SaveTool\"},{\"id\":\"7b189fe4-5650-4a51-b745-8c1bee0bc15a\",\"type\":\"ResetTool\"},{\"id\":\"43c95ccd-e93c-467b-87ec-c045a8f261e0\",\"type\":\"HelpTool\"}]},\"id\":\"45a6ffe2-f40d-4578-848b-d831426ae3eb\",\"type\":\"Toolbar\"},{\"attributes\":{\"callback\":null},\"id\":\"7bf70c4b-8dfb-4f4a-bcaa-4ef1de3e239b\",\"type\":\"DataRange1d\"},{\"attributes\":{\"formatter\":{\"id\":\"1b01e3db-893f-437e-a4bb-536a94e6e3f4\",\"type\":\"CategoricalTickFormatter\"},\"plot\":{\"id\":\"2a686c65-269b-4ec3-9a42-47882a539147\",\"subtype\":\"Figure\",\"type\":\"Plot\"},\"ticker\":{\"id\":\"44f64f97-b375-40b2-b0b0-a9b0b1c65ff2\",\"type\":\"CategoricalTicker\"}},\"id\":\"a2f4e116-c06f-4895-9000-09fd6c884739\",\"type\":\"CategoricalAxis\"},{\"attributes\":{\"below\":[{\"id\":\"a2f4e116-c06f-4895-9000-09fd6c884739\",\"type\":\"CategoricalAxis\"}],\"left\":[{\"id\":\"def47617-392f-41bf-9d52-30a001e73207\",\"type\":\"LinearAxis\"}],\"plot_height\":300,\"plot_width\":300,\"renderers\":[{\"id\":\"a2f4e116-c06f-4895-9000-09fd6c884739\",\"type\":\"CategoricalAxis\"},{\"id\":\"62e638b1-578e-42e5-9ff5-eed14c3bfe79\",\"type\":\"Grid\"},{\"id\":\"def47617-392f-41bf-9d52-30a001e73207\",\"type\":\"LinearAxis\"},{\"id\":\"8b66d249-6ddb-45d7-928b-f027b5873416\",\"type\":\"Grid\"},{\"id\":\"22aca30b-b22c-4193-aea3-cbcfaaf1608b\",\"type\":\"BoxAnnotation\"},{\"id\":\"b8299b06-f7a9-4602-9326-a8a393b9f201\",\"type\":\"GlyphRenderer\"},{\"id\":\"7a7da89f-4cc8-4852-82ff-71da494f0cf9\",\"type\":\"GlyphRenderer\"},{\"id\":\"7059c313-8d93-4983-b318-c3cef799f8a2\",\"type\":\"GlyphRenderer\"}],\"title\":{\"id\":\"365f254e-9fbb-4529-97d5-9e53bdb95a8d\",\"type\":\"Title\"},\"toolbar\":{\"id\":\"45a6ffe2-f40d-4578-848b-d831426ae3eb\",\"type\":\"Toolbar\"},\"x_range\":{\"id\":\"a9062277-0e37-4d16-b43e-a28541565df1\",\"type\":\"FactorRange\"},\"x_scale\":{\"id\":\"666fea5d-6a75-4651-a072-70f92c6fb48c\",\"type\":\"CategoricalScale\"},\"y_range\":{\"id\":\"7bf70c4b-8dfb-4f4a-bcaa-4ef1de3e239b\",\"type\":\"DataRange1d\"},\"y_scale\":{\"id\":\"a3c84f28-da5e-4cb6-8334-ec414edaaff6\",\"type\":\"LinearScale\"}},\"id\":\"2a686c65-269b-4ec3-9a42-47882a539147\",\"subtype\":\"Figure\",\"type\":\"Plot\"},{\"attributes\":{\"callback\":null,\"factors\":[\"computer\",\"mobile\",\"printer\"]},\"id\":\"a9062277-0e37-4d16-b43e-a28541565df1\",\"type\":\"FactorRange\"},{\"attributes\":{\"bottom\":{\"expr\":{\"id\":\"5cda6518-3318-42b0-95ca-5eccf600e268\",\"type\":\"Stack\"}},\"fill_alpha\":{\"value\":0.1},\"fill_color\":{\"value\":\"#1f77b4\"},\"line_alpha\":{\"value\":0.1},\"line_color\":{\"value\":\"#1f77b4\"},\"top\":{\"expr\":{\"id\":\"50ddfdf2-1d9c-4a86-9985-ecad9b0e6f78\",\"type\":\"Stack\"}},\"width\":{\"value\":0.5},\"x\":{\"field\":\"products\"}},\"id\":\"2ab3cc5a-a159-4c9e-819d-69cffe203533\",\"type\":\"VBar\"},{\"attributes\":{},\"id\":\"a37ab4c9-9fdb-4e7c-82c4-f27157e28409\",\"type\":\"UnionRenderers\"},{\"attributes\":{\"plot\":null,\"text\":\"\"},\"id\":\"365f254e-9fbb-4529-97d5-9e53bdb95a8d\",\"type\":\"Title\"},{\"attributes\":{\"formatter\":{\"id\":\"3a10b384-1075-4dd6-a1e6-7822a21356b6\",\"type\":\"BasicTickFormatter\"},\"plot\":{\"id\":\"2a686c65-269b-4ec3-9a42-47882a539147\",\"subtype\":\"Figure\",\"type\":\"Plot\"},\"ticker\":{\"id\":\"92cda6cd-b1c9-4b37-a6df-65dc8c90a6a8\",\"type\":\"BasicTicker\"}},\"id\":\"def47617-392f-41bf-9d52-30a001e73207\",\"type\":\"LinearAxis\"},{\"attributes\":{\"data_source\":{\"id\":\"dbddbd99-50ce-4fe7-9963-3f7df7abb474\",\"type\":\"ColumnDataSource\"},\"glyph\":{\"id\":\"3c523e74-31b5-4cf2-898c-878b88eb695c\",\"type\":\"VBar\"},\"hover_glyph\":null,\"muted_glyph\":null,\"nonselection_glyph\":{\"id\":\"c9286792-8af3-4027-abb3-4ae659435517\",\"type\":\"VBar\"},\"selection_glyph\":null,\"view\":{\"id\":\"25a8af25-8285-4f77-b3e6-bcf618e4f853\",\"type\":\"CDSView\"}},\"id\":\"b8299b06-f7a9-4602-9326-a8a393b9f201\",\"type\":\"GlyphRenderer\"},{\"attributes\":{},\"id\":\"3a10b384-1075-4dd6-a1e6-7822a21356b6\",\"type\":\"BasicTickFormatter\"},{\"attributes\":{\"source\":{\"id\":\"6e18fe2e-ad7c-4a04-8603-7259cb7c97b4\",\"type\":\"ColumnDataSource\"}},\"id\":\"4b91a207-62af-4f5e-8466-dc2b84993e8f\",\"type\":\"CDSView\"},{\"attributes\":{},\"id\":\"92cda6cd-b1c9-4b37-a6df-65dc8c90a6a8\",\"type\":\"BasicTicker\"},{\"attributes\":{},\"id\":\"a3c84f28-da5e-4cb6-8334-ec414edaaff6\",\"type\":\"LinearScale\"},{\"attributes\":{\"data_source\":{\"id\":\"23efa6fa-f392-48aa-9675-ce9731a5ff61\",\"type\":\"ColumnDataSource\"},\"glyph\":{\"id\":\"a0ff0299-b80c-4113-a654-e0ad48c25ac7\",\"type\":\"VBar\"},\"hover_glyph\":null,\"muted_glyph\":null,\"nonselection_glyph\":{\"id\":\"9b886d62-af3b-42b5-9d8c-7c07aaf07a5d\",\"type\":\"VBar\"},\"selection_glyph\":null,\"view\":{\"id\":\"61ec8b58-0f37-4831-bcaa-f1e9010b496f\",\"type\":\"CDSView\"}},\"id\":\"7a7da89f-4cc8-4852-82ff-71da494f0cf9\",\"type\":\"GlyphRenderer\"},{\"attributes\":{},\"id\":\"666fea5d-6a75-4651-a072-70f92c6fb48c\",\"type\":\"CategoricalScale\"},{\"attributes\":{\"fields\":[\"Jan\"]},\"id\":\"a932bc52-eb88-4e07-9c93-175eadee099f\",\"type\":\"Stack\"},{\"attributes\":{\"plot\":{\"id\":\"2a686c65-269b-4ec3-9a42-47882a539147\",\"subtype\":\"Figure\",\"type\":\"Plot\"},\"ticker\":{\"id\":\"44f64f97-b375-40b2-b0b0-a9b0b1c65ff2\",\"type\":\"CategoricalTicker\"}},\"id\":\"62e638b1-578e-42e5-9ff5-eed14c3bfe79\",\"type\":\"Grid\"},{\"attributes\":{\"source\":{\"id\":\"23efa6fa-f392-48aa-9675-ce9731a5ff61\",\"type\":\"ColumnDataSource\"}},\"id\":\"61ec8b58-0f37-4831-bcaa-f1e9010b496f\",\"type\":\"CDSView\"},{\"attributes\":{\"fields\":[\"Jan\",\"Feb\",\"Mar\"]},\"id\":\"50ddfdf2-1d9c-4a86-9985-ecad9b0e6f78\",\"type\":\"Stack\"},{\"attributes\":{\"source\":{\"id\":\"dbddbd99-50ce-4fe7-9963-3f7df7abb474\",\"type\":\"ColumnDataSource\"}},\"id\":\"25a8af25-8285-4f77-b3e6-bcf618e4f853\",\"type\":\"CDSView\"},{\"attributes\":{},\"id\":\"7e3bff38-bee0-4973-b200-6c2ba9fff30c\",\"type\":\"Selection\"},{\"attributes\":{\"data_source\":{\"id\":\"6e18fe2e-ad7c-4a04-8603-7259cb7c97b4\",\"type\":\"ColumnDataSource\"},\"glyph\":{\"id\":\"4e66b79e-da36-46f9-8ecb-5cefee807b98\",\"type\":\"VBar\"},\"hover_glyph\":null,\"muted_glyph\":null,\"nonselection_glyph\":{\"id\":\"2ab3cc5a-a159-4c9e-819d-69cffe203533\",\"type\":\"VBar\"},\"selection_glyph\":null,\"view\":{\"id\":\"4b91a207-62af-4f5e-8466-dc2b84993e8f\",\"type\":\"CDSView\"}},\"id\":\"7059c313-8d93-4983-b318-c3cef799f8a2\",\"type\":\"GlyphRenderer\"},{\"attributes\":{\"callback\":null,\"data\":{\"Feb\":[8,45,10],\"Jan\":[10,40,5],\"Mar\":[25,60,22],\"products\":[\"computer\",\"mobile\",\"printer\"]},\"selected\":{\"id\":\"82de7c58-83ce-44b9-9c61-92c9e0079c4e\",\"type\":\"Selection\"},\"selection_policy\":{\"id\":\"dce51553-bda6-4868-bbe2-aad81ea97fcc\",\"type\":\"UnionRenderers\"}},\"id\":\"dbddbd99-50ce-4fe7-9963-3f7df7abb474\",\"type\":\"ColumnDataSource\"},{\"attributes\":{\"callback\":null,\"data\":{\"Feb\":[8,45,10],\"Jan\":[10,40,5],\"Mar\":[25,60,22],\"products\":[\"computer\",\"mobile\",\"printer\"]},\"selected\":{\"id\":\"59f10205-cc65-4c7f-bf69-62f0277758ff\",\"type\":\"Selection\"},\"selection_policy\":{\"id\":\"45cc6a93-2534-49c1-966e-e871732c7790\",\"type\":\"UnionRenderers\"}},\"id\":\"6e18fe2e-ad7c-4a04-8603-7259cb7c97b4\",\"type\":\"ColumnDataSource\"},{\"attributes\":{},\"id\":\"dce51553-bda6-4868-bbe2-aad81ea97fcc\",\"type\":\"UnionRenderers\"},{\"attributes\":{\"fields\":[]},\"id\":\"fbb78ac7-4c2c-48ba-b160-0fc7ef7f36cb\",\"type\":\"Stack\"},{\"attributes\":{\"overlay\":{\"id\":\"22aca30b-b22c-4193-aea3-cbcfaaf1608b\",\"type\":\"BoxAnnotation\"}},\"id\":\"390bf3da-f766-4130-adb0-5fa921554a16\",\"type\":\"BoxZoomTool\"},{\"attributes\":{\"bottom\":{\"expr\":{\"id\":\"5cda6518-3318-42b0-95ca-5eccf600e268\",\"type\":\"Stack\"}},\"fill_color\":{\"value\":\"blue\"},\"line_color\":{\"value\":\"blue\"},\"top\":{\"expr\":{\"id\":\"50ddfdf2-1d9c-4a86-9985-ecad9b0e6f78\",\"type\":\"Stack\"}},\"width\":{\"value\":0.5},\"x\":{\"field\":\"products\"}},\"id\":\"4e66b79e-da36-46f9-8ecb-5cefee807b98\",\"type\":\"VBar\"},{\"attributes\":{\"bottom\":{\"expr\":{\"id\":\"fbb78ac7-4c2c-48ba-b160-0fc7ef7f36cb\",\"type\":\"Stack\"}},\"fill_color\":{\"value\":\"red\"},\"line_color\":{\"value\":\"red\"},\"top\":{\"expr\":{\"id\":\"a932bc52-eb88-4e07-9c93-175eadee099f\",\"type\":\"Stack\"}},\"width\":{\"value\":0.5},\"x\":{\"field\":\"products\"}},\"id\":\"3c523e74-31b5-4cf2-898c-878b88eb695c\",\"type\":\"VBar\"},{\"attributes\":{\"fields\":[\"Jan\"]},\"id\":\"341afccc-f481-4d1f-ada4-d6457769e5be\",\"type\":\"Stack\"},{\"attributes\":{\"bottom\":{\"expr\":{\"id\":\"341afccc-f481-4d1f-ada4-d6457769e5be\",\"type\":\"Stack\"}},\"fill_color\":{\"value\":\"green\"},\"line_color\":{\"value\":\"green\"},\"top\":{\"expr\":{\"id\":\"71f1f36b-539e-4b5f-806f-a1d72bd30e9c\",\"type\":\"Stack\"}},\"width\":{\"value\":0.5},\"x\":{\"field\":\"products\"}},\"id\":\"a0ff0299-b80c-4113-a654-e0ad48c25ac7\",\"type\":\"VBar\"},{\"attributes\":{},\"id\":\"1b01e3db-893f-437e-a4bb-536a94e6e3f4\",\"type\":\"CategoricalTickFormatter\"},{\"attributes\":{\"bottom_units\":\"screen\",\"fill_alpha\":{\"value\":0.5},\"fill_color\":{\"value\":\"lightgrey\"},\"left_units\":\"screen\",\"level\":\"overlay\",\"line_alpha\":{\"value\":1.0},\"line_color\":{\"value\":\"black\"},\"line_dash\":[4,4],\"line_width\":{\"value\":2},\"plot\":null,\"render_mode\":\"css\",\"right_units\":\"screen\",\"top_units\":\"screen\"},\"id\":\"22aca30b-b22c-4193-aea3-cbcfaaf1608b\",\"type\":\"BoxAnnotation\"},{\"attributes\":{\"bottom\":{\"expr\":{\"id\":\"fbb78ac7-4c2c-48ba-b160-0fc7ef7f36cb\",\"type\":\"Stack\"}},\"fill_alpha\":{\"value\":0.1},\"fill_color\":{\"value\":\"#1f77b4\"},\"line_alpha\":{\"value\":0.1},\"line_color\":{\"value\":\"#1f77b4\"},\"top\":{\"expr\":{\"id\":\"a932bc52-eb88-4e07-9c93-175eadee099f\",\"type\":\"Stack\"}},\"width\":{\"value\":0.5},\"x\":{\"field\":\"products\"}},\"id\":\"c9286792-8af3-4027-abb3-4ae659435517\",\"type\":\"VBar\"},{\"attributes\":{\"bottom\":{\"expr\":{\"id\":\"341afccc-f481-4d1f-ada4-d6457769e5be\",\"type\":\"Stack\"}},\"fill_alpha\":{\"value\":0.1},\"fill_color\":{\"value\":\"#1f77b4\"},\"line_alpha\":{\"value\":0.1},\"line_color\":{\"value\":\"#1f77b4\"},\"top\":{\"expr\":{\"id\":\"71f1f36b-539e-4b5f-806f-a1d72bd30e9c\",\"type\":\"Stack\"}},\"width\":{\"value\":0.5},\"x\":{\"field\":\"products\"}},\"id\":\"9b886d62-af3b-42b5-9d8c-7c07aaf07a5d\",\"type\":\"VBar\"},{\"attributes\":{},\"id\":\"c65c0771-a809-4b93-8397-daf96b609e75\",\"type\":\"PanTool\"},{\"attributes\":{},\"id\":\"ccee03ea-6207-49f9-a87b-99f682663b11\",\"type\":\"WheelZoomTool\"},{\"attributes\":{\"fields\":[\"Jan\",\"Feb\"]},\"id\":\"5cda6518-3318-42b0-95ca-5eccf600e268\",\"type\":\"Stack\"},{\"attributes\":{},\"id\":\"5aa7f652-9dbb-4922-84e3-c2bf71f81874\",\"type\":\"SaveTool\"},{\"attributes\":{},\"id\":\"45cc6a93-2534-49c1-966e-e871732c7790\",\"type\":\"UnionRenderers\"},{\"attributes\":{},\"id\":\"43c95ccd-e93c-467b-87ec-c045a8f261e0\",\"type\":\"HelpTool\"},{\"attributes\":{\"fields\":[\"Jan\",\"Feb\"]},\"id\":\"71f1f36b-539e-4b5f-806f-a1d72bd30e9c\",\"type\":\"Stack\"},{\"attributes\":{},\"id\":\"7b189fe4-5650-4a51-b745-8c1bee0bc15a\",\"type\":\"ResetTool\"}],\"root_ids\":[\"2a686c65-269b-4ec3-9a42-47882a539147\"]},\"title\":\"Bokeh Application\",\"version\":\"0.12.16\"}};\n",
       "  var render_items = [{\"docid\":\"a2f452be-cc1c-4518-bdab-44c162e98297\",\"elementid\":\"c8b95fe0-bed1-4ae8-b1f7-0fd118115e12\",\"modelid\":\"2a686c65-269b-4ec3-9a42-47882a539147\"}];\n",
       "  root.Bokeh.embed.embed_items_notebook(docs_json, render_items);\n",
       "\n",
       "  }\n",
       "  if (root.Bokeh !== undefined) {\n",
       "    embed_document(root);\n",
       "  } else {\n",
       "    var attempts = 0;\n",
       "    var timer = setInterval(function(root) {\n",
       "      if (root.Bokeh !== undefined) {\n",
       "        embed_document(root);\n",
       "        clearInterval(timer);\n",
       "      }\n",
       "      attempts++;\n",
       "      if (attempts > 100) {\n",
       "        console.log(\"Bokeh: ERROR: Unable to run BokehJS code because BokehJS library is missing\")\n",
       "        clearInterval(timer);\n",
       "      }\n",
       "    }, 10, root)\n",
       "  }\n",
       "})(window);"
      ],
      "application/vnd.bokehjs_exec.v0+json": ""
     },
     "metadata": {
      "application/vnd.bokehjs_exec.v0+json": {
       "id": "2a686c65-269b-4ec3-9a42-47882a539147"
      }
     },
     "output_type": "display_data"
    }
   ],
   "source": [
    "# Other Example\n",
    "from bokeh.plotting import figure, output_file, show\n",
    "products=['computer','mobile','printer']\n",
    "months=['Jan','Feb','Mar']\n",
    "sales={'products':products,\n",
    " 'Jan':[10,40,5],\n",
    " 'Feb':[8,45,10],\n",
    " 'Mar':[25,60,22]}\n",
    "cols=['red','green','blue']#,'navy', 'cyan']\n",
    "fig=figure(x_range=products, plot_width=300, plot_height=300)\n",
    "fig.vbar_stack(months, x='products', source=sales, color=cols,width=0.5)\n",
    "show(fig)\n"
   ]
  },
  {
   "cell_type": "code",
   "execution_count": 40,
   "metadata": {},
   "outputs": [
    {
     "data": {
      "text/html": [
       "\n",
       "<div class=\"bk-root\">\n",
       "    <div class=\"bk-plotdiv\" id=\"70b01fbc-88bc-4458-b3b2-21350668d92b\"></div>\n",
       "</div>"
      ]
     },
     "metadata": {},
     "output_type": "display_data"
    },
    {
     "data": {
      "application/javascript": [
       "(function(root) {\n",
       "  function embed_document(root) {\n",
       "    \n",
       "  var docs_json = {\"1d6d012b-99a0-4ff4-a034-f8d1129eed8f\":{\"roots\":{\"references\":[{\"attributes\":{},\"id\":\"b7c95f30-97ba-4734-a014-a49de5b7c53a\",\"type\":\"BasicTicker\"},{\"attributes\":{\"fill_color\":{\"value\":\"blue\"},\"line_color\":{\"value\":\"blue\"},\"top\":{\"field\":\"Mar\"},\"width\":{\"value\":0.2},\"x\":{\"field\":\"products\",\"transform\":{\"id\":\"ff26d3db-9575-4ef3-8a04-dc39b8e6e4d4\",\"type\":\"Dodge\"}}},\"id\":\"d9b14112-2b18-4d06-b205-a20cd85d06db\",\"type\":\"VBar\"},{\"attributes\":{},\"id\":\"a57989d5-54b6-4db1-bbf6-9995dd94c1ad\",\"type\":\"Selection\"},{\"attributes\":{},\"id\":\"9081b33a-dd2a-4303-b5f8-78c2f967c696\",\"type\":\"Selection\"},{\"attributes\":{},\"id\":\"520962f5-53f5-46f0-931e-dac96a17de27\",\"type\":\"CategoricalTicker\"},{\"attributes\":{},\"id\":\"6b04a264-2a07-49ec-b616-653c2e329969\",\"type\":\"PanTool\"},{\"attributes\":{\"callback\":null,\"data\":{\"Feb\":[8,45,10],\"Jan\":[10,40,5],\"Mar\":[25,60,22],\"products\":[\"computer\",\"mobile\",\"printer\"]},\"selected\":{\"id\":\"98c7301c-fb67-4db6-9cda-69f24bb3051b\",\"type\":\"Selection\"},\"selection_policy\":{\"id\":\"c22bd714-3733-49f5-90e3-697dee8b0fbe\",\"type\":\"UnionRenderers\"}},\"id\":\"a0fc07d7-2bee-4c28-820f-a3fbdb6ee6e8\",\"type\":\"ColumnDataSource\"},{\"attributes\":{\"callback\":null},\"id\":\"f5b8e615-03ab-4bf1-b6f2-acb7bc3b7ce5\",\"type\":\"DataRange1d\"},{\"attributes\":{\"source\":{\"id\":\"09d79f49-580d-471a-819a-d833a2caaf6b\",\"type\":\"ColumnDataSource\"}},\"id\":\"94eccdbc-ab3a-44fe-93d2-4d736a4a0491\",\"type\":\"CDSView\"},{\"attributes\":{\"range\":{\"id\":\"d2442907-a823-4905-85ff-39794b1c9638\",\"type\":\"FactorRange\"},\"value\":0.25},\"id\":\"ff26d3db-9575-4ef3-8a04-dc39b8e6e4d4\",\"type\":\"Dodge\"},{\"attributes\":{\"data_source\":{\"id\":\"7176d35d-0b85-4235-8379-c79f42b4be47\",\"type\":\"ColumnDataSource\"},\"glyph\":{\"id\":\"14c86ba2-3109-4a52-93f1-4d9d00042539\",\"type\":\"VBar\"},\"hover_glyph\":null,\"muted_glyph\":null,\"nonselection_glyph\":{\"id\":\"50ff1ed9-98a7-4849-90ef-bdc22b83ebcc\",\"type\":\"VBar\"},\"selection_glyph\":null,\"view\":{\"id\":\"f96e46c0-ee4a-494f-8ac7-9f685014c356\",\"type\":\"CDSView\"}},\"id\":\"06fc5e46-ec5f-49d4-bd44-6a11f33b1cab\",\"type\":\"GlyphRenderer\"},{\"attributes\":{},\"id\":\"bb647e11-a468-4f64-bd4b-072b162585c5\",\"type\":\"UnionRenderers\"},{\"attributes\":{\"formatter\":{\"id\":\"0eb3f16a-bf69-4b0e-bcc1-2c1a8283fef9\",\"type\":\"CategoricalTickFormatter\"},\"plot\":{\"id\":\"7fed684f-33fe-408f-b8e3-e699bb4184a2\",\"subtype\":\"Figure\",\"type\":\"Plot\"},\"ticker\":{\"id\":\"520962f5-53f5-46f0-931e-dac96a17de27\",\"type\":\"CategoricalTicker\"}},\"id\":\"ae21d015-d41f-4021-bc26-aa0d09c54325\",\"type\":\"CategoricalAxis\"},{\"attributes\":{},\"id\":\"3e1ca4c0-c8c8-4c58-9133-ac98cf43e0e6\",\"type\":\"HelpTool\"},{\"attributes\":{},\"id\":\"51000a42-da8f-4d3e-9851-ce2f79122fe6\",\"type\":\"SaveTool\"},{\"attributes\":{\"data_source\":{\"id\":\"a0fc07d7-2bee-4c28-820f-a3fbdb6ee6e8\",\"type\":\"ColumnDataSource\"},\"glyph\":{\"id\":\"d9b14112-2b18-4d06-b205-a20cd85d06db\",\"type\":\"VBar\"},\"hover_glyph\":null,\"muted_glyph\":null,\"nonselection_glyph\":{\"id\":\"56326ae4-8cfa-4af6-a6ad-3b61da18f0d8\",\"type\":\"VBar\"},\"selection_glyph\":null,\"view\":{\"id\":\"b693f0e6-245f-4aaa-916e-05f07de99fd9\",\"type\":\"CDSView\"}},\"id\":\"ee31c324-693b-4d37-975f-5d60d7e52161\",\"type\":\"GlyphRenderer\"},{\"attributes\":{},\"id\":\"581d8db9-7663-4907-9bac-c825d5156673\",\"type\":\"ResetTool\"},{\"attributes\":{\"fill_color\":{\"value\":\"green\"},\"line_color\":{\"value\":\"green\"},\"top\":{\"field\":\"Feb\"},\"width\":{\"value\":0.2},\"x\":{\"field\":\"products\",\"transform\":{\"id\":\"01edd4a1-f7d5-4d3e-958b-29273e5902c6\",\"type\":\"Dodge\"}}},\"id\":\"14c86ba2-3109-4a52-93f1-4d9d00042539\",\"type\":\"VBar\"},{\"attributes\":{\"plot\":null,\"text\":\"\"},\"id\":\"f1030f7b-58e7-4247-9bc0-611294d19b23\",\"type\":\"Title\"},{\"attributes\":{\"active_drag\":\"auto\",\"active_inspect\":\"auto\",\"active_scroll\":\"auto\",\"active_tap\":\"auto\",\"tools\":[{\"id\":\"6b04a264-2a07-49ec-b616-653c2e329969\",\"type\":\"PanTool\"},{\"id\":\"df0c69d8-6355-47cd-8cf1-7a3c3d3b3b50\",\"type\":\"WheelZoomTool\"},{\"id\":\"b8314261-08c9-4850-8893-f9d3bdb7a1da\",\"type\":\"BoxZoomTool\"},{\"id\":\"51000a42-da8f-4d3e-9851-ce2f79122fe6\",\"type\":\"SaveTool\"},{\"id\":\"581d8db9-7663-4907-9bac-c825d5156673\",\"type\":\"ResetTool\"},{\"id\":\"3e1ca4c0-c8c8-4c58-9133-ac98cf43e0e6\",\"type\":\"HelpTool\"}]},\"id\":\"32cb433f-35a4-44a3-a4b5-6c4085a53909\",\"type\":\"Toolbar\"},{\"attributes\":{\"callback\":null,\"data\":{\"Feb\":[8,45,10],\"Jan\":[10,40,5],\"Mar\":[25,60,22],\"products\":[\"computer\",\"mobile\",\"printer\"]},\"selected\":{\"id\":\"a57989d5-54b6-4db1-bbf6-9995dd94c1ad\",\"type\":\"Selection\"},\"selection_policy\":{\"id\":\"bb647e11-a468-4f64-bd4b-072b162585c5\",\"type\":\"UnionRenderers\"}},\"id\":\"7176d35d-0b85-4235-8379-c79f42b4be47\",\"type\":\"ColumnDataSource\"},{\"attributes\":{\"data_source\":{\"id\":\"09d79f49-580d-471a-819a-d833a2caaf6b\",\"type\":\"ColumnDataSource\"},\"glyph\":{\"id\":\"74b74225-e524-4be9-862b-c16464ac64b4\",\"type\":\"VBar\"},\"hover_glyph\":null,\"muted_glyph\":null,\"nonselection_glyph\":{\"id\":\"50713933-637e-49a3-b6d7-99ab5f51de4d\",\"type\":\"VBar\"},\"selection_glyph\":null,\"view\":{\"id\":\"94eccdbc-ab3a-44fe-93d2-4d736a4a0491\",\"type\":\"CDSView\"}},\"id\":\"dafc848a-7329-4231-8ab4-d9d2e1d8b3e2\",\"type\":\"GlyphRenderer\"},{\"attributes\":{},\"id\":\"46dcc8a0-52a8-402c-904d-8f89d4673a82\",\"type\":\"UnionRenderers\"},{\"attributes\":{\"fill_alpha\":{\"value\":0.1},\"fill_color\":{\"value\":\"#1f77b4\"},\"line_alpha\":{\"value\":0.1},\"line_color\":{\"value\":\"#1f77b4\"},\"top\":{\"field\":\"Mar\"},\"width\":{\"value\":0.2},\"x\":{\"field\":\"products\",\"transform\":{\"id\":\"ff26d3db-9575-4ef3-8a04-dc39b8e6e4d4\",\"type\":\"Dodge\"}}},\"id\":\"56326ae4-8cfa-4af6-a6ad-3b61da18f0d8\",\"type\":\"VBar\"},{\"attributes\":{},\"id\":\"c22bd714-3733-49f5-90e3-697dee8b0fbe\",\"type\":\"UnionRenderers\"},{\"attributes\":{},\"id\":\"df0c69d8-6355-47cd-8cf1-7a3c3d3b3b50\",\"type\":\"WheelZoomTool\"},{\"attributes\":{\"overlay\":{\"id\":\"38c8b47c-cd60-4131-9842-081adc4d9486\",\"type\":\"BoxAnnotation\"}},\"id\":\"b8314261-08c9-4850-8893-f9d3bdb7a1da\",\"type\":\"BoxZoomTool\"},{\"attributes\":{\"range\":{\"id\":\"d2442907-a823-4905-85ff-39794b1c9638\",\"type\":\"FactorRange\"},\"value\":-0.25},\"id\":\"991a5749-3a19-4702-a176-0fee7d2fa612\",\"type\":\"Dodge\"},{\"attributes\":{\"source\":{\"id\":\"a0fc07d7-2bee-4c28-820f-a3fbdb6ee6e8\",\"type\":\"ColumnDataSource\"}},\"id\":\"b693f0e6-245f-4aaa-916e-05f07de99fd9\",\"type\":\"CDSView\"},{\"attributes\":{},\"id\":\"079dc42f-f5a2-4956-a397-07443a9ee156\",\"type\":\"CategoricalScale\"},{\"attributes\":{},\"id\":\"98c7301c-fb67-4db6-9cda-69f24bb3051b\",\"type\":\"Selection\"},{\"attributes\":{\"fill_color\":{\"value\":\"red\"},\"line_color\":{\"value\":\"red\"},\"top\":{\"field\":\"Jan\"},\"width\":{\"value\":0.2},\"x\":{\"field\":\"products\",\"transform\":{\"id\":\"991a5749-3a19-4702-a176-0fee7d2fa612\",\"type\":\"Dodge\"}}},\"id\":\"74b74225-e524-4be9-862b-c16464ac64b4\",\"type\":\"VBar\"},{\"attributes\":{\"range\":{\"id\":\"d2442907-a823-4905-85ff-39794b1c9638\",\"type\":\"FactorRange\"}},\"id\":\"01edd4a1-f7d5-4d3e-958b-29273e5902c6\",\"type\":\"Dodge\"},{\"attributes\":{\"plot\":{\"id\":\"7fed684f-33fe-408f-b8e3-e699bb4184a2\",\"subtype\":\"Figure\",\"type\":\"Plot\"},\"ticker\":{\"id\":\"520962f5-53f5-46f0-931e-dac96a17de27\",\"type\":\"CategoricalTicker\"}},\"id\":\"2530c8c7-4109-4c16-83fe-372e39ecadfd\",\"type\":\"Grid\"},{\"attributes\":{\"bottom_units\":\"screen\",\"fill_alpha\":{\"value\":0.5},\"fill_color\":{\"value\":\"lightgrey\"},\"left_units\":\"screen\",\"level\":\"overlay\",\"line_alpha\":{\"value\":1.0},\"line_color\":{\"value\":\"black\"},\"line_dash\":[4,4],\"line_width\":{\"value\":2},\"plot\":null,\"render_mode\":\"css\",\"right_units\":\"screen\",\"top_units\":\"screen\"},\"id\":\"38c8b47c-cd60-4131-9842-081adc4d9486\",\"type\":\"BoxAnnotation\"},{\"attributes\":{\"below\":[{\"id\":\"ae21d015-d41f-4021-bc26-aa0d09c54325\",\"type\":\"CategoricalAxis\"}],\"left\":[{\"id\":\"e513fd1e-9b61-4b47-b34f-86c36d36a99e\",\"type\":\"LinearAxis\"}],\"plot_height\":300,\"plot_width\":300,\"renderers\":[{\"id\":\"ae21d015-d41f-4021-bc26-aa0d09c54325\",\"type\":\"CategoricalAxis\"},{\"id\":\"2530c8c7-4109-4c16-83fe-372e39ecadfd\",\"type\":\"Grid\"},{\"id\":\"e513fd1e-9b61-4b47-b34f-86c36d36a99e\",\"type\":\"LinearAxis\"},{\"id\":\"954f22ed-551a-44f2-89dc-5e6bdb6b54f9\",\"type\":\"Grid\"},{\"id\":\"38c8b47c-cd60-4131-9842-081adc4d9486\",\"type\":\"BoxAnnotation\"},{\"id\":\"dafc848a-7329-4231-8ab4-d9d2e1d8b3e2\",\"type\":\"GlyphRenderer\"},{\"id\":\"06fc5e46-ec5f-49d4-bd44-6a11f33b1cab\",\"type\":\"GlyphRenderer\"},{\"id\":\"ee31c324-693b-4d37-975f-5d60d7e52161\",\"type\":\"GlyphRenderer\"}],\"title\":{\"id\":\"f1030f7b-58e7-4247-9bc0-611294d19b23\",\"type\":\"Title\"},\"toolbar\":{\"id\":\"32cb433f-35a4-44a3-a4b5-6c4085a53909\",\"type\":\"Toolbar\"},\"x_range\":{\"id\":\"d2442907-a823-4905-85ff-39794b1c9638\",\"type\":\"FactorRange\"},\"x_scale\":{\"id\":\"079dc42f-f5a2-4956-a397-07443a9ee156\",\"type\":\"CategoricalScale\"},\"y_range\":{\"id\":\"f5b8e615-03ab-4bf1-b6f2-acb7bc3b7ce5\",\"type\":\"DataRange1d\"},\"y_scale\":{\"id\":\"957d0642-32cb-4781-af99-ee3a625f0c2a\",\"type\":\"LinearScale\"}},\"id\":\"7fed684f-33fe-408f-b8e3-e699bb4184a2\",\"subtype\":\"Figure\",\"type\":\"Plot\"},{\"attributes\":{\"fill_alpha\":{\"value\":0.1},\"fill_color\":{\"value\":\"#1f77b4\"},\"line_alpha\":{\"value\":0.1},\"line_color\":{\"value\":\"#1f77b4\"},\"top\":{\"field\":\"Jan\"},\"width\":{\"value\":0.2},\"x\":{\"field\":\"products\",\"transform\":{\"id\":\"991a5749-3a19-4702-a176-0fee7d2fa612\",\"type\":\"Dodge\"}}},\"id\":\"50713933-637e-49a3-b6d7-99ab5f51de4d\",\"type\":\"VBar\"},{\"attributes\":{},\"id\":\"0eb3f16a-bf69-4b0e-bcc1-2c1a8283fef9\",\"type\":\"CategoricalTickFormatter\"},{\"attributes\":{\"fill_alpha\":{\"value\":0.1},\"fill_color\":{\"value\":\"#1f77b4\"},\"line_alpha\":{\"value\":0.1},\"line_color\":{\"value\":\"#1f77b4\"},\"top\":{\"field\":\"Feb\"},\"width\":{\"value\":0.2},\"x\":{\"field\":\"products\",\"transform\":{\"id\":\"01edd4a1-f7d5-4d3e-958b-29273e5902c6\",\"type\":\"Dodge\"}}},\"id\":\"50ff1ed9-98a7-4849-90ef-bdc22b83ebcc\",\"type\":\"VBar\"},{\"attributes\":{\"callback\":null,\"data\":{\"Feb\":[8,45,10],\"Jan\":[10,40,5],\"Mar\":[25,60,22],\"products\":[\"computer\",\"mobile\",\"printer\"]},\"selected\":{\"id\":\"9081b33a-dd2a-4303-b5f8-78c2f967c696\",\"type\":\"Selection\"},\"selection_policy\":{\"id\":\"46dcc8a0-52a8-402c-904d-8f89d4673a82\",\"type\":\"UnionRenderers\"}},\"id\":\"09d79f49-580d-471a-819a-d833a2caaf6b\",\"type\":\"ColumnDataSource\"},{\"attributes\":{},\"id\":\"1dc6faaf-31b8-4c7e-9e96-9fe45d8ce138\",\"type\":\"BasicTickFormatter\"},{\"attributes\":{\"callback\":null,\"factors\":[\"computer\",\"mobile\",\"printer\"]},\"id\":\"d2442907-a823-4905-85ff-39794b1c9638\",\"type\":\"FactorRange\"},{\"attributes\":{\"source\":{\"id\":\"7176d35d-0b85-4235-8379-c79f42b4be47\",\"type\":\"ColumnDataSource\"}},\"id\":\"f96e46c0-ee4a-494f-8ac7-9f685014c356\",\"type\":\"CDSView\"},{\"attributes\":{\"dimension\":1,\"plot\":{\"id\":\"7fed684f-33fe-408f-b8e3-e699bb4184a2\",\"subtype\":\"Figure\",\"type\":\"Plot\"},\"ticker\":{\"id\":\"b7c95f30-97ba-4734-a014-a49de5b7c53a\",\"type\":\"BasicTicker\"}},\"id\":\"954f22ed-551a-44f2-89dc-5e6bdb6b54f9\",\"type\":\"Grid\"},{\"attributes\":{},\"id\":\"957d0642-32cb-4781-af99-ee3a625f0c2a\",\"type\":\"LinearScale\"},{\"attributes\":{\"formatter\":{\"id\":\"1dc6faaf-31b8-4c7e-9e96-9fe45d8ce138\",\"type\":\"BasicTickFormatter\"},\"plot\":{\"id\":\"7fed684f-33fe-408f-b8e3-e699bb4184a2\",\"subtype\":\"Figure\",\"type\":\"Plot\"},\"ticker\":{\"id\":\"b7c95f30-97ba-4734-a014-a49de5b7c53a\",\"type\":\"BasicTicker\"}},\"id\":\"e513fd1e-9b61-4b47-b34f-86c36d36a99e\",\"type\":\"LinearAxis\"}],\"root_ids\":[\"7fed684f-33fe-408f-b8e3-e699bb4184a2\"]},\"title\":\"Bokeh Application\",\"version\":\"0.12.16\"}};\n",
       "  var render_items = [{\"docid\":\"1d6d012b-99a0-4ff4-a034-f8d1129eed8f\",\"elementid\":\"70b01fbc-88bc-4458-b3b2-21350668d92b\",\"modelid\":\"7fed684f-33fe-408f-b8e3-e699bb4184a2\"}];\n",
       "  root.Bokeh.embed.embed_items_notebook(docs_json, render_items);\n",
       "\n",
       "  }\n",
       "  if (root.Bokeh !== undefined) {\n",
       "    embed_document(root);\n",
       "  } else {\n",
       "    var attempts = 0;\n",
       "    var timer = setInterval(function(root) {\n",
       "      if (root.Bokeh !== undefined) {\n",
       "        embed_document(root);\n",
       "        clearInterval(timer);\n",
       "      }\n",
       "      attempts++;\n",
       "      if (attempts > 100) {\n",
       "        console.log(\"Bokeh: ERROR: Unable to run BokehJS code because BokehJS library is missing\")\n",
       "        clearInterval(timer);\n",
       "      }\n",
       "    }, 10, root)\n",
       "  }\n",
       "})(window);"
      ],
      "application/vnd.bokehjs_exec.v0+json": ""
     },
     "metadata": {
      "application/vnd.bokehjs_exec.v0+json": {
       "id": "7fed684f-33fe-408f-b8e3-e699bb4184a2"
      }
     },
     "output_type": "display_data"
    }
   ],
   "source": [
    "# Or by using this representation\n",
    "from bokeh.plotting import figure, output_file, show\n",
    "from bokeh.transform import dodge\n",
    "products=['computer','mobile','printer']\n",
    "months=['Jan','Feb','Mar']\n",
    "sales={'products':products,\n",
    " 'Jan':[10,40,5],\n",
    " 'Feb':[8,45,10],\n",
    " 'Mar':[25,60,22]}\n",
    "fig=figure(x_range=products, plot_width=300, plot_height=300)\n",
    "fig.vbar(x=dodge('products', -0.25, range=fig.x_range), top='Jan',\n",
    " width=0.2,source=sales, color=\"red\")\n",
    "fig.vbar(x=dodge('products', 0.0, range=fig.x_range), top='Feb',\n",
    " width=0.2, source=sales,color=\"green\")\n",
    "fig.vbar(x=dodge('products', 0.25, range=fig.x_range), top='Mar',\n",
    " width=0.2,source=sales,color=\"blue\")\n",
    "show(fig)"
   ]
  },
  {
   "cell_type": "markdown",
   "metadata": {},
   "source": [
    "### Twin Axes or Replot"
   ]
  },
  {
   "cell_type": "code",
   "execution_count": 41,
   "metadata": {},
   "outputs": [
    {
     "data": {
      "text/html": [
       "\n",
       "<div class=\"bk-root\">\n",
       "    <div class=\"bk-plotdiv\" id=\"9180014d-c6ad-4f56-89d3-b02c1d7400e5\"></div>\n",
       "</div>"
      ]
     },
     "metadata": {},
     "output_type": "display_data"
    },
    {
     "data": {
      "application/javascript": [
       "(function(root) {\n",
       "  function embed_document(root) {\n",
       "    \n",
       "  var docs_json = {\"bcd9e80d-dd10-4dc8-af1c-e265fa08f2ea\":{\"roots\":{\"references\":[{\"attributes\":{\"dimension\":1,\"plot\":{\"id\":\"4a7f8771-b76a-4a9a-92cb-f44bcca04150\",\"subtype\":\"Figure\",\"type\":\"Plot\"},\"ticker\":{\"id\":\"3a1bb308-02e6-4711-b91f-a8883309106c\",\"type\":\"BasicTicker\"}},\"id\":\"f2fbee72-40c8-45c6-ae3e-ab51116c4dad\",\"type\":\"Grid\"},{\"attributes\":{},\"id\":\"a6a55db4-88b6-4c56-b583-d2f28e5f61b1\",\"type\":\"PanTool\"},{\"attributes\":{\"line_alpha\":0.1,\"line_color\":\"#1f77b4\",\"x\":{\"field\":\"x\"},\"y\":{\"field\":\"y\"}},\"id\":\"e4e4ce28-9080-412f-806d-061fba072dc4\",\"type\":\"Line\"},{\"attributes\":{},\"id\":\"0033fe97-9285-426a-8ffc-60526064cc93\",\"type\":\"LinearScale\"},{\"attributes\":{},\"id\":\"b4868c2b-fe1b-49e6-8dd2-ca4dd691680e\",\"type\":\"Selection\"},{\"attributes\":{},\"id\":\"3a1bb308-02e6-4711-b91f-a8883309106c\",\"type\":\"BasicTicker\"},{\"attributes\":{\"data_source\":{\"id\":\"8b607f7f-4d61-4368-aa02-4d6d48159d03\",\"type\":\"ColumnDataSource\"},\"glyph\":{\"id\":\"c20dec47-af0b-42ff-b813-fba31b93f120\",\"type\":\"Line\"},\"hover_glyph\":null,\"muted_glyph\":null,\"nonselection_glyph\":{\"id\":\"68a26320-0b2c-4942-aff2-1de499b71438\",\"type\":\"Line\"},\"selection_glyph\":null,\"view\":{\"id\":\"c7d25511-fc14-4493-ac35-a3b723e10369\",\"type\":\"CDSView\"},\"y_range_name\":\"y2\"},\"id\":\"f28e4be4-c8b4-4f9a-bf2f-93918b9dfddd\",\"type\":\"GlyphRenderer\"},{\"attributes\":{\"formatter\":{\"id\":\"f6880690-8786-442d-a521-4ab81f7b9062\",\"type\":\"BasicTickFormatter\"},\"plot\":{\"id\":\"4a7f8771-b76a-4a9a-92cb-f44bcca04150\",\"subtype\":\"Figure\",\"type\":\"Plot\"},\"ticker\":{\"id\":\"3a1bb308-02e6-4711-b91f-a8883309106c\",\"type\":\"BasicTicker\"}},\"id\":\"faf7cd7c-f231-4a81-bfdf-1b782bdb5be5\",\"type\":\"LinearAxis\"},{\"attributes\":{\"below\":[{\"id\":\"db8b95c3-4631-4301-88a5-ade42745ee34\",\"type\":\"LinearAxis\"}],\"extra_y_ranges\":{\"y2\":{\"id\":\"c6ea396c-baac-4205-bd11-e054971f12e1\",\"type\":\"Range1d\"}},\"left\":[{\"id\":\"faf7cd7c-f231-4a81-bfdf-1b782bdb5be5\",\"type\":\"LinearAxis\"}],\"renderers\":[{\"id\":\"db8b95c3-4631-4301-88a5-ade42745ee34\",\"type\":\"LinearAxis\"},{\"id\":\"ffe38160-e886-4487-96b0-a3ec35d019ae\",\"type\":\"Grid\"},{\"id\":\"faf7cd7c-f231-4a81-bfdf-1b782bdb5be5\",\"type\":\"LinearAxis\"},{\"id\":\"f2fbee72-40c8-45c6-ae3e-ab51116c4dad\",\"type\":\"Grid\"},{\"id\":\"e01ea34d-0779-4714-8035-77b5a91cb553\",\"type\":\"BoxAnnotation\"},{\"id\":\"4cdf89a8-614a-420b-9bca-46edd377afd4\",\"type\":\"GlyphRenderer\"},{\"id\":\"b78b3459-3c89-4656-bcda-0d76b983d31b\",\"type\":\"LinearAxis\"},{\"id\":\"f28e4be4-c8b4-4f9a-bf2f-93918b9dfddd\",\"type\":\"GlyphRenderer\"}],\"right\":[{\"id\":\"b78b3459-3c89-4656-bcda-0d76b983d31b\",\"type\":\"LinearAxis\"}],\"title\":{\"id\":\"f9a45d73-3b8c-445a-8c0f-57a363eb0b4a\",\"type\":\"Title\"},\"toolbar\":{\"id\":\"3cd1d43a-d2ad-4888-b856-3de4798a3749\",\"type\":\"Toolbar\"},\"x_range\":{\"id\":\"6b20481d-07a8-4280-a7bf-237ba4eee8b5\",\"type\":\"DataRange1d\"},\"x_scale\":{\"id\":\"0033fe97-9285-426a-8ffc-60526064cc93\",\"type\":\"LinearScale\"},\"y_range\":{\"id\":\"6c287cfc-ac66-4c37-970c-37ea729f169a\",\"type\":\"Range1d\"},\"y_scale\":{\"id\":\"975a5c3c-61e7-44cf-b30c-11db552ee3a6\",\"type\":\"LinearScale\"}},\"id\":\"4a7f8771-b76a-4a9a-92cb-f44bcca04150\",\"subtype\":\"Figure\",\"type\":\"Plot\"},{\"attributes\":{\"formatter\":{\"id\":\"21df1351-4a62-4b08-bea4-e91efbbbcf14\",\"type\":\"BasicTickFormatter\"},\"plot\":{\"id\":\"4a7f8771-b76a-4a9a-92cb-f44bcca04150\",\"subtype\":\"Figure\",\"type\":\"Plot\"},\"ticker\":{\"id\":\"42d04cec-707d-49d2-a97d-3cb977eebdd2\",\"type\":\"BasicTicker\"},\"y_range_name\":\"y2\"},\"id\":\"b78b3459-3c89-4656-bcda-0d76b983d31b\",\"type\":\"LinearAxis\"},{\"attributes\":{},\"id\":\"fbe888d8-8a42-4be7-b3f6-8a2eafb59a01\",\"type\":\"SaveTool\"},{\"attributes\":{},\"id\":\"f6880690-8786-442d-a521-4ab81f7b9062\",\"type\":\"BasicTickFormatter\"},{\"attributes\":{},\"id\":\"bee5d578-631d-4d91-bb5a-e3d88e3ace7f\",\"type\":\"ResetTool\"},{\"attributes\":{},\"id\":\"42d04cec-707d-49d2-a97d-3cb977eebdd2\",\"type\":\"BasicTicker\"},{\"attributes\":{\"formatter\":{\"id\":\"56a0f8e9-7347-4e0a-a13d-9167731f072a\",\"type\":\"BasicTickFormatter\"},\"plot\":{\"id\":\"4a7f8771-b76a-4a9a-92cb-f44bcca04150\",\"subtype\":\"Figure\",\"type\":\"Plot\"},\"ticker\":{\"id\":\"db2f5861-a2e2-41e6-959e-6218ab20cc68\",\"type\":\"BasicTicker\"}},\"id\":\"db8b95c3-4631-4301-88a5-ade42745ee34\",\"type\":\"LinearAxis\"},{\"attributes\":{},\"id\":\"a1b8c44d-695c-4c69-822f-2417b30c7820\",\"type\":\"HelpTool\"},{\"attributes\":{\"callback\":null,\"data\":{\"x\":{\"__ndarray__\":\"GC1EVPshGcCyxt3tlLsYwExgd4cuVRjA5vkQIcjuF8CAk6q6YYgXwBotRFT7IRfAtMbd7ZS7FsBOYHeHLlUWwOj5ECHI7hXAgpOqumGIFcAcLURU+yEVwLbG3e2UuxTAUGB3hy5VFMDq+RAhyO4TwISTqrphiBPAHi1EVPshE8C4xt3tlLsSwFJgd4cuVRLA7PkQIcjuEcCGk6q6YYgRwCAtRFT7IRHAusbd7ZS7EMBUYHeHLlUQwNzzIUKQ3Q/AECdVdcMQD8BEWoio9kMOwHiNu9spdw3ArMDuDl2qDMDg8yFCkN0LwBQnVXXDEAvASFqIqPZDCsB8jbvbKXcJwLDA7g5dqgjA5PMhQpDdB8AYJ1V1wxAHwExaiKj2QwbAgI272yl3BcC0wO4OXaoEwOjzIUKQ3QPAHCdVdcMQA8BQWoio9kMCwISNu9spdwHAuMDuDl2qAMDY50OEILv/v0BOquqGIf6/qLQQUe2H/L8QG3e3U+76v3iB3R26VPm/4OdDhCC7979ITqrqhiH2v7C0EFHth/S/GBt3t1Pu8r+Agd0dulTxv9DPhwhBdu+/oJxU1Q1D7L9waSGi2g/pv0A27m6n3OW/EAO7O3Sp4r/Anw8Rguzev2A5qaobhti/ANNCRLUf0r9A2bi7nXLHvwAZ2N2hS7W/AAIG7943kT8AGltVkee9P8BZeneVwMs/QJMjIrFG1D+g+YmIF63aPwAwePe+ieA/MGOrKvK84z9glt5dJfDmP5DJEZFYI+o/wPxExItW7T/4F7x730TwP5CxVRV53vE/KEvvrhJ48z/A5IhIrBH1P1h+IuJFq/Y/8Be8e99E+D+IsVUVed75PyBL764SePs/uOSISKwR/T9QfiLiRav+P/QL3r1vIgBAwNiqijzvAECMpXdXCbwBQFhyRCTWiAJAJD8R8aJVA0DwC969byIEQLzYqoo87wRAiKV3Vwm8BUBUckQk1ogGQCA/EfGiVQdA7AvevW8iCEC42KqKPO8IQISld1cJvAlAUHJEJNaICkAcPxHxolULQOgL3r1vIgxAtNiqijzvDECApXdXCbwNQExyRCTWiA5AGD8R8aJVD0DyBe/eNxEQQFhsVUWedxBAvtK7qwTeEEAkOSISa0QRQIqfiHjRqhFA8AXv3jcREkBWbFVFnncSQLzSu6sE3hJAIjkiEmtEE0CIn4h40aoTQO4F7943ERRAVGxVRZ53FEC60rurBN4UQCA5IhJrRBVAhp+IeNGqFUDsBe/eNxEWQFJsVUWedxZAuNK7qwTeFkAeOSISa0QXQISfiHjRqhdA6gXv3jcRGEBQbFVFnncYQLbSu6sE3hhA\",\"dtype\":\"float64\",\"shape\":[126]},\"y\":{\"__ndarray__\":\"B1wUMyamsTwky4vLro65P6zSPSP/bck/Jbq6lc3p0j9XZyvpOuzYP9gFS3Tort4/S0GlF40R4j+pGUZpbp3kP7z+v8KU9OY/MKhdmAMR6T/eDAmPVO3qPyhjLUzFhOw/t1UaokPT7T9BHsX5d9XuP/vgRN/NiO8/iG0sm3rr7z/HQuDHgfzvP72YL9e3u+8//RW9gcIp7z9qOBofF0juP2C00er2GO0/HHPrP2mf6z8x16rZM9/pP1MvWC3R3Oc/0tHD9WSd5T/vys8NrybjPwGGoLv8fuA/p6ckJDFa2z9p5l0jcnDVPz8ySNa4n84/z9a2bTgQwj9JFpiCD0qlP9gm6Dk3462/9Qq3ygIxxL+gS/8QyVrQv1Jhun47c9a/JdHwQ0FS3L/dGi7savTgv0DA7P9WlOO/crMfLS4C5r9cHtzduTfov3DI4npTL+q/lhLQ3/Lj67/viQE6O1Htv8QoRTGGc+6/Y0DHPe1H77+p7F0TUczvv1HsNw9f/++/DT4MmpTg77/B6yJ2QHDvv2CZ4PWBr+6/9yLYHEag7b8lJbqyQkXsv5cSvFTvoeq/3gUyl3y66L/SsApOyZPmv0H2lhdWM+S/OMh6STef4b8a4Y7HCrzdv3u+C2SY7de/LaSwivHh0b9m/jPXGVHHv0bTvttYRbW/xSXLwqk3kT/JIzUvK9a9PxjIxkANics//AfpL0vw0z91hzWkD+nZP4cP6pqNn98/CxrYG5SC4j9hCW3CCAblP+5iZOG2U+c/hMjjJbpl6T/Mcx3cxjbrP44pBXs3wuw/3a38hhgE7j/R9xCtMvnuPzNU7vwSn+8/IbeALBH07z+1XzrVU/fvP6DPKKDSqO8/pbRJW1YJ7z+JM+n3dhruP8RhK3eX3uw/Jfgtz99Y6z+f2l/YNI3pP+WxtFcugOc/zaIuPws35T/F08pCpLfiP3g4I+RcCOA/mTEMNiZg2j8025+JG2zUPwSg1R2oh8w/qzXOvj7cvz+ZZ0Soul6ZPxMepJQaPbO/RLIVCFdQxr8Pn7GuhmTRv7Nrs+BkdNe/O7QgoURI3b9ITvP1nmjhv9zlVSmUAOS/XGXQmV9l5r9ZNdHU4ZDov+SMb++Nfeq/d0LwuHcm7L9QJSxSYIftv8TXognBnO6/SRtzYNRj779HhCYhndrvv+yTLnbr/++/NaAP81/T77/KpXWIbFXvv+6vwmBTh+6/2k8AqCNr7b+D929HtAPsv7RWM6KcVOq/762gZSti6L8bWsKEWzHmvw8RMHvHx+O/52bX95or4b9I9bkoBsfcv2FS64I67da/RcPLJ8rY0L9F3NCChDLFvyPcIcx4+rC/\",\"dtype\":\"float64\",\"shape\":[126]}},\"selected\":{\"id\":\"85cc9070-4316-4d54-b9c8-c6ac667b4b58\",\"type\":\"Selection\"},\"selection_policy\":{\"id\":\"72bb6b5c-4455-455b-aaf5-e1ffd2718ed0\",\"type\":\"UnionRenderers\"}},\"id\":\"5cb85771-7dc3-4f52-8c39-8ac1eca51018\",\"type\":\"ColumnDataSource\"},{\"attributes\":{},\"id\":\"de99b770-0345-435a-9289-5ae8d2179000\",\"type\":\"UnionRenderers\"},{\"attributes\":{\"plot\":{\"id\":\"4a7f8771-b76a-4a9a-92cb-f44bcca04150\",\"subtype\":\"Figure\",\"type\":\"Plot\"},\"ticker\":{\"id\":\"db2f5861-a2e2-41e6-959e-6218ab20cc68\",\"type\":\"BasicTicker\"}},\"id\":\"ffe38160-e886-4487-96b0-a3ec35d019ae\",\"type\":\"Grid\"},{\"attributes\":{\"line_color\":\"blue\",\"x\":{\"field\":\"x\"},\"y\":{\"field\":\"y\"}},\"id\":\"c20dec47-af0b-42ff-b813-fba31b93f120\",\"type\":\"Line\"},{\"attributes\":{\"line_color\":\"red\",\"x\":{\"field\":\"x\"},\"y\":{\"field\":\"y\"}},\"id\":\"7492ef6c-325f-4c04-bcbb-9c210affdd37\",\"type\":\"Line\"},{\"attributes\":{\"line_alpha\":0.1,\"line_color\":\"#1f77b4\",\"x\":{\"field\":\"x\"},\"y\":{\"field\":\"y\"}},\"id\":\"68a26320-0b2c-4942-aff2-1de499b71438\",\"type\":\"Line\"},{\"attributes\":{\"active_drag\":\"auto\",\"active_inspect\":\"auto\",\"active_scroll\":\"auto\",\"active_tap\":\"auto\",\"tools\":[{\"id\":\"a6a55db4-88b6-4c56-b583-d2f28e5f61b1\",\"type\":\"PanTool\"},{\"id\":\"8c5dd140-9833-46f2-a9f7-d52801ce538c\",\"type\":\"WheelZoomTool\"},{\"id\":\"0243629f-9fbc-4b89-92a8-b23cc7fe22dc\",\"type\":\"BoxZoomTool\"},{\"id\":\"fbe888d8-8a42-4be7-b3f6-8a2eafb59a01\",\"type\":\"SaveTool\"},{\"id\":\"bee5d578-631d-4d91-bb5a-e3d88e3ace7f\",\"type\":\"ResetTool\"},{\"id\":\"a1b8c44d-695c-4c69-822f-2417b30c7820\",\"type\":\"HelpTool\"}]},\"id\":\"3cd1d43a-d2ad-4888-b856-3de4798a3749\",\"type\":\"Toolbar\"},{\"attributes\":{\"bottom_units\":\"screen\",\"fill_alpha\":{\"value\":0.5},\"fill_color\":{\"value\":\"lightgrey\"},\"left_units\":\"screen\",\"level\":\"overlay\",\"line_alpha\":{\"value\":1.0},\"line_color\":{\"value\":\"black\"},\"line_dash\":[4,4],\"line_width\":{\"value\":2},\"plot\":null,\"render_mode\":\"css\",\"right_units\":\"screen\",\"top_units\":\"screen\"},\"id\":\"e01ea34d-0779-4714-8035-77b5a91cb553\",\"type\":\"BoxAnnotation\"},{\"attributes\":{},\"id\":\"21df1351-4a62-4b08-bea4-e91efbbbcf14\",\"type\":\"BasicTickFormatter\"},{\"attributes\":{\"callback\":null},\"id\":\"6b20481d-07a8-4280-a7bf-237ba4eee8b5\",\"type\":\"DataRange1d\"},{\"attributes\":{\"callback\":null,\"data\":{\"x\":{\"__ndarray__\":\"GC1EVPshGcCyxt3tlLsYwExgd4cuVRjA5vkQIcjuF8CAk6q6YYgXwBotRFT7IRfAtMbd7ZS7FsBOYHeHLlUWwOj5ECHI7hXAgpOqumGIFcAcLURU+yEVwLbG3e2UuxTAUGB3hy5VFMDq+RAhyO4TwISTqrphiBPAHi1EVPshE8C4xt3tlLsSwFJgd4cuVRLA7PkQIcjuEcCGk6q6YYgRwCAtRFT7IRHAusbd7ZS7EMBUYHeHLlUQwNzzIUKQ3Q/AECdVdcMQD8BEWoio9kMOwHiNu9spdw3ArMDuDl2qDMDg8yFCkN0LwBQnVXXDEAvASFqIqPZDCsB8jbvbKXcJwLDA7g5dqgjA5PMhQpDdB8AYJ1V1wxAHwExaiKj2QwbAgI272yl3BcC0wO4OXaoEwOjzIUKQ3QPAHCdVdcMQA8BQWoio9kMCwISNu9spdwHAuMDuDl2qAMDY50OEILv/v0BOquqGIf6/qLQQUe2H/L8QG3e3U+76v3iB3R26VPm/4OdDhCC7979ITqrqhiH2v7C0EFHth/S/GBt3t1Pu8r+Agd0dulTxv9DPhwhBdu+/oJxU1Q1D7L9waSGi2g/pv0A27m6n3OW/EAO7O3Sp4r/Anw8Rguzev2A5qaobhti/ANNCRLUf0r9A2bi7nXLHvwAZ2N2hS7W/AAIG7943kT8AGltVkee9P8BZeneVwMs/QJMjIrFG1D+g+YmIF63aPwAwePe+ieA/MGOrKvK84z9glt5dJfDmP5DJEZFYI+o/wPxExItW7T/4F7x730TwP5CxVRV53vE/KEvvrhJ48z/A5IhIrBH1P1h+IuJFq/Y/8Be8e99E+D+IsVUVed75PyBL764SePs/uOSISKwR/T9QfiLiRav+P/QL3r1vIgBAwNiqijzvAECMpXdXCbwBQFhyRCTWiAJAJD8R8aJVA0DwC969byIEQLzYqoo87wRAiKV3Vwm8BUBUckQk1ogGQCA/EfGiVQdA7AvevW8iCEC42KqKPO8IQISld1cJvAlAUHJEJNaICkAcPxHxolULQOgL3r1vIgxAtNiqijzvDECApXdXCbwNQExyRCTWiA5AGD8R8aJVD0DyBe/eNxEQQFhsVUWedxBAvtK7qwTeEEAkOSISa0QRQIqfiHjRqhFA8AXv3jcREkBWbFVFnncSQLzSu6sE3hJAIjkiEmtEE0CIn4h40aoTQO4F7943ERRAVGxVRZ53FEC60rurBN4UQCA5IhJrRBVAhp+IeNGqFUDsBe/eNxEWQFJsVUWedxZAuNK7qwTeFkAeOSISa0QXQISfiHjRqhdA6gXv3jcRGEBQbFVFnncYQLbSu6sE3hhA\",\"dtype\":\"float64\",\"shape\":[126]},\"y\":{\"__ndarray__\":\"AAAAAAAAAACamZmZmZnpP5qZmZmZmfk/NDMzMzMzA0CamZmZmZkJQAAAAAAAABBANDMzMzMzE0BnZmZmZmYWQJqZmZmZmRlAzczMzMzMHEAAAAAAAAAgQJqZmZmZmSFANDMzMzMzI0DNzMzMzMwkQGdmZmZmZiZAAAAAAAAAKECamZmZmZkpQDQzMzMzMytAzczMzMzMLEBnZmZmZmYuQAAAAAAAADBAzczMzMzMMECamZmZmZkxQGdmZmZmZjJANDMzMzMzM0AAAAAAAAA0QM3MzMzMzDRAmpmZmZmZNUBnZmZmZmY2QDQzMzMzMzdAAAAAAAAAOEDNzMzMzMw4QJqZmZmZmTlAZ2ZmZmZmOkA0MzMzMzM7QAAAAAAAADxAzczMzMzMPECamZmZmZk9QGdmZmZmZj5ANDMzMzMzP0AAAAAAAABAQGdmZmZmZkBAzczMzMzMQEAzMzMzMzNBQJqZmZmZmUFAAAAAAAAAQkBnZmZmZmZCQM3MzMzMzEJANDMzMzMzQ0CamZmZmZlDQAAAAAAAAERAZ2ZmZmZmREDNzMzMzMxEQDQzMzMzM0VAmpmZmZmZRUAAAAAAAABGQGdmZmZmZkZAzczMzMzMRkA0MzMzMzNHQJqZmZmZmUdAAAAAAAAASEBnZmZmZmZIQM3MzMzMzEhANDMzMzMzSUCamZmZmZlJQAAAAAAAAEpAZ2ZmZmZmSkDNzMzMzMxKQDQzMzMzM0tAmpmZmZmZS0AAAAAAAABMQGdmZmZmZkxAzczMzMzMTEA0MzMzMzNNQJqZmZmZmU1AAAAAAAAATkBnZmZmZmZOQM3MzMzMzE5ANDMzMzMzT0CamZmZmZlPQAAAAAAAAFBAMzMzMzMzUEBnZmZmZmZQQJqZmZmZmVBAzczMzMzMUEAAAAAAAABRQDMzMzMzM1FAZ2ZmZmZmUUCamZmZmZlRQM3MzMzMzFFAAAAAAAAAUkAzMzMzMzNSQGdmZmZmZlJAmpmZmZmZUkDNzMzMzMxSQAAAAAAAAFNANDMzMzMzU0BnZmZmZmZTQJqZmZmZmVNAzczMzMzMU0AAAAAAAABUQDQzMzMzM1RAZ2ZmZmZmVECamZmZmZlUQM3MzMzMzFRAAAAAAAAAVUA0MzMzMzNVQGdmZmZmZlVAmpmZmZmZVUDNzMzMzMxVQAAAAAAAAFZANDMzMzMzVkBnZmZmZmZWQJqZmZmZmVZAzczMzMzMVkAAAAAAAABXQDQzMzMzM1dAZ2ZmZmZmV0CamZmZmZlXQM3MzMzMzFdAAAAAAAAAWEA0MzMzMzNYQGdmZmZmZlhAmpmZmZmZWEDNzMzMzMxYQAAAAAAAAFlA\",\"dtype\":\"float64\",\"shape\":[126]}},\"selected\":{\"id\":\"b4868c2b-fe1b-49e6-8dd2-ca4dd691680e\",\"type\":\"Selection\"},\"selection_policy\":{\"id\":\"de99b770-0345-435a-9289-5ae8d2179000\",\"type\":\"UnionRenderers\"}},\"id\":\"8b607f7f-4d61-4368-aa02-4d6d48159d03\",\"type\":\"ColumnDataSource\"},{\"attributes\":{},\"id\":\"975a5c3c-61e7-44cf-b30c-11db552ee3a6\",\"type\":\"LinearScale\"},{\"attributes\":{},\"id\":\"85cc9070-4316-4d54-b9c8-c6ac667b4b58\",\"type\":\"Selection\"},{\"attributes\":{},\"id\":\"72bb6b5c-4455-455b-aaf5-e1ffd2718ed0\",\"type\":\"UnionRenderers\"},{\"attributes\":{\"overlay\":{\"id\":\"e01ea34d-0779-4714-8035-77b5a91cb553\",\"type\":\"BoxAnnotation\"}},\"id\":\"0243629f-9fbc-4b89-92a8-b23cc7fe22dc\",\"type\":\"BoxZoomTool\"},{\"attributes\":{\"source\":{\"id\":\"5cb85771-7dc3-4f52-8c39-8ac1eca51018\",\"type\":\"ColumnDataSource\"}},\"id\":\"b0f6bda8-3893-40fd-bd27-2a4727d6ad4b\",\"type\":\"CDSView\"},{\"attributes\":{},\"id\":\"db2f5861-a2e2-41e6-959e-6218ab20cc68\",\"type\":\"BasicTicker\"},{\"attributes\":{\"source\":{\"id\":\"8b607f7f-4d61-4368-aa02-4d6d48159d03\",\"type\":\"ColumnDataSource\"}},\"id\":\"c7d25511-fc14-4493-ac35-a3b723e10369\",\"type\":\"CDSView\"},{\"attributes\":{\"plot\":null,\"text\":\"Twin Axis Example\"},\"id\":\"f9a45d73-3b8c-445a-8c0f-57a363eb0b4a\",\"type\":\"Title\"},{\"attributes\":{\"data_source\":{\"id\":\"5cb85771-7dc3-4f52-8c39-8ac1eca51018\",\"type\":\"ColumnDataSource\"},\"glyph\":{\"id\":\"7492ef6c-325f-4c04-bcbb-9c210affdd37\",\"type\":\"Line\"},\"hover_glyph\":null,\"muted_glyph\":null,\"nonselection_glyph\":{\"id\":\"e4e4ce28-9080-412f-806d-061fba072dc4\",\"type\":\"Line\"},\"selection_glyph\":null,\"view\":{\"id\":\"b0f6bda8-3893-40fd-bd27-2a4727d6ad4b\",\"type\":\"CDSView\"}},\"id\":\"4cdf89a8-614a-420b-9bca-46edd377afd4\",\"type\":\"GlyphRenderer\"},{\"attributes\":{},\"id\":\"8c5dd140-9833-46f2-a9f7-d52801ce538c\",\"type\":\"WheelZoomTool\"},{\"attributes\":{\"callback\":null,\"end\":100},\"id\":\"c6ea396c-baac-4205-bd11-e054971f12e1\",\"type\":\"Range1d\"},{\"attributes\":{\"callback\":null,\"end\":1.1,\"start\":-1.1},\"id\":\"6c287cfc-ac66-4c37-970c-37ea729f169a\",\"type\":\"Range1d\"},{\"attributes\":{},\"id\":\"56a0f8e9-7347-4e0a-a13d-9167731f072a\",\"type\":\"BasicTickFormatter\"}],\"root_ids\":[\"4a7f8771-b76a-4a9a-92cb-f44bcca04150\"]},\"title\":\"Bokeh Application\",\"version\":\"0.12.16\"}};\n",
       "  var render_items = [{\"docid\":\"bcd9e80d-dd10-4dc8-af1c-e265fa08f2ea\",\"elementid\":\"9180014d-c6ad-4f56-89d3-b02c1d7400e5\",\"modelid\":\"4a7f8771-b76a-4a9a-92cb-f44bcca04150\"}];\n",
       "  root.Bokeh.embed.embed_items_notebook(docs_json, render_items);\n",
       "\n",
       "  }\n",
       "  if (root.Bokeh !== undefined) {\n",
       "    embed_document(root);\n",
       "  } else {\n",
       "    var attempts = 0;\n",
       "    var timer = setInterval(function(root) {\n",
       "      if (root.Bokeh !== undefined) {\n",
       "        embed_document(root);\n",
       "        clearInterval(timer);\n",
       "      }\n",
       "      attempts++;\n",
       "      if (attempts > 100) {\n",
       "        console.log(\"Bokeh: ERROR: Unable to run BokehJS code because BokehJS library is missing\")\n",
       "        clearInterval(timer);\n",
       "      }\n",
       "    }, 10, root)\n",
       "  }\n",
       "})(window);"
      ],
      "application/vnd.bokehjs_exec.v0+json": ""
     },
     "metadata": {
      "application/vnd.bokehjs_exec.v0+json": {
       "id": "4a7f8771-b76a-4a9a-92cb-f44bcca04150"
      }
     },
     "output_type": "display_data"
    }
   ],
   "source": [
    "from numpy import pi, arange, sin, linspace\n",
    "x = arange(-2*pi, 2*pi, 0.1)\n",
    "y = sin(x)\n",
    "y2 = linspace(0, 100, len(y))\n",
    "from bokeh.plotting import output_file, figure, show\n",
    "from bokeh.models import LinearAxis, Range1d\n",
    "fig = figure(title='Twin Axis Example', y_range=(-1.1, 1.1))\n",
    "fig.line(x, y, color=\"red\")\n",
    "fig.extra_y_ranges = {\"y2\": Range1d(start=0, end=100)}\n",
    "fig.add_layout(LinearAxis(y_range_name=\"y2\"), 'right')\n",
    "fig.line(x, y2, color=\"blue\", y_range_name=\"y2\")\n",
    "show(fig)\n"
   ]
  },
  {
   "cell_type": "code",
   "execution_count": 42,
   "metadata": {},
   "outputs": [
    {
     "data": {
      "text/html": [
       "\n",
       "<div class=\"bk-root\">\n",
       "    <div class=\"bk-plotdiv\" id=\"8468c438-bf25-48f4-9d53-00c89ae0e75d\"></div>\n",
       "</div>"
      ]
     },
     "metadata": {},
     "output_type": "display_data"
    },
    {
     "data": {
      "application/javascript": [
       "(function(root) {\n",
       "  function embed_document(root) {\n",
       "    \n",
       "  var docs_json = {\"32ed639e-2f17-41e5-a388-e37757544120\":{\"roots\":{\"references\":[{\"attributes\":{},\"id\":\"60e3cc24-0d53-40e5-9c8a-7ff423ad715f\",\"type\":\"LinearScale\"},{\"attributes\":{\"fill_alpha\":{\"value\":0.1},\"fill_color\":{\"value\":\"#1f77b4\"},\"line_alpha\":{\"value\":0.1},\"line_color\":{\"value\":\"#1f77b4\"},\"line_width\":{\"value\":2},\"x\":{\"field\":\"x\"},\"y\":{\"field\":\"y\"}},\"id\":\"adc996f8-6f9d-49a4-ad22-f88d28c0d0c8\",\"type\":\"Circle\"},{\"attributes\":{\"bottom_units\":\"screen\",\"fill_alpha\":{\"value\":0.5},\"fill_color\":{\"value\":\"lightgrey\"},\"left_units\":\"screen\",\"level\":\"overlay\",\"line_alpha\":{\"value\":1.0},\"line_color\":{\"value\":\"black\"},\"line_dash\":[4,4],\"line_width\":{\"value\":2},\"plot\":null,\"render_mode\":\"css\",\"right_units\":\"screen\",\"top_units\":\"screen\"},\"id\":\"90e3df48-350b-4b5b-afb2-239b6c39182e\",\"type\":\"BoxAnnotation\"},{\"attributes\":{\"data_source\":{\"id\":\"3353b041-241e-495c-abe5-e80731822382\",\"type\":\"ColumnDataSource\"},\"glyph\":{\"id\":\"42a15b43-e6f9-4c19-8f93-8b9261d9a8c5\",\"type\":\"Circle\"},\"hover_glyph\":null,\"muted_glyph\":null,\"nonselection_glyph\":{\"id\":\"adc996f8-6f9d-49a4-ad22-f88d28c0d0c8\",\"type\":\"Circle\"},\"selection_glyph\":null,\"view\":{\"id\":\"02641dee-8e78-4d6a-b786-633d9dacbf86\",\"type\":\"CDSView\"}},\"id\":\"871131ca-56cc-40c9-9dfb-8c384cd40b3b\",\"type\":\"GlyphRenderer\"},{\"attributes\":{\"source\":{\"id\":\"8171a699-6728-4d30-8d52-cae833b0b108\",\"type\":\"ColumnDataSource\"}},\"id\":\"b72da5fb-1878-4a31-801f-856e63163636\",\"type\":\"CDSView\"},{\"attributes\":{},\"id\":\"2865d37d-ca5d-4872-83f3-0f91540e5323\",\"type\":\"PanTool\"},{\"attributes\":{\"fill_alpha\":{\"value\":0.1},\"fill_color\":{\"value\":\"#1f77b4\"},\"line_alpha\":{\"value\":0.1},\"line_color\":{\"value\":\"#1f77b4\"},\"line_width\":{\"value\":2},\"x\":{\"field\":\"x\"},\"y\":{\"field\":\"y\"}},\"id\":\"d89094c7-90b3-483d-ae67-eed2dcc60551\",\"type\":\"Square\"},{\"attributes\":{},\"id\":\"223a369a-8587-48bc-bc55-8918e595aba3\",\"type\":\"UnionRenderers\"},{\"attributes\":{\"fill_color\":{\"value\":\"#1f77b4\"},\"line_color\":{\"value\":\"orange\"},\"line_width\":{\"value\":2},\"x\":{\"field\":\"x\"},\"y\":{\"field\":\"y\"}},\"id\":\"42a15b43-e6f9-4c19-8f93-8b9261d9a8c5\",\"type\":\"Circle\"},{\"attributes\":{\"below\":[{\"id\":\"7556d9f4-b402-488f-b6f0-8914c9290607\",\"type\":\"LinearAxis\"}],\"left\":[{\"id\":\"d31d20f0-2db1-4ebc-98a2-80fd770491ca\",\"type\":\"LinearAxis\"}],\"renderers\":[{\"id\":\"7556d9f4-b402-488f-b6f0-8914c9290607\",\"type\":\"LinearAxis\"},{\"id\":\"26c556c9-ef8c-409a-b735-23b00faecbc5\",\"type\":\"Grid\"},{\"id\":\"d31d20f0-2db1-4ebc-98a2-80fd770491ca\",\"type\":\"LinearAxis\"},{\"id\":\"3aec1d88-abc3-438a-91ba-796fe44ad38a\",\"type\":\"Grid\"},{\"id\":\"90e3df48-350b-4b5b-afb2-239b6c39182e\",\"type\":\"BoxAnnotation\"},{\"id\":\"cf64dcbd-da85-45f8-9182-382e49ec7176\",\"type\":\"Legend\"},{\"id\":\"9e5a39ea-5148-4c0b-a980-6e1fd46c9566\",\"type\":\"GlyphRenderer\"},{\"id\":\"871131ca-56cc-40c9-9dfb-8c384cd40b3b\",\"type\":\"GlyphRenderer\"},{\"id\":\"e8401acb-632b-48cd-a004-969e28006b87\",\"type\":\"GlyphRenderer\"}],\"title\":{\"id\":\"55b104ab-ca05-4e6f-ad87-0773b9077b7b\",\"type\":\"Title\"},\"toolbar\":{\"id\":\"eefaf94e-bc57-4ee2-8606-c6ccd97e312b\",\"type\":\"Toolbar\"},\"x_range\":{\"id\":\"8e55a003-6d9f-4439-a047-8fb65b09f2eb\",\"type\":\"DataRange1d\"},\"x_scale\":{\"id\":\"60e3cc24-0d53-40e5-9c8a-7ff423ad715f\",\"type\":\"LinearScale\"},\"y_range\":{\"id\":\"7add8ed1-2baa-4bab-9054-62512260c7f8\",\"type\":\"DataRange1d\"},\"y_scale\":{\"id\":\"6fdf7045-7ace-48d9-a014-9fc9840b2d45\",\"type\":\"LinearScale\"}},\"id\":\"210b3835-6d98-4864-b038-c08c70b5a8f3\",\"subtype\":\"Figure\",\"type\":\"Plot\"},{\"attributes\":{\"data_source\":{\"id\":\"9185ec66-18d0-4713-8e4b-78b71a2b21ee\",\"type\":\"ColumnDataSource\"},\"glyph\":{\"id\":\"6a13b273-e29f-489d-b705-e6c562bf007c\",\"type\":\"Square\"},\"hover_glyph\":null,\"muted_glyph\":null,\"nonselection_glyph\":{\"id\":\"d89094c7-90b3-483d-ae67-eed2dcc60551\",\"type\":\"Square\"},\"selection_glyph\":null,\"view\":{\"id\":\"4941fc46-df2f-4bf0-88ff-c7cba2aa2a66\",\"type\":\"CDSView\"}},\"id\":\"e8401acb-632b-48cd-a004-969e28006b87\",\"type\":\"GlyphRenderer\"},{\"attributes\":{\"data_source\":{\"id\":\"8171a699-6728-4d30-8d52-cae833b0b108\",\"type\":\"ColumnDataSource\"},\"glyph\":{\"id\":\"a7f2061d-7c80-4f04-b329-3b8365820b2c\",\"type\":\"Line\"},\"hover_glyph\":null,\"muted_glyph\":null,\"nonselection_glyph\":{\"id\":\"397b4780-fdca-4662-8f57-a7611f901f18\",\"type\":\"Line\"},\"selection_glyph\":null,\"view\":{\"id\":\"b72da5fb-1878-4a31-801f-856e63163636\",\"type\":\"CDSView\"}},\"id\":\"9e5a39ea-5148-4c0b-a980-6e1fd46c9566\",\"type\":\"GlyphRenderer\"},{\"attributes\":{\"callback\":null,\"data\":{\"x\":{\"__ndarray__\":\"AAAAAAAAAACamZmZmZmpP5qZmZmZmbk/NDMzMzMzwz+amZmZmZnJPwAAAAAAANA/NDMzMzMz0z9nZmZmZmbWP5qZmZmZmdk/zczMzMzM3D8AAAAAAADgP5qZmZmZmeE/NDMzMzMz4z/NzMzMzMzkP2dmZmZmZuY/AAAAAAAA6D+amZmZmZnpPzQzMzMzM+s/zczMzMzM7D9nZmZmZmbuPwAAAAAAAPA/zczMzMzM8D+amZmZmZnxP2dmZmZmZvI/NDMzMzMz8z8AAAAAAAD0P83MzMzMzPQ/mpmZmZmZ9T9nZmZmZmb2PzQzMzMzM/c/AAAAAAAA+D/NzMzMzMz4P5qZmZmZmfk/Z2ZmZmZm+j80MzMzMzP7PwAAAAAAAPw/zczMzMzM/D+amZmZmZn9P2dmZmZmZv4/NDMzMzMz/z8AAAAAAAAAQGdmZmZmZgBAzczMzMzMAEAzMzMzMzMBQJqZmZmZmQFAAAAAAAAAAkBnZmZmZmYCQM3MzMzMzAJANDMzMzMzA0CamZmZmZkDQAAAAAAAAARAZ2ZmZmZmBEDNzMzMzMwEQDQzMzMzMwVAmpmZmZmZBUAAAAAAAAAGQGdmZmZmZgZAzczMzMzMBkA0MzMzMzMHQJqZmZmZmQdAAAAAAAAACEBnZmZmZmYIQM3MzMzMzAhANDMzMzMzCUCamZmZmZkJQAAAAAAAAApAZ2ZmZmZmCkDNzMzMzMwKQDQzMzMzMwtAmpmZmZmZC0AAAAAAAAAMQGdmZmZmZgxAzczMzMzMDEA0MzMzMzMNQJqZmZmZmQ1AAAAAAAAADkBnZmZmZmYOQM3MzMzMzA5ANDMzMzMzD0CamZmZmZkPQAAAAAAAABBAMzMzMzMzEEBnZmZmZmYQQJqZmZmZmRBAzczMzMzMEEAAAAAAAAARQDMzMzMzMxFAZ2ZmZmZmEUCamZmZmZkRQM3MzMzMzBFAAAAAAAAAEkAzMzMzMzMSQGdmZmZmZhJAmpmZmZmZEkDNzMzMzMwSQAAAAAAAABNANDMzMzMzE0BnZmZmZmYTQJqZmZmZmRNAzczMzMzME0AAAAAAAAAUQDQzMzMzMxRAZ2ZmZmZmFECamZmZmZkUQM3MzMzMzBRAAAAAAAAAFUA0MzMzMzMVQGdmZmZmZhVAmpmZmZmZFUDNzMzMzMwVQAAAAAAAABZANDMzMzMzFkBnZmZmZmYWQJqZmZmZmRZAzczMzMzMFkAAAAAAAAAXQDQzMzMzMxdAZ2ZmZmZmF0CamZmZmZkXQM3MzMzMzBdAAAAAAAAAGEA0MzMzMzMYQGdmZmZmZhhAmpmZmZmZGEDNzMzMzMwYQAAAAAAAABlA\",\"dtype\":\"float64\",\"shape\":[126]},\"y\":{\"__ndarray__\":\"AAAAAAAAAAA8ZP+i3papPyzLi8uujrk/I+3f6ckgwz+80j0j/23JP3cV89Tuqs8/NLq6lc3p0j+MCjmlCfLVP2tnK+k67Ng/JUb5rXnW2z/wBUt06K7eP9RoSZHaueA/WkGlF40R4j+r15Phr13jP7kZRmluneQ/DY+/FvzP5T/N/r/ClPTmP4OARjR9Cug/QahdmAMR6T9vJuTzfwfqP+4MCY9U7eo/wfI2Wu7B6z84Yy1MxYTsP5liDLlcNe0/xVUaokPT7T+MQRH+FF7uP0sexfl31e4/vuH5MCA57z8D4UTfzYjvP9xD2ghOxO8/i20sm3rr7z9oe0iFOv7vP8VC4MeB/O8/yIr3fFHm7z+2mC/Xt7vvP0aCsRjQfO8/8BW9gcIp7z91guc2xMLuP1c4Gh8XSO4/d8dnuQm67T9GtNHq9hjtP/tnH8RFZew/+3LrP2mf6z/qUxH538fqPwjXqtkz3+k/qePQwvnl6D8iL1gt0dznP+jJxsNjxOY/mNHD9WSd5T98v0aFkWjkP7DKzw2vJuM/oqb2hYvY4T+7haC7/H7gP/1nY5a/Nd4/DKckJDFa2z/8g8E5Im3YP8DlXSNycNU/1yNVLQpm0j/TMEjWuJ/OP0aravHEX8g/W9W2bTgQwj+e7yAPOmq3Py4QmIIPSqU/DSjuo9E3gb8yLeg5N+Otv4ykZCStsru/lwy3ygIxxL+AV+iIw3vKv3RM/xDJWtC/nOiDYTlt078fYrp+O3PWv9c1iiXgatm/8dHwQ0FS3L9YwwYwgyffv0EbLuxq9OC/IQZ19jpK4r+gwOz/VpTjvyvQtM7r0eS/zrMfLS4C5r9A1LlrWyTnv64e3N25N+i/K5R6UJk76b+9yOJ6Uy/qv7wtImlMEuu/2BLQ3/Lj679wg/u4wKPsvyWKATo7Ue2/7e0UYvPr7b/wKEUxhnPuv6km1+ec5+6/gEDHPe1H77+N9FCSOZTvv7rsXRNRzO+/zhrD3A/w779S7DcPX//vv2Dk+N40+u+//z0MmpTg779ylCSmjrLvv6TrInZAcO+/k88+d9QZ778zmeD1ga/uv8c3P/qMMe6/uSLYHEag7b+WTt1SCvzsv9ckurJCRey/o43VMGR86783ErxU76Hqv4P64eZvtum/cAUyl3y66L9P96Gctq7nv1ewCk7Jk+a/zcyFtGlq5b+09ZYXVjPkv7UAa4NV7+K/oMd6STef4b8uNuN70kPgv8rfjscKvN2/azkq5mnd2r8bvQtkmO3Xvwpad1F37tS/wKKwivHh0b+L+Mn79JPNv1z7M9cZUce/2vTYRFP/wL8dzb7bWEW1v7wS9cPd/KC/\",\"dtype\":\"float64\",\"shape\":[126]}},\"selected\":{\"id\":\"11af39fc-81c8-4cb7-8376-ef290951176e\",\"type\":\"Selection\"},\"selection_policy\":{\"id\":\"d76c21f9-68e3-4a1c-9576-7371d8634dd1\",\"type\":\"UnionRenderers\"}},\"id\":\"8171a699-6728-4d30-8d52-cae833b0b108\",\"type\":\"ColumnDataSource\"},{\"attributes\":{},\"id\":\"83837a9e-e010-481f-a5c3-bcf227d5a7e4\",\"type\":\"WheelZoomTool\"},{\"attributes\":{},\"id\":\"c70880dd-490c-48f0-ad84-fecd2bf4470f\",\"type\":\"SaveTool\"},{\"attributes\":{},\"id\":\"6fdf7045-7ace-48d9-a014-9fc9840b2d45\",\"type\":\"LinearScale\"},{\"attributes\":{},\"id\":\"11af39fc-81c8-4cb7-8376-ef290951176e\",\"type\":\"Selection\"},{\"attributes\":{\"label\":{\"value\":\"sine\"},\"renderers\":[{\"id\":\"9e5a39ea-5148-4c0b-a980-6e1fd46c9566\",\"type\":\"GlyphRenderer\"}]},\"id\":\"f183211c-404d-4b4c-ba75-c5c0af0d26ee\",\"type\":\"LegendItem\"},{\"attributes\":{\"source\":{\"id\":\"9185ec66-18d0-4713-8e4b-78b71a2b21ee\",\"type\":\"ColumnDataSource\"}},\"id\":\"4941fc46-df2f-4bf0-88ff-c7cba2aa2a66\",\"type\":\"CDSView\"},{\"attributes\":{\"fill_color\":{\"value\":\"#1f77b4\"},\"line_color\":{\"value\":\"grey\"},\"line_width\":{\"value\":2},\"x\":{\"field\":\"x\"},\"y\":{\"field\":\"y\"}},\"id\":\"6a13b273-e29f-489d-b705-e6c562bf007c\",\"type\":\"Square\"},{\"attributes\":{\"formatter\":{\"id\":\"47c1a5bc-5b5b-4e9a-9e1a-12661538071d\",\"type\":\"BasicTickFormatter\"},\"plot\":{\"id\":\"210b3835-6d98-4864-b038-c08c70b5a8f3\",\"subtype\":\"Figure\",\"type\":\"Plot\"},\"ticker\":{\"id\":\"40ecfa14-9451-4dd3-84a7-1ecf52b10749\",\"type\":\"BasicTicker\"}},\"id\":\"d31d20f0-2db1-4ebc-98a2-80fd770491ca\",\"type\":\"LinearAxis\"},{\"attributes\":{},\"id\":\"e1dba74a-067f-4568-8b88-81cc27b4e036\",\"type\":\"BasicTickFormatter\"},{\"attributes\":{},\"id\":\"c9c4aa4c-3024-4a34-8b0d-4ad330b6357d\",\"type\":\"Selection\"},{\"attributes\":{},\"id\":\"658da65a-9c4c-4869-8f3d-145960e95f88\",\"type\":\"UnionRenderers\"},{\"attributes\":{\"plot\":null,\"text\":\"\"},\"id\":\"55b104ab-ca05-4e6f-ad87-0773b9077b7b\",\"type\":\"Title\"},{\"attributes\":{\"formatter\":{\"id\":\"e1dba74a-067f-4568-8b88-81cc27b4e036\",\"type\":\"BasicTickFormatter\"},\"plot\":{\"id\":\"210b3835-6d98-4864-b038-c08c70b5a8f3\",\"subtype\":\"Figure\",\"type\":\"Plot\"},\"ticker\":{\"id\":\"a266d7c8-db92-42ef-9c81-b7df4f0f0967\",\"type\":\"BasicTicker\"}},\"id\":\"7556d9f4-b402-488f-b6f0-8914c9290607\",\"type\":\"LinearAxis\"},{\"attributes\":{},\"id\":\"40ecfa14-9451-4dd3-84a7-1ecf52b10749\",\"type\":\"BasicTicker\"},{\"attributes\":{},\"id\":\"cb8e2f9a-c983-4747-bd31-1ddd3f4e8d04\",\"type\":\"Selection\"},{\"attributes\":{},\"id\":\"509a08c6-989c-4da1-a933-5ddcd26966fb\",\"type\":\"HelpTool\"},{\"attributes\":{\"overlay\":{\"id\":\"90e3df48-350b-4b5b-afb2-239b6c39182e\",\"type\":\"BoxAnnotation\"}},\"id\":\"e1a198b2-20d2-4697-85bb-8316370b8fbd\",\"type\":\"BoxZoomTool\"},{\"attributes\":{},\"id\":\"eb152213-7867-426e-8c1e-ade195af961e\",\"type\":\"ResetTool\"},{\"attributes\":{\"dimension\":1,\"plot\":{\"id\":\"210b3835-6d98-4864-b038-c08c70b5a8f3\",\"subtype\":\"Figure\",\"type\":\"Plot\"},\"ticker\":{\"id\":\"40ecfa14-9451-4dd3-84a7-1ecf52b10749\",\"type\":\"BasicTicker\"}},\"id\":\"3aec1d88-abc3-438a-91ba-796fe44ad38a\",\"type\":\"Grid\"},{\"attributes\":{\"label\":{\"value\":\"cosine\"},\"renderers\":[{\"id\":\"871131ca-56cc-40c9-9dfb-8c384cd40b3b\",\"type\":\"GlyphRenderer\"}]},\"id\":\"cfabf782-b74f-4782-9558-2e49bb2a672d\",\"type\":\"LegendItem\"},{\"attributes\":{\"callback\":null},\"id\":\"8e55a003-6d9f-4439-a047-8fb65b09f2eb\",\"type\":\"DataRange1d\"},{\"attributes\":{},\"id\":\"d76c21f9-68e3-4a1c-9576-7371d8634dd1\",\"type\":\"UnionRenderers\"},{\"attributes\":{\"callback\":null},\"id\":\"7add8ed1-2baa-4bab-9054-62512260c7f8\",\"type\":\"DataRange1d\"},{\"attributes\":{\"source\":{\"id\":\"3353b041-241e-495c-abe5-e80731822382\",\"type\":\"ColumnDataSource\"}},\"id\":\"02641dee-8e78-4d6a-b786-633d9dacbf86\",\"type\":\"CDSView\"},{\"attributes\":{\"items\":[{\"id\":\"f183211c-404d-4b4c-ba75-c5c0af0d26ee\",\"type\":\"LegendItem\"},{\"id\":\"cfabf782-b74f-4782-9558-2e49bb2a672d\",\"type\":\"LegendItem\"},{\"id\":\"ae539725-fc29-4076-a8c2-7fae543a7528\",\"type\":\"LegendItem\"}],\"plot\":{\"id\":\"210b3835-6d98-4864-b038-c08c70b5a8f3\",\"subtype\":\"Figure\",\"type\":\"Plot\"}},\"id\":\"cf64dcbd-da85-45f8-9182-382e49ec7176\",\"type\":\"Legend\"},{\"attributes\":{\"line_alpha\":0.1,\"line_color\":\"#1f77b4\",\"line_width\":2,\"x\":{\"field\":\"x\"},\"y\":{\"field\":\"y\"}},\"id\":\"397b4780-fdca-4662-8f57-a7611f901f18\",\"type\":\"Line\"},{\"attributes\":{\"active_drag\":\"auto\",\"active_inspect\":\"auto\",\"active_scroll\":\"auto\",\"active_tap\":\"auto\",\"tools\":[{\"id\":\"2865d37d-ca5d-4872-83f3-0f91540e5323\",\"type\":\"PanTool\"},{\"id\":\"83837a9e-e010-481f-a5c3-bcf227d5a7e4\",\"type\":\"WheelZoomTool\"},{\"id\":\"e1a198b2-20d2-4697-85bb-8316370b8fbd\",\"type\":\"BoxZoomTool\"},{\"id\":\"c70880dd-490c-48f0-ad84-fecd2bf4470f\",\"type\":\"SaveTool\"},{\"id\":\"eb152213-7867-426e-8c1e-ade195af961e\",\"type\":\"ResetTool\"},{\"id\":\"509a08c6-989c-4da1-a933-5ddcd26966fb\",\"type\":\"HelpTool\"}]},\"id\":\"eefaf94e-bc57-4ee2-8606-c6ccd97e312b\",\"type\":\"Toolbar\"},{\"attributes\":{\"label\":{\"value\":\"-sine\"},\"renderers\":[{\"id\":\"e8401acb-632b-48cd-a004-969e28006b87\",\"type\":\"GlyphRenderer\"}]},\"id\":\"ae539725-fc29-4076-a8c2-7fae543a7528\",\"type\":\"LegendItem\"},{\"attributes\":{\"callback\":null,\"data\":{\"x\":{\"__ndarray__\":\"AAAAAAAAAACamZmZmZmpP5qZmZmZmbk/NDMzMzMzwz+amZmZmZnJPwAAAAAAANA/NDMzMzMz0z9nZmZmZmbWP5qZmZmZmdk/zczMzMzM3D8AAAAAAADgP5qZmZmZmeE/NDMzMzMz4z/NzMzMzMzkP2dmZmZmZuY/AAAAAAAA6D+amZmZmZnpPzQzMzMzM+s/zczMzMzM7D9nZmZmZmbuPwAAAAAAAPA/zczMzMzM8D+amZmZmZnxP2dmZmZmZvI/NDMzMzMz8z8AAAAAAAD0P83MzMzMzPQ/mpmZmZmZ9T9nZmZmZmb2PzQzMzMzM/c/AAAAAAAA+D/NzMzMzMz4P5qZmZmZmfk/Z2ZmZmZm+j80MzMzMzP7PwAAAAAAAPw/zczMzMzM/D+amZmZmZn9P2dmZmZmZv4/NDMzMzMz/z8AAAAAAAAAQGdmZmZmZgBAzczMzMzMAEAzMzMzMzMBQJqZmZmZmQFAAAAAAAAAAkBnZmZmZmYCQM3MzMzMzAJANDMzMzMzA0CamZmZmZkDQAAAAAAAAARAZ2ZmZmZmBEDNzMzMzMwEQDQzMzMzMwVAmpmZmZmZBUAAAAAAAAAGQGdmZmZmZgZAzczMzMzMBkA0MzMzMzMHQJqZmZmZmQdAAAAAAAAACEBnZmZmZmYIQM3MzMzMzAhANDMzMzMzCUCamZmZmZkJQAAAAAAAAApAZ2ZmZmZmCkDNzMzMzMwKQDQzMzMzMwtAmpmZmZmZC0AAAAAAAAAMQGdmZmZmZgxAzczMzMzMDEA0MzMzMzMNQJqZmZmZmQ1AAAAAAAAADkBnZmZmZmYOQM3MzMzMzA5ANDMzMzMzD0CamZmZmZkPQAAAAAAAABBAMzMzMzMzEEBnZmZmZmYQQJqZmZmZmRBAzczMzMzMEEAAAAAAAAARQDMzMzMzMxFAZ2ZmZmZmEUCamZmZmZkRQM3MzMzMzBFAAAAAAAAAEkAzMzMzMzMSQGdmZmZmZhJAmpmZmZmZEkDNzMzMzMwSQAAAAAAAABNANDMzMzMzE0BnZmZmZmYTQJqZmZmZmRNAzczMzMzME0AAAAAAAAAUQDQzMzMzMxRAZ2ZmZmZmFECamZmZmZkUQM3MzMzMzBRAAAAAAAAAFUA0MzMzMzMVQGdmZmZmZhVAmpmZmZmZFUDNzMzMzMwVQAAAAAAAABZANDMzMzMzFkBnZmZmZmYWQJqZmZmZmRZAzczMzMzMFkAAAAAAAAAXQDQzMzMzMxdAZ2ZmZmZmF0CamZmZmZkXQM3MzMzMzBdAAAAAAAAAGEA0MzMzMzMYQGdmZmZmZhhAmpmZmZmZGEDNzMzMzMwYQAAAAAAAABlA\",\"dtype\":\"float64\",\"shape\":[126]},\"y\":{\"__ndarray__\":\"AAAAAAAA8D9Ykigbw/XvP8EXqPkS1+8/N+lePgOk7z96YneVtFzvP6HufZ9UAe8/ugkv1B2S7j+35Q1dVw/uP/ii2+dUee0/LT8McXbQ7D9QfVsGKBXsP1ATqYHhR+s/FFtIPCZp6j/CmPS6hHnpP5Kdn1KWeeg/HyFVxv5p5z9lmHHea0vmPxqXb/mUHuU/HOKSljrk4z+hRrzaJZ3iP4wGtQ8oSuE/I2mIPDTY3z8RYccGuAfdP+cl24GoJNo/0Hk7lN4w1z9S2YvYPS7UP19MKmizHtE/5L9VP2kIzD8DVxO8e8HFPwKhgv1E2b4/p/nFT9Ubsj8sZlxFPUuVPzMWX8V65p2/4fnaPURBtL+ObKL0+X3Av4rp00nE0Ma/eg4lT/UUzb9uTU1GRaPRv69FNLnGsNS/tKEQ8Qqx178FclNXJqLav/Sqogg3gt2/yp6YBLMn4L9KfA459IPhv3CtiEsA1eK/bbq5kf8Z5L/kLzAXIlLlv7DYZiKgfOa/iNGQtLqY578nsM8DvKXov32Lhe/3oum/fXZ4bsyP6r9w9ID2oWvrvzIPgd3rNey/pgNmsyju7L8U7fqU4pPtv0xwV3evJu6/dSK6azGm7r/KQKPbFhLvv7JDCb0aau+/0uWFvgSu77+0Wl9rqd3vvySmVkfq+O+/gkkp4rX/77+2y7niB/Lvv/j31wnpz++/tgunLG+Z778HaaUmvU7vvwK+XsMC8O6/mObWn3x97r9fGsEDdPftv6M3nLI+Xu2/WSzStD6y7L82mv0Y4vPrvzfZfa2iI+u/92eGsgVC6r/oqNuEm0/pvwR7c0H/TOi/58g0YtY657+8kBVU0Bnmv8Ek2wam6uS/xXfEdhmu479kLWow9WTiv3zaI88LEOG/HceK7G5g37/1ZxWLsozcv1M7FpKxptm/yRohykaw1r+qwmJ8V6vTv3wmHDzSmdC/aj1YVFv7yr9y2uNmzrHEv4qNWSsHtry/8uVh/iTsr780alBDOl+Jv3R70+GWQKM/f0BOWFVmtj8W1x0FBY/BP2QWfCej38c/YI7Jp/ogzj/ZSmtwhSfSP/GIr8HvMtU/q1zkjskw2D8+HC/NKB/bP+5qN1kt/N0/CVQwFQFj4D/cMnQ/b73hP7DuFICDDOM/jLAlb2dP5D/rIVBxTIXlP0jUBzxsreY/h4RrVAnH5z+ECoOIb9HoP/NgjGL0y+k/Kv4Nlve16j+Us2hm447rPydypwYtVuw/SaVP8lQL7T8pUPk+563tP5K3euZ7Pe4/9SJ4Cbe57j9cHS0qSSLvP7SYSV/vdu8/1WfCfnO37z/OqXlArOPvP3X5qFh9++8/\",\"dtype\":\"float64\",\"shape\":[126]}},\"selected\":{\"id\":\"cb8e2f9a-c983-4747-bd31-1ddd3f4e8d04\",\"type\":\"Selection\"},\"selection_policy\":{\"id\":\"223a369a-8587-48bc-bc55-8918e595aba3\",\"type\":\"UnionRenderers\"}},\"id\":\"3353b041-241e-495c-abe5-e80731822382\",\"type\":\"ColumnDataSource\"},{\"attributes\":{\"line_color\":\"navy\",\"line_width\":2,\"x\":{\"field\":\"x\"},\"y\":{\"field\":\"y\"}},\"id\":\"a7f2061d-7c80-4f04-b329-3b8365820b2c\",\"type\":\"Line\"},{\"attributes\":{},\"id\":\"a266d7c8-db92-42ef-9c81-b7df4f0f0967\",\"type\":\"BasicTicker\"},{\"attributes\":{\"callback\":null,\"data\":{\"x\":{\"__ndarray__\":\"AAAAAAAAAACamZmZmZmpP5qZmZmZmbk/NDMzMzMzwz+amZmZmZnJPwAAAAAAANA/NDMzMzMz0z9nZmZmZmbWP5qZmZmZmdk/zczMzMzM3D8AAAAAAADgP5qZmZmZmeE/NDMzMzMz4z/NzMzMzMzkP2dmZmZmZuY/AAAAAAAA6D+amZmZmZnpPzQzMzMzM+s/zczMzMzM7D9nZmZmZmbuPwAAAAAAAPA/zczMzMzM8D+amZmZmZnxP2dmZmZmZvI/NDMzMzMz8z8AAAAAAAD0P83MzMzMzPQ/mpmZmZmZ9T9nZmZmZmb2PzQzMzMzM/c/AAAAAAAA+D/NzMzMzMz4P5qZmZmZmfk/Z2ZmZmZm+j80MzMzMzP7PwAAAAAAAPw/zczMzMzM/D+amZmZmZn9P2dmZmZmZv4/NDMzMzMz/z8AAAAAAAAAQGdmZmZmZgBAzczMzMzMAEAzMzMzMzMBQJqZmZmZmQFAAAAAAAAAAkBnZmZmZmYCQM3MzMzMzAJANDMzMzMzA0CamZmZmZkDQAAAAAAAAARAZ2ZmZmZmBEDNzMzMzMwEQDQzMzMzMwVAmpmZmZmZBUAAAAAAAAAGQGdmZmZmZgZAzczMzMzMBkA0MzMzMzMHQJqZmZmZmQdAAAAAAAAACEBnZmZmZmYIQM3MzMzMzAhANDMzMzMzCUCamZmZmZkJQAAAAAAAAApAZ2ZmZmZmCkDNzMzMzMwKQDQzMzMzMwtAmpmZmZmZC0AAAAAAAAAMQGdmZmZmZgxAzczMzMzMDEA0MzMzMzMNQJqZmZmZmQ1AAAAAAAAADkBnZmZmZmYOQM3MzMzMzA5ANDMzMzMzD0CamZmZmZkPQAAAAAAAABBAMzMzMzMzEEBnZmZmZmYQQJqZmZmZmRBAzczMzMzMEEAAAAAAAAARQDMzMzMzMxFAZ2ZmZmZmEUCamZmZmZkRQM3MzMzMzBFAAAAAAAAAEkAzMzMzMzMSQGdmZmZmZhJAmpmZmZmZEkDNzMzMzMwSQAAAAAAAABNANDMzMzMzE0BnZmZmZmYTQJqZmZmZmRNAzczMzMzME0AAAAAAAAAUQDQzMzMzMxRAZ2ZmZmZmFECamZmZmZkUQM3MzMzMzBRAAAAAAAAAFUA0MzMzMzMVQGdmZmZmZhVAmpmZmZmZFUDNzMzMzMwVQAAAAAAAABZANDMzMzMzFkBnZmZmZmYWQJqZmZmZmRZAzczMzMzMFkAAAAAAAAAXQDQzMzMzMxdAZ2ZmZmZmF0CamZmZmZkXQM3MzMzMzBdAAAAAAAAAGEA0MzMzMzMYQGdmZmZmZhhAmpmZmZmZGEDNzMzMzMwYQAAAAAAAABlA\",\"dtype\":\"float64\",\"shape\":[126]},\"y\":{\"__ndarray__\":\"AAAAAAAAAIA8ZP+i3papvyzLi8uujrm/I+3f6ckgw7+80j0j/23Jv3cV89Tuqs+/NLq6lc3p0r+MCjmlCfLVv2tnK+k67Ni/JUb5rXnW27/wBUt06K7ev9RoSZHaueC/WkGlF40R4r+r15Phr13jv7kZRmluneS/DY+/FvzP5b/N/r/ClPTmv4OARjR9Cui/QahdmAMR6b9vJuTzfwfqv+4MCY9U7eq/wfI2Wu7B6784Yy1MxYTsv5liDLlcNe2/xVUaokPT7b+MQRH+FF7uv0sexfl31e6/vuH5MCA5778D4UTfzYjvv9xD2ghOxO+/i20sm3rr779oe0iFOv7vv8VC4MeB/O+/yIr3fFHm77+2mC/Xt7vvv0aCsRjQfO+/8BW9gcIp7791guc2xMLuv1c4Gh8XSO6/d8dnuQm67b9GtNHq9hjtv/tnH8RFZey/+3LrP2mf67/qUxH538fqvwjXqtkz3+m/qePQwvnl6L8iL1gt0dznv+jJxsNjxOa/mNHD9WSd5b98v0aFkWjkv7DKzw2vJuO/oqb2hYvY4b+7haC7/H7gv/1nY5a/Nd6/DKckJDFa27/8g8E5Im3Yv8DlXSNycNW/1yNVLQpm0r/TMEjWuJ/Ov0aravHEX8i/W9W2bTgQwr+e7yAPOmq3vy4QmIIPSqW/DSjuo9E3gT8yLeg5N+OtP4ykZCStsrs/lwy3ygIxxD+AV+iIw3vKP3RM/xDJWtA/nOiDYTlt0z8fYrp+O3PWP9c1iiXgatk/8dHwQ0FS3D9YwwYwgyffP0EbLuxq9OA/IQZ19jpK4j+gwOz/VpTjPyvQtM7r0eQ/zrMfLS4C5j9A1LlrWyTnP64e3N25N+g/K5R6UJk76T+9yOJ6Uy/qP7wtImlMEus/2BLQ3/Lj6z9wg/u4wKPsPyWKATo7Ue0/7e0UYvPr7T/wKEUxhnPuP6km1+ec5+4/gEDHPe1H7z+N9FCSOZTvP7rsXRNRzO8/zhrD3A/w7z9S7DcPX//vP2Dk+N40+u8//z0MmpTg7z9ylCSmjrLvP6TrInZAcO8/k88+d9QZ7z8zmeD1ga/uP8c3P/qMMe4/uSLYHEag7T+WTt1SCvzsP9ckurJCRew/o43VMGR86z83ErxU76HqP4P64eZvtuk/cAUyl3y66D9P96Gctq7nP1ewCk7Jk+Y/zcyFtGlq5T+09ZYXVjPkP7UAa4NV7+I/oMd6STef4T8uNuN70kPgP8rfjscKvN0/azkq5mnd2j8bvQtkmO3XPwpad1F37tQ/wKKwivHh0T+L+Mn79JPNP1z7M9cZUcc/2vTYRFP/wD8dzb7bWEW1P7wS9cPd/KA/\",\"dtype\":\"float64\",\"shape\":[126]}},\"selected\":{\"id\":\"c9c4aa4c-3024-4a34-8b0d-4ad330b6357d\",\"type\":\"Selection\"},\"selection_policy\":{\"id\":\"658da65a-9c4c-4869-8f3d-145960e95f88\",\"type\":\"UnionRenderers\"}},\"id\":\"9185ec66-18d0-4713-8e4b-78b71a2b21ee\",\"type\":\"ColumnDataSource\"},{\"attributes\":{},\"id\":\"47c1a5bc-5b5b-4e9a-9e1a-12661538071d\",\"type\":\"BasicTickFormatter\"},{\"attributes\":{\"plot\":{\"id\":\"210b3835-6d98-4864-b038-c08c70b5a8f3\",\"subtype\":\"Figure\",\"type\":\"Plot\"},\"ticker\":{\"id\":\"a266d7c8-db92-42ef-9c81-b7df4f0f0967\",\"type\":\"BasicTicker\"}},\"id\":\"26c556c9-ef8c-409a-b735-23b00faecbc5\",\"type\":\"Grid\"}],\"root_ids\":[\"210b3835-6d98-4864-b038-c08c70b5a8f3\"]},\"title\":\"Bokeh Application\",\"version\":\"0.12.16\"}};\n",
       "  var render_items = [{\"docid\":\"32ed639e-2f17-41e5-a388-e37757544120\",\"elementid\":\"8468c438-bf25-48f4-9d53-00c89ae0e75d\",\"modelid\":\"210b3835-6d98-4864-b038-c08c70b5a8f3\"}];\n",
       "  root.Bokeh.embed.embed_items_notebook(docs_json, render_items);\n",
       "\n",
       "  }\n",
       "  if (root.Bokeh !== undefined) {\n",
       "    embed_document(root);\n",
       "  } else {\n",
       "    var attempts = 0;\n",
       "    var timer = setInterval(function(root) {\n",
       "      if (root.Bokeh !== undefined) {\n",
       "        embed_document(root);\n",
       "        clearInterval(timer);\n",
       "      }\n",
       "      attempts++;\n",
       "      if (attempts > 100) {\n",
       "        console.log(\"Bokeh: ERROR: Unable to run BokehJS code because BokehJS library is missing\")\n",
       "        clearInterval(timer);\n",
       "      }\n",
       "    }, 10, root)\n",
       "  }\n",
       "})(window);"
      ],
      "application/vnd.bokehjs_exec.v0+json": ""
     },
     "metadata": {
      "application/vnd.bokehjs_exec.v0+json": {
       "id": "210b3835-6d98-4864-b038-c08c70b5a8f3"
      }
     },
     "output_type": "display_data"
    }
   ],
   "source": [
    "# You may create the legend\n",
    "from bokeh.plotting import figure, output_file, show\n",
    "import numpy as np\n",
    "import math\n",
    "x=np.arange(0, math.pi*2, 0.05)\n",
    "fig=figure()\n",
    "fig.line(x, np.sin(x),line_width=2, line_color='navy', legend='sine')\n",
    "fig.circle(x,np.cos(x), line_width=2, line_color='orange', legend='cosine')\n",
    "fig.square(x,-np.sin(x),line_width=2, line_color='grey', legend='-sine')\n",
    "show(fig)\n"
   ]
  },
  {
   "cell_type": "markdown",
   "metadata": {},
   "source": [
    "## Bokeh and Pandas "
   ]
  },
  {
   "cell_type": "code",
   "execution_count": 43,
   "metadata": {},
   "outputs": [
    {
     "name": "stdout",
     "output_type": "stream",
     "text": [
      "          x           pow\n",
      "0  0.000000      1.000000\n",
      "1  0.526316      3.359818\n",
      "2  1.052632     11.288379\n",
      "3  1.578947     37.926902\n",
      "4  2.105263    127.427499\n",
      "5  2.631579    428.133240\n",
      "6  3.157895   1438.449888\n",
      "7  3.684211   4832.930239\n",
      "8  4.210526  16237.767392\n",
      "9  4.736842  54555.947812\n"
     ]
    }
   ],
   "source": [
    "import pandas as pd\n",
    "df=pd.read_csv('test.csv')\n",
    "print (df)\n"
   ]
  },
  {
   "cell_type": "code",
   "execution_count": 46,
   "metadata": {},
   "outputs": [
    {
     "data": {
      "text/html": [
       "\n",
       "<div class=\"bk-root\">\n",
       "    <div class=\"bk-plotdiv\" id=\"cc048b77-84cb-45f3-93bf-4cf7916e7ec7\"></div>\n",
       "</div>"
      ]
     },
     "metadata": {},
     "output_type": "display_data"
    },
    {
     "data": {
      "application/javascript": [
       "(function(root) {\n",
       "  function embed_document(root) {\n",
       "    \n",
       "  var docs_json = {\"3a3d8898-7a53-47a5-90cc-88f468b90495\":{\"roots\":{\"references\":[{\"attributes\":{\"data_source\":{\"id\":\"35d541d0-08c0-48b2-95f5-789884234881\",\"type\":\"ColumnDataSource\"},\"glyph\":{\"id\":\"76c760ae-2b0b-4395-ae89-a072505753de\",\"type\":\"Circle\"},\"hover_glyph\":null,\"muted_glyph\":null,\"nonselection_glyph\":{\"id\":\"0ae1c630-5525-45f7-a78f-2e23b5a2c22e\",\"type\":\"Circle\"},\"selection_glyph\":null,\"view\":{\"id\":\"25e5d8c1-7351-403f-a707-aebd696eac35\",\"type\":\"CDSView\"}},\"id\":\"28a51d51-ee8f-4194-919e-b35086914a55\",\"type\":\"GlyphRenderer\"},{\"attributes\":{\"callback\":null},\"id\":\"c4d6d8ac-5a00-47d1-8919-1c4a5c8aa279\",\"type\":\"DataRange1d\"},{\"attributes\":{\"bottom_units\":\"screen\",\"fill_alpha\":{\"value\":0.5},\"fill_color\":{\"value\":\"lightgrey\"},\"left_units\":\"screen\",\"level\":\"overlay\",\"line_alpha\":{\"value\":1.0},\"line_color\":{\"value\":\"black\"},\"line_dash\":[4,4],\"line_width\":{\"value\":2},\"plot\":null,\"render_mode\":\"css\",\"right_units\":\"screen\",\"top_units\":\"screen\"},\"id\":\"a798d3be-de97-4f0b-973d-a75c90a9180e\",\"type\":\"BoxAnnotation\"},{\"attributes\":{\"callback\":null,\"data\":{\"x\":{\"__ndarray__\":\"AAAAAAAAAAB5DeU1lNfgP3kN5TWU1/A/N5TXUF5D+T95DeU1lNcAQNdQXkN5DQVANpTXUF5DCUCT11BeQ3kNQHkN5TWU1xBAKK+hvIbyEkA=\",\"dtype\":\"float64\",\"shape\":[10]},\"y\":{\"__ndarray__\":\"AAAAAAAA8D+du+Bo6OAKQDVtwWamkyZAa0bBuKT2QkBKpfYiXNtfQAfIIcAhwnpAd+mDr8x5lkAncx0k7uCyQGS55Tnits9Azyt5VH6j6kA=\",\"dtype\":\"float64\",\"shape\":[10]}},\"selected\":{\"id\":\"3f954fd7-4b70-4ce8-a639-e684838bf93d\",\"type\":\"Selection\"},\"selection_policy\":{\"id\":\"d8ebfb2c-340a-40b9-a58c-769ad6ee5231\",\"type\":\"UnionRenderers\"}},\"id\":\"5b631617-c1aa-49dc-b3ed-3939c49e1b20\",\"type\":\"ColumnDataSource\"},{\"attributes\":{\"plot\":{\"id\":\"30f557a8-d237-47d7-b2e3-f0658e4cf188\",\"subtype\":\"Figure\",\"type\":\"Plot\"},\"ticker\":{\"id\":\"1980842c-bda2-407e-8358-8aa09e555342\",\"type\":\"BasicTicker\"}},\"id\":\"70ad8e66-85a0-4df4-960d-aad47cf504f1\",\"type\":\"Grid\"},{\"attributes\":{},\"id\":\"e05c3541-486c-4f79-b531-42491bd5a476\",\"type\":\"ResetTool\"},{\"attributes\":{},\"id\":\"d8ebfb2c-340a-40b9-a58c-769ad6ee5231\",\"type\":\"UnionRenderers\"},{\"attributes\":{},\"id\":\"97729d35-5d01-48a4-b9fa-d610d5c866a0\",\"type\":\"BasicTicker\"},{\"attributes\":{\"callback\":null,\"data\":{\"x\":{\"__ndarray__\":\"AAAAAAAAAAB5DeU1lNfgP3kN5TWU1/A/N5TXUF5D+T95DeU1lNcAQNdQXkN5DQVANpTXUF5DCUCT11BeQ3kNQHkN5TWU1xBAKK+hvIbyEkA=\",\"dtype\":\"float64\",\"shape\":[10]},\"y\":{\"__ndarray__\":\"AAAAAAAA8D+du+Bo6OAKQDVtwWamkyZAa0bBuKT2QkBKpfYiXNtfQAfIIcAhwnpAd+mDr8x5lkAncx0k7uCyQGS55Tnits9Azyt5VH6j6kA=\",\"dtype\":\"float64\",\"shape\":[10]}},\"selected\":{\"id\":\"87cf38f3-29a8-463d-8b1f-09b31f986964\",\"type\":\"Selection\"},\"selection_policy\":{\"id\":\"2cc93043-4d32-4b2c-bff2-9f5457a41b26\",\"type\":\"UnionRenderers\"}},\"id\":\"35d541d0-08c0-48b2-95f5-789884234881\",\"type\":\"ColumnDataSource\"},{\"attributes\":{},\"id\":\"7ad17ae7-432e-4893-80b6-9ab5d560d623\",\"type\":\"WheelZoomTool\"},{\"attributes\":{},\"id\":\"096318ec-9ce7-4c51-aab2-1a15e9e9df2e\",\"type\":\"SaveTool\"},{\"attributes\":{},\"id\":\"12dab1a3-9718-4789-a14f-a417c0cd8abe\",\"type\":\"LinearScale\"},{\"attributes\":{\"below\":[{\"id\":\"d9f89e7d-fcda-402f-9ff2-6155de7ecbc2\",\"type\":\"LinearAxis\"}],\"left\":[{\"id\":\"c5c64bae-4516-4838-a609-3e80a01f74a7\",\"type\":\"LinearAxis\"}],\"renderers\":[{\"id\":\"d9f89e7d-fcda-402f-9ff2-6155de7ecbc2\",\"type\":\"LinearAxis\"},{\"id\":\"70ad8e66-85a0-4df4-960d-aad47cf504f1\",\"type\":\"Grid\"},{\"id\":\"c5c64bae-4516-4838-a609-3e80a01f74a7\",\"type\":\"LinearAxis\"},{\"id\":\"a1b98d3a-9689-4c13-8dde-86e7a49f0fe1\",\"type\":\"Grid\"},{\"id\":\"a798d3be-de97-4f0b-973d-a75c90a9180e\",\"type\":\"BoxAnnotation\"},{\"id\":\"f788be4c-3b07-49eb-ad4e-3b73784df6dd\",\"type\":\"GlyphRenderer\"},{\"id\":\"28a51d51-ee8f-4194-919e-b35086914a55\",\"type\":\"GlyphRenderer\"}],\"title\":{\"id\":\"f7808d96-e7cb-44a2-a840-b6a8d452dc2e\",\"type\":\"Title\"},\"toolbar\":{\"id\":\"daf28a2e-793c-4329-9696-7e2db4ed78ac\",\"type\":\"Toolbar\"},\"x_range\":{\"id\":\"c4d6d8ac-5a00-47d1-8919-1c4a5c8aa279\",\"type\":\"DataRange1d\"},\"x_scale\":{\"id\":\"12dab1a3-9718-4789-a14f-a417c0cd8abe\",\"type\":\"LinearScale\"},\"y_range\":{\"id\":\"456982b1-69a0-4333-b396-ca4560861db5\",\"type\":\"DataRange1d\"},\"y_scale\":{\"id\":\"1c0db572-d14a-4f14-af0b-af265910558c\",\"type\":\"LinearScale\"}},\"id\":\"30f557a8-d237-47d7-b2e3-f0658e4cf188\",\"subtype\":\"Figure\",\"type\":\"Plot\"},{\"attributes\":{},\"id\":\"1980842c-bda2-407e-8358-8aa09e555342\",\"type\":\"BasicTicker\"},{\"attributes\":{\"fill_alpha\":{\"value\":0.1},\"fill_color\":{\"value\":\"#1f77b4\"},\"line_alpha\":{\"value\":0.1},\"line_color\":{\"value\":\"#1f77b4\"},\"size\":{\"units\":\"screen\",\"value\":20},\"x\":{\"field\":\"x\"},\"y\":{\"field\":\"y\"}},\"id\":\"0ae1c630-5525-45f7-a78f-2e23b5a2c22e\",\"type\":\"Circle\"},{\"attributes\":{\"source\":{\"id\":\"5b631617-c1aa-49dc-b3ed-3939c49e1b20\",\"type\":\"ColumnDataSource\"}},\"id\":\"65900822-3a32-4961-87f2-83c05fb63573\",\"type\":\"CDSView\"},{\"attributes\":{},\"id\":\"b98bcf4e-b017-4e89-8ba1-d4d837daf923\",\"type\":\"BasicTickFormatter\"},{\"attributes\":{},\"id\":\"3f954fd7-4b70-4ce8-a639-e684838bf93d\",\"type\":\"Selection\"},{\"attributes\":{},\"id\":\"1c0db572-d14a-4f14-af0b-af265910558c\",\"type\":\"LinearScale\"},{\"attributes\":{\"callback\":null},\"id\":\"456982b1-69a0-4333-b396-ca4560861db5\",\"type\":\"DataRange1d\"},{\"attributes\":{\"line_alpha\":0.1,\"line_color\":\"#1f77b4\",\"line_width\":2,\"x\":{\"field\":\"x\"},\"y\":{\"field\":\"y\"}},\"id\":\"e6318adf-250c-430f-bbe3-a453982ca286\",\"type\":\"Line\"},{\"attributes\":{\"dimension\":1,\"plot\":{\"id\":\"30f557a8-d237-47d7-b2e3-f0658e4cf188\",\"subtype\":\"Figure\",\"type\":\"Plot\"},\"ticker\":{\"id\":\"97729d35-5d01-48a4-b9fa-d610d5c866a0\",\"type\":\"BasicTicker\"}},\"id\":\"a1b98d3a-9689-4c13-8dde-86e7a49f0fe1\",\"type\":\"Grid\"},{\"attributes\":{},\"id\":\"b2619c39-36a6-4b93-9f10-f31ab79eaf64\",\"type\":\"HelpTool\"},{\"attributes\":{},\"id\":\"b6acd4c4-4822-42f5-96e2-01f7d1905a5e\",\"type\":\"BasicTickFormatter\"},{\"attributes\":{\"formatter\":{\"id\":\"b98bcf4e-b017-4e89-8ba1-d4d837daf923\",\"type\":\"BasicTickFormatter\"},\"plot\":{\"id\":\"30f557a8-d237-47d7-b2e3-f0658e4cf188\",\"subtype\":\"Figure\",\"type\":\"Plot\"},\"ticker\":{\"id\":\"97729d35-5d01-48a4-b9fa-d610d5c866a0\",\"type\":\"BasicTicker\"}},\"id\":\"c5c64bae-4516-4838-a609-3e80a01f74a7\",\"type\":\"LinearAxis\"},{\"attributes\":{\"fill_color\":{\"value\":\"#1f77b4\"},\"line_color\":{\"value\":\"#1f77b4\"},\"size\":{\"units\":\"screen\",\"value\":20},\"x\":{\"field\":\"x\"},\"y\":{\"field\":\"y\"}},\"id\":\"76c760ae-2b0b-4395-ae89-a072505753de\",\"type\":\"Circle\"},{\"attributes\":{\"active_drag\":\"auto\",\"active_inspect\":\"auto\",\"active_scroll\":\"auto\",\"active_tap\":\"auto\",\"tools\":[{\"id\":\"e80ec450-6057-4f98-948c-2a4b7351e15d\",\"type\":\"PanTool\"},{\"id\":\"7ad17ae7-432e-4893-80b6-9ab5d560d623\",\"type\":\"WheelZoomTool\"},{\"id\":\"db9602c9-86e7-4363-88cb-ae1c677adaac\",\"type\":\"BoxZoomTool\"},{\"id\":\"096318ec-9ce7-4c51-aab2-1a15e9e9df2e\",\"type\":\"SaveTool\"},{\"id\":\"e05c3541-486c-4f79-b531-42491bd5a476\",\"type\":\"ResetTool\"},{\"id\":\"b2619c39-36a6-4b93-9f10-f31ab79eaf64\",\"type\":\"HelpTool\"}]},\"id\":\"daf28a2e-793c-4329-9696-7e2db4ed78ac\",\"type\":\"Toolbar\"},{\"attributes\":{},\"id\":\"87cf38f3-29a8-463d-8b1f-09b31f986964\",\"type\":\"Selection\"},{\"attributes\":{\"source\":{\"id\":\"35d541d0-08c0-48b2-95f5-789884234881\",\"type\":\"ColumnDataSource\"}},\"id\":\"25e5d8c1-7351-403f-a707-aebd696eac35\",\"type\":\"CDSView\"},{\"attributes\":{},\"id\":\"e80ec450-6057-4f98-948c-2a4b7351e15d\",\"type\":\"PanTool\"},{\"attributes\":{},\"id\":\"2cc93043-4d32-4b2c-bff2-9f5457a41b26\",\"type\":\"UnionRenderers\"},{\"attributes\":{\"line_color\":\"#1f77b4\",\"line_width\":2,\"x\":{\"field\":\"x\"},\"y\":{\"field\":\"y\"}},\"id\":\"198daefe-0d39-449d-883f-094a5b9797fc\",\"type\":\"Line\"},{\"attributes\":{\"formatter\":{\"id\":\"b6acd4c4-4822-42f5-96e2-01f7d1905a5e\",\"type\":\"BasicTickFormatter\"},\"plot\":{\"id\":\"30f557a8-d237-47d7-b2e3-f0658e4cf188\",\"subtype\":\"Figure\",\"type\":\"Plot\"},\"ticker\":{\"id\":\"1980842c-bda2-407e-8358-8aa09e555342\",\"type\":\"BasicTicker\"}},\"id\":\"d9f89e7d-fcda-402f-9ff2-6155de7ecbc2\",\"type\":\"LinearAxis\"},{\"attributes\":{\"data_source\":{\"id\":\"5b631617-c1aa-49dc-b3ed-3939c49e1b20\",\"type\":\"ColumnDataSource\"},\"glyph\":{\"id\":\"198daefe-0d39-449d-883f-094a5b9797fc\",\"type\":\"Line\"},\"hover_glyph\":null,\"muted_glyph\":null,\"nonselection_glyph\":{\"id\":\"e6318adf-250c-430f-bbe3-a453982ca286\",\"type\":\"Line\"},\"selection_glyph\":null,\"view\":{\"id\":\"65900822-3a32-4961-87f2-83c05fb63573\",\"type\":\"CDSView\"}},\"id\":\"f788be4c-3b07-49eb-ad4e-3b73784df6dd\",\"type\":\"GlyphRenderer\"},{\"attributes\":{\"plot\":null,\"text\":\"\"},\"id\":\"f7808d96-e7cb-44a2-a840-b6a8d452dc2e\",\"type\":\"Title\"},{\"attributes\":{\"overlay\":{\"id\":\"a798d3be-de97-4f0b-973d-a75c90a9180e\",\"type\":\"BoxAnnotation\"}},\"id\":\"db9602c9-86e7-4363-88cb-ae1c677adaac\",\"type\":\"BoxZoomTool\"}],\"root_ids\":[\"30f557a8-d237-47d7-b2e3-f0658e4cf188\"]},\"title\":\"Bokeh Application\",\"version\":\"0.12.16\"}};\n",
       "  var render_items = [{\"docid\":\"3a3d8898-7a53-47a5-90cc-88f468b90495\",\"elementid\":\"cc048b77-84cb-45f3-93bf-4cf7916e7ec7\",\"modelid\":\"30f557a8-d237-47d7-b2e3-f0658e4cf188\"}];\n",
       "  root.Bokeh.embed.embed_items_notebook(docs_json, render_items);\n",
       "\n",
       "  }\n",
       "  if (root.Bokeh !== undefined) {\n",
       "    embed_document(root);\n",
       "  } else {\n",
       "    var attempts = 0;\n",
       "    var timer = setInterval(function(root) {\n",
       "      if (root.Bokeh !== undefined) {\n",
       "        embed_document(root);\n",
       "        clearInterval(timer);\n",
       "      }\n",
       "      attempts++;\n",
       "      if (attempts > 100) {\n",
       "        console.log(\"Bokeh: ERROR: Unable to run BokehJS code because BokehJS library is missing\")\n",
       "        clearInterval(timer);\n",
       "      }\n",
       "    }, 10, root)\n",
       "  }\n",
       "})(window);"
      ],
      "application/vnd.bokehjs_exec.v0+json": ""
     },
     "metadata": {
      "application/vnd.bokehjs_exec.v0+json": {
       "id": "30f557a8-d237-47d7-b2e3-f0658e4cf188"
      }
     },
     "output_type": "display_data"
    }
   ],
   "source": [
    "from bokeh.plotting import figure, output_file, show\n",
    "p = figure()\n",
    "x=df['x']\n",
    "y=df['pow']\n",
    "p.line(x,y,line_width=2)\n",
    "p.circle(x, y,size=20)\n",
    "show(p)\n"
   ]
  },
  {
   "cell_type": "code",
   "execution_count": 49,
   "metadata": {},
   "outputs": [
    {
     "name": "stdout",
     "output_type": "stream",
     "text": [
      "[False, False, False, False, False, False, False, False, False, False, False, False, False, False, False, False, False, False, False, False, False, False, False, False, False, False, False, False, False, False, False, False, True, True, True, True, True, True, True, True, True, True, True, True, True, True, True, True, True, True, True, True, True, True, True, True, True, True, True, True, True, True, True, True, True, True, True, True, True]\n"
     ]
    },
    {
     "data": {
      "text/html": [
       "\n",
       "<div class=\"bk-root\">\n",
       "    <div class=\"bk-plotdiv\" id=\"f4d53b52-c94c-4e65-8fbe-fa2da913e4b9\"></div>\n",
       "</div>"
      ]
     },
     "metadata": {},
     "output_type": "display_data"
    },
    {
     "data": {
      "application/javascript": [
       "(function(root) {\n",
       "  function embed_document(root) {\n",
       "    \n",
       "  var docs_json = {\"54f4d561-6226-43d0-8203-2228d42b9431\":{\"roots\":{\"references\":[{\"attributes\":{},\"id\":\"ee8a0c18-78ad-48c5-89a4-622d11be0dd7\",\"type\":\"BasicTickFormatter\"},{\"attributes\":{},\"id\":\"2b5c3a94-04d7-4041-a92d-948007f2f42d\",\"type\":\"HelpTool\"},{\"attributes\":{},\"id\":\"1671c204-0555-4491-baa1-c4ae2fccf141\",\"type\":\"ResetTool\"},{\"attributes\":{},\"id\":\"e7f0afaa-2b3a-45c6-8fad-8ff75cc3c21d\",\"type\":\"LinearScale\"},{\"attributes\":{},\"id\":\"ebcacc84-47a8-4bad-9941-99fd277e4171\",\"type\":\"SaveTool\"},{\"attributes\":{},\"id\":\"c418d3f5-e381-4e8f-845f-1c4ff31fd36e\",\"type\":\"BasicTicker\"},{\"attributes\":{\"axis_label\":\"Year\",\"formatter\":{\"id\":\"ee8a0c18-78ad-48c5-89a4-622d11be0dd7\",\"type\":\"BasicTickFormatter\"},\"plot\":{\"id\":\"afe6cbe0-3bf7-41a2-bd8f-79f302ca14d7\",\"subtype\":\"Figure\",\"type\":\"Plot\"},\"ticker\":{\"id\":\"7cc2bcfe-e910-42d9-b512-dcfe7b7342fd\",\"type\":\"BasicTicker\"}},\"id\":\"3a6298d2-07db-461f-b649-b998a46982a3\",\"type\":\"LinearAxis\"},{\"attributes\":{},\"id\":\"78455ea3-751f-473c-bc5d-a4f8e1596884\",\"type\":\"WheelZoomTool\"},{\"attributes\":{\"dimension\":1,\"plot\":{\"id\":\"afe6cbe0-3bf7-41a2-bd8f-79f302ca14d7\",\"subtype\":\"Figure\",\"type\":\"Plot\"},\"ticker\":{\"id\":\"c418d3f5-e381-4e8f-845f-1c4ff31fd36e\",\"type\":\"BasicTicker\"}},\"id\":\"c5c098fb-611e-4123-a322-15b8d8b145d6\",\"type\":\"Grid\"},{\"attributes\":{\"callback\":null},\"id\":\"fa7dcb14-9edd-4954-a3a3-0c6850297cd0\",\"type\":\"DataRange1d\"},{\"attributes\":{\"line_alpha\":0.1,\"line_color\":\"#1f77b4\",\"line_width\":2,\"x\":{\"field\":\"Year\"},\"y\":{\"field\":\"Annual\"}},\"id\":\"e836fea1-77f9-4fcf-9595-e2256e47cf5d\",\"type\":\"Line\"},{\"attributes\":{\"callback\":null,\"end\":2020,\"start\":1980},\"id\":\"ede34beb-3cf9-4594-9881-2ad07dbfcca4\",\"type\":\"Range1d\"},{\"attributes\":{\"data_source\":{\"id\":\"d6d8ad6b-c3f9-48dd-b29d-7d0e1159a55b\",\"type\":\"ColumnDataSource\"},\"glyph\":{\"id\":\"08e2809e-6562-4a2b-9b02-3c401e573aeb\",\"type\":\"Line\"},\"hover_glyph\":null,\"muted_glyph\":null,\"nonselection_glyph\":{\"id\":\"e836fea1-77f9-4fcf-9595-e2256e47cf5d\",\"type\":\"Line\"},\"selection_glyph\":null,\"view\":{\"id\":\"89daff3c-2835-4583-bef2-3efe3a921581\",\"type\":\"CDSView\"}},\"id\":\"92420f3d-475f-466e-b605-8420c2dcdefd\",\"type\":\"GlyphRenderer\"},{\"attributes\":{\"filters\":[{\"id\":\"36bb3e4e-b8db-421c-a1b4-60f1e9bccb44\",\"type\":\"BooleanFilter\"}],\"source\":{\"id\":\"d6d8ad6b-c3f9-48dd-b29d-7d0e1159a55b\",\"type\":\"ColumnDataSource\"}},\"id\":\"89daff3c-2835-4583-bef2-3efe3a921581\",\"type\":\"CDSView\"},{\"attributes\":{\"overlay\":{\"id\":\"c10b8516-2759-48c3-b0db-670419110ffb\",\"type\":\"BoxAnnotation\"}},\"id\":\"cc72ac3d-ea2b-42f6-8202-cede6a2bb976\",\"type\":\"BoxZoomTool\"},{\"attributes\":{\"axis_label\":\"Percentage\",\"formatter\":{\"id\":\"eb748cb7-3a0f-42c8-a9b9-e539c03aa2c8\",\"type\":\"BasicTickFormatter\"},\"plot\":{\"id\":\"afe6cbe0-3bf7-41a2-bd8f-79f302ca14d7\",\"subtype\":\"Figure\",\"type\":\"Plot\"},\"ticker\":{\"id\":\"c418d3f5-e381-4e8f-845f-1c4ff31fd36e\",\"type\":\"BasicTicker\"}},\"id\":\"bef384bc-2cd2-40ce-b9e1-6c2de1eb33a4\",\"type\":\"LinearAxis\"},{\"attributes\":{},\"id\":\"7cc2bcfe-e910-42d9-b512-dcfe7b7342fd\",\"type\":\"BasicTicker\"},{\"attributes\":{\"line_color\":\"red\",\"line_width\":2,\"x\":{\"field\":\"Year\"},\"y\":{\"field\":\"Annual\"}},\"id\":\"08e2809e-6562-4a2b-9b02-3c401e573aeb\",\"type\":\"Line\"},{\"attributes\":{\"active_drag\":\"auto\",\"active_inspect\":\"auto\",\"active_scroll\":\"auto\",\"active_tap\":\"auto\",\"tools\":[{\"id\":\"6babf1ba-956e-4673-b42f-835e3521cd8e\",\"type\":\"PanTool\"},{\"id\":\"78455ea3-751f-473c-bc5d-a4f8e1596884\",\"type\":\"WheelZoomTool\"},{\"id\":\"cc72ac3d-ea2b-42f6-8202-cede6a2bb976\",\"type\":\"BoxZoomTool\"},{\"id\":\"ebcacc84-47a8-4bad-9941-99fd277e4171\",\"type\":\"SaveTool\"},{\"id\":\"1671c204-0555-4491-baa1-c4ae2fccf141\",\"type\":\"ResetTool\"},{\"id\":\"2b5c3a94-04d7-4041-a92d-948007f2f42d\",\"type\":\"HelpTool\"}]},\"id\":\"9729954a-6a41-47cb-9236-e95c072e5613\",\"type\":\"Toolbar\"},{\"attributes\":{\"plot\":{\"id\":\"afe6cbe0-3bf7-41a2-bd8f-79f302ca14d7\",\"subtype\":\"Figure\",\"type\":\"Plot\"},\"ticker\":{\"id\":\"7cc2bcfe-e910-42d9-b512-dcfe7b7342fd\",\"type\":\"BasicTicker\"}},\"id\":\"5c6dcc73-7753-4c4c-963e-617bdb80e35c\",\"type\":\"Grid\"},{\"attributes\":{\"callback\":null,\"data\":{\"Annual\":{\"__ndarray__\":\"ZmZmZmZmDkCamZmZmZkXQDMzMzMzMxVAZmZmZmZmCkAAAAAAAAAIQDMzMzMzMwdAAAAAAAAAFkCamZmZmZkRQGZmZmZmZhBAMzMzMzMzEUAzMzMzMzMbQAAAAAAAABZAAAAAAAAAFkDNzMzMzMwaQAAAAAAAABZAzczMzMzMFkDNzMzMzMwUQAAAAAAAABJAZmZmZmZmDkBmZmZmZmYOQM3MzMzMzAxAAAAAAAAADECamZmZmZkTQJqZmZmZmRdAZmZmZmZmFkCamZmZmZkTQGZmZmZmZhZAAAAAAAAAIUDNzMzMzMweQGZmZmZmZhxAZmZmZmZmGEAzMzMzMzMXQGZmZmZmZhxAZmZmZmZmHkBmZmZmZmYjQDMzMzMzMyNAAAAAAAAAHkDNzMzMzMwcQAAAAAAAABxAzczMzMzMGEAAAAAAAAAWQDMzMzMzMxVAZmZmZmZmFkAzMzMzMzMbQAAAAAAAAB5AmpmZmZmZG0BmZmZmZmYYQGZmZmZmZhZAmpmZmZmZFUCamZmZmZkTQAAAAAAAABJAzczMzMzMEEAAAAAAAAAQQM3MzMzMzBJAMzMzMzMzF0AAAAAAAAAYQAAAAAAAABZAZmZmZmZmFEBmZmZmZmYSQGZmZmZmZhJAMzMzMzMzF0CamZmZmZkiQDMzMzMzMyNAzczMzMzMIUAzMzMzMzMgQJqZmZmZmR1AzczMzMzMGEAzMzMzMzMVQJqZmZmZmRNA\",\"dtype\":\"float64\",\"shape\":[69]},\"Apr\":{\"__ndarray__\":\"AAAAAAAAEECamZmZmZkVQAAAAAAAABhAmpmZmZmZCUAAAAAAAAAIQGZmZmZmZgZAZmZmZmZmGECamZmZmZkTQGZmZmZmZhBAAAAAAAAAEEAAAAAAAAAeQM3MzMzMzBRAzczMzMzMFEAAAAAAAAAcQAAAAAAAABZAZmZmZmZmFkAzMzMzMzMVQM3MzMzMzBJAzczMzMzMDEAAAAAAAAAMQJqZmZmZmQlAmpmZmZmZCUAzMzMzMzMRQM3MzMzMzBZAAAAAAAAAFkAzMzMzMzMTQDMzMzMzMxNAMzMzMzMzIUCamZmZmZkdQJqZmZmZmRtAMzMzMzMzF0AAAAAAAAAWQM3MzMzMzBpAAAAAAAAAHEBmZmZmZmYiQAAAAAAAACRAZmZmZmZmHkBmZmZmZmYcQAAAAAAAABxAzczMzMzMGEAzMzMzMzMVQGZmZmZmZhRAMzMzMzMzFUAAAAAAAAAaQM3MzMzMzBxAmpmZmZmZG0DNzMzMzMwYQGZmZmZmZhZAmpmZmZmZFUAzMzMzMzMTQGZmZmZmZhBAZmZmZmZmEECamZmZmZkNQM3MzMzMzBBAzczMzMzMFkAzMzMzMzMXQJqZmZmZmRVAmpmZmZmZE0AAAAAAAAASQDMzMzMzMxFAMzMzMzMzE0AzMzMzMzMhQAAAAAAAACNAZmZmZmZmIUDNzMzMzMweQGZmZmZmZhxAmpmZmZmZF0BmZmZmZmYUQM3MzMzMzBJA\",\"dtype\":\"float64\",\"shape\":[69]},\"Aug\":{\"__ndarray__\":\"zczMzMzMDEAzMzMzMzMZQGZmZmZmZhBAMzMzMzMzB0DNzMzMzMwIQDMzMzMzMwNAmpmZmZmZFUBmZmZmZmYOQJqZmZmZmQ1AmpmZmZmZDUDNzMzMzMwaQDMzMzMzMxNAzczMzMzMFEDNzMzMzMwYQDMzMzMzMxVAzczMzMzMFEAzMzMzMzMTQM3MzMzMzBBAzczMzMzMDECamZmZmZkNQAAAAAAAAAxAAAAAAAAADEAAAAAAAAAUQJqZmZmZmRdAAAAAAAAAFkDNzMzMzMwSQDMzMzMzMxVAZmZmZmZmIEBmZmZmZmYeQDMzMzMzMxtAmpmZmZmZF0CamZmZmZkXQGZmZmZmZh5AzczMzMzMHEAzMzMzMzMjQGZmZmZmZiJAMzMzMzMzHUCamZmZmZkbQM3MzMzMzBpAMzMzMzMzF0CamZmZmZkVQGZmZmZmZhRAAAAAAAAAFkBmZmZmZmYaQJqZmZmZmR1AZmZmZmZmGkCamZmZmZkXQGZmZmZmZhZAZmZmZmZmFEAzMzMzMzMTQAAAAAAAABJAzczMzMzMEEBmZmZmZmYQQJqZmZmZmRNAzczMzMzMFkAAAAAAAAAYQJqZmZmZmRVAmpmZmZmZE0BmZmZmZmYSQGZmZmZmZhJAZmZmZmZmGEAzMzMzMzMjQAAAAAAAACNAMzMzMzMzIkBmZmZmZmYgQDMzMzMzMx1AMzMzMzMzGUDNzMzMzMwUQAAAAAAAABRA\",\"dtype\":\"float64\",\"shape\":[69]},\"Dec\":{\"__ndarray__\":\"zczMzMzMDEAAAAAAAAAYQDMzMzMzMw9AMzMzMzMzB0AAAAAAAAAEQM3MzMzMzBBAMzMzMzMzE0AzMzMzMzMPQAAAAAAAABBAAAAAAAAAFEAAAAAAAAAYQGZmZmZmZhRAmpmZmZmZGUAzMzMzMzMXQDMzMzMzMxVAMzMzMzMzFUDNzMzMzMwSQJqZmZmZmQ1AAAAAAAAADEAAAAAAAAAMQM3MzMzMzAhAmpmZmZmZCUBmZmZmZmYWQAAAAAAAABZAMzMzMzMzE0BmZmZmZmYSQM3MzMzMzBpAMzMzMzMzH0CamZmZmZkdQAAAAAAAABhAzczMzMzMFkDNzMzMzMwWQJqZmZmZmRtAmpmZmZmZIEAAAAAAAAAlQAAAAAAAACBAAAAAAAAAHEDNzMzMzMwaQDMzMzMzMxlAmpmZmZmZFUAAAAAAAAAUQGZmZmZmZhRAAAAAAAAAGECamZmZmZkbQGZmZmZmZhxAZmZmZmZmGEBmZmZmZmYUQM3MzMzMzBRAAAAAAAAAFECamZmZmZkRQAAAAAAAABBAmpmZmZmZDUCamZmZmZkNQJqZmZmZmRVAzczMzMzMFkCamZmZmZkVQGZmZmZmZhRAZmZmZmZmEkAzMzMzMzMRQDMzMzMzMxNAZmZmZmZmHEBmZmZmZmYjQDMzMzMzMyJAmpmZmZmZIEBmZmZmZmYeQAAAAAAAABpAmpmZmZmZFUAzMzMzMzMTQAAAAAAAABJA\",\"dtype\":\"float64\",\"shape\":[69]},\"Feb\":{\"__ndarray__\":\"zczMzMzMEkAzMzMzMzMXQJqZmZmZmR9AzczMzMzMEEBmZmZmZmYOQJqZmZmZmQlAMzMzMzMzGUDNzMzMzMwWQDMzMzMzMxNAzczMzMzMEkDNzMzMzMweQAAAAAAAABxAzczMzMzMFkAzMzMzMzMgQAAAAAAAABpAmpmZmZmZG0DNzMzMzMwYQM3MzMzMzBZAzczMzMzMEEDNzMzMzMwQQM3MzMzMzBBAmpmZmZmZDUDNzMzMzMwSQGZmZmZmZhpAmpmZmZmZGUBmZmZmZmYWQDMzMzMzMxdAMzMzMzMzIkBmZmZmZmYhQAAAAAAAACFAmpmZmZmZG0CamZmZmZkZQDMzMzMzMxtAAAAAAAAAIEAzMzMzMzMjQJqZmZmZmSZAzczMzMzMIEAzMzMzMzMfQDMzMzMzMx9AzczMzMzMHEDNzMzMzMwYQGZmZmZmZhZAmpmZmZmZF0AzMzMzMzMdQGZmZmZmZiBAMzMzMzMzH0BmZmZmZmYcQJqZmZmZmRdAAAAAAAAAGEDNzMzMzMwWQAAAAAAAABRAzczMzMzMEkCamZmZmZkRQGZmZmZmZhJAZmZmZmZmGECamZmZmZkZQAAAAAAAABhAMzMzMzMzF0BmZmZmZmYUQJqZmZmZmRNAzczMzMzMFEDNzMzMzMwhQM3MzMzMzCRAAAAAAAAAI0BmZmZmZmYhQDMzMzMzMyBAAAAAAAAAHEAzMzMzMzMXQM3MzMzMzBRA\",\"dtype\":\"float64\",\"shape\":[69]},\"Jan\":{\"__ndarray__\":\"AAAAAAAAEEAAAAAAAAAUQGZmZmZmZh5AmpmZmZmZEUCamZmZmZkNQDMzMzMzMwtAzczMzMzMFkAzMzMzMzMXQM3MzMzMzBJAmpmZmZmZE0AzMzMzMzMbQAAAAAAAABxAZmZmZmZmGEDNzMzMzMweQM3MzMzMzBpAZmZmZmZmGkCamZmZmZkZQAAAAAAAABZAmpmZmZmZEUDNzMzMzMwQQAAAAAAAABBAmpmZmZmZDUDNzMzMzMwQQGZmZmZmZhpAAAAAAAAAGkAAAAAAAAAWQM3MzMzMzBZAAAAAAAAAIkCamZmZmZkhQJqZmZmZmSBAZmZmZmZmHECamZmZmZkZQJqZmZmZmRtAZmZmZmZmIEDNzMzMzMwiQM3MzMzMzCZAmpmZmZmZIUAAAAAAAAAgQDMzMzMzMx1AMzMzMzMzHUAzMzMzMzMZQAAAAAAAABhAAAAAAAAAGEBmZmZmZmYcQDMzMzMzMyBAAAAAAAAAIEAzMzMzMzMdQM3MzMzMzBhAMzMzMzMzGUCamZmZmZkXQM3MzMzMzBRAMzMzMzMzE0AAAAAAAAASQM3MzMzMzBJAMzMzMzMzGUAAAAAAAAAaQDMzMzMzMxlAzczMzMzMFkBmZmZmZmYUQAAAAAAAABRAmpmZmZmZFUAAAAAAAAAhQDMzMzMzMyVAmpmZmZmZI0CamZmZmZkhQAAAAAAAACFAAAAAAAAAHEBmZmZmZmYYQDMzMzMzMxVA\",\"dtype\":\"float64\",\"shape\":[69]},\"Jul\":{\"__ndarray__\":\"MzMzMzMzD0AAAAAAAAAcQDMzMzMzMxVAZmZmZmZmCkBmZmZmZmYKQJqZmZmZmQVAzczMzMzMFkAAAAAAAAAQQJqZmZmZmRFAZmZmZmZmEECamZmZmZkdQM3MzMzMzBRAAAAAAAAAFkCamZmZmZkbQDMzMzMzMxVAZmZmZmZmFkCamZmZmZkTQAAAAAAAABJAMzMzMzMzD0BmZmZmZmYQQAAAAAAAABBAZmZmZmZmDkAzMzMzMzMVQM3MzMzMzBhAmpmZmZmZF0AAAAAAAAAUQM3MzMzMzBZAZmZmZmZmIUAzMzMzMzMfQAAAAAAAABxAMzMzMzMzGUCamZmZmZkXQJqZmZmZmR9AMzMzMzMzHUCamZmZmZkjQM3MzMzMzCJAAAAAAAAAHkCamZmZmZkdQAAAAAAAABxAZmZmZmZmGEAAAAAAAAAWQDMzMzMzMxVAZmZmZmZmFkAzMzMzMzMbQM3MzMzMzB5AAAAAAAAAHEDNzMzMzMwYQJqZmZmZmRdAZmZmZmZmFkAAAAAAAAAUQM3MzMzMzBJAAAAAAAAAEkDNzMzMzMwQQM3MzMzMzBJAmpmZmZmZF0AzMzMzMzMZQM3MzMzMzBZAzczMzMzMFEAAAAAAAAAUQJqZmZmZmRNAAAAAAAAAGEBmZmZmZmYjQGZmZmZmZiNAmpmZmZmZIkAzMzMzMzMhQM3MzMzMzB5AAAAAAAAAGkBmZmZmZmYWQGZmZmZmZhRA\",\"dtype\":\"float64\",\"shape\":[69]},\"Jun\":{\"__ndarray__\":\"MzMzMzMzD0CamZmZmZkZQGZmZmZmZhZAMzMzMzMzC0CamZmZmZkJQJqZmZmZmQVAzczMzMzMFkCamZmZmZkRQM3MzMzMzBJAZmZmZmZmEkBmZmZmZmYeQJqZmZmZmRVAMzMzMzMzF0AzMzMzMzMdQJqZmZmZmRdAzczMzMzMGECamZmZmZkXQDMzMzMzMxVAZmZmZmZmEkBmZmZmZmYSQAAAAAAAABJAZmZmZmZmEEBmZmZmZmYWQAAAAAAAABpAzczMzMzMGECamZmZmZkVQDMzMzMzMxdAMzMzMzMzIkAAAAAAAAAgQAAAAAAAAB5AzczMzMzMGEAAAAAAAAAYQDMzMzMzMx9AzczMzMzMHkCamZmZmZkjQGZmZmZmZiRAmpmZmZmZHUAAAAAAAAAeQDMzMzMzMx1AMzMzMzMzGUAAAAAAAAAWQAAAAAAAABZAmpmZmZmZFUAAAAAAAAAcQAAAAAAAACBAzczMzMzMHEDNzMzMzMwYQDMzMzMzMxdAAAAAAAAAFkDNzMzMzMwUQM3MzMzMzBJAAAAAAAAAEkBmZmZmZmYQQM3MzMzMzBJAAAAAAAAAGEAAAAAAAAAaQDMzMzMzMxdAzczMzMzMFEAzMzMzMzMTQM3MzMzMzBJAzczMzMzMFkBmZmZmZmYjQDMzMzMzMyNAmpmZmZmZIkDNzMzMzMwgQDMzMzMzMx9AMzMzMzMzGUAAAAAAAAAWQGZmZmZmZhRA\",\"dtype\":\"float64\",\"shape\":[69]},\"Mar\":{\"__ndarray__\":\"AAAAAAAAEkBmZmZmZmYWQGZmZmZmZhxAZmZmZmZmDkBmZmZmZmYKQDMzMzMzMwdAmpmZmZmZGUDNzMzMzMwUQM3MzMzMzBJAMzMzMzMzEUDNzMzMzMweQJqZmZmZmRlAZmZmZmZmGEDNzMzMzMweQM3MzMzMzBhAMzMzMzMzGUCamZmZmZkXQGZmZmZmZhRAAAAAAAAAEEAzMzMzMzMPQGZmZmZmZg5AAAAAAAAADEBmZmZmZmYSQDMzMzMzMxlAZmZmZmZmGEDNzMzMzMwUQDMzMzMzMxVAMzMzMzMzIkAzMzMzMzMgQJqZmZmZmR9AZmZmZmZmGkBmZmZmZmYYQGZmZmZmZhpAzczMzMzMHkAAAAAAAAAjQJqZmZmZmSVAMzMzMzMzIEAAAAAAAAAeQAAAAAAAAB5AmpmZmZmZG0CamZmZmZkXQM3MzMzMzBRAAAAAAAAAFkDNzMzMzMwcQDMzMzMzMx9AmpmZmZmZHUAzMzMzMzMbQM3MzMzMzBZAMzMzMzMzF0AAAAAAAAAWQAAAAAAAABRAmpmZmZmZEUAzMzMzMzMRQAAAAAAAABJAZmZmZmZmGEDNzMzMzMwYQAAAAAAAABhAmpmZmZmZFUAzMzMzMzMTQAAAAAAAABJAzczMzMzMFEAAAAAAAAAiQGZmZmZmZiRAZmZmZmZmIkDNzMzMzMwgQGZmZmZmZh5AMzMzMzMzG0BmZmZmZmYWQGZmZmZmZhRA\",\"dtype\":\"float64\",\"shape\":[69]},\"May\":{\"__ndarray__\":\"MzMzMzMzC0DNzMzMzMwWQDMzMzMzMxVAMzMzMzMzB0AzMzMzMzMHQAAAAAAAAARAzczMzMzMFkDNzMzMzMwQQM3MzMzMzBBAMzMzMzMzD0BmZmZmZmYcQJqZmZmZmRNAMzMzMzMzE0BmZmZmZmYaQGZmZmZmZhRAAAAAAAAAFkAzMzMzMzMTQDMzMzMzMxFAmpmZmZmZDUCamZmZmZkJQDMzMzMzMwdAMzMzMzMzB0BmZmZmZmYQQDMzMzMzMxVAZmZmZmZmFECamZmZmZkRQGZmZmZmZhJAmpmZmZmZIEAzMzMzMzMbQJqZmZmZmRlAAAAAAAAAFkDNzMzMzMwUQGZmZmZmZhxAZmZmZmZmHEAzMzMzMzMiQJqZmZmZmSNAzczMzMzMHEAAAAAAAAAcQAAAAAAAABxAZmZmZmZmGECamZmZmZkVQAAAAAAAABRAzczMzMzMFEDNzMzMzMwaQDMzMzMzMx1AMzMzMzMzG0CamZmZmZkXQAAAAAAAABZAmpmZmZmZFUDNzMzMzMwSQM3MzMzMzBBAAAAAAAAAEEBmZmZmZmYOQGZmZmZmZhBAAAAAAAAAFkAzMzMzMzMXQDMzMzMzMxVAmpmZmZmZE0CamZmZmZkRQDMzMzMzMxFAzczMzMzMFEAzMzMzMzMiQJqZmZmZmSJAZmZmZmZmIUCamZmZmZkfQDMzMzMzMx1AZmZmZmZmGEAzMzMzMzMVQAAAAAAAABJA\",\"dtype\":\"float64\",\"shape\":[69]},\"Nov\":{\"__ndarray__\":\"ZmZmZmZmCkDNzMzMzMwWQGZmZmZmZg5AmpmZmZmZCUAAAAAAAAAEQJqZmZmZmQlAmpmZmZmZE0BmZmZmZmYOQDMzMzMzMw9AZmZmZmZmEkBmZmZmZmYWQDMzMzMzMxVAZmZmZmZmFkBmZmZmZmYWQDMzMzMzMxVAMzMzMzMzFUAAAAAAAAASQDMzMzMzMw9AMzMzMzMzC0CamZmZmZkNQGZmZmZmZgpAZmZmZmZmCkAAAAAAAAAWQM3MzMzMzBZAmpmZmZmZE0BmZmZmZmYSQM3MzMzMzBhAMzMzMzMzH0CamZmZmZkdQAAAAAAAABpAZmZmZmZmFkBmZmZmZmYWQGZmZmZmZhxAmpmZmZmZH0DNzMzMzMwkQDMzMzMzMyBAmpmZmZmZG0DNzMzMzMwaQGZmZmZmZhpAZmZmZmZmFkDNzMzMzMwUQM3MzMzMzBRAmpmZmZmZF0DNzMzMzMwaQGZmZmZmZhxAzczMzMzMGEAzMzMzMzMVQDMzMzMzMxVAAAAAAAAAFEAzMzMzMzMRQGZmZmZmZhBAZmZmZmZmDkCamZmZmZkNQDMzMzMzMxVAZmZmZmZmFkBmZmZmZmYWQM3MzMzMzBRAMzMzMzMzE0AzMzMzMzMRQAAAAAAAABJAAAAAAAAAGkDNzMzMzMwiQJqZmZmZmSJAZmZmZmZmIECamZmZmZkdQGZmZmZmZhpAAAAAAAAAFkAzMzMzMzMTQJqZmZmZmRFA\",\"dtype\":\"float64\",\"shape\":[69]},\"Oct\":{\"__ndarray__\":\"MzMzMzMzB0BmZmZmZmYYQGZmZmZmZgpAZmZmZmZmBkAzMzMzMzMDQAAAAAAAAARAZmZmZmZmEkAzMzMzMzMLQM3MzMzMzAhAzczMzMzMDEAAAAAAAAAWQM3MzMzMzBJAAAAAAAAAFEAAAAAAAAAWQAAAAAAAABJAzczMzMzMEkCamZmZmZkRQM3MzMzMzAxAmpmZmZmZCUBmZmZmZmYOQJqZmZmZmQlAAAAAAAAADEBmZmZmZmYUQJqZmZmZmRVAZmZmZmZmFEDNzMzMzMwQQAAAAAAAABZAMzMzMzMzH0DNzMzMzMwcQJqZmZmZmRlAmpmZmZmZFUBmZmZmZmYWQGZmZmZmZhxAAAAAAAAAHkDNzMzMzMwjQM3MzMzMzCBAAAAAAAAAHEAzMzMzMzMbQGZmZmZmZhpAzczMzMzMFkAAAAAAAAAUQAAAAAAAABRAAAAAAAAAFkAAAAAAAAAaQJqZmZmZmRtAmpmZmZmZGUCamZmZmZkVQM3MzMzMzBRAmpmZmZmZE0CamZmZmZkRQM3MzMzMzBBAZmZmZmZmDkDNzMzMzMwMQAAAAAAAABRAMzMzMzMzFUBmZmZmZmYWQGZmZmZmZhRAZmZmZmZmEkBmZmZmZmYQQJqZmZmZmRFAZmZmZmZmGEAAAAAAAAAjQAAAAAAAACJAAAAAAAAAIUAAAAAAAAAeQAAAAAAAABxAAAAAAAAAFkAzMzMzMzMTQM3MzMzMzBJA\",\"dtype\":\"float64\",\"shape\":[69]},\"Sep\":{\"__ndarray__\":\"MzMzMzMzC0CamZmZmZkXQAAAAAAAABBAAAAAAAAACECamZmZmZkFQM3MzMzMzARAMzMzMzMzFUAAAAAAAAAMQDMzMzMzMwtAmpmZmZmZDUAAAAAAAAAYQM3MzMzMzBJAzczMzMzMEkAzMzMzMzMXQJqZmZmZmRNAMzMzMzMzE0AAAAAAAAASQGZmZmZmZg5AZmZmZmZmCkCamZmZmZkNQGZmZmZmZgpAmpmZmZmZDUDNzMzMzMwUQDMzMzMzMxdAmpmZmZmZFUDNzMzMzMwSQM3MzMzMzBZAMzMzMzMzIECamZmZmZkdQGZmZmZmZhpAMzMzMzMzF0DNzMzMzMwWQM3MzMzMzBxAMzMzMzMzHUBmZmZmZmYjQJqZmZmZmSFAZmZmZmZmHECamZmZmZkbQDMzMzMzMxtAzczMzMzMFkDNzMzMzMwUQGZmZmZmZhRAZmZmZmZmFkAAAAAAAAAaQDMzMzMzMx1AmpmZmZmZGUBmZmZmZmYWQJqZmZmZmRVAAAAAAAAAFEDNzMzMzMwSQJqZmZmZmRFAZmZmZmZmEEBmZmZmZmYOQM3MzMzMzBJAmpmZmZmZFUAzMzMzMzMXQGZmZmZmZhRAMzMzMzMzE0CamZmZmZkRQAAAAAAAABJAAAAAAAAAGEAAAAAAAAAjQGZmZmZmZiJAmpmZmZmZIUBmZmZmZmYeQAAAAAAAABxAzczMzMzMFkCamZmZmZkTQDMzMzMzMxNA\",\"dtype\":\"float64\",\"shape\":[69]},\"Year\":[1948,1949,1950,1951,1952,1953,1954,1955,1956,1957,1958,1959,1960,1961,1962,1963,1964,1965,1966,1967,1968,1969,1970,1971,1972,1973,1974,1975,1976,1977,1978,1979,1980,1981,1982,1983,1984,1985,1986,1987,1988,1989,1990,1991,1992,1993,1994,1995,1996,1997,1998,1999,2000,2001,2002,2003,2004,2005,2006,2007,2008,2009,2010,2011,2012,2013,2014,2015,2016],\"index\":[0,1,2,3,4,5,6,7,8,9,10,11,12,13,14,15,16,17,18,19,20,21,22,23,24,25,26,27,28,29,30,31,32,33,34,35,36,37,38,39,40,41,42,43,44,45,46,47,48,49,50,51,52,53,54,55,56,57,58,59,60,61,62,63,64,65,66,67,68]},\"selected\":{\"id\":\"ac9a5354-0c4c-4edd-9635-fdfb471a6594\",\"type\":\"Selection\"},\"selection_policy\":{\"id\":\"24cafb77-f496-4379-9937-0144477e9735\",\"type\":\"UnionRenderers\"}},\"id\":\"d6d8ad6b-c3f9-48dd-b29d-7d0e1159a55b\",\"type\":\"ColumnDataSource\"},{\"attributes\":{},\"id\":\"24cafb77-f496-4379-9937-0144477e9735\",\"type\":\"UnionRenderers\"},{\"attributes\":{},\"id\":\"eb748cb7-3a0f-42c8-a9b9-e539c03aa2c8\",\"type\":\"BasicTickFormatter\"},{\"attributes\":{},\"id\":\"ac9a5354-0c4c-4edd-9635-fdfb471a6594\",\"type\":\"Selection\"},{\"attributes\":{\"bottom_units\":\"screen\",\"fill_alpha\":{\"value\":0.5},\"fill_color\":{\"value\":\"lightgrey\"},\"left_units\":\"screen\",\"level\":\"overlay\",\"line_alpha\":{\"value\":1.0},\"line_color\":{\"value\":\"black\"},\"line_dash\":[4,4],\"line_width\":{\"value\":2},\"plot\":null,\"render_mode\":\"css\",\"right_units\":\"screen\",\"top_units\":\"screen\"},\"id\":\"c10b8516-2759-48c3-b0db-670419110ffb\",\"type\":\"BoxAnnotation\"},{\"attributes\":{\"below\":[{\"id\":\"3a6298d2-07db-461f-b649-b998a46982a3\",\"type\":\"LinearAxis\"}],\"left\":[{\"id\":\"bef384bc-2cd2-40ce-b9e1-6c2de1eb33a4\",\"type\":\"LinearAxis\"}],\"renderers\":[{\"id\":\"3a6298d2-07db-461f-b649-b998a46982a3\",\"type\":\"LinearAxis\"},{\"id\":\"5c6dcc73-7753-4c4c-963e-617bdb80e35c\",\"type\":\"Grid\"},{\"id\":\"bef384bc-2cd2-40ce-b9e1-6c2de1eb33a4\",\"type\":\"LinearAxis\"},{\"id\":\"c5c098fb-611e-4123-a322-15b8d8b145d6\",\"type\":\"Grid\"},{\"id\":\"c10b8516-2759-48c3-b0db-670419110ffb\",\"type\":\"BoxAnnotation\"},{\"id\":\"92420f3d-475f-466e-b605-8420c2dcdefd\",\"type\":\"GlyphRenderer\"}],\"title\":{\"id\":\"1b4b2f0a-288e-4917-975c-30f2d14e3978\",\"type\":\"Title\"},\"toolbar\":{\"id\":\"9729954a-6a41-47cb-9236-e95c072e5613\",\"type\":\"Toolbar\"},\"x_range\":{\"id\":\"ede34beb-3cf9-4594-9881-2ad07dbfcca4\",\"type\":\"Range1d\"},\"x_scale\":{\"id\":\"b3417313-2e71-4eda-9eea-105008542f5d\",\"type\":\"LinearScale\"},\"y_range\":{\"id\":\"fa7dcb14-9edd-4954-a3a3-0c6850297cd0\",\"type\":\"DataRange1d\"},\"y_scale\":{\"id\":\"e7f0afaa-2b3a-45c6-8fad-8ff75cc3c21d\",\"type\":\"LinearScale\"}},\"id\":\"afe6cbe0-3bf7-41a2-bd8f-79f302ca14d7\",\"subtype\":\"Figure\",\"type\":\"Plot\"},{\"attributes\":{\"booleans\":[false,false,false,false,false,false,false,false,false,false,false,false,false,false,false,false,false,false,false,false,false,false,false,false,false,false,false,false,false,false,false,false,true,true,true,true,true,true,true,true,true,true,true,true,true,true,true,true,true,true,true,true,true,true,true,true,true,true,true,true,true,true,true,true,true,true,true,true,true]},\"id\":\"36bb3e4e-b8db-421c-a1b4-60f1e9bccb44\",\"type\":\"BooleanFilter\"},{\"attributes\":{},\"id\":\"6babf1ba-956e-4673-b42f-835e3521cd8e\",\"type\":\"PanTool\"},{\"attributes\":{},\"id\":\"b3417313-2e71-4eda-9eea-105008542f5d\",\"type\":\"LinearScale\"},{\"attributes\":{\"plot\":null,\"text\":\"Unemployment data\"},\"id\":\"1b4b2f0a-288e-4917-975c-30f2d14e3978\",\"type\":\"Title\"}],\"root_ids\":[\"afe6cbe0-3bf7-41a2-bd8f-79f302ca14d7\"]},\"title\":\"Bokeh Application\",\"version\":\"0.12.16\"}};\n",
       "  var render_items = [{\"docid\":\"54f4d561-6226-43d0-8203-2228d42b9431\",\"elementid\":\"f4d53b52-c94c-4e65-8fbe-fa2da913e4b9\",\"modelid\":\"afe6cbe0-3bf7-41a2-bd8f-79f302ca14d7\"}];\n",
       "  root.Bokeh.embed.embed_items_notebook(docs_json, render_items);\n",
       "\n",
       "  }\n",
       "  if (root.Bokeh !== undefined) {\n",
       "    embed_document(root);\n",
       "  } else {\n",
       "    var attempts = 0;\n",
       "    var timer = setInterval(function(root) {\n",
       "      if (root.Bokeh !== undefined) {\n",
       "        embed_document(root);\n",
       "        clearInterval(timer);\n",
       "      }\n",
       "      attempts++;\n",
       "      if (attempts > 100) {\n",
       "        console.log(\"Bokeh: ERROR: Unable to run BokehJS code because BokehJS library is missing\")\n",
       "        clearInterval(timer);\n",
       "      }\n",
       "    }, 10, root)\n",
       "  }\n",
       "})(window);"
      ],
      "application/vnd.bokehjs_exec.v0+json": ""
     },
     "metadata": {
      "application/vnd.bokehjs_exec.v0+json": {
       "id": "afe6cbe0-3bf7-41a2-bd8f-79f302ca14d7"
      }
     },
     "output_type": "display_data"
    }
   ],
   "source": [
    "# Filtering Data\n",
    "from bokeh.models import ColumnDataSource, CDSView, BooleanFilter\n",
    "from bokeh.plotting import figure, show\n",
    "from bokeh.sampledata.unemployment1948 import data\n",
    "source = ColumnDataSource(data)\n",
    "booleans = [True if int(year) >= 1980 else False for year in\n",
    "source.data['Year']]\n",
    "print (booleans)\n",
    "view1 = CDSView(source=source, filters=[BooleanFilter(booleans)])\n",
    "p = figure(title=\"Unemployment data\", x_range=(1980,2020), x_axis_label='Year',\n",
    "y_axis_label='Percentage')\n",
    "p.line(x='Year', y='Annual', source=source, view=view1, color='red',\n",
    "line_width=2)\n",
    "show(p)\n"
   ]
  },
  {
   "cell_type": "markdown",
   "metadata": {},
   "source": [
    "## Bokeh Layout"
   ]
  },
  {
   "cell_type": "code",
   "execution_count": 51,
   "metadata": {},
   "outputs": [
    {
     "data": {
      "text/html": [
       "\n",
       "<div class=\"bk-root\">\n",
       "    <div class=\"bk-plotdiv\" id=\"9e228e86-b2a1-4d4c-afa7-250675282d17\"></div>\n",
       "</div>"
      ]
     },
     "metadata": {},
     "output_type": "display_data"
    },
    {
     "data": {
      "application/javascript": [
       "(function(root) {\n",
       "  function embed_document(root) {\n",
       "    \n",
       "  var docs_json = {\"efa91c77-119d-45d4-8bca-7a608a84830c\":{\"roots\":{\"references\":[{\"attributes\":{\"line_color\":\"blue\",\"line_width\":2,\"x\":{\"field\":\"x\"},\"y\":{\"field\":\"y\"}},\"id\":\"15199892-0213-4625-ac4f-31fe564e05f0\",\"type\":\"Line\"},{\"attributes\":{},\"id\":\"d964dbe1-7198-4334-b4f4-214c8236ff2e\",\"type\":\"UnionRenderers\"},{\"attributes\":{},\"id\":\"332547a4-ad8e-4085-a2bf-7e7c5649cb40\",\"type\":\"WheelZoomTool\"},{\"attributes\":{\"overlay\":{\"id\":\"bb7b0eaa-ce6d-4165-bfbf-5194f7a593e9\",\"type\":\"BoxAnnotation\"}},\"id\":\"c26fd158-8e11-4643-a80c-28655cbc613d\",\"type\":\"BoxZoomTool\"},{\"attributes\":{},\"id\":\"1e0bb3ec-9532-45fd-8313-a85c43ab5140\",\"type\":\"Selection\"},{\"attributes\":{\"callback\":null},\"id\":\"ed969cb8-ab9d-4912-98f1-6d47dd7ddad3\",\"type\":\"DataRange1d\"},{\"attributes\":{\"formatter\":{\"id\":\"37af9808-4ae1-427f-8fe3-4588a5e3d79d\",\"type\":\"BasicTickFormatter\"},\"plot\":{\"id\":\"53d01165-f714-447e-82de-d780923ab617\",\"subtype\":\"Figure\",\"type\":\"Plot\"},\"ticker\":{\"id\":\"d60b1682-4c5f-475f-839c-e874b976f53a\",\"type\":\"BasicTicker\"}},\"id\":\"b8508fbf-859f-4085-bd64-98ce61a5b121\",\"type\":\"LinearAxis\"},{\"attributes\":{\"data_source\":{\"id\":\"50ad878f-9ba2-4bf6-96da-57377231e26d\",\"type\":\"ColumnDataSource\"},\"glyph\":{\"id\":\"280a32c5-138e-4b8a-b087-091a214af7a5\",\"type\":\"Line\"},\"hover_glyph\":null,\"muted_glyph\":null,\"nonselection_glyph\":{\"id\":\"1a8ad4b0-3313-47f6-9c42-4957255144b1\",\"type\":\"Line\"},\"selection_glyph\":null,\"view\":{\"id\":\"870e5169-e892-48ab-8774-c79dac634034\",\"type\":\"CDSView\"}},\"id\":\"622eac45-da36-4c3d-8144-a99433f52757\",\"type\":\"GlyphRenderer\"},{\"attributes\":{},\"id\":\"79e11ef4-c827-4410-9f6d-24bff6ef939c\",\"type\":\"BasicTickFormatter\"},{\"attributes\":{\"plot\":null,\"text\":\"\"},\"id\":\"01ba86a4-1553-4e4d-a577-35366b0bd91d\",\"type\":\"Title\"},{\"attributes\":{},\"id\":\"90dbb46c-8bb8-4385-89f0-167e63d41555\",\"type\":\"WheelZoomTool\"},{\"attributes\":{\"plot\":{\"id\":\"53d01165-f714-447e-82de-d780923ab617\",\"subtype\":\"Figure\",\"type\":\"Plot\"},\"ticker\":{\"id\":\"d60b1682-4c5f-475f-839c-e874b976f53a\",\"type\":\"BasicTicker\"}},\"id\":\"98c4859d-8ac7-447f-bd6b-0253ab3b10b6\",\"type\":\"Grid\"},{\"attributes\":{\"children\":[{\"id\":\"53d01165-f714-447e-82de-d780923ab617\",\"subtype\":\"Figure\",\"type\":\"Plot\"},{\"id\":\"74f03c41-3a1d-4fd7-8dc2-0c74067c384a\",\"subtype\":\"Figure\",\"type\":\"Plot\"}],\"sizing_mode\":\"stretch_both\"},\"id\":\"2a6bf86e-5acd-4b3f-a7e4-bf00551b02a7\",\"type\":\"Column\"},{\"attributes\":{\"callback\":null},\"id\":\"18b00f20-358d-42d0-a089-102ae662da53\",\"type\":\"DataRange1d\"},{\"attributes\":{\"callback\":null},\"id\":\"28e169c5-4f09-4c1f-935c-63a777fdb7ea\",\"type\":\"DataRange1d\"},{\"attributes\":{\"active_drag\":\"auto\",\"active_inspect\":\"auto\",\"active_scroll\":\"auto\",\"active_tap\":\"auto\",\"tools\":[{\"id\":\"d7a17a38-e13b-4398-98dd-44b7a290bf18\",\"type\":\"PanTool\"},{\"id\":\"332547a4-ad8e-4085-a2bf-7e7c5649cb40\",\"type\":\"WheelZoomTool\"},{\"id\":\"7e6be139-888d-4f1b-9ea9-ff2d42a7231f\",\"type\":\"BoxZoomTool\"},{\"id\":\"1b5fc646-91ab-43b5-b9dc-6d2997266a11\",\"type\":\"SaveTool\"},{\"id\":\"97548f6c-8e28-46f1-868e-f2ea706bffdd\",\"type\":\"ResetTool\"},{\"id\":\"95eaa713-1d4d-46d1-b593-a7985ad4942a\",\"type\":\"HelpTool\"}]},\"id\":\"beaf1a77-8322-4d3d-9005-6ed9acb7ade1\",\"type\":\"Toolbar\"},{\"attributes\":{},\"id\":\"9775bf22-a1e2-4004-ac2f-e83146dc42a0\",\"type\":\"LinearScale\"},{\"attributes\":{\"below\":[{\"id\":\"b8508fbf-859f-4085-bd64-98ce61a5b121\",\"type\":\"LinearAxis\"}],\"left\":[{\"id\":\"7933b4c2-40f7-4a00-b92b-b368b9d35340\",\"type\":\"LinearAxis\"}],\"plot_height\":200,\"plot_width\":200,\"renderers\":[{\"id\":\"b8508fbf-859f-4085-bd64-98ce61a5b121\",\"type\":\"LinearAxis\"},{\"id\":\"98c4859d-8ac7-447f-bd6b-0253ab3b10b6\",\"type\":\"Grid\"},{\"id\":\"7933b4c2-40f7-4a00-b92b-b368b9d35340\",\"type\":\"LinearAxis\"},{\"id\":\"5007c912-cfd8-4e3a-b9ce-a65c1fb269d9\",\"type\":\"Grid\"},{\"id\":\"bb7b0eaa-ce6d-4165-bfbf-5194f7a593e9\",\"type\":\"BoxAnnotation\"},{\"id\":\"90032610-c783-4c00-b96a-b6bb853c28ba\",\"type\":\"GlyphRenderer\"}],\"sizing_mode\":\"stretch_both\",\"title\":{\"id\":\"4e7ee40e-9a1f-46fc-8fd4-896f126df609\",\"type\":\"Title\"},\"toolbar\":{\"id\":\"afc93511-b3a9-404c-99c7-a2d31e11ec87\",\"type\":\"Toolbar\"},\"x_range\":{\"id\":\"ed969cb8-ab9d-4912-98f1-6d47dd7ddad3\",\"type\":\"DataRange1d\"},\"x_scale\":{\"id\":\"18c206c5-6256-41ce-b9d3-6b255ac1938a\",\"type\":\"LinearScale\"},\"y_range\":{\"id\":\"18b00f20-358d-42d0-a089-102ae662da53\",\"type\":\"DataRange1d\"},\"y_scale\":{\"id\":\"868ce05b-02fa-4752-9de0-311236994de4\",\"type\":\"LinearScale\"}},\"id\":\"53d01165-f714-447e-82de-d780923ab617\",\"subtype\":\"Figure\",\"type\":\"Plot\"},{\"attributes\":{\"callback\":null,\"data\":{\"x\":{\"__ndarray__\":\"AAAAAAAAAACamZmZmZmpP5qZmZmZmbk/NDMzMzMzwz+amZmZmZnJPwAAAAAAANA/NDMzMzMz0z9nZmZmZmbWP5qZmZmZmdk/zczMzMzM3D8AAAAAAADgP5qZmZmZmeE/NDMzMzMz4z/NzMzMzMzkP2dmZmZmZuY/AAAAAAAA6D+amZmZmZnpPzQzMzMzM+s/zczMzMzM7D9nZmZmZmbuPwAAAAAAAPA/zczMzMzM8D+amZmZmZnxP2dmZmZmZvI/NDMzMzMz8z8AAAAAAAD0P83MzMzMzPQ/mpmZmZmZ9T9nZmZmZmb2PzQzMzMzM/c/AAAAAAAA+D/NzMzMzMz4P5qZmZmZmfk/Z2ZmZmZm+j80MzMzMzP7PwAAAAAAAPw/zczMzMzM/D+amZmZmZn9P2dmZmZmZv4/NDMzMzMz/z8AAAAAAAAAQGdmZmZmZgBAzczMzMzMAEAzMzMzMzMBQJqZmZmZmQFAAAAAAAAAAkBnZmZmZmYCQM3MzMzMzAJANDMzMzMzA0CamZmZmZkDQAAAAAAAAARAZ2ZmZmZmBEDNzMzMzMwEQDQzMzMzMwVAmpmZmZmZBUAAAAAAAAAGQGdmZmZmZgZAzczMzMzMBkA0MzMzMzMHQJqZmZmZmQdAAAAAAAAACEBnZmZmZmYIQM3MzMzMzAhANDMzMzMzCUCamZmZmZkJQAAAAAAAAApAZ2ZmZmZmCkDNzMzMzMwKQDQzMzMzMwtAmpmZmZmZC0AAAAAAAAAMQGdmZmZmZgxAzczMzMzMDEA0MzMzMzMNQJqZmZmZmQ1AAAAAAAAADkBnZmZmZmYOQM3MzMzMzA5ANDMzMzMzD0CamZmZmZkPQAAAAAAAABBAMzMzMzMzEEBnZmZmZmYQQJqZmZmZmRBAzczMzMzMEEAAAAAAAAARQDMzMzMzMxFAZ2ZmZmZmEUCamZmZmZkRQM3MzMzMzBFAAAAAAAAAEkAzMzMzMzMSQGdmZmZmZhJAmpmZmZmZEkDNzMzMzMwSQAAAAAAAABNANDMzMzMzE0BnZmZmZmYTQJqZmZmZmRNAzczMzMzME0AAAAAAAAAUQDQzMzMzMxRAZ2ZmZmZmFECamZmZmZkUQM3MzMzMzBRAAAAAAAAAFUA0MzMzMzMVQGdmZmZmZhVAmpmZmZmZFUDNzMzMzMwVQAAAAAAAABZANDMzMzMzFkBnZmZmZmYWQJqZmZmZmRZAzczMzMzMFkAAAAAAAAAXQDQzMzMzMxdAZ2ZmZmZmF0CamZmZmZkXQM3MzMzMzBdAAAAAAAAAGEA0MzMzMzMYQGdmZmZmZhhAmpmZmZmZGEDNzMzMzMwYQAAAAAAAABlA\",\"dtype\":\"float64\",\"shape\":[126]},\"y\":{\"__ndarray__\":\"AAAAAAAAAAA8ZP+i3papPyzLi8uujrk/I+3f6ckgwz+80j0j/23JP3cV89Tuqs8/NLq6lc3p0j+MCjmlCfLVP2tnK+k67Ng/JUb5rXnW2z/wBUt06K7eP9RoSZHaueA/WkGlF40R4j+r15Phr13jP7kZRmluneQ/DY+/FvzP5T/N/r/ClPTmP4OARjR9Cug/QahdmAMR6T9vJuTzfwfqP+4MCY9U7eo/wfI2Wu7B6z84Yy1MxYTsP5liDLlcNe0/xVUaokPT7T+MQRH+FF7uP0sexfl31e4/vuH5MCA57z8D4UTfzYjvP9xD2ghOxO8/i20sm3rr7z9oe0iFOv7vP8VC4MeB/O8/yIr3fFHm7z+2mC/Xt7vvP0aCsRjQfO8/8BW9gcIp7z91guc2xMLuP1c4Gh8XSO4/d8dnuQm67T9GtNHq9hjtP/tnH8RFZew/+3LrP2mf6z/qUxH538fqPwjXqtkz3+k/qePQwvnl6D8iL1gt0dznP+jJxsNjxOY/mNHD9WSd5T98v0aFkWjkP7DKzw2vJuM/oqb2hYvY4T+7haC7/H7gP/1nY5a/Nd4/DKckJDFa2z/8g8E5Im3YP8DlXSNycNU/1yNVLQpm0j/TMEjWuJ/OP0aravHEX8g/W9W2bTgQwj+e7yAPOmq3Py4QmIIPSqU/DSjuo9E3gb8yLeg5N+Otv4ykZCStsru/lwy3ygIxxL+AV+iIw3vKv3RM/xDJWtC/nOiDYTlt078fYrp+O3PWv9c1iiXgatm/8dHwQ0FS3L9YwwYwgyffv0EbLuxq9OC/IQZ19jpK4r+gwOz/VpTjvyvQtM7r0eS/zrMfLS4C5r9A1LlrWyTnv64e3N25N+i/K5R6UJk76b+9yOJ6Uy/qv7wtImlMEuu/2BLQ3/Lj679wg/u4wKPsvyWKATo7Ue2/7e0UYvPr7b/wKEUxhnPuv6km1+ec5+6/gEDHPe1H77+N9FCSOZTvv7rsXRNRzO+/zhrD3A/w779S7DcPX//vv2Dk+N40+u+//z0MmpTg779ylCSmjrLvv6TrInZAcO+/k88+d9QZ778zmeD1ga/uv8c3P/qMMe6/uSLYHEag7b+WTt1SCvzsv9ckurJCRey/o43VMGR86783ErxU76Hqv4P64eZvtum/cAUyl3y66L9P96Gctq7nv1ewCk7Jk+a/zcyFtGlq5b+09ZYXVjPkv7UAa4NV7+K/oMd6STef4b8uNuN70kPgv8rfjscKvN2/azkq5mnd2r8bvQtkmO3Xvwpad1F37tS/wKKwivHh0b+L+Mn79JPNv1z7M9cZUce/2vTYRFP/wL8dzb7bWEW1v7wS9cPd/KC/\",\"dtype\":\"float64\",\"shape\":[126]}},\"selected\":{\"id\":\"1e0bb3ec-9532-45fd-8313-a85c43ab5140\",\"type\":\"Selection\"},\"selection_policy\":{\"id\":\"d964dbe1-7198-4334-b4f4-214c8236ff2e\",\"type\":\"UnionRenderers\"}},\"id\":\"fd7c858c-ffe1-476b-9374-cf18d68e15cd\",\"type\":\"ColumnDataSource\"},{\"attributes\":{},\"id\":\"fd6ab9b4-45ce-4625-a09d-f91c2ccc7d20\",\"type\":\"BasicTickFormatter\"},{\"attributes\":{\"line_alpha\":0.1,\"line_color\":\"#1f77b4\",\"line_width\":2,\"x\":{\"field\":\"x\"},\"y\":{\"field\":\"y\"}},\"id\":\"a639e844-fea1-46b7-a431-98a6c0efb3c3\",\"type\":\"Line\"},{\"attributes\":{\"dimension\":1,\"plot\":{\"id\":\"53d01165-f714-447e-82de-d780923ab617\",\"subtype\":\"Figure\",\"type\":\"Plot\"},\"ticker\":{\"id\":\"b2a96a98-7b98-470d-b6d5-c6ba7017c1e4\",\"type\":\"BasicTicker\"}},\"id\":\"5007c912-cfd8-4e3a-b9ce-a65c1fb269d9\",\"type\":\"Grid\"},{\"attributes\":{},\"id\":\"12789731-c47b-492a-85bc-837d2baf68f5\",\"type\":\"LinearScale\"},{\"attributes\":{},\"id\":\"33444537-4542-44f5-8d64-56f48e2e56f7\",\"type\":\"PanTool\"},{\"attributes\":{},\"id\":\"d7a17a38-e13b-4398-98dd-44b7a290bf18\",\"type\":\"PanTool\"},{\"attributes\":{},\"id\":\"e85871ed-f5fb-4f98-a419-c5d0225bcf0a\",\"type\":\"Selection\"},{\"attributes\":{},\"id\":\"8a207b6e-4039-4705-a185-f8890c8a2d0a\",\"type\":\"BasicTicker\"},{\"attributes\":{\"plot\":{\"id\":\"74f03c41-3a1d-4fd7-8dc2-0c74067c384a\",\"subtype\":\"Figure\",\"type\":\"Plot\"},\"ticker\":{\"id\":\"8a207b6e-4039-4705-a185-f8890c8a2d0a\",\"type\":\"BasicTicker\"}},\"id\":\"038742e6-623a-4d81-a707-388d0360df6d\",\"type\":\"Grid\"},{\"attributes\":{\"below\":[{\"id\":\"dfb2e60d-7d54-450f-b14d-be35c5772652\",\"type\":\"LinearAxis\"}],\"left\":[{\"id\":\"0eb23c2c-a83f-4f86-8771-da7d3d09c517\",\"type\":\"LinearAxis\"}],\"plot_height\":200,\"plot_width\":200,\"renderers\":[{\"id\":\"dfb2e60d-7d54-450f-b14d-be35c5772652\",\"type\":\"LinearAxis\"},{\"id\":\"038742e6-623a-4d81-a707-388d0360df6d\",\"type\":\"Grid\"},{\"id\":\"0eb23c2c-a83f-4f86-8771-da7d3d09c517\",\"type\":\"LinearAxis\"},{\"id\":\"ebd107b2-a3d4-44e9-a084-5d9c4571e7da\",\"type\":\"Grid\"},{\"id\":\"4b85a5ee-1003-4499-841b-646e94cc06ec\",\"type\":\"BoxAnnotation\"},{\"id\":\"622eac45-da36-4c3d-8144-a99433f52757\",\"type\":\"GlyphRenderer\"}],\"sizing_mode\":\"stretch_both\",\"title\":{\"id\":\"01ba86a4-1553-4e4d-a577-35366b0bd91d\",\"type\":\"Title\"},\"toolbar\":{\"id\":\"beaf1a77-8322-4d3d-9005-6ed9acb7ade1\",\"type\":\"Toolbar\"},\"x_range\":{\"id\":\"c99ee2c0-1621-48c4-881d-f0c0c139b638\",\"type\":\"DataRange1d\"},\"x_scale\":{\"id\":\"12789731-c47b-492a-85bc-837d2baf68f5\",\"type\":\"LinearScale\"},\"y_range\":{\"id\":\"28e169c5-4f09-4c1f-935c-63a777fdb7ea\",\"type\":\"DataRange1d\"},\"y_scale\":{\"id\":\"9775bf22-a1e2-4004-ac2f-e83146dc42a0\",\"type\":\"LinearScale\"}},\"id\":\"74f03c41-3a1d-4fd7-8dc2-0c74067c384a\",\"subtype\":\"Figure\",\"type\":\"Plot\"},{\"attributes\":{\"overlay\":{\"id\":\"4b85a5ee-1003-4499-841b-646e94cc06ec\",\"type\":\"BoxAnnotation\"}},\"id\":\"7e6be139-888d-4f1b-9ea9-ff2d42a7231f\",\"type\":\"BoxZoomTool\"},{\"attributes\":{},\"id\":\"452d2e38-b704-477e-a372-dd7d8769e510\",\"type\":\"UnionRenderers\"},{\"attributes\":{\"line_alpha\":0.1,\"line_color\":\"#1f77b4\",\"line_width\":2,\"x\":{\"field\":\"x\"},\"y\":{\"field\":\"y\"}},\"id\":\"1a8ad4b0-3313-47f6-9c42-4957255144b1\",\"type\":\"Line\"},{\"attributes\":{},\"id\":\"95eaa713-1d4d-46d1-b593-a7985ad4942a\",\"type\":\"HelpTool\"},{\"attributes\":{\"formatter\":{\"id\":\"79e11ef4-c827-4410-9f6d-24bff6ef939c\",\"type\":\"BasicTickFormatter\"},\"plot\":{\"id\":\"74f03c41-3a1d-4fd7-8dc2-0c74067c384a\",\"subtype\":\"Figure\",\"type\":\"Plot\"},\"ticker\":{\"id\":\"996d9b7b-7388-4a00-8dd7-63ba02569542\",\"type\":\"BasicTicker\"}},\"id\":\"0eb23c2c-a83f-4f86-8771-da7d3d09c517\",\"type\":\"LinearAxis\"},{\"attributes\":{},\"id\":\"37af9808-4ae1-427f-8fe3-4588a5e3d79d\",\"type\":\"BasicTickFormatter\"},{\"attributes\":{\"source\":{\"id\":\"50ad878f-9ba2-4bf6-96da-57377231e26d\",\"type\":\"ColumnDataSource\"}},\"id\":\"870e5169-e892-48ab-8774-c79dac634034\",\"type\":\"CDSView\"},{\"attributes\":{\"data_source\":{\"id\":\"fd7c858c-ffe1-476b-9374-cf18d68e15cd\",\"type\":\"ColumnDataSource\"},\"glyph\":{\"id\":\"15199892-0213-4625-ac4f-31fe564e05f0\",\"type\":\"Line\"},\"hover_glyph\":null,\"muted_glyph\":null,\"nonselection_glyph\":{\"id\":\"a639e844-fea1-46b7-a431-98a6c0efb3c3\",\"type\":\"Line\"},\"selection_glyph\":null,\"view\":{\"id\":\"a944ec8c-e843-4d94-aa96-141e624b8534\",\"type\":\"CDSView\"}},\"id\":\"90032610-c783-4c00-b96a-b6bb853c28ba\",\"type\":\"GlyphRenderer\"},{\"attributes\":{},\"id\":\"3176a6b9-d3e9-4dcc-b723-5ee52c923b9b\",\"type\":\"BasicTickFormatter\"},{\"attributes\":{},\"id\":\"471e5cc8-81ba-46d3-92be-328067b1694a\",\"type\":\"ResetTool\"},{\"attributes\":{\"line_color\":\"red\",\"line_width\":2,\"x\":{\"field\":\"x\"},\"y\":{\"field\":\"y\"}},\"id\":\"280a32c5-138e-4b8a-b087-091a214af7a5\",\"type\":\"Line\"},{\"attributes\":{\"plot\":null,\"text\":\"\"},\"id\":\"4e7ee40e-9a1f-46fc-8fd4-896f126df609\",\"type\":\"Title\"},{\"attributes\":{},\"id\":\"b2a96a98-7b98-470d-b6d5-c6ba7017c1e4\",\"type\":\"BasicTicker\"},{\"attributes\":{},\"id\":\"d60b1682-4c5f-475f-839c-e874b976f53a\",\"type\":\"BasicTicker\"},{\"attributes\":{\"formatter\":{\"id\":\"3176a6b9-d3e9-4dcc-b723-5ee52c923b9b\",\"type\":\"BasicTickFormatter\"},\"plot\":{\"id\":\"53d01165-f714-447e-82de-d780923ab617\",\"subtype\":\"Figure\",\"type\":\"Plot\"},\"ticker\":{\"id\":\"b2a96a98-7b98-470d-b6d5-c6ba7017c1e4\",\"type\":\"BasicTicker\"}},\"id\":\"7933b4c2-40f7-4a00-b92b-b368b9d35340\",\"type\":\"LinearAxis\"},{\"attributes\":{},\"id\":\"1b5fc646-91ab-43b5-b9dc-6d2997266a11\",\"type\":\"SaveTool\"},{\"attributes\":{},\"id\":\"18c206c5-6256-41ce-b9d3-6b255ac1938a\",\"type\":\"LinearScale\"},{\"attributes\":{},\"id\":\"97548f6c-8e28-46f1-868e-f2ea706bffdd\",\"type\":\"ResetTool\"},{\"attributes\":{\"bottom_units\":\"screen\",\"fill_alpha\":{\"value\":0.5},\"fill_color\":{\"value\":\"lightgrey\"},\"left_units\":\"screen\",\"level\":\"overlay\",\"line_alpha\":{\"value\":1.0},\"line_color\":{\"value\":\"black\"},\"line_dash\":[4,4],\"line_width\":{\"value\":2},\"plot\":null,\"render_mode\":\"css\",\"right_units\":\"screen\",\"top_units\":\"screen\"},\"id\":\"4b85a5ee-1003-4499-841b-646e94cc06ec\",\"type\":\"BoxAnnotation\"},{\"attributes\":{},\"id\":\"285605f2-bbd5-492a-9e69-6519d477fab2\",\"type\":\"SaveTool\"},{\"attributes\":{},\"id\":\"67f7b47f-6219-46cb-bb03-dd64bdf73022\",\"type\":\"HelpTool\"},{\"attributes\":{\"bottom_units\":\"screen\",\"fill_alpha\":{\"value\":0.5},\"fill_color\":{\"value\":\"lightgrey\"},\"left_units\":\"screen\",\"level\":\"overlay\",\"line_alpha\":{\"value\":1.0},\"line_color\":{\"value\":\"black\"},\"line_dash\":[4,4],\"line_width\":{\"value\":2},\"plot\":null,\"render_mode\":\"css\",\"right_units\":\"screen\",\"top_units\":\"screen\"},\"id\":\"bb7b0eaa-ce6d-4165-bfbf-5194f7a593e9\",\"type\":\"BoxAnnotation\"},{\"attributes\":{},\"id\":\"996d9b7b-7388-4a00-8dd7-63ba02569542\",\"type\":\"BasicTicker\"},{\"attributes\":{\"callback\":null,\"data\":{\"x\":{\"__ndarray__\":\"AAAAAAAAAACamZmZmZmpP5qZmZmZmbk/NDMzMzMzwz+amZmZmZnJPwAAAAAAANA/NDMzMzMz0z9nZmZmZmbWP5qZmZmZmdk/zczMzMzM3D8AAAAAAADgP5qZmZmZmeE/NDMzMzMz4z/NzMzMzMzkP2dmZmZmZuY/AAAAAAAA6D+amZmZmZnpPzQzMzMzM+s/zczMzMzM7D9nZmZmZmbuPwAAAAAAAPA/zczMzMzM8D+amZmZmZnxP2dmZmZmZvI/NDMzMzMz8z8AAAAAAAD0P83MzMzMzPQ/mpmZmZmZ9T9nZmZmZmb2PzQzMzMzM/c/AAAAAAAA+D/NzMzMzMz4P5qZmZmZmfk/Z2ZmZmZm+j80MzMzMzP7PwAAAAAAAPw/zczMzMzM/D+amZmZmZn9P2dmZmZmZv4/NDMzMzMz/z8AAAAAAAAAQGdmZmZmZgBAzczMzMzMAEAzMzMzMzMBQJqZmZmZmQFAAAAAAAAAAkBnZmZmZmYCQM3MzMzMzAJANDMzMzMzA0CamZmZmZkDQAAAAAAAAARAZ2ZmZmZmBEDNzMzMzMwEQDQzMzMzMwVAmpmZmZmZBUAAAAAAAAAGQGdmZmZmZgZAzczMzMzMBkA0MzMzMzMHQJqZmZmZmQdAAAAAAAAACEBnZmZmZmYIQM3MzMzMzAhANDMzMzMzCUCamZmZmZkJQAAAAAAAAApAZ2ZmZmZmCkDNzMzMzMwKQDQzMzMzMwtAmpmZmZmZC0AAAAAAAAAMQGdmZmZmZgxAzczMzMzMDEA0MzMzMzMNQJqZmZmZmQ1AAAAAAAAADkBnZmZmZmYOQM3MzMzMzA5ANDMzMzMzD0CamZmZmZkPQAAAAAAAABBAMzMzMzMzEEBnZmZmZmYQQJqZmZmZmRBAzczMzMzMEEAAAAAAAAARQDMzMzMzMxFAZ2ZmZmZmEUCamZmZmZkRQM3MzMzMzBFAAAAAAAAAEkAzMzMzMzMSQGdmZmZmZhJAmpmZmZmZEkDNzMzMzMwSQAAAAAAAABNANDMzMzMzE0BnZmZmZmYTQJqZmZmZmRNAzczMzMzME0AAAAAAAAAUQDQzMzMzMxRAZ2ZmZmZmFECamZmZmZkUQM3MzMzMzBRAAAAAAAAAFUA0MzMzMzMVQGdmZmZmZhVAmpmZmZmZFUDNzMzMzMwVQAAAAAAAABZANDMzMzMzFkBnZmZmZmYWQJqZmZmZmRZAzczMzMzMFkAAAAAAAAAXQDQzMzMzMxdAZ2ZmZmZmF0CamZmZmZkXQM3MzMzMzBdAAAAAAAAAGEA0MzMzMzMYQGdmZmZmZhhAmpmZmZmZGEDNzMzMzMwYQAAAAAAAABlA\",\"dtype\":\"float64\",\"shape\":[126]},\"y\":{\"__ndarray__\":\"AAAAAAAA8D9Ykigbw/XvP8EXqPkS1+8/N+lePgOk7z96YneVtFzvP6HufZ9UAe8/ugkv1B2S7j+35Q1dVw/uP/ii2+dUee0/LT8McXbQ7D9QfVsGKBXsP1ATqYHhR+s/FFtIPCZp6j/CmPS6hHnpP5Kdn1KWeeg/HyFVxv5p5z9lmHHea0vmPxqXb/mUHuU/HOKSljrk4z+hRrzaJZ3iP4wGtQ8oSuE/I2mIPDTY3z8RYccGuAfdP+cl24GoJNo/0Hk7lN4w1z9S2YvYPS7UP19MKmizHtE/5L9VP2kIzD8DVxO8e8HFPwKhgv1E2b4/p/nFT9Ubsj8sZlxFPUuVPzMWX8V65p2/4fnaPURBtL+ObKL0+X3Av4rp00nE0Ma/eg4lT/UUzb9uTU1GRaPRv69FNLnGsNS/tKEQ8Qqx178FclNXJqLav/Sqogg3gt2/yp6YBLMn4L9KfA459IPhv3CtiEsA1eK/bbq5kf8Z5L/kLzAXIlLlv7DYZiKgfOa/iNGQtLqY578nsM8DvKXov32Lhe/3oum/fXZ4bsyP6r9w9ID2oWvrvzIPgd3rNey/pgNmsyju7L8U7fqU4pPtv0xwV3evJu6/dSK6azGm7r/KQKPbFhLvv7JDCb0aau+/0uWFvgSu77+0Wl9rqd3vvySmVkfq+O+/gkkp4rX/77+2y7niB/Lvv/j31wnpz++/tgunLG+Z778HaaUmvU7vvwK+XsMC8O6/mObWn3x97r9fGsEDdPftv6M3nLI+Xu2/WSzStD6y7L82mv0Y4vPrvzfZfa2iI+u/92eGsgVC6r/oqNuEm0/pvwR7c0H/TOi/58g0YtY657+8kBVU0Bnmv8Ek2wam6uS/xXfEdhmu479kLWow9WTiv3zaI88LEOG/HceK7G5g37/1ZxWLsozcv1M7FpKxptm/yRohykaw1r+qwmJ8V6vTv3wmHDzSmdC/aj1YVFv7yr9y2uNmzrHEv4qNWSsHtry/8uVh/iTsr780alBDOl+Jv3R70+GWQKM/f0BOWFVmtj8W1x0FBY/BP2QWfCej38c/YI7Jp/ogzj/ZSmtwhSfSP/GIr8HvMtU/q1zkjskw2D8+HC/NKB/bP+5qN1kt/N0/CVQwFQFj4D/cMnQ/b73hP7DuFICDDOM/jLAlb2dP5D/rIVBxTIXlP0jUBzxsreY/h4RrVAnH5z+ECoOIb9HoP/NgjGL0y+k/Kv4Nlve16j+Us2hm447rPydypwYtVuw/SaVP8lQL7T8pUPk+563tP5K3euZ7Pe4/9SJ4Cbe57j9cHS0qSSLvP7SYSV/vdu8/1WfCfnO37z/OqXlArOPvP3X5qFh9++8/\",\"dtype\":\"float64\",\"shape\":[126]}},\"selected\":{\"id\":\"e85871ed-f5fb-4f98-a419-c5d0225bcf0a\",\"type\":\"Selection\"},\"selection_policy\":{\"id\":\"452d2e38-b704-477e-a372-dd7d8769e510\",\"type\":\"UnionRenderers\"}},\"id\":\"50ad878f-9ba2-4bf6-96da-57377231e26d\",\"type\":\"ColumnDataSource\"},{\"attributes\":{\"source\":{\"id\":\"fd7c858c-ffe1-476b-9374-cf18d68e15cd\",\"type\":\"ColumnDataSource\"}},\"id\":\"a944ec8c-e843-4d94-aa96-141e624b8534\",\"type\":\"CDSView\"},{\"attributes\":{},\"id\":\"868ce05b-02fa-4752-9de0-311236994de4\",\"type\":\"LinearScale\"},{\"attributes\":{\"active_drag\":\"auto\",\"active_inspect\":\"auto\",\"active_scroll\":\"auto\",\"active_tap\":\"auto\",\"tools\":[{\"id\":\"33444537-4542-44f5-8d64-56f48e2e56f7\",\"type\":\"PanTool\"},{\"id\":\"90dbb46c-8bb8-4385-89f0-167e63d41555\",\"type\":\"WheelZoomTool\"},{\"id\":\"c26fd158-8e11-4643-a80c-28655cbc613d\",\"type\":\"BoxZoomTool\"},{\"id\":\"285605f2-bbd5-492a-9e69-6519d477fab2\",\"type\":\"SaveTool\"},{\"id\":\"471e5cc8-81ba-46d3-92be-328067b1694a\",\"type\":\"ResetTool\"},{\"id\":\"67f7b47f-6219-46cb-bb03-dd64bdf73022\",\"type\":\"HelpTool\"}]},\"id\":\"afc93511-b3a9-404c-99c7-a2d31e11ec87\",\"type\":\"Toolbar\"},{\"attributes\":{\"callback\":null},\"id\":\"c99ee2c0-1621-48c4-881d-f0c0c139b638\",\"type\":\"DataRange1d\"},{\"attributes\":{\"dimension\":1,\"plot\":{\"id\":\"74f03c41-3a1d-4fd7-8dc2-0c74067c384a\",\"subtype\":\"Figure\",\"type\":\"Plot\"},\"ticker\":{\"id\":\"996d9b7b-7388-4a00-8dd7-63ba02569542\",\"type\":\"BasicTicker\"}},\"id\":\"ebd107b2-a3d4-44e9-a084-5d9c4571e7da\",\"type\":\"Grid\"},{\"attributes\":{\"formatter\":{\"id\":\"fd6ab9b4-45ce-4625-a09d-f91c2ccc7d20\",\"type\":\"BasicTickFormatter\"},\"plot\":{\"id\":\"74f03c41-3a1d-4fd7-8dc2-0c74067c384a\",\"subtype\":\"Figure\",\"type\":\"Plot\"},\"ticker\":{\"id\":\"8a207b6e-4039-4705-a185-f8890c8a2d0a\",\"type\":\"BasicTicker\"}},\"id\":\"dfb2e60d-7d54-450f-b14d-be35c5772652\",\"type\":\"LinearAxis\"}],\"root_ids\":[\"2a6bf86e-5acd-4b3f-a7e4-bf00551b02a7\"]},\"title\":\"Bokeh Application\",\"version\":\"0.12.16\"}};\n",
       "  var render_items = [{\"docid\":\"efa91c77-119d-45d4-8bca-7a608a84830c\",\"elementid\":\"9e228e86-b2a1-4d4c-afa7-250675282d17\",\"modelid\":\"2a6bf86e-5acd-4b3f-a7e4-bf00551b02a7\"}];\n",
       "  root.Bokeh.embed.embed_items_notebook(docs_json, render_items);\n",
       "\n",
       "  }\n",
       "  if (root.Bokeh !== undefined) {\n",
       "    embed_document(root);\n",
       "  } else {\n",
       "    var attempts = 0;\n",
       "    var timer = setInterval(function(root) {\n",
       "      if (root.Bokeh !== undefined) {\n",
       "        embed_document(root);\n",
       "        clearInterval(timer);\n",
       "      }\n",
       "      attempts++;\n",
       "      if (attempts > 100) {\n",
       "        console.log(\"Bokeh: ERROR: Unable to run BokehJS code because BokehJS library is missing\")\n",
       "        clearInterval(timer);\n",
       "      }\n",
       "    }, 10, root)\n",
       "  }\n",
       "})(window);"
      ],
      "application/vnd.bokehjs_exec.v0+json": ""
     },
     "metadata": {
      "application/vnd.bokehjs_exec.v0+json": {
       "id": "2a6bf86e-5acd-4b3f-a7e4-bf00551b02a7"
      }
     },
     "output_type": "display_data"
    }
   ],
   "source": [
    "from bokeh.plotting import figure, output_file, show\n",
    "from bokeh.layouts import column\n",
    "import numpy as np\n",
    "import math\n",
    "x=np.arange(0, math.pi*2, 0.05)\n",
    "y1=np.sin(x)\n",
    "y2=np.cos(x)\n",
    "fig1 = figure(plot_width=200, plot_height=200)\n",
    "fig1.line(x, y1,line_width=2, line_color='blue')\n",
    "fig2 = figure(plot_width=200, plot_height=200)\n",
    "fig2.line(x, y2,line_width=2, line_color='red')\n",
    "c=column(children=[fig1, fig2], sizing_mode='stretch_both')\n",
    "show(c)\n"
   ]
  },
  {
   "cell_type": "code",
   "execution_count": 54,
   "metadata": {},
   "outputs": [
    {
     "data": {
      "text/html": [
       "\n",
       "<div class=\"bk-root\">\n",
       "    <div class=\"bk-plotdiv\" id=\"effd748d-4160-467d-96fa-009534651a52\"></div>\n",
       "</div>"
      ]
     },
     "metadata": {},
     "output_type": "display_data"
    },
    {
     "data": {
      "application/javascript": [
       "(function(root) {\n",
       "  function embed_document(root) {\n",
       "    \n",
       "  var docs_json = {\"ac597dbb-afe5-4cbd-a63d-c8127f6cf644\":{\"roots\":{\"references\":[{\"attributes\":{},\"id\":\"12234a52-dff7-4342-93ed-8ee1778a64bb\",\"type\":\"HelpTool\"},{\"attributes\":{\"line_color\":\"blue\",\"line_width\":2,\"x\":{\"field\":\"x\"},\"y\":{\"field\":\"y\"}},\"id\":\"932c8393-8f54-4a1b-857b-fa842f808495\",\"type\":\"Line\"},{\"attributes\":{},\"id\":\"6b5a512a-46cf-4527-9941-60be6fa4167c\",\"type\":\"BasicTicker\"},{\"attributes\":{},\"id\":\"7530a3bd-ed06-449a-b78e-a84ee2673b0c\",\"type\":\"BasicTickFormatter\"},{\"attributes\":{},\"id\":\"0adeecb3-d3de-4588-9ef2-07ce07601293\",\"type\":\"BasicTickFormatter\"},{\"attributes\":{\"source\":{\"id\":\"580ecf1d-3100-49fb-94bf-e2647f1f74fb\",\"type\":\"ColumnDataSource\"}},\"id\":\"410b6d44-167f-416c-ac29-62af314b557a\",\"type\":\"CDSView\"},{\"attributes\":{\"dimension\":1,\"plot\":{\"id\":\"b1508b3f-b91b-4ce7-81ea-9ef160f62ad6\",\"subtype\":\"Figure\",\"type\":\"Plot\"},\"ticker\":{\"id\":\"a62eb1a1-a6bb-4a7e-b7c2-279a2f66da60\",\"type\":\"BasicTicker\"}},\"id\":\"474d527c-bbf1-4018-8293-f122872939d6\",\"type\":\"Grid\"},{\"attributes\":{\"data_source\":{\"id\":\"80443020-3d8e-42ac-91e6-6848718542ea\",\"type\":\"ColumnDataSource\"},\"glyph\":{\"id\":\"bee82216-c908-4298-9e35-00f7b74446b0\",\"type\":\"Line\"},\"hover_glyph\":null,\"muted_glyph\":null,\"nonselection_glyph\":{\"id\":\"5b1cd344-f3e7-4c44-9897-5c9f668d0628\",\"type\":\"Line\"},\"selection_glyph\":null,\"view\":{\"id\":\"1311c39f-149b-4efd-a533-65d346957998\",\"type\":\"CDSView\"}},\"id\":\"17aa3c7c-25af-4c55-a0a8-d3fe57445730\",\"type\":\"GlyphRenderer\"},{\"attributes\":{},\"id\":\"35e75275-3de2-4ef8-88a1-17260186de8a\",\"type\":\"LinearScale\"},{\"attributes\":{\"active_drag\":\"auto\",\"active_inspect\":\"auto\",\"active_scroll\":\"auto\",\"active_tap\":\"auto\",\"tools\":[{\"id\":\"a185d2b6-0c0a-4cd0-a105-203d57974506\",\"type\":\"PanTool\"},{\"id\":\"d9315b0c-8b88-4b41-97dc-9f774be8a056\",\"type\":\"WheelZoomTool\"},{\"id\":\"8290afdd-ce84-49ba-8394-71dfee024c46\",\"type\":\"BoxZoomTool\"},{\"id\":\"d6b58825-af54-4c26-b32e-6b76e2774c5f\",\"type\":\"SaveTool\"},{\"id\":\"6275f63c-316e-4056-8253-8dd126e134d5\",\"type\":\"ResetTool\"},{\"id\":\"12234a52-dff7-4342-93ed-8ee1778a64bb\",\"type\":\"HelpTool\"}]},\"id\":\"b8fc9880-a300-461d-9856-a5e86ea1c0d1\",\"type\":\"Toolbar\"},{\"attributes\":{\"callback\":null},\"id\":\"00bb9d74-cf68-4758-a326-406021e76d89\",\"type\":\"DataRange1d\"},{\"attributes\":{},\"id\":\"f8068070-47c3-4634-a8d3-9c97e601a922\",\"type\":\"LinearScale\"},{\"attributes\":{},\"id\":\"1249511f-0db4-4434-91fa-092ae975ec21\",\"type\":\"BasicTickFormatter\"},{\"attributes\":{},\"id\":\"d9315b0c-8b88-4b41-97dc-9f774be8a056\",\"type\":\"WheelZoomTool\"},{\"attributes\":{},\"id\":\"ccc58a62-6a43-40f0-b819-635fbe3d4a50\",\"type\":\"PanTool\"},{\"attributes\":{},\"id\":\"82316e18-8a92-4b2f-a6e1-58f9fbcd61da\",\"type\":\"Selection\"},{\"attributes\":{\"formatter\":{\"id\":\"c5a4e39d-56da-4543-b6d8-79e230c95702\",\"type\":\"BasicTickFormatter\"},\"plot\":{\"id\":\"07d0a6ba-847f-4b32-ac02-80101f2f0d57\",\"subtype\":\"Figure\",\"type\":\"Plot\"},\"ticker\":{\"id\":\"6b5a512a-46cf-4527-9941-60be6fa4167c\",\"type\":\"BasicTicker\"}},\"id\":\"5062bd74-43fd-413d-afb3-9a460cfc1dff\",\"type\":\"LinearAxis\"},{\"attributes\":{\"plot\":null,\"text\":\"\"},\"id\":\"54f53f01-8613-46e8-a275-b559a4ebd823\",\"type\":\"Title\"},{\"attributes\":{\"formatter\":{\"id\":\"7530a3bd-ed06-449a-b78e-a84ee2673b0c\",\"type\":\"BasicTickFormatter\"},\"plot\":{\"id\":\"b1508b3f-b91b-4ce7-81ea-9ef160f62ad6\",\"subtype\":\"Figure\",\"type\":\"Plot\"},\"ticker\":{\"id\":\"cc7599a2-d065-45c8-90f4-da3b28108403\",\"type\":\"BasicTicker\"}},\"id\":\"3ea9c026-6c9c-4469-9c47-a50a8e700f2d\",\"type\":\"LinearAxis\"},{\"attributes\":{\"children\":[{\"id\":\"07d0a6ba-847f-4b32-ac02-80101f2f0d57\",\"subtype\":\"Figure\",\"type\":\"Plot\"},{\"id\":\"b1508b3f-b91b-4ce7-81ea-9ef160f62ad6\",\"subtype\":\"Figure\",\"type\":\"Plot\"}],\"sizing_mode\":\"stretch_both\"},\"id\":\"f103c1ab-688e-4234-a487-73d6bdd2bb7b\",\"type\":\"Row\"},{\"attributes\":{\"line_alpha\":0.1,\"line_color\":\"#1f77b4\",\"line_width\":2,\"x\":{\"field\":\"x\"},\"y\":{\"field\":\"y\"}},\"id\":\"5b1cd344-f3e7-4c44-9897-5c9f668d0628\",\"type\":\"Line\"},{\"attributes\":{},\"id\":\"a185d2b6-0c0a-4cd0-a105-203d57974506\",\"type\":\"PanTool\"},{\"attributes\":{},\"id\":\"e0401ee7-e7ab-4c87-9c3a-7be99c5764e3\",\"type\":\"UnionRenderers\"},{\"attributes\":{\"plot\":null,\"text\":\"\"},\"id\":\"4b14ff81-37d1-4c8f-a267-de7b543e85a8\",\"type\":\"Title\"},{\"attributes\":{},\"id\":\"9a6d8e28-eed0-4808-9c82-848595934ea7\",\"type\":\"HelpTool\"},{\"attributes\":{},\"id\":\"8790dda7-6fcf-4404-b325-44f2131efdf4\",\"type\":\"WheelZoomTool\"},{\"attributes\":{\"line_color\":\"red\",\"line_width\":2,\"x\":{\"field\":\"x\"},\"y\":{\"field\":\"y\"}},\"id\":\"bee82216-c908-4298-9e35-00f7b74446b0\",\"type\":\"Line\"},{\"attributes\":{\"overlay\":{\"id\":\"47a94a6f-0d98-4cc3-badd-c894e4a9469f\",\"type\":\"BoxAnnotation\"}},\"id\":\"1d2007d0-b46f-4ba0-a257-8a60d56ac336\",\"type\":\"BoxZoomTool\"},{\"attributes\":{},\"id\":\"c4ce71f8-2100-44a0-ba2e-25dc0aaec461\",\"type\":\"LinearScale\"},{\"attributes\":{\"plot\":{\"id\":\"b1508b3f-b91b-4ce7-81ea-9ef160f62ad6\",\"subtype\":\"Figure\",\"type\":\"Plot\"},\"ticker\":{\"id\":\"cc7599a2-d065-45c8-90f4-da3b28108403\",\"type\":\"BasicTicker\"}},\"id\":\"eba87ff9-e598-40a5-bf10-cfe0086e7fdf\",\"type\":\"Grid\"},{\"attributes\":{\"line_alpha\":0.1,\"line_color\":\"#1f77b4\",\"line_width\":2,\"x\":{\"field\":\"x\"},\"y\":{\"field\":\"y\"}},\"id\":\"b89965c2-aadb-48d6-b056-20ee116fe185\",\"type\":\"Line\"},{\"attributes\":{},\"id\":\"a62eb1a1-a6bb-4a7e-b7c2-279a2f66da60\",\"type\":\"BasicTicker\"},{\"attributes\":{\"source\":{\"id\":\"80443020-3d8e-42ac-91e6-6848718542ea\",\"type\":\"ColumnDataSource\"}},\"id\":\"1311c39f-149b-4efd-a533-65d346957998\",\"type\":\"CDSView\"},{\"attributes\":{\"plot\":{\"id\":\"07d0a6ba-847f-4b32-ac02-80101f2f0d57\",\"subtype\":\"Figure\",\"type\":\"Plot\"},\"ticker\":{\"id\":\"6b5a512a-46cf-4527-9941-60be6fa4167c\",\"type\":\"BasicTicker\"}},\"id\":\"b04f62f7-6182-4d05-af08-491974794081\",\"type\":\"Grid\"},{\"attributes\":{\"dimension\":1,\"plot\":{\"id\":\"07d0a6ba-847f-4b32-ac02-80101f2f0d57\",\"subtype\":\"Figure\",\"type\":\"Plot\"},\"ticker\":{\"id\":\"848fb083-ea17-4a0a-a6b7-7cefb7559c44\",\"type\":\"BasicTicker\"}},\"id\":\"cd851984-e32a-415a-a304-42e8834a3c27\",\"type\":\"Grid\"},{\"attributes\":{\"callback\":null},\"id\":\"fe23d464-d979-41e4-88c2-1e061c6b0b9c\",\"type\":\"DataRange1d\"},{\"attributes\":{\"below\":[{\"id\":\"3ea9c026-6c9c-4469-9c47-a50a8e700f2d\",\"type\":\"LinearAxis\"}],\"left\":[{\"id\":\"1d88636b-4b70-4037-b01f-b1a9d237c5ea\",\"type\":\"LinearAxis\"}],\"plot_height\":200,\"plot_width\":200,\"renderers\":[{\"id\":\"3ea9c026-6c9c-4469-9c47-a50a8e700f2d\",\"type\":\"LinearAxis\"},{\"id\":\"eba87ff9-e598-40a5-bf10-cfe0086e7fdf\",\"type\":\"Grid\"},{\"id\":\"1d88636b-4b70-4037-b01f-b1a9d237c5ea\",\"type\":\"LinearAxis\"},{\"id\":\"474d527c-bbf1-4018-8293-f122872939d6\",\"type\":\"Grid\"},{\"id\":\"47a94a6f-0d98-4cc3-badd-c894e4a9469f\",\"type\":\"BoxAnnotation\"},{\"id\":\"17aa3c7c-25af-4c55-a0a8-d3fe57445730\",\"type\":\"GlyphRenderer\"}],\"sizing_mode\":\"stretch_both\",\"title\":{\"id\":\"54f53f01-8613-46e8-a275-b559a4ebd823\",\"type\":\"Title\"},\"toolbar\":{\"id\":\"a696efe6-7475-42e1-a4e0-9fb855bc29ae\",\"type\":\"Toolbar\"},\"x_range\":{\"id\":\"fe23d464-d979-41e4-88c2-1e061c6b0b9c\",\"type\":\"DataRange1d\"},\"x_scale\":{\"id\":\"f8068070-47c3-4634-a8d3-9c97e601a922\",\"type\":\"LinearScale\"},\"y_range\":{\"id\":\"59fd17fc-321f-4683-aac1-1afced5c09b5\",\"type\":\"DataRange1d\"},\"y_scale\":{\"id\":\"d807f7aa-8fc3-45e5-9539-074a187f2e40\",\"type\":\"LinearScale\"}},\"id\":\"b1508b3f-b91b-4ce7-81ea-9ef160f62ad6\",\"subtype\":\"Figure\",\"type\":\"Plot\"},{\"attributes\":{},\"id\":\"6275f63c-316e-4056-8253-8dd126e134d5\",\"type\":\"ResetTool\"},{\"attributes\":{},\"id\":\"c5a4e39d-56da-4543-b6d8-79e230c95702\",\"type\":\"BasicTickFormatter\"},{\"attributes\":{},\"id\":\"a2ea5d27-9f7d-419c-afe4-b21ad72a6e9e\",\"type\":\"SaveTool\"},{\"attributes\":{\"active_drag\":\"auto\",\"active_inspect\":\"auto\",\"active_scroll\":\"auto\",\"active_tap\":\"auto\",\"tools\":[{\"id\":\"ccc58a62-6a43-40f0-b819-635fbe3d4a50\",\"type\":\"PanTool\"},{\"id\":\"8790dda7-6fcf-4404-b325-44f2131efdf4\",\"type\":\"WheelZoomTool\"},{\"id\":\"1d2007d0-b46f-4ba0-a257-8a60d56ac336\",\"type\":\"BoxZoomTool\"},{\"id\":\"a2ea5d27-9f7d-419c-afe4-b21ad72a6e9e\",\"type\":\"SaveTool\"},{\"id\":\"f510166f-a3d0-45b6-b34c-d10e102b1072\",\"type\":\"ResetTool\"},{\"id\":\"9a6d8e28-eed0-4808-9c82-848595934ea7\",\"type\":\"HelpTool\"}]},\"id\":\"a696efe6-7475-42e1-a4e0-9fb855bc29ae\",\"type\":\"Toolbar\"},{\"attributes\":{},\"id\":\"848fb083-ea17-4a0a-a6b7-7cefb7559c44\",\"type\":\"BasicTicker\"},{\"attributes\":{\"bottom_units\":\"screen\",\"fill_alpha\":{\"value\":0.5},\"fill_color\":{\"value\":\"lightgrey\"},\"left_units\":\"screen\",\"level\":\"overlay\",\"line_alpha\":{\"value\":1.0},\"line_color\":{\"value\":\"black\"},\"line_dash\":[4,4],\"line_width\":{\"value\":2},\"plot\":null,\"render_mode\":\"css\",\"right_units\":\"screen\",\"top_units\":\"screen\"},\"id\":\"b7332b95-3bd4-4931-85bd-0f80282f0d02\",\"type\":\"BoxAnnotation\"},{\"attributes\":{},\"id\":\"d807f7aa-8fc3-45e5-9539-074a187f2e40\",\"type\":\"LinearScale\"},{\"attributes\":{\"bottom_units\":\"screen\",\"fill_alpha\":{\"value\":0.5},\"fill_color\":{\"value\":\"lightgrey\"},\"left_units\":\"screen\",\"level\":\"overlay\",\"line_alpha\":{\"value\":1.0},\"line_color\":{\"value\":\"black\"},\"line_dash\":[4,4],\"line_width\":{\"value\":2},\"plot\":null,\"render_mode\":\"css\",\"right_units\":\"screen\",\"top_units\":\"screen\"},\"id\":\"47a94a6f-0d98-4cc3-badd-c894e4a9469f\",\"type\":\"BoxAnnotation\"},{\"attributes\":{\"callback\":null,\"data\":{\"x\":{\"__ndarray__\":\"AAAAAAAAAACamZmZmZmpP5qZmZmZmbk/NDMzMzMzwz+amZmZmZnJPwAAAAAAANA/NDMzMzMz0z9nZmZmZmbWP5qZmZmZmdk/zczMzMzM3D8AAAAAAADgP5qZmZmZmeE/NDMzMzMz4z/NzMzMzMzkP2dmZmZmZuY/AAAAAAAA6D+amZmZmZnpPzQzMzMzM+s/zczMzMzM7D9nZmZmZmbuPwAAAAAAAPA/zczMzMzM8D+amZmZmZnxP2dmZmZmZvI/NDMzMzMz8z8AAAAAAAD0P83MzMzMzPQ/mpmZmZmZ9T9nZmZmZmb2PzQzMzMzM/c/AAAAAAAA+D/NzMzMzMz4P5qZmZmZmfk/Z2ZmZmZm+j80MzMzMzP7PwAAAAAAAPw/zczMzMzM/D+amZmZmZn9P2dmZmZmZv4/NDMzMzMz/z8AAAAAAAAAQGdmZmZmZgBAzczMzMzMAEAzMzMzMzMBQJqZmZmZmQFAAAAAAAAAAkBnZmZmZmYCQM3MzMzMzAJANDMzMzMzA0CamZmZmZkDQAAAAAAAAARAZ2ZmZmZmBEDNzMzMzMwEQDQzMzMzMwVAmpmZmZmZBUAAAAAAAAAGQGdmZmZmZgZAzczMzMzMBkA0MzMzMzMHQJqZmZmZmQdAAAAAAAAACEBnZmZmZmYIQM3MzMzMzAhANDMzMzMzCUCamZmZmZkJQAAAAAAAAApAZ2ZmZmZmCkDNzMzMzMwKQDQzMzMzMwtAmpmZmZmZC0AAAAAAAAAMQGdmZmZmZgxAzczMzMzMDEA0MzMzMzMNQJqZmZmZmQ1AAAAAAAAADkBnZmZmZmYOQM3MzMzMzA5ANDMzMzMzD0CamZmZmZkPQAAAAAAAABBAMzMzMzMzEEBnZmZmZmYQQJqZmZmZmRBAzczMzMzMEEAAAAAAAAARQDMzMzMzMxFAZ2ZmZmZmEUCamZmZmZkRQM3MzMzMzBFAAAAAAAAAEkAzMzMzMzMSQGdmZmZmZhJAmpmZmZmZEkDNzMzMzMwSQAAAAAAAABNANDMzMzMzE0BnZmZmZmYTQJqZmZmZmRNAzczMzMzME0AAAAAAAAAUQDQzMzMzMxRAZ2ZmZmZmFECamZmZmZkUQM3MzMzMzBRAAAAAAAAAFUA0MzMzMzMVQGdmZmZmZhVAmpmZmZmZFUDNzMzMzMwVQAAAAAAAABZANDMzMzMzFkBnZmZmZmYWQJqZmZmZmRZAzczMzMzMFkAAAAAAAAAXQDQzMzMzMxdAZ2ZmZmZmF0CamZmZmZkXQM3MzMzMzBdAAAAAAAAAGEA0MzMzMzMYQGdmZmZmZhhAmpmZmZmZGEDNzMzMzMwYQAAAAAAAABlA\",\"dtype\":\"float64\",\"shape\":[126]},\"y\":{\"__ndarray__\":\"AAAAAAAA8D9Ykigbw/XvP8EXqPkS1+8/N+lePgOk7z96YneVtFzvP6HufZ9UAe8/ugkv1B2S7j+35Q1dVw/uP/ii2+dUee0/LT8McXbQ7D9QfVsGKBXsP1ATqYHhR+s/FFtIPCZp6j/CmPS6hHnpP5Kdn1KWeeg/HyFVxv5p5z9lmHHea0vmPxqXb/mUHuU/HOKSljrk4z+hRrzaJZ3iP4wGtQ8oSuE/I2mIPDTY3z8RYccGuAfdP+cl24GoJNo/0Hk7lN4w1z9S2YvYPS7UP19MKmizHtE/5L9VP2kIzD8DVxO8e8HFPwKhgv1E2b4/p/nFT9Ubsj8sZlxFPUuVPzMWX8V65p2/4fnaPURBtL+ObKL0+X3Av4rp00nE0Ma/eg4lT/UUzb9uTU1GRaPRv69FNLnGsNS/tKEQ8Qqx178FclNXJqLav/Sqogg3gt2/yp6YBLMn4L9KfA459IPhv3CtiEsA1eK/bbq5kf8Z5L/kLzAXIlLlv7DYZiKgfOa/iNGQtLqY578nsM8DvKXov32Lhe/3oum/fXZ4bsyP6r9w9ID2oWvrvzIPgd3rNey/pgNmsyju7L8U7fqU4pPtv0xwV3evJu6/dSK6azGm7r/KQKPbFhLvv7JDCb0aau+/0uWFvgSu77+0Wl9rqd3vvySmVkfq+O+/gkkp4rX/77+2y7niB/Lvv/j31wnpz++/tgunLG+Z778HaaUmvU7vvwK+XsMC8O6/mObWn3x97r9fGsEDdPftv6M3nLI+Xu2/WSzStD6y7L82mv0Y4vPrvzfZfa2iI+u/92eGsgVC6r/oqNuEm0/pvwR7c0H/TOi/58g0YtY657+8kBVU0Bnmv8Ek2wam6uS/xXfEdhmu479kLWow9WTiv3zaI88LEOG/HceK7G5g37/1ZxWLsozcv1M7FpKxptm/yRohykaw1r+qwmJ8V6vTv3wmHDzSmdC/aj1YVFv7yr9y2uNmzrHEv4qNWSsHtry/8uVh/iTsr780alBDOl+Jv3R70+GWQKM/f0BOWFVmtj8W1x0FBY/BP2QWfCej38c/YI7Jp/ogzj/ZSmtwhSfSP/GIr8HvMtU/q1zkjskw2D8+HC/NKB/bP+5qN1kt/N0/CVQwFQFj4D/cMnQ/b73hP7DuFICDDOM/jLAlb2dP5D/rIVBxTIXlP0jUBzxsreY/h4RrVAnH5z+ECoOIb9HoP/NgjGL0y+k/Kv4Nlve16j+Us2hm447rPydypwYtVuw/SaVP8lQL7T8pUPk+563tP5K3euZ7Pe4/9SJ4Cbe57j9cHS0qSSLvP7SYSV/vdu8/1WfCfnO37z/OqXlArOPvP3X5qFh9++8/\",\"dtype\":\"float64\",\"shape\":[126]}},\"selected\":{\"id\":\"83709b48-25b3-45a3-830c-3fb0035f886f\",\"type\":\"Selection\"},\"selection_policy\":{\"id\":\"e0401ee7-e7ab-4c87-9c3a-7be99c5764e3\",\"type\":\"UnionRenderers\"}},\"id\":\"80443020-3d8e-42ac-91e6-6848718542ea\",\"type\":\"ColumnDataSource\"},{\"attributes\":{\"formatter\":{\"id\":\"1249511f-0db4-4434-91fa-092ae975ec21\",\"type\":\"BasicTickFormatter\"},\"plot\":{\"id\":\"b1508b3f-b91b-4ce7-81ea-9ef160f62ad6\",\"subtype\":\"Figure\",\"type\":\"Plot\"},\"ticker\":{\"id\":\"a62eb1a1-a6bb-4a7e-b7c2-279a2f66da60\",\"type\":\"BasicTicker\"}},\"id\":\"1d88636b-4b70-4037-b01f-b1a9d237c5ea\",\"type\":\"LinearAxis\"},{\"attributes\":{},\"id\":\"d6b58825-af54-4c26-b32e-6b76e2774c5f\",\"type\":\"SaveTool\"},{\"attributes\":{\"callback\":null,\"data\":{\"x\":{\"__ndarray__\":\"AAAAAAAAAACamZmZmZmpP5qZmZmZmbk/NDMzMzMzwz+amZmZmZnJPwAAAAAAANA/NDMzMzMz0z9nZmZmZmbWP5qZmZmZmdk/zczMzMzM3D8AAAAAAADgP5qZmZmZmeE/NDMzMzMz4z/NzMzMzMzkP2dmZmZmZuY/AAAAAAAA6D+amZmZmZnpPzQzMzMzM+s/zczMzMzM7D9nZmZmZmbuPwAAAAAAAPA/zczMzMzM8D+amZmZmZnxP2dmZmZmZvI/NDMzMzMz8z8AAAAAAAD0P83MzMzMzPQ/mpmZmZmZ9T9nZmZmZmb2PzQzMzMzM/c/AAAAAAAA+D/NzMzMzMz4P5qZmZmZmfk/Z2ZmZmZm+j80MzMzMzP7PwAAAAAAAPw/zczMzMzM/D+amZmZmZn9P2dmZmZmZv4/NDMzMzMz/z8AAAAAAAAAQGdmZmZmZgBAzczMzMzMAEAzMzMzMzMBQJqZmZmZmQFAAAAAAAAAAkBnZmZmZmYCQM3MzMzMzAJANDMzMzMzA0CamZmZmZkDQAAAAAAAAARAZ2ZmZmZmBEDNzMzMzMwEQDQzMzMzMwVAmpmZmZmZBUAAAAAAAAAGQGdmZmZmZgZAzczMzMzMBkA0MzMzMzMHQJqZmZmZmQdAAAAAAAAACEBnZmZmZmYIQM3MzMzMzAhANDMzMzMzCUCamZmZmZkJQAAAAAAAAApAZ2ZmZmZmCkDNzMzMzMwKQDQzMzMzMwtAmpmZmZmZC0AAAAAAAAAMQGdmZmZmZgxAzczMzMzMDEA0MzMzMzMNQJqZmZmZmQ1AAAAAAAAADkBnZmZmZmYOQM3MzMzMzA5ANDMzMzMzD0CamZmZmZkPQAAAAAAAABBAMzMzMzMzEEBnZmZmZmYQQJqZmZmZmRBAzczMzMzMEEAAAAAAAAARQDMzMzMzMxFAZ2ZmZmZmEUCamZmZmZkRQM3MzMzMzBFAAAAAAAAAEkAzMzMzMzMSQGdmZmZmZhJAmpmZmZmZEkDNzMzMzMwSQAAAAAAAABNANDMzMzMzE0BnZmZmZmYTQJqZmZmZmRNAzczMzMzME0AAAAAAAAAUQDQzMzMzMxRAZ2ZmZmZmFECamZmZmZkUQM3MzMzMzBRAAAAAAAAAFUA0MzMzMzMVQGdmZmZmZhVAmpmZmZmZFUDNzMzMzMwVQAAAAAAAABZANDMzMzMzFkBnZmZmZmYWQJqZmZmZmRZAzczMzMzMFkAAAAAAAAAXQDQzMzMzMxdAZ2ZmZmZmF0CamZmZmZkXQM3MzMzMzBdAAAAAAAAAGEA0MzMzMzMYQGdmZmZmZhhAmpmZmZmZGEDNzMzMzMwYQAAAAAAAABlA\",\"dtype\":\"float64\",\"shape\":[126]},\"y\":{\"__ndarray__\":\"AAAAAAAAAAA8ZP+i3papPyzLi8uujrk/I+3f6ckgwz+80j0j/23JP3cV89Tuqs8/NLq6lc3p0j+MCjmlCfLVP2tnK+k67Ng/JUb5rXnW2z/wBUt06K7eP9RoSZHaueA/WkGlF40R4j+r15Phr13jP7kZRmluneQ/DY+/FvzP5T/N/r/ClPTmP4OARjR9Cug/QahdmAMR6T9vJuTzfwfqP+4MCY9U7eo/wfI2Wu7B6z84Yy1MxYTsP5liDLlcNe0/xVUaokPT7T+MQRH+FF7uP0sexfl31e4/vuH5MCA57z8D4UTfzYjvP9xD2ghOxO8/i20sm3rr7z9oe0iFOv7vP8VC4MeB/O8/yIr3fFHm7z+2mC/Xt7vvP0aCsRjQfO8/8BW9gcIp7z91guc2xMLuP1c4Gh8XSO4/d8dnuQm67T9GtNHq9hjtP/tnH8RFZew/+3LrP2mf6z/qUxH538fqPwjXqtkz3+k/qePQwvnl6D8iL1gt0dznP+jJxsNjxOY/mNHD9WSd5T98v0aFkWjkP7DKzw2vJuM/oqb2hYvY4T+7haC7/H7gP/1nY5a/Nd4/DKckJDFa2z/8g8E5Im3YP8DlXSNycNU/1yNVLQpm0j/TMEjWuJ/OP0aravHEX8g/W9W2bTgQwj+e7yAPOmq3Py4QmIIPSqU/DSjuo9E3gb8yLeg5N+Otv4ykZCStsru/lwy3ygIxxL+AV+iIw3vKv3RM/xDJWtC/nOiDYTlt078fYrp+O3PWv9c1iiXgatm/8dHwQ0FS3L9YwwYwgyffv0EbLuxq9OC/IQZ19jpK4r+gwOz/VpTjvyvQtM7r0eS/zrMfLS4C5r9A1LlrWyTnv64e3N25N+i/K5R6UJk76b+9yOJ6Uy/qv7wtImlMEuu/2BLQ3/Lj679wg/u4wKPsvyWKATo7Ue2/7e0UYvPr7b/wKEUxhnPuv6km1+ec5+6/gEDHPe1H77+N9FCSOZTvv7rsXRNRzO+/zhrD3A/w779S7DcPX//vv2Dk+N40+u+//z0MmpTg779ylCSmjrLvv6TrInZAcO+/k88+d9QZ778zmeD1ga/uv8c3P/qMMe6/uSLYHEag7b+WTt1SCvzsv9ckurJCRey/o43VMGR86783ErxU76Hqv4P64eZvtum/cAUyl3y66L9P96Gctq7nv1ewCk7Jk+a/zcyFtGlq5b+09ZYXVjPkv7UAa4NV7+K/oMd6STef4b8uNuN70kPgv8rfjscKvN2/azkq5mnd2r8bvQtkmO3Xvwpad1F37tS/wKKwivHh0b+L+Mn79JPNv1z7M9cZUce/2vTYRFP/wL8dzb7bWEW1v7wS9cPd/KC/\",\"dtype\":\"float64\",\"shape\":[126]}},\"selected\":{\"id\":\"82316e18-8a92-4b2f-a6e1-58f9fbcd61da\",\"type\":\"Selection\"},\"selection_policy\":{\"id\":\"0ff313ef-6c43-409f-9a81-08e90a0769ac\",\"type\":\"UnionRenderers\"}},\"id\":\"580ecf1d-3100-49fb-94bf-e2647f1f74fb\",\"type\":\"ColumnDataSource\"},{\"attributes\":{\"callback\":null},\"id\":\"c5ef3c74-171e-4d7d-a983-6b343a2c0e96\",\"type\":\"DataRange1d\"},{\"attributes\":{},\"id\":\"83709b48-25b3-45a3-830c-3fb0035f886f\",\"type\":\"Selection\"},{\"attributes\":{\"formatter\":{\"id\":\"0adeecb3-d3de-4588-9ef2-07ce07601293\",\"type\":\"BasicTickFormatter\"},\"plot\":{\"id\":\"07d0a6ba-847f-4b32-ac02-80101f2f0d57\",\"subtype\":\"Figure\",\"type\":\"Plot\"},\"ticker\":{\"id\":\"848fb083-ea17-4a0a-a6b7-7cefb7559c44\",\"type\":\"BasicTicker\"}},\"id\":\"ae191d69-cf85-4781-a4b8-e2fa5f225bf5\",\"type\":\"LinearAxis\"},{\"attributes\":{},\"id\":\"f510166f-a3d0-45b6-b34c-d10e102b1072\",\"type\":\"ResetTool\"},{\"attributes\":{\"data_source\":{\"id\":\"580ecf1d-3100-49fb-94bf-e2647f1f74fb\",\"type\":\"ColumnDataSource\"},\"glyph\":{\"id\":\"932c8393-8f54-4a1b-857b-fa842f808495\",\"type\":\"Line\"},\"hover_glyph\":null,\"muted_glyph\":null,\"nonselection_glyph\":{\"id\":\"b89965c2-aadb-48d6-b056-20ee116fe185\",\"type\":\"Line\"},\"selection_glyph\":null,\"view\":{\"id\":\"410b6d44-167f-416c-ac29-62af314b557a\",\"type\":\"CDSView\"}},\"id\":\"13881100-86ee-48b3-a796-0464d8765c0b\",\"type\":\"GlyphRenderer\"},{\"attributes\":{},\"id\":\"cc7599a2-d065-45c8-90f4-da3b28108403\",\"type\":\"BasicTicker\"},{\"attributes\":{\"callback\":null},\"id\":\"59fd17fc-321f-4683-aac1-1afced5c09b5\",\"type\":\"DataRange1d\"},{\"attributes\":{},\"id\":\"0ff313ef-6c43-409f-9a81-08e90a0769ac\",\"type\":\"UnionRenderers\"},{\"attributes\":{\"below\":[{\"id\":\"5062bd74-43fd-413d-afb3-9a460cfc1dff\",\"type\":\"LinearAxis\"}],\"left\":[{\"id\":\"ae191d69-cf85-4781-a4b8-e2fa5f225bf5\",\"type\":\"LinearAxis\"}],\"plot_height\":200,\"plot_width\":200,\"renderers\":[{\"id\":\"5062bd74-43fd-413d-afb3-9a460cfc1dff\",\"type\":\"LinearAxis\"},{\"id\":\"b04f62f7-6182-4d05-af08-491974794081\",\"type\":\"Grid\"},{\"id\":\"ae191d69-cf85-4781-a4b8-e2fa5f225bf5\",\"type\":\"LinearAxis\"},{\"id\":\"cd851984-e32a-415a-a304-42e8834a3c27\",\"type\":\"Grid\"},{\"id\":\"b7332b95-3bd4-4931-85bd-0f80282f0d02\",\"type\":\"BoxAnnotation\"},{\"id\":\"13881100-86ee-48b3-a796-0464d8765c0b\",\"type\":\"GlyphRenderer\"}],\"sizing_mode\":\"stretch_both\",\"title\":{\"id\":\"4b14ff81-37d1-4c8f-a267-de7b543e85a8\",\"type\":\"Title\"},\"toolbar\":{\"id\":\"b8fc9880-a300-461d-9856-a5e86ea1c0d1\",\"type\":\"Toolbar\"},\"x_range\":{\"id\":\"c5ef3c74-171e-4d7d-a983-6b343a2c0e96\",\"type\":\"DataRange1d\"},\"x_scale\":{\"id\":\"c4ce71f8-2100-44a0-ba2e-25dc0aaec461\",\"type\":\"LinearScale\"},\"y_range\":{\"id\":\"00bb9d74-cf68-4758-a326-406021e76d89\",\"type\":\"DataRange1d\"},\"y_scale\":{\"id\":\"35e75275-3de2-4ef8-88a1-17260186de8a\",\"type\":\"LinearScale\"}},\"id\":\"07d0a6ba-847f-4b32-ac02-80101f2f0d57\",\"subtype\":\"Figure\",\"type\":\"Plot\"},{\"attributes\":{\"overlay\":{\"id\":\"b7332b95-3bd4-4931-85bd-0f80282f0d02\",\"type\":\"BoxAnnotation\"}},\"id\":\"8290afdd-ce84-49ba-8394-71dfee024c46\",\"type\":\"BoxZoomTool\"}],\"root_ids\":[\"f103c1ab-688e-4234-a487-73d6bdd2bb7b\"]},\"title\":\"Bokeh Application\",\"version\":\"0.12.16\"}};\n",
       "  var render_items = [{\"docid\":\"ac597dbb-afe5-4cbd-a63d-c8127f6cf644\",\"elementid\":\"effd748d-4160-467d-96fa-009534651a52\",\"modelid\":\"f103c1ab-688e-4234-a487-73d6bdd2bb7b\"}];\n",
       "  root.Bokeh.embed.embed_items_notebook(docs_json, render_items);\n",
       "\n",
       "  }\n",
       "  if (root.Bokeh !== undefined) {\n",
       "    embed_document(root);\n",
       "  } else {\n",
       "    var attempts = 0;\n",
       "    var timer = setInterval(function(root) {\n",
       "      if (root.Bokeh !== undefined) {\n",
       "        embed_document(root);\n",
       "        clearInterval(timer);\n",
       "      }\n",
       "      attempts++;\n",
       "      if (attempts > 100) {\n",
       "        console.log(\"Bokeh: ERROR: Unable to run BokehJS code because BokehJS library is missing\")\n",
       "        clearInterval(timer);\n",
       "      }\n",
       "    }, 10, root)\n",
       "  }\n",
       "})(window);"
      ],
      "application/vnd.bokehjs_exec.v0+json": ""
     },
     "metadata": {
      "application/vnd.bokehjs_exec.v0+json": {
       "id": "f103c1ab-688e-4234-a487-73d6bdd2bb7b"
      }
     },
     "output_type": "display_data"
    }
   ],
   "source": [
    "from bokeh.plotting import figure, output_file, show\n",
    "from bokeh.layouts import row\n",
    "import numpy as np\n",
    "import math\n",
    "x=np.arange(0, math.pi*2, 0.05)\n",
    "y1=np.sin(x)\n",
    "y2=np.cos(x)\n",
    "fig1 = figure(plot_width=200, plot_height=200)\n",
    "fig1.line(x, y1,line_width=2, line_color='blue')\n",
    "fig2 = figure(plot_width=200, plot_height=200)\n",
    "fig2.line(x, y2,line_width=2, line_color='red')\n",
    "r=row(children=[fig1, fig2], sizing_mode='stretch_both')\n",
    "show(r)"
   ]
  },
  {
   "cell_type": "code",
   "execution_count": 53,
   "metadata": {},
   "outputs": [
    {
     "data": {
      "text/html": [
       "\n",
       "<div class=\"bk-root\">\n",
       "    <div class=\"bk-plotdiv\" id=\"9e8d9f7e-538c-4256-91e0-b328577655ce\"></div>\n",
       "</div>"
      ]
     },
     "metadata": {},
     "output_type": "display_data"
    },
    {
     "data": {
      "application/javascript": [
       "(function(root) {\n",
       "  function embed_document(root) {\n",
       "    \n",
       "  var docs_json = {\"51c71b01-f127-4429-8a34-8e9badf244c9\":{\"roots\":{\"references\":[{\"attributes\":{},\"id\":\"e5e0c8b7-fa1e-45fa-9c6b-5a5c649a1b13\",\"type\":\"BasicTicker\"},{\"attributes\":{\"ticker\":null},\"id\":\"6b8ea3a2-a6e7-407a-891a-44680ba936f8\",\"type\":\"LogTickFormatter\"},{\"attributes\":{},\"id\":\"4d5f7d91-3b7b-49a4-8c4a-0ceede1d7a26\",\"type\":\"BasicTickFormatter\"},{\"attributes\":{},\"id\":\"2800dc9a-913a-49af-b76f-7c53eaebfdca\",\"type\":\"WheelZoomTool\"},{\"attributes\":{\"data_source\":{\"id\":\"5357826c-eb5f-4617-a481-bc0c0175b976\",\"type\":\"ColumnDataSource\"},\"glyph\":{\"id\":\"ad8b5e2f-62b4-4c41-8347-e2afa19dadf2\",\"type\":\"Line\"},\"hover_glyph\":null,\"muted_glyph\":null,\"nonselection_glyph\":{\"id\":\"8055be59-c5ea-491d-aa9c-6cd8b990b0d1\",\"type\":\"Line\"},\"selection_glyph\":null,\"view\":{\"id\":\"1f0bc041-6c8f-4088-9f75-526866772a03\",\"type\":\"CDSView\"}},\"id\":\"a625166f-146e-4741-9b93-1886c1dfd6fa\",\"type\":\"GlyphRenderer\"},{\"attributes\":{},\"id\":\"55ee50af-7fa9-4109-aec0-3463565ee61c\",\"type\":\"BasicTicker\"},{\"attributes\":{\"bottom_units\":\"screen\",\"fill_alpha\":{\"value\":0.5},\"fill_color\":{\"value\":\"lightgrey\"},\"left_units\":\"screen\",\"level\":\"overlay\",\"line_alpha\":{\"value\":1.0},\"line_color\":{\"value\":\"black\"},\"line_dash\":[4,4],\"line_width\":{\"value\":2},\"plot\":null,\"render_mode\":\"css\",\"right_units\":\"screen\",\"top_units\":\"screen\"},\"id\":\"a324409a-7db2-468b-813e-fff77a57beb6\",\"type\":\"BoxAnnotation\"},{\"attributes\":{},\"id\":\"f38d14cb-b706-48ea-9193-08e62a010201\",\"type\":\"LinearScale\"},{\"attributes\":{\"callback\":null,\"data\":{\"x\":[1,2,3,4,5,6,7,8,9,10],\"y\":[1,4,9,16,25,36,49,64,81,100]},\"selected\":{\"id\":\"6d28bd7e-0aa5-4dd8-a971-58cbf8151e58\",\"type\":\"Selection\"},\"selection_policy\":{\"id\":\"86f01242-f3ee-44ef-bc7e-03eb48fb5ca8\",\"type\":\"UnionRenderers\"}},\"id\":\"8c2f0d83-ed65-41d9-95d7-b0d3847e5630\",\"type\":\"ColumnDataSource\"},{\"attributes\":{\"formatter\":{\"id\":\"2be25b9d-dbb6-41df-b9e0-d078697c58ac\",\"type\":\"BasicTickFormatter\"},\"plot\":{\"id\":\"8656b561-3813-44e8-9d19-2948b5f61b11\",\"subtype\":\"Figure\",\"type\":\"Plot\"},\"ticker\":{\"id\":\"759d8eb3-b7e4-4f9f-8176-48e861612093\",\"type\":\"BasicTicker\"}},\"id\":\"bc7ed958-aafb-413d-a367-d370f01b1ce5\",\"type\":\"LinearAxis\"},{\"attributes\":{\"formatter\":{\"id\":\"6559dae0-e1a2-4ce5-911d-5d49d1c3cca9\",\"type\":\"BasicTickFormatter\"},\"plot\":{\"id\":\"8656b561-3813-44e8-9d19-2948b5f61b11\",\"subtype\":\"Figure\",\"type\":\"Plot\"},\"ticker\":{\"id\":\"466f49f2-4263-436c-ab31-a56c8485d0d7\",\"type\":\"BasicTicker\"}},\"id\":\"4d64eb3e-6a37-471d-9ecb-be9db9e6a913\",\"type\":\"LinearAxis\"},{\"attributes\":{\"plot\":{\"id\":\"2247f23e-113d-4f2b-8343-fefa743bd292\",\"subtype\":\"Figure\",\"type\":\"Plot\"},\"ticker\":{\"id\":\"49079470-75dd-40e2-92bc-56c73cbbc5bb\",\"type\":\"BasicTicker\"}},\"id\":\"54d851a3-ea88-4a22-9f1f-c189220cb8d9\",\"type\":\"Grid\"},{\"attributes\":{\"line_alpha\":0.1,\"line_color\":\"#1f77b4\",\"line_width\":2,\"x\":{\"field\":\"x\"},\"y\":{\"field\":\"y\"}},\"id\":\"8055be59-c5ea-491d-aa9c-6cd8b990b0d1\",\"type\":\"Line\"},{\"attributes\":{},\"id\":\"466f49f2-4263-436c-ab31-a56c8485d0d7\",\"type\":\"BasicTicker\"},{\"attributes\":{},\"id\":\"4a3cf626-ee78-4381-85c1-5e81d66b3065\",\"type\":\"WheelZoomTool\"},{\"attributes\":{\"dimension\":1,\"plot\":{\"id\":\"385a81e7-db1d-4073-bb59-84dadce4cc42\",\"subtype\":\"Figure\",\"type\":\"Plot\"},\"ticker\":{\"id\":\"2f2714e5-cd58-4f3b-af87-c3af5304dac6\",\"type\":\"LogTicker\"}},\"id\":\"b6d67c7c-d11e-4087-95c0-350522451011\",\"type\":\"Grid\"},{\"attributes\":{},\"id\":\"55d786fb-d7ae-4759-afda-e94e79a366db\",\"type\":\"ResetTool\"},{\"attributes\":{},\"id\":\"b6bf5945-c896-46e5-8008-13424158298a\",\"type\":\"PanTool\"},{\"attributes\":{\"num_minor_ticks\":10},\"id\":\"2f2714e5-cd58-4f3b-af87-c3af5304dac6\",\"type\":\"LogTicker\"},{\"attributes\":{\"children\":[{\"id\":\"de3dc8ae-ba16-4d2e-884c-26c736c2cd8b\",\"subtype\":\"Figure\",\"type\":\"Plot\"},{\"id\":\"2247f23e-113d-4f2b-8343-fefa743bd292\",\"subtype\":\"Figure\",\"type\":\"Plot\"}],\"sizing_mode\":\"stretch_both\"},\"id\":\"cc44b5ab-674f-4747-89ca-993495e4cd93\",\"type\":\"Row\"},{\"attributes\":{\"plot\":{\"id\":\"de3dc8ae-ba16-4d2e-884c-26c736c2cd8b\",\"subtype\":\"Figure\",\"type\":\"Plot\"},\"ticker\":{\"id\":\"55ee50af-7fa9-4109-aec0-3463565ee61c\",\"type\":\"BasicTicker\"}},\"id\":\"1dea0ef8-d446-4342-9732-52bf393d1b2a\",\"type\":\"Grid\"},{\"attributes\":{},\"id\":\"18e75447-ba96-4a5a-8aa9-23d0afef7b48\",\"type\":\"LinearScale\"},{\"attributes\":{},\"id\":\"284c185c-5209-4152-8f96-71b3ad5b20a3\",\"type\":\"LinearScale\"},{\"attributes\":{\"data_source\":{\"id\":\"33aa7585-e799-49d5-808f-4db7b29dd94b\",\"type\":\"ColumnDataSource\"},\"glyph\":{\"id\":\"a0ba9905-7638-4b9b-97a2-d825ed1ebb47\",\"type\":\"Circle\"},\"hover_glyph\":null,\"muted_glyph\":null,\"nonselection_glyph\":{\"id\":\"87026622-e173-444a-a1ce-5c7b111e3f46\",\"type\":\"Circle\"},\"selection_glyph\":null,\"view\":{\"id\":\"037e1a57-3028-4ff2-880d-42d4484443f1\",\"type\":\"CDSView\"}},\"id\":\"b9cfc12f-3167-4a6e-9e83-d65db277ebf8\",\"type\":\"GlyphRenderer\"},{\"attributes\":{\"children\":[{\"id\":\"8656b561-3813-44e8-9d19-2948b5f61b11\",\"subtype\":\"Figure\",\"type\":\"Plot\"},{\"id\":\"385a81e7-db1d-4073-bb59-84dadce4cc42\",\"subtype\":\"Figure\",\"type\":\"Plot\"}],\"sizing_mode\":\"stretch_both\"},\"id\":\"d0962d5a-5cae-4dd7-b12e-46f90a4fb1d0\",\"type\":\"Row\"},{\"attributes\":{\"overlay\":{\"id\":\"a324409a-7db2-468b-813e-fff77a57beb6\",\"type\":\"BoxAnnotation\"}},\"id\":\"e03dca7e-9bc6-4126-b8ba-b90b34f3fafa\",\"type\":\"BoxZoomTool\"},{\"attributes\":{\"formatter\":{\"id\":\"6b8ea3a2-a6e7-407a-891a-44680ba936f8\",\"type\":\"LogTickFormatter\"},\"plot\":{\"id\":\"385a81e7-db1d-4073-bb59-84dadce4cc42\",\"subtype\":\"Figure\",\"type\":\"Plot\"},\"ticker\":{\"id\":\"2f2714e5-cd58-4f3b-af87-c3af5304dac6\",\"type\":\"LogTicker\"}},\"id\":\"f3c19ad9-1045-4b50-abaa-ba8b9cceba0c\",\"type\":\"LogAxis\"},{\"attributes\":{},\"id\":\"153fbd6b-38a6-48e0-b082-2046126c3ba1\",\"type\":\"PanTool\"},{\"attributes\":{\"plot\":{\"id\":\"8656b561-3813-44e8-9d19-2948b5f61b11\",\"subtype\":\"Figure\",\"type\":\"Plot\"},\"ticker\":{\"id\":\"759d8eb3-b7e4-4f9f-8176-48e861612093\",\"type\":\"BasicTicker\"}},\"id\":\"531e680f-f9e1-449a-8833-4007f968ed5c\",\"type\":\"Grid\"},{\"attributes\":{\"callback\":null,\"data\":{\"x\":[1,2,3,4,5,6,7,8,9,10],\"y\":[0.0,0.3010299956639812,0.47712125471966244,0.6020599913279624,0.6989700043360189,0.7781512503836436,0.8450980400142568,0.9030899869919435,0.9542425094393249,1.0]},\"selected\":{\"id\":\"63d5d314-fd14-4305-99ae-2427ccbc27bd\",\"type\":\"Selection\"},\"selection_policy\":{\"id\":\"04e51de6-3a74-4317-a554-20f169854fcd\",\"type\":\"UnionRenderers\"}},\"id\":\"5357826c-eb5f-4617-a481-bc0c0175b976\",\"type\":\"ColumnDataSource\"},{\"attributes\":{\"source\":{\"id\":\"69dd312b-b1ce-4147-a3ff-b133c09e1864\",\"type\":\"ColumnDataSource\"}},\"id\":\"a9a6524b-72d0-4a10-92d9-deac28bb81c2\",\"type\":\"CDSView\"},{\"attributes\":{\"data_source\":{\"id\":\"8c2f0d83-ed65-41d9-95d7-b0d3847e5630\",\"type\":\"ColumnDataSource\"},\"glyph\":{\"id\":\"c62a7556-971b-433f-a2aa-db3fb54ace05\",\"type\":\"Circle\"},\"hover_glyph\":null,\"muted_glyph\":null,\"nonselection_glyph\":{\"id\":\"31979e7e-96c0-4330-b659-e933f7faa5d8\",\"type\":\"Circle\"},\"selection_glyph\":null,\"view\":{\"id\":\"c99c2f2f-d125-4043-a5a2-7fa51cd10471\",\"type\":\"CDSView\"}},\"id\":\"5a9bc2ad-7397-4b37-815b-156f3225de81\",\"type\":\"GlyphRenderer\"},{\"attributes\":{\"formatter\":{\"id\":\"f69f3246-3128-46ee-88b2-c0dea8763290\",\"type\":\"BasicTickFormatter\"},\"plot\":{\"id\":\"de3dc8ae-ba16-4d2e-884c-26c736c2cd8b\",\"subtype\":\"Figure\",\"type\":\"Plot\"},\"ticker\":{\"id\":\"55ee50af-7fa9-4109-aec0-3463565ee61c\",\"type\":\"BasicTicker\"}},\"id\":\"4c65c2b2-dc9e-43c9-adba-e60ae07f63c5\",\"type\":\"LinearAxis\"},{\"attributes\":{\"formatter\":{\"id\":\"87becf1c-5362-40ec-bb39-e7753988e36f\",\"type\":\"BasicTickFormatter\"},\"plot\":{\"id\":\"385a81e7-db1d-4073-bb59-84dadce4cc42\",\"subtype\":\"Figure\",\"type\":\"Plot\"},\"ticker\":{\"id\":\"e5e0c8b7-fa1e-45fa-9c6b-5a5c649a1b13\",\"type\":\"BasicTicker\"}},\"id\":\"93feea37-a0b3-4269-991a-4280abf98a18\",\"type\":\"LinearAxis\"},{\"attributes\":{\"overlay\":{\"id\":\"a37d1d90-30db-4054-b306-a1aee7700aed\",\"type\":\"BoxAnnotation\"}},\"id\":\"563080b9-5b06-4f81-a0d1-61d3c5294f43\",\"type\":\"BoxZoomTool\"},{\"attributes\":{\"fill_alpha\":{\"value\":0.1},\"fill_color\":{\"value\":\"#1f77b4\"},\"line_alpha\":{\"value\":0.1},\"line_color\":{\"value\":\"#1f77b4\"},\"size\":{\"units\":\"screen\",\"value\":10},\"x\":{\"field\":\"x\"},\"y\":{\"field\":\"y\"}},\"id\":\"31979e7e-96c0-4330-b659-e933f7faa5d8\",\"type\":\"Circle\"},{\"attributes\":{},\"id\":\"ea3c71cb-c0ba-4932-9562-18ed4a7a08d3\",\"type\":\"SaveTool\"},{\"attributes\":{\"below\":[{\"id\":\"1ffa462b-ab90-4651-a366-800fecbb845b\",\"type\":\"LinearAxis\"}],\"left\":[{\"id\":\"4a52d728-9922-4c72-a7a6-1c02ea501103\",\"type\":\"LinearAxis\"}],\"plot_height\":200,\"plot_width\":200,\"renderers\":[{\"id\":\"1ffa462b-ab90-4651-a366-800fecbb845b\",\"type\":\"LinearAxis\"},{\"id\":\"54d851a3-ea88-4a22-9f1f-c189220cb8d9\",\"type\":\"Grid\"},{\"id\":\"4a52d728-9922-4c72-a7a6-1c02ea501103\",\"type\":\"LinearAxis\"},{\"id\":\"cde8cfa6-2dd2-4f6d-9b41-0fb106dfffdc\",\"type\":\"Grid\"},{\"id\":\"a37d1d90-30db-4054-b306-a1aee7700aed\",\"type\":\"BoxAnnotation\"},{\"id\":\"b9cfc12f-3167-4a6e-9e83-d65db277ebf8\",\"type\":\"GlyphRenderer\"}],\"sizing_mode\":\"stretch_both\",\"title\":{\"id\":\"fc529935-a14d-4875-b020-bfcb3a92cf49\",\"type\":\"Title\"},\"toolbar\":{\"id\":\"d5279352-f4c6-41ed-afbd-36d8803b0b32\",\"type\":\"Toolbar\"},\"toolbar_location\":null,\"x_range\":{\"id\":\"dd47db84-d48c-49ce-a8a5-710ab6ef9534\",\"type\":\"DataRange1d\"},\"x_scale\":{\"id\":\"49aba486-0237-4f08-9dc0-79c10d6574c7\",\"type\":\"LinearScale\"},\"y_range\":{\"id\":\"8f275804-cfa9-4662-b46d-8ab92aac3ecc\",\"type\":\"DataRange1d\"},\"y_scale\":{\"id\":\"c95f97b8-e221-4df1-9628-1815e7dbf176\",\"type\":\"LinearScale\"}},\"id\":\"2247f23e-113d-4f2b-8343-fefa743bd292\",\"subtype\":\"Figure\",\"type\":\"Plot\"},{\"attributes\":{},\"id\":\"709b2838-ad46-44c2-a68f-111c09d0f747\",\"type\":\"PanTool\"},{\"attributes\":{},\"id\":\"4b510394-33aa-4888-a868-9cfa6df7e995\",\"type\":\"ResetTool\"},{\"attributes\":{},\"id\":\"6ad6a912-2bfc-4dd6-bdab-63cc8eeb5840\",\"type\":\"Selection\"},{\"attributes\":{\"source\":{\"id\":\"8c2f0d83-ed65-41d9-95d7-b0d3847e5630\",\"type\":\"ColumnDataSource\"}},\"id\":\"c99c2f2f-d125-4043-a5a2-7fa51cd10471\",\"type\":\"CDSView\"},{\"attributes\":{\"callback\":null},\"id\":\"61dcbd28-8998-41c8-9cf2-ff7db10d7ff2\",\"type\":\"DataRange1d\"},{\"attributes\":{\"callback\":null},\"id\":\"cd699ff6-da59-46b2-b551-d3bee98e4878\",\"type\":\"DataRange1d\"},{\"attributes\":{\"callback\":null},\"id\":\"06c9bbb6-516c-4817-8e77-9a87c9df37c1\",\"type\":\"DataRange1d\"},{\"attributes\":{},\"id\":\"80b62c5a-8e57-478e-8d6f-8e7f700b44bb\",\"type\":\"HelpTool\"},{\"attributes\":{\"fill_color\":{\"value\":\"grey\"},\"line_color\":{\"value\":\"grey\"},\"size\":{\"units\":\"screen\",\"value\":10},\"x\":{\"field\":\"x\"},\"y\":{\"field\":\"y\"}},\"id\":\"c62a7556-971b-433f-a2aa-db3fb54ace05\",\"type\":\"Circle\"},{\"attributes\":{\"bottom_units\":\"screen\",\"fill_alpha\":{\"value\":0.5},\"fill_color\":{\"value\":\"lightgrey\"},\"left_units\":\"screen\",\"level\":\"overlay\",\"line_alpha\":{\"value\":1.0},\"line_color\":{\"value\":\"black\"},\"line_dash\":[4,4],\"line_width\":{\"value\":2},\"plot\":null,\"render_mode\":\"css\",\"right_units\":\"screen\",\"top_units\":\"screen\"},\"id\":\"a37d1d90-30db-4054-b306-a1aee7700aed\",\"type\":\"BoxAnnotation\"},{\"attributes\":{\"fill_alpha\":{\"value\":0.1},\"fill_color\":{\"value\":\"#1f77b4\"},\"line_alpha\":{\"value\":0.1},\"line_color\":{\"value\":\"#1f77b4\"},\"size\":{\"units\":\"screen\",\"value\":10},\"x\":{\"field\":\"x\"},\"y\":{\"field\":\"y\"}},\"id\":\"87026622-e173-444a-a1ce-5c7b111e3f46\",\"type\":\"Circle\"},{\"attributes\":{\"plot\":null,\"text\":\"\"},\"id\":\"2e848238-b036-476d-b87d-803cebb12cd8\",\"type\":\"Title\"},{\"attributes\":{},\"id\":\"de1068a9-dc86-4e1e-a506-0adb2434db4f\",\"type\":\"WheelZoomTool\"},{\"attributes\":{},\"id\":\"04e51de6-3a74-4317-a554-20f169854fcd\",\"type\":\"UnionRenderers\"},{\"attributes\":{},\"id\":\"fd9c7cf6-e166-4943-955b-5d247cad11e8\",\"type\":\"SaveTool\"},{\"attributes\":{},\"id\":\"6559dae0-e1a2-4ce5-911d-5d49d1c3cca9\",\"type\":\"BasicTickFormatter\"},{\"attributes\":{\"line_color\":\"red\",\"line_width\":2,\"x\":{\"field\":\"x\"},\"y\":{\"field\":\"y\"}},\"id\":\"ad8b5e2f-62b4-4c41-8347-e2afa19dadf2\",\"type\":\"Line\"},{\"attributes\":{\"callback\":null},\"id\":\"a902f99e-8275-4834-b02c-e6b147923f98\",\"type\":\"DataRange1d\"},{\"attributes\":{},\"id\":\"8345c87b-9a83-4054-855f-181f8a5ba4a6\",\"type\":\"ResetTool\"},{\"attributes\":{\"below\":[{\"id\":\"bc7ed958-aafb-413d-a367-d370f01b1ce5\",\"type\":\"LinearAxis\"}],\"left\":[{\"id\":\"4d64eb3e-6a37-471d-9ecb-be9db9e6a913\",\"type\":\"LinearAxis\"}],\"plot_height\":200,\"plot_width\":200,\"renderers\":[{\"id\":\"bc7ed958-aafb-413d-a367-d370f01b1ce5\",\"type\":\"LinearAxis\"},{\"id\":\"531e680f-f9e1-449a-8833-4007f968ed5c\",\"type\":\"Grid\"},{\"id\":\"4d64eb3e-6a37-471d-9ecb-be9db9e6a913\",\"type\":\"LinearAxis\"},{\"id\":\"a105cfb5-e418-404f-a45b-a068454ccf97\",\"type\":\"Grid\"},{\"id\":\"a324409a-7db2-468b-813e-fff77a57beb6\",\"type\":\"BoxAnnotation\"},{\"id\":\"5a9bc2ad-7397-4b37-815b-156f3225de81\",\"type\":\"GlyphRenderer\"}],\"sizing_mode\":\"stretch_both\",\"title\":{\"id\":\"69977e16-e8b9-4cec-a177-067b196db1cf\",\"type\":\"Title\"},\"toolbar\":{\"id\":\"5cc75646-8078-4792-aba6-5ca470a2c2a8\",\"type\":\"Toolbar\"},\"toolbar_location\":null,\"x_range\":{\"id\":\"c31f8d8a-81ec-4cf5-b277-3ac7cfb08496\",\"type\":\"DataRange1d\"},\"x_scale\":{\"id\":\"f38d14cb-b706-48ea-9193-08e62a010201\",\"type\":\"LinearScale\"},\"y_range\":{\"id\":\"a902f99e-8275-4834-b02c-e6b147923f98\",\"type\":\"DataRange1d\"},\"y_scale\":{\"id\":\"18e75447-ba96-4a5a-8aa9-23d0afef7b48\",\"type\":\"LinearScale\"}},\"id\":\"8656b561-3813-44e8-9d19-2948b5f61b11\",\"subtype\":\"Figure\",\"type\":\"Plot\"},{\"attributes\":{},\"id\":\"9e8c6d16-1e00-4995-a800-c7d4ee2c470c\",\"type\":\"SaveTool\"},{\"attributes\":{\"line_alpha\":0.1,\"line_color\":\"#1f77b4\",\"line_width\":2,\"x\":{\"field\":\"x\"},\"y\":{\"field\":\"y\"}},\"id\":\"a8918e70-b43e-4538-871f-1435126c16ed\",\"type\":\"Line\"},{\"attributes\":{\"active_drag\":\"auto\",\"active_inspect\":\"auto\",\"active_scroll\":\"auto\",\"active_tap\":\"auto\",\"tools\":[{\"id\":\"709b2838-ad46-44c2-a68f-111c09d0f747\",\"type\":\"PanTool\"},{\"id\":\"2800dc9a-913a-49af-b76f-7c53eaebfdca\",\"type\":\"WheelZoomTool\"},{\"id\":\"c5835f7f-0dd1-4aab-8285-c21883b6c28d\",\"type\":\"BoxZoomTool\"},{\"id\":\"27f7d349-71f2-4642-94b6-ee5bd7815410\",\"type\":\"SaveTool\"},{\"id\":\"8345c87b-9a83-4054-855f-181f8a5ba4a6\",\"type\":\"ResetTool\"},{\"id\":\"1f23aed1-9c11-430b-8c09-9303078e6ca3\",\"type\":\"HelpTool\"}]},\"id\":\"6e0c729d-4c8c-4695-89b1-56f4244203dd\",\"type\":\"Toolbar\"},{\"attributes\":{\"formatter\":{\"id\":\"8918eb02-83a9-4dc1-b3f5-559298db9375\",\"type\":\"BasicTickFormatter\"},\"plot\":{\"id\":\"de3dc8ae-ba16-4d2e-884c-26c736c2cd8b\",\"subtype\":\"Figure\",\"type\":\"Plot\"},\"ticker\":{\"id\":\"fc729c40-3c79-4b13-93da-6e39c4f9fc43\",\"type\":\"BasicTicker\"}},\"id\":\"efd24c1e-7268-4c7a-8371-9b3f9575ac69\",\"type\":\"LinearAxis\"},{\"attributes\":{\"dimension\":1,\"plot\":{\"id\":\"8656b561-3813-44e8-9d19-2948b5f61b11\",\"subtype\":\"Figure\",\"type\":\"Plot\"},\"ticker\":{\"id\":\"466f49f2-4263-436c-ab31-a56c8485d0d7\",\"type\":\"BasicTicker\"}},\"id\":\"a105cfb5-e418-404f-a45b-a068454ccf97\",\"type\":\"Grid\"},{\"attributes\":{},\"id\":\"a767b739-d166-491d-8ab8-71ad0a1edf56\",\"type\":\"LinearScale\"},{\"attributes\":{\"dimension\":1,\"plot\":{\"id\":\"de3dc8ae-ba16-4d2e-884c-26c736c2cd8b\",\"subtype\":\"Figure\",\"type\":\"Plot\"},\"ticker\":{\"id\":\"fc729c40-3c79-4b13-93da-6e39c4f9fc43\",\"type\":\"BasicTicker\"}},\"id\":\"fd18060c-2c67-454d-8f1e-a76825dca1a6\",\"type\":\"Grid\"},{\"attributes\":{},\"id\":\"86f01242-f3ee-44ef-bc7e-03eb48fb5ca8\",\"type\":\"UnionRenderers\"},{\"attributes\":{},\"id\":\"935d8b1b-65b2-4b4a-9806-4d0491e2f6d4\",\"type\":\"LogScale\"},{\"attributes\":{\"callback\":null,\"data\":{\"x\":[1,2,3,4,5,6,7,8,9,10],\"y\":[1,2,3,4,5,6,7,8,9,10]},\"selected\":{\"id\":\"6ad6a912-2bfc-4dd6-bdab-63cc8eeb5840\",\"type\":\"Selection\"},\"selection_policy\":{\"id\":\"e1b4f784-43a6-4901-b409-deca18ed8e86\",\"type\":\"UnionRenderers\"}},\"id\":\"69dd312b-b1ce-4147-a3ff-b133c09e1864\",\"type\":\"ColumnDataSource\"},{\"attributes\":{\"children\":[{\"id\":\"fd356ee0-e6f6-426b-9186-303086160a25\",\"type\":\"ToolbarBox\"},{\"id\":\"7197b414-ba8b-4015-ac99-9338ecd82854\",\"type\":\"Column\"}],\"sizing_mode\":\"stretch_both\"},\"id\":\"56dab982-7cd3-4225-9ae9-51419114af51\",\"type\":\"Column\"},{\"attributes\":{\"data_source\":{\"id\":\"69dd312b-b1ce-4147-a3ff-b133c09e1864\",\"type\":\"ColumnDataSource\"},\"glyph\":{\"id\":\"42e1b598-6c99-4172-bf58-e17b54d089fc\",\"type\":\"Line\"},\"hover_glyph\":null,\"muted_glyph\":null,\"nonselection_glyph\":{\"id\":\"a8918e70-b43e-4538-871f-1435126c16ed\",\"type\":\"Line\"},\"selection_glyph\":null,\"view\":{\"id\":\"a9a6524b-72d0-4a10-92d9-deac28bb81c2\",\"type\":\"CDSView\"}},\"id\":\"909c6292-3eaf-48db-860c-0df62408ae7f\",\"type\":\"GlyphRenderer\"},{\"attributes\":{\"plot\":null,\"text\":\"\"},\"id\":\"fc529935-a14d-4875-b020-bfcb3a92cf49\",\"type\":\"Title\"},{\"attributes\":{\"active_drag\":\"auto\",\"active_inspect\":\"auto\",\"active_scroll\":\"auto\",\"active_tap\":\"auto\",\"tools\":[{\"id\":\"153fbd6b-38a6-48e0-b082-2046126c3ba1\",\"type\":\"PanTool\"},{\"id\":\"18ee608e-fa73-46f3-8a63-5e4cade11ba0\",\"type\":\"WheelZoomTool\"},{\"id\":\"292b7798-0cb6-4e8b-921f-9cd8bc15464d\",\"type\":\"BoxZoomTool\"},{\"id\":\"ea3c71cb-c0ba-4932-9562-18ed4a7a08d3\",\"type\":\"SaveTool\"},{\"id\":\"c07a4725-b580-41fc-8e80-31c0405e3f14\",\"type\":\"ResetTool\"},{\"id\":\"10d2f07f-a3e1-40cd-9e7e-66f848e627e0\",\"type\":\"HelpTool\"}]},\"id\":\"c2be4b36-b873-478f-94cf-37eeaf15287b\",\"type\":\"Toolbar\"},{\"attributes\":{\"plot\":{\"id\":\"385a81e7-db1d-4073-bb59-84dadce4cc42\",\"subtype\":\"Figure\",\"type\":\"Plot\"},\"ticker\":{\"id\":\"e5e0c8b7-fa1e-45fa-9c6b-5a5c649a1b13\",\"type\":\"BasicTicker\"}},\"id\":\"a324143f-562e-40a1-91e8-3fad58d84a17\",\"type\":\"Grid\"},{\"attributes\":{},\"id\":\"10d2f07f-a3e1-40cd-9e7e-66f848e627e0\",\"type\":\"HelpTool\"},{\"attributes\":{\"bottom_units\":\"screen\",\"fill_alpha\":{\"value\":0.5},\"fill_color\":{\"value\":\"lightgrey\"},\"left_units\":\"screen\",\"level\":\"overlay\",\"line_alpha\":{\"value\":1.0},\"line_color\":{\"value\":\"black\"},\"line_dash\":[4,4],\"line_width\":{\"value\":2},\"plot\":null,\"render_mode\":\"css\",\"right_units\":\"screen\",\"top_units\":\"screen\"},\"id\":\"2318e745-4770-4948-9a8a-949b02241b43\",\"type\":\"BoxAnnotation\"},{\"attributes\":{\"active_drag\":\"auto\",\"active_inspect\":\"auto\",\"active_scroll\":\"auto\",\"active_tap\":\"auto\",\"tools\":[{\"id\":\"b6bf5945-c896-46e5-8008-13424158298a\",\"type\":\"PanTool\"},{\"id\":\"4a3cf626-ee78-4381-85c1-5e81d66b3065\",\"type\":\"WheelZoomTool\"},{\"id\":\"563080b9-5b06-4f81-a0d1-61d3c5294f43\",\"type\":\"BoxZoomTool\"},{\"id\":\"fd9c7cf6-e166-4943-955b-5d247cad11e8\",\"type\":\"SaveTool\"},{\"id\":\"4b510394-33aa-4888-a868-9cfa6df7e995\",\"type\":\"ResetTool\"},{\"id\":\"3acba9aa-4848-4903-99c4-6d7d98bd9ac2\",\"type\":\"HelpTool\"}]},\"id\":\"d5279352-f4c6-41ed-afbd-36d8803b0b32\",\"type\":\"Toolbar\"},{\"attributes\":{\"callback\":null},\"id\":\"c94ca8b5-2e72-4ff2-a7da-e93e070d75bd\",\"type\":\"DataRange1d\"},{\"attributes\":{\"fill_color\":{\"value\":\"green\"},\"line_color\":{\"value\":\"green\"},\"size\":{\"units\":\"screen\",\"value\":10},\"x\":{\"field\":\"x\"},\"y\":{\"field\":\"y\"}},\"id\":\"a0ba9905-7638-4b9b-97a2-d825ed1ebb47\",\"type\":\"Circle\"},{\"attributes\":{\"overlay\":{\"id\":\"2318e745-4770-4948-9a8a-949b02241b43\",\"type\":\"BoxAnnotation\"}},\"id\":\"c5835f7f-0dd1-4aab-8285-c21883b6c28d\",\"type\":\"BoxZoomTool\"},{\"attributes\":{\"overlay\":{\"id\":\"c5d9f682-64b0-4251-9718-cbbffcd38173\",\"type\":\"BoxAnnotation\"}},\"id\":\"292b7798-0cb6-4e8b-921f-9cd8bc15464d\",\"type\":\"BoxZoomTool\"},{\"attributes\":{\"toolbar\":{\"id\":\"892de03d-c01b-426d-a783-5b6762babd99\",\"type\":\"ProxyToolbar\"},\"toolbar_location\":\"above\"},\"id\":\"fd356ee0-e6f6-426b-9186-303086160a25\",\"type\":\"ToolbarBox\"},{\"attributes\":{\"bottom_units\":\"screen\",\"fill_alpha\":{\"value\":0.5},\"fill_color\":{\"value\":\"lightgrey\"},\"left_units\":\"screen\",\"level\":\"overlay\",\"line_alpha\":{\"value\":1.0},\"line_color\":{\"value\":\"black\"},\"line_dash\":[4,4],\"line_width\":{\"value\":2},\"plot\":null,\"render_mode\":\"css\",\"right_units\":\"screen\",\"top_units\":\"screen\"},\"id\":\"c5d9f682-64b0-4251-9718-cbbffcd38173\",\"type\":\"BoxAnnotation\"},{\"attributes\":{\"plot\":null,\"text\":\"\"},\"id\":\"69977e16-e8b9-4cec-a177-067b196db1cf\",\"type\":\"Title\"},{\"attributes\":{},\"id\":\"fc729c40-3c79-4b13-93da-6e39c4f9fc43\",\"type\":\"BasicTicker\"},{\"attributes\":{},\"id\":\"dc0bcdf8-e4de-44a8-90be-5bd128d922ff\",\"type\":\"Selection\"},{\"attributes\":{\"callback\":null},\"id\":\"dd47db84-d48c-49ce-a8a5-710ab6ef9534\",\"type\":\"DataRange1d\"},{\"attributes\":{},\"id\":\"27f7d349-71f2-4642-94b6-ee5bd7815410\",\"type\":\"SaveTool\"},{\"attributes\":{},\"id\":\"38c17e5d-faaf-427d-a422-b7db91bdff60\",\"type\":\"LinearScale\"},{\"attributes\":{\"plot\":null,\"text\":\"\"},\"id\":\"0a967b8d-b017-43ea-bf73-00bc0e8bdebc\",\"type\":\"Title\"},{\"attributes\":{\"below\":[{\"id\":\"4c65c2b2-dc9e-43c9-adba-e60ae07f63c5\",\"type\":\"LinearAxis\"}],\"left\":[{\"id\":\"efd24c1e-7268-4c7a-8371-9b3f9575ac69\",\"type\":\"LinearAxis\"}],\"plot_height\":200,\"plot_width\":200,\"renderers\":[{\"id\":\"4c65c2b2-dc9e-43c9-adba-e60ae07f63c5\",\"type\":\"LinearAxis\"},{\"id\":\"1dea0ef8-d446-4342-9732-52bf393d1b2a\",\"type\":\"Grid\"},{\"id\":\"efd24c1e-7268-4c7a-8371-9b3f9575ac69\",\"type\":\"LinearAxis\"},{\"id\":\"fd18060c-2c67-454d-8f1e-a76825dca1a6\",\"type\":\"Grid\"},{\"id\":\"c5d9f682-64b0-4251-9718-cbbffcd38173\",\"type\":\"BoxAnnotation\"},{\"id\":\"909c6292-3eaf-48db-860c-0df62408ae7f\",\"type\":\"GlyphRenderer\"}],\"sizing_mode\":\"stretch_both\",\"title\":{\"id\":\"0a967b8d-b017-43ea-bf73-00bc0e8bdebc\",\"type\":\"Title\"},\"toolbar\":{\"id\":\"c2be4b36-b873-478f-94cf-37eeaf15287b\",\"type\":\"Toolbar\"},\"toolbar_location\":null,\"x_range\":{\"id\":\"61dcbd28-8998-41c8-9cf2-ff7db10d7ff2\",\"type\":\"DataRange1d\"},\"x_scale\":{\"id\":\"38c17e5d-faaf-427d-a422-b7db91bdff60\",\"type\":\"LinearScale\"},\"y_range\":{\"id\":\"06c9bbb6-516c-4817-8e77-9a87c9df37c1\",\"type\":\"DataRange1d\"},\"y_scale\":{\"id\":\"a767b739-d166-491d-8ab8-71ad0a1edf56\",\"type\":\"LinearScale\"}},\"id\":\"de3dc8ae-ba16-4d2e-884c-26c736c2cd8b\",\"subtype\":\"Figure\",\"type\":\"Plot\"},{\"attributes\":{},\"id\":\"759d8eb3-b7e4-4f9f-8176-48e861612093\",\"type\":\"BasicTicker\"},{\"attributes\":{\"line_color\":\"blue\",\"line_width\":2,\"x\":{\"field\":\"x\"},\"y\":{\"field\":\"y\"}},\"id\":\"42e1b598-6c99-4172-bf58-e17b54d089fc\",\"type\":\"Line\"},{\"attributes\":{\"source\":{\"id\":\"33aa7585-e799-49d5-808f-4db7b29dd94b\",\"type\":\"ColumnDataSource\"}},\"id\":\"037e1a57-3028-4ff2-880d-42d4484443f1\",\"type\":\"CDSView\"},{\"attributes\":{\"source\":{\"id\":\"5357826c-eb5f-4617-a481-bc0c0175b976\",\"type\":\"ColumnDataSource\"}},\"id\":\"1f0bc041-6c8f-4088-9f75-526866772a03\",\"type\":\"CDSView\"},{\"attributes\":{\"formatter\":{\"id\":\"4d5f7d91-3b7b-49a4-8c4a-0ceede1d7a26\",\"type\":\"BasicTickFormatter\"},\"plot\":{\"id\":\"2247f23e-113d-4f2b-8343-fefa743bd292\",\"subtype\":\"Figure\",\"type\":\"Plot\"},\"ticker\":{\"id\":\"49079470-75dd-40e2-92bc-56c73cbbc5bb\",\"type\":\"BasicTicker\"}},\"id\":\"1ffa462b-ab90-4651-a366-800fecbb845b\",\"type\":\"LinearAxis\"},{\"attributes\":{},\"id\":\"9a5111d7-3b54-485c-8162-235181335631\",\"type\":\"BasicTickFormatter\"},{\"attributes\":{},\"id\":\"c07a4725-b580-41fc-8e80-31c0405e3f14\",\"type\":\"ResetTool\"},{\"attributes\":{\"active_drag\":\"auto\",\"active_inspect\":\"auto\",\"active_scroll\":\"auto\",\"active_tap\":\"auto\",\"tools\":[{\"id\":\"b9cc045d-9b53-4f55-a648-ac59bb45ce75\",\"type\":\"PanTool\"},{\"id\":\"de1068a9-dc86-4e1e-a506-0adb2434db4f\",\"type\":\"WheelZoomTool\"},{\"id\":\"e03dca7e-9bc6-4126-b8ba-b90b34f3fafa\",\"type\":\"BoxZoomTool\"},{\"id\":\"9e8c6d16-1e00-4995-a800-c7d4ee2c470c\",\"type\":\"SaveTool\"},{\"id\":\"55d786fb-d7ae-4759-afda-e94e79a366db\",\"type\":\"ResetTool\"},{\"id\":\"80b62c5a-8e57-478e-8d6f-8e7f700b44bb\",\"type\":\"HelpTool\"}]},\"id\":\"5cc75646-8078-4792-aba6-5ca470a2c2a8\",\"type\":\"Toolbar\"},{\"attributes\":{},\"id\":\"a07c5553-6b28-4e12-b1ba-f25383d37462\",\"type\":\"UnionRenderers\"},{\"attributes\":{\"formatter\":{\"id\":\"9a5111d7-3b54-485c-8162-235181335631\",\"type\":\"BasicTickFormatter\"},\"plot\":{\"id\":\"2247f23e-113d-4f2b-8343-fefa743bd292\",\"subtype\":\"Figure\",\"type\":\"Plot\"},\"ticker\":{\"id\":\"03e47426-30ed-4efe-96db-caba2f374309\",\"type\":\"BasicTicker\"}},\"id\":\"4a52d728-9922-4c72-a7a6-1c02ea501103\",\"type\":\"LinearAxis\"},{\"attributes\":{\"tools\":[{\"id\":\"153fbd6b-38a6-48e0-b082-2046126c3ba1\",\"type\":\"PanTool\"},{\"id\":\"18ee608e-fa73-46f3-8a63-5e4cade11ba0\",\"type\":\"WheelZoomTool\"},{\"id\":\"292b7798-0cb6-4e8b-921f-9cd8bc15464d\",\"type\":\"BoxZoomTool\"},{\"id\":\"ea3c71cb-c0ba-4932-9562-18ed4a7a08d3\",\"type\":\"SaveTool\"},{\"id\":\"c07a4725-b580-41fc-8e80-31c0405e3f14\",\"type\":\"ResetTool\"},{\"id\":\"10d2f07f-a3e1-40cd-9e7e-66f848e627e0\",\"type\":\"HelpTool\"},{\"id\":\"b6bf5945-c896-46e5-8008-13424158298a\",\"type\":\"PanTool\"},{\"id\":\"4a3cf626-ee78-4381-85c1-5e81d66b3065\",\"type\":\"WheelZoomTool\"},{\"id\":\"563080b9-5b06-4f81-a0d1-61d3c5294f43\",\"type\":\"BoxZoomTool\"},{\"id\":\"fd9c7cf6-e166-4943-955b-5d247cad11e8\",\"type\":\"SaveTool\"},{\"id\":\"4b510394-33aa-4888-a868-9cfa6df7e995\",\"type\":\"ResetTool\"},{\"id\":\"3acba9aa-4848-4903-99c4-6d7d98bd9ac2\",\"type\":\"HelpTool\"},{\"id\":\"b9cc045d-9b53-4f55-a648-ac59bb45ce75\",\"type\":\"PanTool\"},{\"id\":\"de1068a9-dc86-4e1e-a506-0adb2434db4f\",\"type\":\"WheelZoomTool\"},{\"id\":\"e03dca7e-9bc6-4126-b8ba-b90b34f3fafa\",\"type\":\"BoxZoomTool\"},{\"id\":\"9e8c6d16-1e00-4995-a800-c7d4ee2c470c\",\"type\":\"SaveTool\"},{\"id\":\"55d786fb-d7ae-4759-afda-e94e79a366db\",\"type\":\"ResetTool\"},{\"id\":\"80b62c5a-8e57-478e-8d6f-8e7f700b44bb\",\"type\":\"HelpTool\"},{\"id\":\"709b2838-ad46-44c2-a68f-111c09d0f747\",\"type\":\"PanTool\"},{\"id\":\"2800dc9a-913a-49af-b76f-7c53eaebfdca\",\"type\":\"WheelZoomTool\"},{\"id\":\"c5835f7f-0dd1-4aab-8285-c21883b6c28d\",\"type\":\"BoxZoomTool\"},{\"id\":\"27f7d349-71f2-4642-94b6-ee5bd7815410\",\"type\":\"SaveTool\"},{\"id\":\"8345c87b-9a83-4054-855f-181f8a5ba4a6\",\"type\":\"ResetTool\"},{\"id\":\"1f23aed1-9c11-430b-8c09-9303078e6ca3\",\"type\":\"HelpTool\"}]},\"id\":\"892de03d-c01b-426d-a783-5b6762babd99\",\"type\":\"ProxyToolbar\"},{\"attributes\":{},\"id\":\"8918eb02-83a9-4dc1-b3f5-559298db9375\",\"type\":\"BasicTickFormatter\"},{\"attributes\":{},\"id\":\"e1b4f784-43a6-4901-b409-deca18ed8e86\",\"type\":\"UnionRenderers\"},{\"attributes\":{},\"id\":\"18ee608e-fa73-46f3-8a63-5e4cade11ba0\",\"type\":\"WheelZoomTool\"},{\"attributes\":{},\"id\":\"87becf1c-5362-40ec-bb39-e7753988e36f\",\"type\":\"BasicTickFormatter\"},{\"attributes\":{},\"id\":\"b9cc045d-9b53-4f55-a648-ac59bb45ce75\",\"type\":\"PanTool\"},{\"attributes\":{},\"id\":\"2be25b9d-dbb6-41df-b9e0-d078697c58ac\",\"type\":\"BasicTickFormatter\"},{\"attributes\":{},\"id\":\"49aba486-0237-4f08-9dc0-79c10d6574c7\",\"type\":\"LinearScale\"},{\"attributes\":{},\"id\":\"6d28bd7e-0aa5-4dd8-a971-58cbf8151e58\",\"type\":\"Selection\"},{\"attributes\":{\"dimension\":1,\"plot\":{\"id\":\"2247f23e-113d-4f2b-8343-fefa743bd292\",\"subtype\":\"Figure\",\"type\":\"Plot\"},\"ticker\":{\"id\":\"03e47426-30ed-4efe-96db-caba2f374309\",\"type\":\"BasicTicker\"}},\"id\":\"cde8cfa6-2dd2-4f6d-9b41-0fb106dfffdc\",\"type\":\"Grid\"},{\"attributes\":{},\"id\":\"03e47426-30ed-4efe-96db-caba2f374309\",\"type\":\"BasicTicker\"},{\"attributes\":{},\"id\":\"63d5d314-fd14-4305-99ae-2427ccbc27bd\",\"type\":\"Selection\"},{\"attributes\":{\"callback\":null},\"id\":\"c31f8d8a-81ec-4cf5-b277-3ac7cfb08496\",\"type\":\"DataRange1d\"},{\"attributes\":{\"callback\":null},\"id\":\"8f275804-cfa9-4662-b46d-8ab92aac3ecc\",\"type\":\"DataRange1d\"},{\"attributes\":{},\"id\":\"1f23aed1-9c11-430b-8c09-9303078e6ca3\",\"type\":\"HelpTool\"},{\"attributes\":{},\"id\":\"3acba9aa-4848-4903-99c4-6d7d98bd9ac2\",\"type\":\"HelpTool\"},{\"attributes\":{},\"id\":\"c95f97b8-e221-4df1-9628-1815e7dbf176\",\"type\":\"LinearScale\"},{\"attributes\":{\"children\":[{\"id\":\"cc44b5ab-674f-4747-89ca-993495e4cd93\",\"type\":\"Row\"},{\"id\":\"d0962d5a-5cae-4dd7-b12e-46f90a4fb1d0\",\"type\":\"Row\"}],\"sizing_mode\":\"stretch_both\"},\"id\":\"7197b414-ba8b-4015-ac99-9338ecd82854\",\"type\":\"Column\"},{\"attributes\":{\"below\":[{\"id\":\"93feea37-a0b3-4269-991a-4280abf98a18\",\"type\":\"LinearAxis\"}],\"left\":[{\"id\":\"f3c19ad9-1045-4b50-abaa-ba8b9cceba0c\",\"type\":\"LogAxis\"}],\"plot_height\":200,\"plot_width\":200,\"renderers\":[{\"id\":\"93feea37-a0b3-4269-991a-4280abf98a18\",\"type\":\"LinearAxis\"},{\"id\":\"a324143f-562e-40a1-91e8-3fad58d84a17\",\"type\":\"Grid\"},{\"id\":\"f3c19ad9-1045-4b50-abaa-ba8b9cceba0c\",\"type\":\"LogAxis\"},{\"id\":\"b6d67c7c-d11e-4087-95c0-350522451011\",\"type\":\"Grid\"},{\"id\":\"2318e745-4770-4948-9a8a-949b02241b43\",\"type\":\"BoxAnnotation\"},{\"id\":\"a625166f-146e-4741-9b93-1886c1dfd6fa\",\"type\":\"GlyphRenderer\"}],\"sizing_mode\":\"stretch_both\",\"title\":{\"id\":\"2e848238-b036-476d-b87d-803cebb12cd8\",\"type\":\"Title\"},\"toolbar\":{\"id\":\"6e0c729d-4c8c-4695-89b1-56f4244203dd\",\"type\":\"Toolbar\"},\"toolbar_location\":null,\"x_range\":{\"id\":\"cd699ff6-da59-46b2-b551-d3bee98e4878\",\"type\":\"DataRange1d\"},\"x_scale\":{\"id\":\"284c185c-5209-4152-8f96-71b3ad5b20a3\",\"type\":\"LinearScale\"},\"y_range\":{\"id\":\"c94ca8b5-2e72-4ff2-a7da-e93e070d75bd\",\"type\":\"DataRange1d\"},\"y_scale\":{\"id\":\"935d8b1b-65b2-4b4a-9806-4d0491e2f6d4\",\"type\":\"LogScale\"}},\"id\":\"385a81e7-db1d-4073-bb59-84dadce4cc42\",\"subtype\":\"Figure\",\"type\":\"Plot\"},{\"attributes\":{\"callback\":null,\"data\":{\"x\":[1,2,3,4,5,6,7,8,9,10],\"y\":[10,9,8,7,6,5,4,3,2,1]},\"selected\":{\"id\":\"dc0bcdf8-e4de-44a8-90be-5bd128d922ff\",\"type\":\"Selection\"},\"selection_policy\":{\"id\":\"a07c5553-6b28-4e12-b1ba-f25383d37462\",\"type\":\"UnionRenderers\"}},\"id\":\"33aa7585-e799-49d5-808f-4db7b29dd94b\",\"type\":\"ColumnDataSource\"},{\"attributes\":{},\"id\":\"f69f3246-3128-46ee-88b2-c0dea8763290\",\"type\":\"BasicTickFormatter\"},{\"attributes\":{},\"id\":\"49079470-75dd-40e2-92bc-56c73cbbc5bb\",\"type\":\"BasicTicker\"}],\"root_ids\":[\"56dab982-7cd3-4225-9ae9-51419114af51\"]},\"title\":\"Bokeh Application\",\"version\":\"0.12.16\"}};\n",
       "  var render_items = [{\"docid\":\"51c71b01-f127-4429-8a34-8e9badf244c9\",\"elementid\":\"9e8d9f7e-538c-4256-91e0-b328577655ce\",\"modelid\":\"56dab982-7cd3-4225-9ae9-51419114af51\"}];\n",
       "  root.Bokeh.embed.embed_items_notebook(docs_json, render_items);\n",
       "\n",
       "  }\n",
       "  if (root.Bokeh !== undefined) {\n",
       "    embed_document(root);\n",
       "  } else {\n",
       "    var attempts = 0;\n",
       "    var timer = setInterval(function(root) {\n",
       "      if (root.Bokeh !== undefined) {\n",
       "        embed_document(root);\n",
       "        clearInterval(timer);\n",
       "      }\n",
       "      attempts++;\n",
       "      if (attempts > 100) {\n",
       "        console.log(\"Bokeh: ERROR: Unable to run BokehJS code because BokehJS library is missing\")\n",
       "        clearInterval(timer);\n",
       "      }\n",
       "    }, 10, root)\n",
       "  }\n",
       "})(window);"
      ],
      "application/vnd.bokehjs_exec.v0+json": ""
     },
     "metadata": {
      "application/vnd.bokehjs_exec.v0+json": {
       "id": "56dab982-7cd3-4225-9ae9-51419114af51"
      }
     },
     "output_type": "display_data"
    }
   ],
   "source": [
    "from bokeh.plotting import figure, output_file, show\n",
    "from bokeh.layouts import gridplot\n",
    "import math\n",
    "x=list(range(1,11))\n",
    "y1=x\n",
    "y2=[11-i for i in x]\n",
    "y3=[i*i for i in x]\n",
    "y4=[math.log10(i) for i in x]\n",
    "\n",
    "fig1 = figure(plot_width=200, plot_height=200)\n",
    "fig1.line(x, y1,line_width=2, line_color='blue')\n",
    "fig2 = figure(plot_width=200, plot_height=200)\n",
    "fig2.circle(x, y2,size=10, color='green')\n",
    "fig3=figure(plot_width=200, plot_height=200)\n",
    "fig3.circle(x,y3, size=10, color='grey')\n",
    "fig4=figure(plot_width=200, plot_height=200, y_axis_type='log')\n",
    "fig4.line(x,y4, line_width=2, line_color='red')\n",
    "grid = gridplot(children=[[fig1, fig2], [fig3,fig4]],\n",
    "sizing_mode='stretch_both')\n",
    "show(grid)"
   ]
  },
  {
   "cell_type": "markdown",
   "metadata": {},
   "source": [
    "## Widgets"
   ]
  },
  {
   "cell_type": "code",
   "execution_count": 56,
   "metadata": {},
   "outputs": [
    {
     "data": {
      "text/html": [
       "\n",
       "<div class=\"bk-root\">\n",
       "    <div class=\"bk-plotdiv\" id=\"a1922f62-86b5-4461-a66b-e740f12b5eff\"></div>\n",
       "</div>"
      ]
     },
     "metadata": {},
     "output_type": "display_data"
    },
    {
     "data": {
      "application/javascript": [
       "(function(root) {\n",
       "  function embed_document(root) {\n",
       "    \n",
       "  var docs_json = {\"065c927e-563a-45d9-9d18-1bb8d4c94181\":{\"roots\":{\"references\":[{\"attributes\":{\"bottom_units\":\"screen\",\"fill_alpha\":{\"value\":0.5},\"fill_color\":{\"value\":\"lightgrey\"},\"left_units\":\"screen\",\"level\":\"overlay\",\"line_alpha\":{\"value\":1.0},\"line_color\":{\"value\":\"black\"},\"line_dash\":[4,4],\"line_width\":{\"value\":2},\"plot\":null,\"render_mode\":\"css\",\"right_units\":\"screen\",\"top_units\":\"screen\"},\"id\":\"8e2da163-9a6c-4bd8-a312-9bc20a44b2d6\",\"type\":\"BoxAnnotation\"},{\"attributes\":{\"line_alpha\":0.6,\"line_color\":\"#1f77b4\",\"line_width\":3,\"x\":{\"field\":\"x\"},\"y\":{\"field\":\"y\"}},\"id\":\"4ad78357-a6b9-42f5-aef4-5210e440f3c8\",\"type\":\"Line\"},{\"attributes\":{\"source\":{\"id\":\"9383e79a-49bd-4e52-8823-57ef2b01dd83\",\"type\":\"ColumnDataSource\"}},\"id\":\"403aa2c6-683a-4ee8-b9bd-6f22b6b8e83c\",\"type\":\"CDSView\"},{\"attributes\":{},\"id\":\"71af097e-da32-4671-b068-ea91f72f3b9e\",\"type\":\"UnionRenderers\"},{\"attributes\":{\"children\":[{\"id\":\"3abf9bef-077f-45a0-bdab-8a7fb32747df\",\"type\":\"WidgetBox\"},{\"id\":\"508b196a-4ea9-4d10-9e67-789635f79a99\",\"subtype\":\"Figure\",\"type\":\"Plot\"}]},\"id\":\"981295e1-155f-44a1-8f68-26ca048fabf8\",\"type\":\"Column\"},{\"attributes\":{\"data_source\":{\"id\":\"9383e79a-49bd-4e52-8823-57ef2b01dd83\",\"type\":\"ColumnDataSource\"},\"glyph\":{\"id\":\"4ad78357-a6b9-42f5-aef4-5210e440f3c8\",\"type\":\"Line\"},\"hover_glyph\":null,\"muted_glyph\":null,\"nonselection_glyph\":{\"id\":\"c0b96134-afe9-4c19-8b4f-c652a8734274\",\"type\":\"Line\"},\"selection_glyph\":null,\"view\":{\"id\":\"403aa2c6-683a-4ee8-b9bd-6f22b6b8e83c\",\"type\":\"CDSView\"}},\"id\":\"18dd8f58-9550-4448-b097-48a7fa1c51e1\",\"type\":\"GlyphRenderer\"},{\"attributes\":{\"plot\":null,\"text\":\"\"},\"id\":\"fd044cb6-d76c-4b9c-9317-b3bbe3a1866d\",\"type\":\"Title\"},{\"attributes\":{},\"id\":\"5e27109b-9729-490b-9a99-3abd8d6c7d23\",\"type\":\"HelpTool\"},{\"attributes\":{},\"id\":\"97f895bf-4ed2-4417-a562-76d71f0117a0\",\"type\":\"WheelZoomTool\"},{\"attributes\":{},\"id\":\"d48ee991-e073-4f56-8555-99beebd611de\",\"type\":\"LinearScale\"},{\"attributes\":{\"children\":[{\"id\":\"e0ad218b-ec45-477c-a8c2-debd99dc99e4\",\"type\":\"Button\"}]},\"id\":\"3abf9bef-077f-45a0-bdab-8a7fb32747df\",\"type\":\"WidgetBox\"},{\"attributes\":{\"callback\":null,\"data\":{\"x\":[0.0,0.05,0.1,0.15000000000000002,0.2,0.25,0.30000000000000004,0.35000000000000003,0.4,0.45,0.5,0.55,0.6000000000000001,0.65,0.7000000000000001,0.75,0.8,0.8500000000000001,0.9,0.9500000000000001,1.0,1.05,1.1,1.1500000000000001,1.2000000000000002,1.25,1.3,1.35,1.4000000000000001,1.4500000000000002,1.5,1.55,1.6,1.6500000000000001,1.7000000000000002,1.75,1.8,1.85,1.9000000000000001,1.9500000000000002,2.0,2.0500000000000003,2.1,2.15,2.2,2.25,2.3000000000000003,2.35,2.4000000000000004,2.45,2.5,2.5500000000000003,2.6,2.6500000000000004,2.7,2.75,2.8000000000000003,2.85,2.9000000000000004,2.95,3.0,3.0500000000000003,3.1,3.1500000000000004,3.2,3.25,3.3000000000000003,3.35,3.4000000000000004,3.45,3.5,3.5500000000000003,3.6,3.6500000000000004,3.7,3.75,3.8000000000000003,3.85,3.9000000000000004,3.95,4.0,4.05,4.1000000000000005,4.15,4.2,4.25,4.3,4.3500000000000005,4.4,4.45,4.5,4.55,4.6000000000000005,4.65,4.7,4.75,4.800000000000001,4.8500000000000005,4.9,4.95,5.0,5.050000000000001,5.1000000000000005,5.15,5.2,5.25,5.300000000000001,5.3500000000000005,5.4,5.45,5.5,5.550000000000001,5.6000000000000005,5.65,5.7,5.75,5.800000000000001,5.8500000000000005,5.9,5.95,6.0,6.050000000000001,6.1000000000000005,6.15,6.2,6.25,6.300000000000001,6.3500000000000005,6.4,6.45,6.5,6.550000000000001,6.6000000000000005,6.65,6.7,6.75,6.800000000000001,6.8500000000000005,6.9,6.95,7.0,7.050000000000001,7.1000000000000005,7.15,7.2,7.25,7.300000000000001,7.3500000000000005,7.4,7.45,7.5,7.550000000000001,7.6000000000000005,7.65,7.7,7.75,7.800000000000001,7.8500000000000005,7.9,7.95,8.0,8.05,8.1,8.15,8.200000000000001,8.25,8.3,8.35,8.4,8.450000000000001,8.5,8.55,8.6,8.65,8.700000000000001,8.75,8.8,8.85,8.9,8.950000000000001,9.0,9.05,9.1,9.15,9.200000000000001,9.25,9.3,9.35,9.4,9.450000000000001,9.5,9.55,9.600000000000001,9.65,9.700000000000001,9.75,9.8,9.850000000000001,9.9,9.950000000000001],\"y\":[0.0,0.05,0.1,0.15000000000000002,0.2,0.25,0.30000000000000004,0.35000000000000003,0.4,0.45,0.5,0.55,0.6000000000000001,0.65,0.7000000000000001,0.75,0.8,0.8500000000000001,0.9,0.9500000000000001,1.0,1.05,1.1,1.1500000000000001,1.2000000000000002,1.25,1.3,1.35,1.4000000000000001,1.4500000000000002,1.5,1.55,1.6,1.6500000000000001,1.7000000000000002,1.75,1.8,1.85,1.9000000000000001,1.9500000000000002,2.0,2.0500000000000003,2.1,2.15,2.2,2.25,2.3000000000000003,2.35,2.4000000000000004,2.45,2.5,2.5500000000000003,2.6,2.6500000000000004,2.7,2.75,2.8000000000000003,2.85,2.9000000000000004,2.95,3.0,3.0500000000000003,3.1,3.1500000000000004,3.2,3.25,3.3000000000000003,3.35,3.4000000000000004,3.45,3.5,3.5500000000000003,3.6,3.6500000000000004,3.7,3.75,3.8000000000000003,3.85,3.9000000000000004,3.95,4.0,4.05,4.1000000000000005,4.15,4.2,4.25,4.3,4.3500000000000005,4.4,4.45,4.5,4.55,4.6000000000000005,4.65,4.7,4.75,4.800000000000001,4.8500000000000005,4.9,4.95,5.0,5.050000000000001,5.1000000000000005,5.15,5.2,5.25,5.300000000000001,5.3500000000000005,5.4,5.45,5.5,5.550000000000001,5.6000000000000005,5.65,5.7,5.75,5.800000000000001,5.8500000000000005,5.9,5.95,6.0,6.050000000000001,6.1000000000000005,6.15,6.2,6.25,6.300000000000001,6.3500000000000005,6.4,6.45,6.5,6.550000000000001,6.6000000000000005,6.65,6.7,6.75,6.800000000000001,6.8500000000000005,6.9,6.95,7.0,7.050000000000001,7.1000000000000005,7.15,7.2,7.25,7.300000000000001,7.3500000000000005,7.4,7.45,7.5,7.550000000000001,7.6000000000000005,7.65,7.7,7.75,7.800000000000001,7.8500000000000005,7.9,7.95,8.0,8.05,8.1,8.15,8.200000000000001,8.25,8.3,8.35,8.4,8.450000000000001,8.5,8.55,8.6,8.65,8.700000000000001,8.75,8.8,8.85,8.9,8.950000000000001,9.0,9.05,9.1,9.15,9.200000000000001,9.25,9.3,9.35,9.4,9.450000000000001,9.5,9.55,9.600000000000001,9.65,9.700000000000001,9.75,9.8,9.850000000000001,9.9,9.950000000000001]},\"selected\":{\"id\":\"a607d4a3-9d1a-4beb-8b20-493f3c98a6fb\",\"type\":\"Selection\"},\"selection_policy\":{\"id\":\"71af097e-da32-4671-b068-ea91f72f3b9e\",\"type\":\"UnionRenderers\"}},\"id\":\"9383e79a-49bd-4e52-8823-57ef2b01dd83\",\"type\":\"ColumnDataSource\"},{\"attributes\":{\"line_alpha\":0.1,\"line_color\":\"#1f77b4\",\"line_width\":3,\"x\":{\"field\":\"x\"},\"y\":{\"field\":\"y\"}},\"id\":\"c0b96134-afe9-4c19-8b4f-c652a8734274\",\"type\":\"Line\"},{\"attributes\":{},\"id\":\"075a3164-cdeb-43cc-b541-210e38b3ce0a\",\"type\":\"BasicTicker\"},{\"attributes\":{\"plot\":{\"id\":\"508b196a-4ea9-4d10-9e67-789635f79a99\",\"subtype\":\"Figure\",\"type\":\"Plot\"},\"ticker\":{\"id\":\"e7a1a127-f0e4-4e00-9f82-df6fbe086b79\",\"type\":\"BasicTicker\"}},\"id\":\"73edcc44-b376-451b-a1a6-a312c0c820f4\",\"type\":\"Grid\"},{\"attributes\":{},\"id\":\"a607d4a3-9d1a-4beb-8b20-493f3c98a6fb\",\"type\":\"Selection\"},{\"attributes\":{\"callback\":{\"id\":\"efae4653-76d0-401e-8cd7-dc18bfb24b16\",\"type\":\"CustomJS\"},\"icon\":null,\"label\":\"click here\",\"name\":\"1\"},\"id\":\"e0ad218b-ec45-477c-a8c2-debd99dc99e4\",\"type\":\"Button\"},{\"attributes\":{},\"id\":\"9062e65a-50e1-4dde-bb88-958960dc9768\",\"type\":\"PanTool\"},{\"attributes\":{},\"id\":\"e534cd66-eab2-4106-ad93-293ff298c0c0\",\"type\":\"SaveTool\"},{\"attributes\":{},\"id\":\"7bf57790-753a-4a70-9716-08cf0bdcfdcd\",\"type\":\"BasicTickFormatter\"},{\"attributes\":{},\"id\":\"743e9542-0d27-4ad9-a200-fffe3c7d3a5a\",\"type\":\"ResetTool\"},{\"attributes\":{\"active_drag\":\"auto\",\"active_inspect\":\"auto\",\"active_scroll\":\"auto\",\"active_tap\":\"auto\",\"tools\":[{\"id\":\"9062e65a-50e1-4dde-bb88-958960dc9768\",\"type\":\"PanTool\"},{\"id\":\"97f895bf-4ed2-4417-a562-76d71f0117a0\",\"type\":\"WheelZoomTool\"},{\"id\":\"52016209-b5e0-41dd-9345-f6dcf344a98b\",\"type\":\"BoxZoomTool\"},{\"id\":\"e534cd66-eab2-4106-ad93-293ff298c0c0\",\"type\":\"SaveTool\"},{\"id\":\"743e9542-0d27-4ad9-a200-fffe3c7d3a5a\",\"type\":\"ResetTool\"},{\"id\":\"5e27109b-9729-490b-9a99-3abd8d6c7d23\",\"type\":\"HelpTool\"}]},\"id\":\"7b361736-2598-4351-9a00-40e6409cc957\",\"type\":\"Toolbar\"},{\"attributes\":{\"args\":{\"source\":{\"id\":\"9383e79a-49bd-4e52-8823-57ef2b01dd83\",\"type\":\"ColumnDataSource\"}},\"code\":\"\\n var data = source.data;\\n x = data['x']\\n y = data['y']\\n for (i = 0; i < x.length; i++) {\\n y[i] = Math.pow(x[i], 4)\\n }\\n source.change.emit();\\n\"},\"id\":\"efae4653-76d0-401e-8cd7-dc18bfb24b16\",\"type\":\"CustomJS\"},{\"attributes\":{},\"id\":\"e7a1a127-f0e4-4e00-9f82-df6fbe086b79\",\"type\":\"BasicTicker\"},{\"attributes\":{},\"id\":\"e4557424-50d3-4362-829b-d658910063f6\",\"type\":\"BasicTickFormatter\"},{\"attributes\":{\"callback\":null},\"id\":\"9851b45b-e189-4441-8108-58370b118dca\",\"type\":\"DataRange1d\"},{\"attributes\":{\"below\":[{\"id\":\"a5ec8f7c-cdec-44bd-bcbc-c26fe384d371\",\"type\":\"LinearAxis\"}],\"left\":[{\"id\":\"4d7aa1e1-7413-4ddd-ba54-7bdbe6f83ec4\",\"type\":\"LinearAxis\"}],\"plot_height\":400,\"plot_width\":400,\"renderers\":[{\"id\":\"a5ec8f7c-cdec-44bd-bcbc-c26fe384d371\",\"type\":\"LinearAxis\"},{\"id\":\"73edcc44-b376-451b-a1a6-a312c0c820f4\",\"type\":\"Grid\"},{\"id\":\"4d7aa1e1-7413-4ddd-ba54-7bdbe6f83ec4\",\"type\":\"LinearAxis\"},{\"id\":\"b1767ce0-8887-42b2-b57b-d6c44cf831e7\",\"type\":\"Grid\"},{\"id\":\"8e2da163-9a6c-4bd8-a312-9bc20a44b2d6\",\"type\":\"BoxAnnotation\"},{\"id\":\"18dd8f58-9550-4448-b097-48a7fa1c51e1\",\"type\":\"GlyphRenderer\"}],\"title\":{\"id\":\"fd044cb6-d76c-4b9c-9317-b3bbe3a1866d\",\"type\":\"Title\"},\"toolbar\":{\"id\":\"7b361736-2598-4351-9a00-40e6409cc957\",\"type\":\"Toolbar\"},\"x_range\":{\"id\":\"da80a1c6-acf1-46db-b51f-c2de108331a6\",\"type\":\"DataRange1d\"},\"x_scale\":{\"id\":\"d48ee991-e073-4f56-8555-99beebd611de\",\"type\":\"LinearScale\"},\"y_range\":{\"id\":\"9851b45b-e189-4441-8108-58370b118dca\",\"type\":\"DataRange1d\"},\"y_scale\":{\"id\":\"069d05c5-8d2e-4456-a1cf-f61f9bd5c745\",\"type\":\"LinearScale\"}},\"id\":\"508b196a-4ea9-4d10-9e67-789635f79a99\",\"subtype\":\"Figure\",\"type\":\"Plot\"},{\"attributes\":{\"dimension\":1,\"plot\":{\"id\":\"508b196a-4ea9-4d10-9e67-789635f79a99\",\"subtype\":\"Figure\",\"type\":\"Plot\"},\"ticker\":{\"id\":\"075a3164-cdeb-43cc-b541-210e38b3ce0a\",\"type\":\"BasicTicker\"}},\"id\":\"b1767ce0-8887-42b2-b57b-d6c44cf831e7\",\"type\":\"Grid\"},{\"attributes\":{\"overlay\":{\"id\":\"8e2da163-9a6c-4bd8-a312-9bc20a44b2d6\",\"type\":\"BoxAnnotation\"}},\"id\":\"52016209-b5e0-41dd-9345-f6dcf344a98b\",\"type\":\"BoxZoomTool\"},{\"attributes\":{},\"id\":\"069d05c5-8d2e-4456-a1cf-f61f9bd5c745\",\"type\":\"LinearScale\"},{\"attributes\":{\"formatter\":{\"id\":\"7bf57790-753a-4a70-9716-08cf0bdcfdcd\",\"type\":\"BasicTickFormatter\"},\"plot\":{\"id\":\"508b196a-4ea9-4d10-9e67-789635f79a99\",\"subtype\":\"Figure\",\"type\":\"Plot\"},\"ticker\":{\"id\":\"e7a1a127-f0e4-4e00-9f82-df6fbe086b79\",\"type\":\"BasicTicker\"}},\"id\":\"a5ec8f7c-cdec-44bd-bcbc-c26fe384d371\",\"type\":\"LinearAxis\"},{\"attributes\":{\"callback\":null},\"id\":\"da80a1c6-acf1-46db-b51f-c2de108331a6\",\"type\":\"DataRange1d\"},{\"attributes\":{\"formatter\":{\"id\":\"e4557424-50d3-4362-829b-d658910063f6\",\"type\":\"BasicTickFormatter\"},\"plot\":{\"id\":\"508b196a-4ea9-4d10-9e67-789635f79a99\",\"subtype\":\"Figure\",\"type\":\"Plot\"},\"ticker\":{\"id\":\"075a3164-cdeb-43cc-b541-210e38b3ce0a\",\"type\":\"BasicTicker\"}},\"id\":\"4d7aa1e1-7413-4ddd-ba54-7bdbe6f83ec4\",\"type\":\"LinearAxis\"}],\"root_ids\":[\"981295e1-155f-44a1-8f68-26ca048fabf8\"]},\"title\":\"Bokeh Application\",\"version\":\"0.12.16\"}};\n",
       "  var render_items = [{\"docid\":\"065c927e-563a-45d9-9d18-1bb8d4c94181\",\"elementid\":\"a1922f62-86b5-4461-a66b-e740f12b5eff\",\"modelid\":\"981295e1-155f-44a1-8f68-26ca048fabf8\"}];\n",
       "  root.Bokeh.embed.embed_items_notebook(docs_json, render_items);\n",
       "\n",
       "  }\n",
       "  if (root.Bokeh !== undefined) {\n",
       "    embed_document(root);\n",
       "  } else {\n",
       "    var attempts = 0;\n",
       "    var timer = setInterval(function(root) {\n",
       "      if (root.Bokeh !== undefined) {\n",
       "        embed_document(root);\n",
       "        clearInterval(timer);\n",
       "      }\n",
       "      attempts++;\n",
       "      if (attempts > 100) {\n",
       "        console.log(\"Bokeh: ERROR: Unable to run BokehJS code because BokehJS library is missing\")\n",
       "        clearInterval(timer);\n",
       "      }\n",
       "    }, 10, root)\n",
       "  }\n",
       "})(window);"
      ],
      "application/vnd.bokehjs_exec.v0+json": ""
     },
     "metadata": {
      "application/vnd.bokehjs_exec.v0+json": {
       "id": "981295e1-155f-44a1-8f68-26ca048fabf8"
      }
     },
     "output_type": "display_data"
    }
   ],
   "source": [
    "from bokeh.layouts import column\n",
    "from bokeh.models import CustomJS, ColumnDataSource\n",
    "from bokeh.plotting import Figure, output_file, show\n",
    "from bokeh.models.widgets import Button\n",
    "x = [x*0.05 for x in range(0, 200)]\n",
    "y = x\n",
    "source = ColumnDataSource(data=dict(x=x, y=y))\n",
    "plot = Figure(plot_width=400, plot_height=400)\n",
    "plot.line('x', 'y', source=source, line_width=3, line_alpha=0.6)\n",
    "callback = CustomJS(args=dict(source=source), code=\"\"\"\n",
    " var data = source.data;\n",
    " x = data['x']\n",
    " y = data['y']\n",
    " for (i = 0; i < x.length; i++) {\n",
    " y[i] = Math.pow(x[i], 4)\n",
    " }\n",
    " source.change.emit();\n",
    "\"\"\")\n",
    "btn = Button(label=\"click here\", callback=callback, name=\"1\")\n",
    "layout = column(btn , plot)\n",
    "show(layout)\n"
   ]
  },
  {
   "cell_type": "code",
   "execution_count": 57,
   "metadata": {},
   "outputs": [
    {
     "data": {
      "text/html": [
       "\n",
       "<div class=\"bk-root\">\n",
       "    <div class=\"bk-plotdiv\" id=\"c519c530-0b76-4f4e-bcca-b09ba7e733a3\"></div>\n",
       "</div>"
      ]
     },
     "metadata": {},
     "output_type": "display_data"
    },
    {
     "data": {
      "application/javascript": [
       "(function(root) {\n",
       "  function embed_document(root) {\n",
       "    \n",
       "  var docs_json = {\"840b1dee-b4e2-453a-b6e5-2e1187a7983c\":{\"roots\":{\"references\":[{\"attributes\":{\"children\":[{\"id\":\"2683cbb9-a204-4104-82af-899c4c451f32\",\"type\":\"WidgetBox\"},{\"id\":\"ea917ee7-6df7-4b10-a469-a830172f7a4e\",\"subtype\":\"Figure\",\"type\":\"Plot\"}]},\"id\":\"5cff6dd1-d652-4c12-8d68-59def7e6adb3\",\"type\":\"Column\"},{\"attributes\":{},\"id\":\"59d0774f-81b5-46f1-88b7-dac14725d9d7\",\"type\":\"ResetTool\"},{\"attributes\":{},\"id\":\"6f6fdafc-203e-4c40-9259-0af28cc71ae8\",\"type\":\"HelpTool\"},{\"attributes\":{},\"id\":\"64e2e949-849b-4223-b737-b7d23db65587\",\"type\":\"BasicTicker\"},{\"attributes\":{\"overlay\":{\"id\":\"ca9f751f-3810-45f6-863a-c4c321183efa\",\"type\":\"BoxAnnotation\"}},\"id\":\"6ef615bc-6946-499e-815f-dab8294d3448\",\"type\":\"BoxZoomTool\"},{\"attributes\":{},\"id\":\"a441396f-c48c-4e7a-8332-b744ce266cd8\",\"type\":\"Selection\"},{\"attributes\":{\"data_source\":{\"id\":\"e101c744-ab7c-41ef-8f80-40a9128232c6\",\"type\":\"ColumnDataSource\"},\"glyph\":{\"id\":\"b5d167b3-dec4-4d44-b473-a26751a00488\",\"type\":\"Line\"},\"hover_glyph\":null,\"muted_glyph\":null,\"nonselection_glyph\":{\"id\":\"c421bdd6-ece7-4590-97b0-4695bfff8a42\",\"type\":\"Line\"},\"selection_glyph\":null,\"view\":{\"id\":\"09e7d099-ef87-4d56-a796-d8a420dfa33e\",\"type\":\"CDSView\"}},\"id\":\"81f2e42d-b08e-4f25-b276-bb88a8ae85ce\",\"type\":\"GlyphRenderer\"},{\"attributes\":{\"callback\":null,\"end\":5,\"js_property_callbacks\":{\"change:value\":[{\"id\":\"8a5ad70f-9c99-453e-a8a7-dec1a2b38d4d\",\"type\":\"CustomJS\"}]},\"start\":0.0,\"step\":0.25,\"title\":\"Slider Value\",\"value\":1},\"id\":\"eab8b26a-53a5-4f04-93ce-7c8ca5502850\",\"type\":\"Slider\"},{\"attributes\":{},\"id\":\"06c3b4f6-0698-406f-8989-58a211a0d265\",\"type\":\"LinearScale\"},{\"attributes\":{\"line_alpha\":0.6,\"line_color\":\"#1f77b4\",\"line_width\":3,\"x\":{\"field\":\"x\"},\"y\":{\"field\":\"y\"}},\"id\":\"b5d167b3-dec4-4d44-b473-a26751a00488\",\"type\":\"Line\"},{\"attributes\":{\"callback\":null},\"id\":\"2b6a3567-8e4e-4a74-b62d-64bd4dbf2757\",\"type\":\"DataRange1d\"},{\"attributes\":{\"callback\":null,\"data\":{\"x\":[0.0,0.05,0.1,0.15000000000000002,0.2,0.25,0.30000000000000004,0.35000000000000003,0.4,0.45,0.5,0.55,0.6000000000000001,0.65,0.7000000000000001,0.75,0.8,0.8500000000000001,0.9,0.9500000000000001,1.0,1.05,1.1,1.1500000000000001,1.2000000000000002,1.25,1.3,1.35,1.4000000000000001,1.4500000000000002,1.5,1.55,1.6,1.6500000000000001,1.7000000000000002,1.75,1.8,1.85,1.9000000000000001,1.9500000000000002,2.0,2.0500000000000003,2.1,2.15,2.2,2.25,2.3000000000000003,2.35,2.4000000000000004,2.45,2.5,2.5500000000000003,2.6,2.6500000000000004,2.7,2.75,2.8000000000000003,2.85,2.9000000000000004,2.95,3.0,3.0500000000000003,3.1,3.1500000000000004,3.2,3.25,3.3000000000000003,3.35,3.4000000000000004,3.45,3.5,3.5500000000000003,3.6,3.6500000000000004,3.7,3.75,3.8000000000000003,3.85,3.9000000000000004,3.95,4.0,4.05,4.1000000000000005,4.15,4.2,4.25,4.3,4.3500000000000005,4.4,4.45,4.5,4.55,4.6000000000000005,4.65,4.7,4.75,4.800000000000001,4.8500000000000005,4.9,4.95,5.0,5.050000000000001,5.1000000000000005,5.15,5.2,5.25,5.300000000000001,5.3500000000000005,5.4,5.45,5.5,5.550000000000001,5.6000000000000005,5.65,5.7,5.75,5.800000000000001,5.8500000000000005,5.9,5.95,6.0,6.050000000000001,6.1000000000000005,6.15,6.2,6.25,6.300000000000001,6.3500000000000005,6.4,6.45,6.5,6.550000000000001,6.6000000000000005,6.65,6.7,6.75,6.800000000000001,6.8500000000000005,6.9,6.95,7.0,7.050000000000001,7.1000000000000005,7.15,7.2,7.25,7.300000000000001,7.3500000000000005,7.4,7.45,7.5,7.550000000000001,7.6000000000000005,7.65,7.7,7.75,7.800000000000001,7.8500000000000005,7.9,7.95,8.0,8.05,8.1,8.15,8.200000000000001,8.25,8.3,8.35,8.4,8.450000000000001,8.5,8.55,8.6,8.65,8.700000000000001,8.75,8.8,8.85,8.9,8.950000000000001,9.0,9.05,9.1,9.15,9.200000000000001,9.25,9.3,9.35,9.4,9.450000000000001,9.5,9.55,9.600000000000001,9.65,9.700000000000001,9.75,9.8,9.850000000000001,9.9,9.950000000000001],\"y\":[0.0,0.05,0.1,0.15000000000000002,0.2,0.25,0.30000000000000004,0.35000000000000003,0.4,0.45,0.5,0.55,0.6000000000000001,0.65,0.7000000000000001,0.75,0.8,0.8500000000000001,0.9,0.9500000000000001,1.0,1.05,1.1,1.1500000000000001,1.2000000000000002,1.25,1.3,1.35,1.4000000000000001,1.4500000000000002,1.5,1.55,1.6,1.6500000000000001,1.7000000000000002,1.75,1.8,1.85,1.9000000000000001,1.9500000000000002,2.0,2.0500000000000003,2.1,2.15,2.2,2.25,2.3000000000000003,2.35,2.4000000000000004,2.45,2.5,2.5500000000000003,2.6,2.6500000000000004,2.7,2.75,2.8000000000000003,2.85,2.9000000000000004,2.95,3.0,3.0500000000000003,3.1,3.1500000000000004,3.2,3.25,3.3000000000000003,3.35,3.4000000000000004,3.45,3.5,3.5500000000000003,3.6,3.6500000000000004,3.7,3.75,3.8000000000000003,3.85,3.9000000000000004,3.95,4.0,4.05,4.1000000000000005,4.15,4.2,4.25,4.3,4.3500000000000005,4.4,4.45,4.5,4.55,4.6000000000000005,4.65,4.7,4.75,4.800000000000001,4.8500000000000005,4.9,4.95,5.0,5.050000000000001,5.1000000000000005,5.15,5.2,5.25,5.300000000000001,5.3500000000000005,5.4,5.45,5.5,5.550000000000001,5.6000000000000005,5.65,5.7,5.75,5.800000000000001,5.8500000000000005,5.9,5.95,6.0,6.050000000000001,6.1000000000000005,6.15,6.2,6.25,6.300000000000001,6.3500000000000005,6.4,6.45,6.5,6.550000000000001,6.6000000000000005,6.65,6.7,6.75,6.800000000000001,6.8500000000000005,6.9,6.95,7.0,7.050000000000001,7.1000000000000005,7.15,7.2,7.25,7.300000000000001,7.3500000000000005,7.4,7.45,7.5,7.550000000000001,7.6000000000000005,7.65,7.7,7.75,7.800000000000001,7.8500000000000005,7.9,7.95,8.0,8.05,8.1,8.15,8.200000000000001,8.25,8.3,8.35,8.4,8.450000000000001,8.5,8.55,8.6,8.65,8.700000000000001,8.75,8.8,8.85,8.9,8.950000000000001,9.0,9.05,9.1,9.15,9.200000000000001,9.25,9.3,9.35,9.4,9.450000000000001,9.5,9.55,9.600000000000001,9.65,9.700000000000001,9.75,9.8,9.850000000000001,9.9,9.950000000000001]},\"selected\":{\"id\":\"a441396f-c48c-4e7a-8332-b744ce266cd8\",\"type\":\"Selection\"},\"selection_policy\":{\"id\":\"32873e68-a51f-4845-bb73-ee15b81402bc\",\"type\":\"UnionRenderers\"}},\"id\":\"e101c744-ab7c-41ef-8f80-40a9128232c6\",\"type\":\"ColumnDataSource\"},{\"attributes\":{},\"id\":\"adfb3d30-3d56-4c26-aa35-b9467ed38b60\",\"type\":\"BasicTickFormatter\"},{\"attributes\":{\"line_alpha\":0.1,\"line_color\":\"#1f77b4\",\"line_width\":3,\"x\":{\"field\":\"x\"},\"y\":{\"field\":\"y\"}},\"id\":\"c421bdd6-ece7-4590-97b0-4695bfff8a42\",\"type\":\"Line\"},{\"attributes\":{\"active_drag\":\"auto\",\"active_inspect\":\"auto\",\"active_scroll\":\"auto\",\"active_tap\":\"auto\",\"tools\":[{\"id\":\"aaef0897-59c4-4583-bca0-d98c11d207d7\",\"type\":\"PanTool\"},{\"id\":\"1c8381f4-290c-44ac-a8bc-557b8b08d202\",\"type\":\"WheelZoomTool\"},{\"id\":\"6ef615bc-6946-499e-815f-dab8294d3448\",\"type\":\"BoxZoomTool\"},{\"id\":\"f19e57e0-9f8d-4787-928f-9af7eda6deee\",\"type\":\"SaveTool\"},{\"id\":\"59d0774f-81b5-46f1-88b7-dac14725d9d7\",\"type\":\"ResetTool\"},{\"id\":\"6f6fdafc-203e-4c40-9259-0af28cc71ae8\",\"type\":\"HelpTool\"}]},\"id\":\"895f3968-94f0-4484-b1ae-5b825e41a9fb\",\"type\":\"Toolbar\"},{\"attributes\":{\"bottom_units\":\"screen\",\"fill_alpha\":{\"value\":0.5},\"fill_color\":{\"value\":\"lightgrey\"},\"left_units\":\"screen\",\"level\":\"overlay\",\"line_alpha\":{\"value\":1.0},\"line_color\":{\"value\":\"black\"},\"line_dash\":[4,4],\"line_width\":{\"value\":2},\"plot\":null,\"render_mode\":\"css\",\"right_units\":\"screen\",\"top_units\":\"screen\"},\"id\":\"ca9f751f-3810-45f6-863a-c4c321183efa\",\"type\":\"BoxAnnotation\"},{\"attributes\":{},\"id\":\"aaef0897-59c4-4583-bca0-d98c11d207d7\",\"type\":\"PanTool\"},{\"attributes\":{\"children\":[{\"id\":\"eab8b26a-53a5-4f04-93ce-7c8ca5502850\",\"type\":\"Slider\"}]},\"id\":\"2683cbb9-a204-4104-82af-899c4c451f32\",\"type\":\"WidgetBox\"},{\"attributes\":{\"plot\":{\"id\":\"ea917ee7-6df7-4b10-a469-a830172f7a4e\",\"subtype\":\"Figure\",\"type\":\"Plot\"},\"ticker\":{\"id\":\"64e2e949-849b-4223-b737-b7d23db65587\",\"type\":\"BasicTicker\"}},\"id\":\"5e415edf-5fca-4665-9075-bb98347a7912\",\"type\":\"Grid\"},{\"attributes\":{},\"id\":\"32873e68-a51f-4845-bb73-ee15b81402bc\",\"type\":\"UnionRenderers\"},{\"attributes\":{},\"id\":\"f19e57e0-9f8d-4787-928f-9af7eda6deee\",\"type\":\"SaveTool\"},{\"attributes\":{\"formatter\":{\"id\":\"adfb3d30-3d56-4c26-aa35-b9467ed38b60\",\"type\":\"BasicTickFormatter\"},\"plot\":{\"id\":\"ea917ee7-6df7-4b10-a469-a830172f7a4e\",\"subtype\":\"Figure\",\"type\":\"Plot\"},\"ticker\":{\"id\":\"f68218c1-1080-460d-bc26-1fcf534007af\",\"type\":\"BasicTicker\"}},\"id\":\"c7b9198e-db40-4d8d-85d8-5eb183fe55c7\",\"type\":\"LinearAxis\"},{\"attributes\":{\"plot\":null,\"text\":\"\"},\"id\":\"b9b17bff-974c-480e-a158-49af6acc87da\",\"type\":\"Title\"},{\"attributes\":{},\"id\":\"1c8381f4-290c-44ac-a8bc-557b8b08d202\",\"type\":\"WheelZoomTool\"},{\"attributes\":{\"formatter\":{\"id\":\"754b5776-af65-4d55-9847-3a9849b10a42\",\"type\":\"BasicTickFormatter\"},\"plot\":{\"id\":\"ea917ee7-6df7-4b10-a469-a830172f7a4e\",\"subtype\":\"Figure\",\"type\":\"Plot\"},\"ticker\":{\"id\":\"64e2e949-849b-4223-b737-b7d23db65587\",\"type\":\"BasicTicker\"}},\"id\":\"c8ce41b4-7a04-4e6e-a2dd-6e0513c8b5f6\",\"type\":\"LinearAxis\"},{\"attributes\":{},\"id\":\"2f042031-1ec5-4043-a043-e88a78b2ba4f\",\"type\":\"LinearScale\"},{\"attributes\":{\"dimension\":1,\"plot\":{\"id\":\"ea917ee7-6df7-4b10-a469-a830172f7a4e\",\"subtype\":\"Figure\",\"type\":\"Plot\"},\"ticker\":{\"id\":\"f68218c1-1080-460d-bc26-1fcf534007af\",\"type\":\"BasicTicker\"}},\"id\":\"6dc05ba8-697c-4ae8-bdb4-ec335bb816c3\",\"type\":\"Grid\"},{\"attributes\":{},\"id\":\"754b5776-af65-4d55-9847-3a9849b10a42\",\"type\":\"BasicTickFormatter\"},{\"attributes\":{\"below\":[{\"id\":\"c8ce41b4-7a04-4e6e-a2dd-6e0513c8b5f6\",\"type\":\"LinearAxis\"}],\"left\":[{\"id\":\"c7b9198e-db40-4d8d-85d8-5eb183fe55c7\",\"type\":\"LinearAxis\"}],\"plot_height\":400,\"plot_width\":400,\"renderers\":[{\"id\":\"c8ce41b4-7a04-4e6e-a2dd-6e0513c8b5f6\",\"type\":\"LinearAxis\"},{\"id\":\"5e415edf-5fca-4665-9075-bb98347a7912\",\"type\":\"Grid\"},{\"id\":\"c7b9198e-db40-4d8d-85d8-5eb183fe55c7\",\"type\":\"LinearAxis\"},{\"id\":\"6dc05ba8-697c-4ae8-bdb4-ec335bb816c3\",\"type\":\"Grid\"},{\"id\":\"ca9f751f-3810-45f6-863a-c4c321183efa\",\"type\":\"BoxAnnotation\"},{\"id\":\"81f2e42d-b08e-4f25-b276-bb88a8ae85ce\",\"type\":\"GlyphRenderer\"}],\"title\":{\"id\":\"b9b17bff-974c-480e-a158-49af6acc87da\",\"type\":\"Title\"},\"toolbar\":{\"id\":\"895f3968-94f0-4484-b1ae-5b825e41a9fb\",\"type\":\"Toolbar\"},\"x_range\":{\"id\":\"2b6a3567-8e4e-4a74-b62d-64bd4dbf2757\",\"type\":\"DataRange1d\"},\"x_scale\":{\"id\":\"2f042031-1ec5-4043-a043-e88a78b2ba4f\",\"type\":\"LinearScale\"},\"y_range\":{\"id\":\"a29450c9-1c9f-4861-867b-fad8b7ee2d8f\",\"type\":\"DataRange1d\"},\"y_scale\":{\"id\":\"06c3b4f6-0698-406f-8989-58a211a0d265\",\"type\":\"LinearScale\"}},\"id\":\"ea917ee7-6df7-4b10-a469-a830172f7a4e\",\"subtype\":\"Figure\",\"type\":\"Plot\"},{\"attributes\":{\"callback\":null},\"id\":\"a29450c9-1c9f-4861-867b-fad8b7ee2d8f\",\"type\":\"DataRange1d\"},{\"attributes\":{},\"id\":\"f68218c1-1080-460d-bc26-1fcf534007af\",\"type\":\"BasicTicker\"},{\"attributes\":{\"source\":{\"id\":\"e101c744-ab7c-41ef-8f80-40a9128232c6\",\"type\":\"ColumnDataSource\"}},\"id\":\"09e7d099-ef87-4d56-a796-d8a420dfa33e\",\"type\":\"CDSView\"},{\"attributes\":{\"args\":{\"source\":{\"id\":\"e101c744-ab7c-41ef-8f80-40a9128232c6\",\"type\":\"ColumnDataSource\"}},\"code\":\"\\n var data = source.data;\\n var f = cb_obj.value\\n var x = data['x']\\n var y = data['y']\\n for (var i = 0; i < x.length; i++) {\\n y[i] = Math.pow(x[i], f)\\n }\\n source.change.emit();\\n \"},\"id\":\"8a5ad70f-9c99-453e-a8a7-dec1a2b38d4d\",\"type\":\"CustomJS\"}],\"root_ids\":[\"5cff6dd1-d652-4c12-8d68-59def7e6adb3\"]},\"title\":\"Bokeh Application\",\"version\":\"0.12.16\"}};\n",
       "  var render_items = [{\"docid\":\"840b1dee-b4e2-453a-b6e5-2e1187a7983c\",\"elementid\":\"c519c530-0b76-4f4e-bcca-b09ba7e733a3\",\"modelid\":\"5cff6dd1-d652-4c12-8d68-59def7e6adb3\"}];\n",
       "  root.Bokeh.embed.embed_items_notebook(docs_json, render_items);\n",
       "\n",
       "  }\n",
       "  if (root.Bokeh !== undefined) {\n",
       "    embed_document(root);\n",
       "  } else {\n",
       "    var attempts = 0;\n",
       "    var timer = setInterval(function(root) {\n",
       "      if (root.Bokeh !== undefined) {\n",
       "        embed_document(root);\n",
       "        clearInterval(timer);\n",
       "      }\n",
       "      attempts++;\n",
       "      if (attempts > 100) {\n",
       "        console.log(\"Bokeh: ERROR: Unable to run BokehJS code because BokehJS library is missing\")\n",
       "        clearInterval(timer);\n",
       "      }\n",
       "    }, 10, root)\n",
       "  }\n",
       "})(window);"
      ],
      "application/vnd.bokehjs_exec.v0+json": ""
     },
     "metadata": {
      "application/vnd.bokehjs_exec.v0+json": {
       "id": "5cff6dd1-d652-4c12-8d68-59def7e6adb3"
      }
     },
     "output_type": "display_data"
    }
   ],
   "source": [
    "## slider\n",
    "from bokeh.layouts import column\n",
    "from bokeh.models import CustomJS, ColumnDataSource\n",
    "from bokeh.plotting import Figure, output_file, show\n",
    "from bokeh.models.widgets import Slider\n",
    "x = [x*0.05 for x in range(0, 200)]\n",
    "y = x\n",
    "source = ColumnDataSource(data=dict(x=x, y=y))\n",
    "plot = Figure(plot_width=400, plot_height=400)\n",
    "plot.line('x', 'y', source=source, line_width=3, line_alpha=0.6)\n",
    "handler = CustomJS(args=dict(source=source), code=\"\"\"\n",
    " var data = source.data;\n",
    " var f = cb_obj.value\n",
    " var x = data['x']\n",
    " var y = data['y']\n",
    " for (var i = 0; i < x.length; i++) {\n",
    " y[i] = Math.pow(x[i], f)\n",
    " }\n",
    " source.change.emit();\n",
    " \"\"\")\n",
    "slider = Slider(start=0.0, end=5, value=1, step=.25, title=\"Slider Value\")\n",
    "slider.js_on_change('value', handler)\n",
    "layout = column(slider, plot)\n",
    "show(layout)\n"
   ]
  },
  {
   "cell_type": "code",
   "execution_count": 58,
   "metadata": {},
   "outputs": [
    {
     "data": {
      "text/html": [
       "\n",
       "<div class=\"bk-root\">\n",
       "    <div class=\"bk-plotdiv\" id=\"a623f346-df6a-4369-aaa8-b4e89cf2bfdd\"></div>\n",
       "</div>"
      ]
     },
     "metadata": {},
     "output_type": "display_data"
    },
    {
     "data": {
      "application/javascript": [
       "(function(root) {\n",
       "  function embed_document(root) {\n",
       "    \n",
       "  var docs_json = {\"d0e1ef03-ab7c-43c4-8dce-e0ba8f3de68b\":{\"roots\":{\"references\":[{\"attributes\":{\"plot\":{\"id\":\"ff5337c1-b602-44e1-8eb4-d4df9168c6d4\",\"subtype\":\"Figure\",\"type\":\"Plot\"},\"ticker\":{\"id\":\"0add3b39-1bb1-4462-bdf1-de984935f9d5\",\"type\":\"BasicTicker\"}},\"id\":\"d92a0189-6772-4e5e-821f-e49e1a190adb\",\"type\":\"Grid\"},{\"attributes\":{},\"id\":\"0add3b39-1bb1-4462-bdf1-de984935f9d5\",\"type\":\"BasicTicker\"},{\"attributes\":{\"overlay\":{\"id\":\"65201853-229e-4dda-8246-6d5e41b7ea73\",\"type\":\"BoxAnnotation\"}},\"id\":\"ed63245f-8d93-491f-b957-af8acc052e66\",\"type\":\"BoxZoomTool\"},{\"attributes\":{},\"id\":\"1bd82874-0ea6-429a-85fe-332db9c065c7\",\"type\":\"UnionRenderers\"},{\"attributes\":{},\"id\":\"2193814f-8620-41c2-9bc9-0160129cafe9\",\"type\":\"WheelZoomTool\"},{\"attributes\":{},\"id\":\"35886f34-aff4-49ad-8c6c-e22338af09dd\",\"type\":\"SaveTool\"},{\"attributes\":{\"callback\":null},\"id\":\"0d2ad60a-056d-483d-8b3b-c1c48dacad44\",\"type\":\"DataRange1d\"},{\"attributes\":{},\"id\":\"8b65e0c9-7420-4132-a1da-8d4e34582553\",\"type\":\"HelpTool\"},{\"attributes\":{\"data_source\":{\"id\":\"7dcd2ea9-288b-4563-b09d-82e3d5ae2751\",\"type\":\"ColumnDataSource\"},\"glyph\":{\"id\":\"ebb66bc2-7996-428d-b6b0-900689657a2f\",\"type\":\"Line\"},\"hover_glyph\":null,\"muted_glyph\":null,\"nonselection_glyph\":{\"id\":\"2e1f3f34-2779-4750-bdcd-b015bd4b0c4a\",\"type\":\"Line\"},\"selection_glyph\":null,\"view\":{\"id\":\"68bbb950-e0e3-4591-86e2-52defd3e3d57\",\"type\":\"CDSView\"}},\"id\":\"9a32ebd6-8478-4b2b-920d-8fb973db63db\",\"type\":\"GlyphRenderer\"},{\"attributes\":{\"line_alpha\":0.6,\"line_color\":\"#1f77b4\",\"line_width\":3,\"x\":{\"field\":\"x\"},\"y\":{\"field\":\"y\"}},\"id\":\"ebb66bc2-7996-428d-b6b0-900689657a2f\",\"type\":\"Line\"},{\"attributes\":{\"active\":0,\"callback\":null,\"js_property_callbacks\":{\"change:active\":[{\"id\":\"1b731bd7-142f-4488-8f3f-0d48261cb4e0\",\"type\":\"CustomJS\"}]},\"labels\":[\"line\",\"SqureCurve\",\"CubeCurve\"]},\"id\":\"1815ed54-6ce5-4316-a999-585f1ba1afe9\",\"type\":\"RadioGroup\"},{\"attributes\":{\"callback\":null,\"js_property_callbacks\":{\"change:value\":[{\"id\":\"6a61f92e-d937-4cb9-8edd-31faa1ec0579\",\"type\":\"CustomJS\"}]},\"options\":[\"line\",\"SquareCurve\",\"CubeCurve\"],\"title\":\"Select:\",\"value\":\"line\"},\"id\":\"d06a1784-e03d-4caf-a4d7-1cbb235a7b47\",\"type\":\"Select\"},{\"attributes\":{\"callback\":null},\"id\":\"3dad8d48-3081-413e-98ab-d85bf352a6a8\",\"type\":\"DataRange1d\"},{\"attributes\":{\"line_alpha\":0.1,\"line_color\":\"#1f77b4\",\"line_width\":3,\"x\":{\"field\":\"x\"},\"y\":{\"field\":\"y\"}},\"id\":\"2e1f3f34-2779-4750-bdcd-b015bd4b0c4a\",\"type\":\"Line\"},{\"attributes\":{\"dimension\":1,\"plot\":{\"id\":\"ff5337c1-b602-44e1-8eb4-d4df9168c6d4\",\"subtype\":\"Figure\",\"type\":\"Plot\"},\"ticker\":{\"id\":\"de06da32-6d4d-4dad-ab70-ad39a8de6377\",\"type\":\"BasicTicker\"}},\"id\":\"ff80d004-5a22-48d1-b95c-d7a7577bea0f\",\"type\":\"Grid\"},{\"attributes\":{},\"id\":\"9fb3b4d4-083d-4098-8ed9-fcfe1aedbc43\",\"type\":\"LinearScale\"},{\"attributes\":{},\"id\":\"b9a565e8-dbd9-4678-8da2-093f0b8199af\",\"type\":\"ResetTool\"},{\"attributes\":{},\"id\":\"de06da32-6d4d-4dad-ab70-ad39a8de6377\",\"type\":\"BasicTicker\"},{\"attributes\":{\"below\":[{\"id\":\"3900077d-2565-4222-ab9a-b19be1e2af56\",\"type\":\"LinearAxis\"}],\"left\":[{\"id\":\"2cd70c5a-9ada-4f83-900f-bcf2dee0448b\",\"type\":\"LinearAxis\"}],\"plot_height\":400,\"plot_width\":400,\"renderers\":[{\"id\":\"3900077d-2565-4222-ab9a-b19be1e2af56\",\"type\":\"LinearAxis\"},{\"id\":\"d92a0189-6772-4e5e-821f-e49e1a190adb\",\"type\":\"Grid\"},{\"id\":\"2cd70c5a-9ada-4f83-900f-bcf2dee0448b\",\"type\":\"LinearAxis\"},{\"id\":\"ff80d004-5a22-48d1-b95c-d7a7577bea0f\",\"type\":\"Grid\"},{\"id\":\"65201853-229e-4dda-8246-6d5e41b7ea73\",\"type\":\"BoxAnnotation\"},{\"id\":\"9a32ebd6-8478-4b2b-920d-8fb973db63db\",\"type\":\"GlyphRenderer\"}],\"title\":{\"id\":\"c4864b0e-aa49-4b02-a3ca-3454e59abb87\",\"type\":\"Title\"},\"toolbar\":{\"id\":\"6db40051-2661-47b6-a5be-6865148c3dc7\",\"type\":\"Toolbar\"},\"x_range\":{\"id\":\"0d2ad60a-056d-483d-8b3b-c1c48dacad44\",\"type\":\"DataRange1d\"},\"x_scale\":{\"id\":\"9fb3b4d4-083d-4098-8ed9-fcfe1aedbc43\",\"type\":\"LinearScale\"},\"y_range\":{\"id\":\"3dad8d48-3081-413e-98ab-d85bf352a6a8\",\"type\":\"DataRange1d\"},\"y_scale\":{\"id\":\"06ff685f-071d-4b1d-a389-c5ba858156ec\",\"type\":\"LinearScale\"}},\"id\":\"ff5337c1-b602-44e1-8eb4-d4df9168c6d4\",\"subtype\":\"Figure\",\"type\":\"Plot\"},{\"attributes\":{\"source\":{\"id\":\"7dcd2ea9-288b-4563-b09d-82e3d5ae2751\",\"type\":\"ColumnDataSource\"}},\"id\":\"68bbb950-e0e3-4591-86e2-52defd3e3d57\",\"type\":\"CDSView\"},{\"attributes\":{\"children\":[{\"id\":\"1815ed54-6ce5-4316-a999-585f1ba1afe9\",\"type\":\"RadioGroup\"}]},\"id\":\"73ddfcd3-0620-4798-b6ca-ac4c62f50279\",\"type\":\"WidgetBox\"},{\"attributes\":{\"active_drag\":\"auto\",\"active_inspect\":\"auto\",\"active_scroll\":\"auto\",\"active_tap\":\"auto\",\"tools\":[{\"id\":\"d7dd2861-da2d-45c9-9540-a32a60070948\",\"type\":\"PanTool\"},{\"id\":\"2193814f-8620-41c2-9bc9-0160129cafe9\",\"type\":\"WheelZoomTool\"},{\"id\":\"ed63245f-8d93-491f-b957-af8acc052e66\",\"type\":\"BoxZoomTool\"},{\"id\":\"35886f34-aff4-49ad-8c6c-e22338af09dd\",\"type\":\"SaveTool\"},{\"id\":\"b9a565e8-dbd9-4678-8da2-093f0b8199af\",\"type\":\"ResetTool\"},{\"id\":\"8b65e0c9-7420-4132-a1da-8d4e34582553\",\"type\":\"HelpTool\"}]},\"id\":\"6db40051-2661-47b6-a5be-6865148c3dc7\",\"type\":\"Toolbar\"},{\"attributes\":{},\"id\":\"12f5395c-561a-4dd1-89aa-dd2f3ebc8c19\",\"type\":\"BasicTickFormatter\"},{\"attributes\":{},\"id\":\"a868ce11-5696-4f8f-9219-a9e96257151b\",\"type\":\"BasicTickFormatter\"},{\"attributes\":{\"formatter\":{\"id\":\"a868ce11-5696-4f8f-9219-a9e96257151b\",\"type\":\"BasicTickFormatter\"},\"plot\":{\"id\":\"ff5337c1-b602-44e1-8eb4-d4df9168c6d4\",\"subtype\":\"Figure\",\"type\":\"Plot\"},\"ticker\":{\"id\":\"0add3b39-1bb1-4462-bdf1-de984935f9d5\",\"type\":\"BasicTicker\"}},\"id\":\"3900077d-2565-4222-ab9a-b19be1e2af56\",\"type\":\"LinearAxis\"},{\"attributes\":{\"args\":{\"source\":{\"id\":\"7dcd2ea9-288b-4563-b09d-82e3d5ae2751\",\"type\":\"ColumnDataSource\"}},\"code\":\"\\n var data = source.data;\\n console.log('Tap event occurred at x-position: ' + cb_obj.active);\\n //plot.title.text=cb_obj.value;\\n x = data['x']\\n y = data['y']\\n if (cb_obj.active==0)\\n {\\n for (i = 0; i < x.length; i++) {\\n y[i] = x[i];\\n }\\n }\\n if (cb_obj.active==1)\\n {\\n for (i = 0; i < x.length; i++) {\\n y[i] = Math.pow(x[i], 2)\\n }\\n }\\n if (cb_obj.active==2)\\n {\\n for (i = 0; i < x.length; i++) {\\n y[i] = Math.pow(x[i], 4)\\n }\\n }\\n source.change.emit();\\n\"},\"id\":\"1b731bd7-142f-4488-8f3f-0d48261cb4e0\",\"type\":\"CustomJS\"},{\"attributes\":{\"children\":[{\"id\":\"73ddfcd3-0620-4798-b6ca-ac4c62f50279\",\"type\":\"WidgetBox\"},{\"id\":\"fae3ff27-af72-4378-b539-6b18106719b1\",\"type\":\"WidgetBox\"},{\"id\":\"ff5337c1-b602-44e1-8eb4-d4df9168c6d4\",\"subtype\":\"Figure\",\"type\":\"Plot\"}]},\"id\":\"a58e9986-7235-437b-bb83-cd447b3cf16b\",\"type\":\"Column\"},{\"attributes\":{},\"id\":\"06ff685f-071d-4b1d-a389-c5ba858156ec\",\"type\":\"LinearScale\"},{\"attributes\":{},\"id\":\"d7dd2861-da2d-45c9-9540-a32a60070948\",\"type\":\"PanTool\"},{\"attributes\":{\"children\":[{\"id\":\"d06a1784-e03d-4caf-a4d7-1cbb235a7b47\",\"type\":\"Select\"}]},\"id\":\"fae3ff27-af72-4378-b539-6b18106719b1\",\"type\":\"WidgetBox\"},{\"attributes\":{\"args\":{\"source\":{\"id\":\"7dcd2ea9-288b-4563-b09d-82e3d5ae2751\",\"type\":\"ColumnDataSource\"}},\"code\":\"\\n var data = source.data;\\n console.log('Tap event occurred at x-position: ' + cb_obj.value);\\n //plot.title.text=cb_obj.value;\\n x = data['x']\\n y = data['y']\\n if (cb_obj.value==\\\"line\\\")\\n {\\n for (i = 0; i < x.length; i++) {\\n y[i] = x[i];\\n }\\n }\\n if (cb_obj.value==\\\"SquareCurve\\\")\\n {\\n for (i = 0; i < x.length; i++) {\\n y[i] = Math.pow(x[i], 2)\\n }\\n }\\n if (cb_obj.value==\\\"CubeCurve\\\")\\n {\\n for (i = 0; i < x.length; i++) {\\n y[i] = Math.pow(x[i], 4)\\n }\\n }\\n source.change.emit();\\n\"},\"id\":\"6a61f92e-d937-4cb9-8edd-31faa1ec0579\",\"type\":\"CustomJS\"},{\"attributes\":{},\"id\":\"ade82a6d-5c5f-4f69-b4c9-aae4cace02a2\",\"type\":\"Selection\"},{\"attributes\":{\"plot\":null,\"text\":\"\"},\"id\":\"c4864b0e-aa49-4b02-a3ca-3454e59abb87\",\"type\":\"Title\"},{\"attributes\":{\"bottom_units\":\"screen\",\"fill_alpha\":{\"value\":0.5},\"fill_color\":{\"value\":\"lightgrey\"},\"left_units\":\"screen\",\"level\":\"overlay\",\"line_alpha\":{\"value\":1.0},\"line_color\":{\"value\":\"black\"},\"line_dash\":[4,4],\"line_width\":{\"value\":2},\"plot\":null,\"render_mode\":\"css\",\"right_units\":\"screen\",\"top_units\":\"screen\"},\"id\":\"65201853-229e-4dda-8246-6d5e41b7ea73\",\"type\":\"BoxAnnotation\"},{\"attributes\":{\"callback\":null,\"data\":{\"x\":[0.0,0.05,0.1,0.15000000000000002,0.2,0.25,0.30000000000000004,0.35000000000000003,0.4,0.45,0.5,0.55,0.6000000000000001,0.65,0.7000000000000001,0.75,0.8,0.8500000000000001,0.9,0.9500000000000001,1.0,1.05,1.1,1.1500000000000001,1.2000000000000002,1.25,1.3,1.35,1.4000000000000001,1.4500000000000002,1.5,1.55,1.6,1.6500000000000001,1.7000000000000002,1.75,1.8,1.85,1.9000000000000001,1.9500000000000002,2.0,2.0500000000000003,2.1,2.15,2.2,2.25,2.3000000000000003,2.35,2.4000000000000004,2.45,2.5,2.5500000000000003,2.6,2.6500000000000004,2.7,2.75,2.8000000000000003,2.85,2.9000000000000004,2.95,3.0,3.0500000000000003,3.1,3.1500000000000004,3.2,3.25,3.3000000000000003,3.35,3.4000000000000004,3.45,3.5,3.5500000000000003,3.6,3.6500000000000004,3.7,3.75,3.8000000000000003,3.85,3.9000000000000004,3.95,4.0,4.05,4.1000000000000005,4.15,4.2,4.25,4.3,4.3500000000000005,4.4,4.45,4.5,4.55,4.6000000000000005,4.65,4.7,4.75,4.800000000000001,4.8500000000000005,4.9,4.95,5.0,5.050000000000001,5.1000000000000005,5.15,5.2,5.25,5.300000000000001,5.3500000000000005,5.4,5.45,5.5,5.550000000000001,5.6000000000000005,5.65,5.7,5.75,5.800000000000001,5.8500000000000005,5.9,5.95,6.0,6.050000000000001,6.1000000000000005,6.15,6.2,6.25,6.300000000000001,6.3500000000000005,6.4,6.45,6.5,6.550000000000001,6.6000000000000005,6.65,6.7,6.75,6.800000000000001,6.8500000000000005,6.9,6.95,7.0,7.050000000000001,7.1000000000000005,7.15,7.2,7.25,7.300000000000001,7.3500000000000005,7.4,7.45,7.5,7.550000000000001,7.6000000000000005,7.65,7.7,7.75,7.800000000000001,7.8500000000000005,7.9,7.95,8.0,8.05,8.1,8.15,8.200000000000001,8.25,8.3,8.35,8.4,8.450000000000001,8.5,8.55,8.6,8.65,8.700000000000001,8.75,8.8,8.85,8.9,8.950000000000001,9.0,9.05,9.1,9.15,9.200000000000001,9.25,9.3,9.35,9.4,9.450000000000001,9.5,9.55,9.600000000000001,9.65,9.700000000000001,9.75,9.8,9.850000000000001,9.9,9.950000000000001],\"y\":[0.0,0.05,0.1,0.15000000000000002,0.2,0.25,0.30000000000000004,0.35000000000000003,0.4,0.45,0.5,0.55,0.6000000000000001,0.65,0.7000000000000001,0.75,0.8,0.8500000000000001,0.9,0.9500000000000001,1.0,1.05,1.1,1.1500000000000001,1.2000000000000002,1.25,1.3,1.35,1.4000000000000001,1.4500000000000002,1.5,1.55,1.6,1.6500000000000001,1.7000000000000002,1.75,1.8,1.85,1.9000000000000001,1.9500000000000002,2.0,2.0500000000000003,2.1,2.15,2.2,2.25,2.3000000000000003,2.35,2.4000000000000004,2.45,2.5,2.5500000000000003,2.6,2.6500000000000004,2.7,2.75,2.8000000000000003,2.85,2.9000000000000004,2.95,3.0,3.0500000000000003,3.1,3.1500000000000004,3.2,3.25,3.3000000000000003,3.35,3.4000000000000004,3.45,3.5,3.5500000000000003,3.6,3.6500000000000004,3.7,3.75,3.8000000000000003,3.85,3.9000000000000004,3.95,4.0,4.05,4.1000000000000005,4.15,4.2,4.25,4.3,4.3500000000000005,4.4,4.45,4.5,4.55,4.6000000000000005,4.65,4.7,4.75,4.800000000000001,4.8500000000000005,4.9,4.95,5.0,5.050000000000001,5.1000000000000005,5.15,5.2,5.25,5.300000000000001,5.3500000000000005,5.4,5.45,5.5,5.550000000000001,5.6000000000000005,5.65,5.7,5.75,5.800000000000001,5.8500000000000005,5.9,5.95,6.0,6.050000000000001,6.1000000000000005,6.15,6.2,6.25,6.300000000000001,6.3500000000000005,6.4,6.45,6.5,6.550000000000001,6.6000000000000005,6.65,6.7,6.75,6.800000000000001,6.8500000000000005,6.9,6.95,7.0,7.050000000000001,7.1000000000000005,7.15,7.2,7.25,7.300000000000001,7.3500000000000005,7.4,7.45,7.5,7.550000000000001,7.6000000000000005,7.65,7.7,7.75,7.800000000000001,7.8500000000000005,7.9,7.95,8.0,8.05,8.1,8.15,8.200000000000001,8.25,8.3,8.35,8.4,8.450000000000001,8.5,8.55,8.6,8.65,8.700000000000001,8.75,8.8,8.85,8.9,8.950000000000001,9.0,9.05,9.1,9.15,9.200000000000001,9.25,9.3,9.35,9.4,9.450000000000001,9.5,9.55,9.600000000000001,9.65,9.700000000000001,9.75,9.8,9.850000000000001,9.9,9.950000000000001]},\"selected\":{\"id\":\"ade82a6d-5c5f-4f69-b4c9-aae4cace02a2\",\"type\":\"Selection\"},\"selection_policy\":{\"id\":\"1bd82874-0ea6-429a-85fe-332db9c065c7\",\"type\":\"UnionRenderers\"}},\"id\":\"7dcd2ea9-288b-4563-b09d-82e3d5ae2751\",\"type\":\"ColumnDataSource\"},{\"attributes\":{\"formatter\":{\"id\":\"12f5395c-561a-4dd1-89aa-dd2f3ebc8c19\",\"type\":\"BasicTickFormatter\"},\"plot\":{\"id\":\"ff5337c1-b602-44e1-8eb4-d4df9168c6d4\",\"subtype\":\"Figure\",\"type\":\"Plot\"},\"ticker\":{\"id\":\"de06da32-6d4d-4dad-ab70-ad39a8de6377\",\"type\":\"BasicTicker\"}},\"id\":\"2cd70c5a-9ada-4f83-900f-bcf2dee0448b\",\"type\":\"LinearAxis\"}],\"root_ids\":[\"a58e9986-7235-437b-bb83-cd447b3cf16b\"]},\"title\":\"Bokeh Application\",\"version\":\"0.12.16\"}};\n",
       "  var render_items = [{\"docid\":\"d0e1ef03-ab7c-43c4-8dce-e0ba8f3de68b\",\"elementid\":\"a623f346-df6a-4369-aaa8-b4e89cf2bfdd\",\"modelid\":\"a58e9986-7235-437b-bb83-cd447b3cf16b\"}];\n",
       "  root.Bokeh.embed.embed_items_notebook(docs_json, render_items);\n",
       "\n",
       "  }\n",
       "  if (root.Bokeh !== undefined) {\n",
       "    embed_document(root);\n",
       "  } else {\n",
       "    var attempts = 0;\n",
       "    var timer = setInterval(function(root) {\n",
       "      if (root.Bokeh !== undefined) {\n",
       "        embed_document(root);\n",
       "        clearInterval(timer);\n",
       "      }\n",
       "      attempts++;\n",
       "      if (attempts > 100) {\n",
       "        console.log(\"Bokeh: ERROR: Unable to run BokehJS code because BokehJS library is missing\")\n",
       "        clearInterval(timer);\n",
       "      }\n",
       "    }, 10, root)\n",
       "  }\n",
       "})(window);"
      ],
      "application/vnd.bokehjs_exec.v0+json": ""
     },
     "metadata": {
      "application/vnd.bokehjs_exec.v0+json": {
       "id": "a58e9986-7235-437b-bb83-cd447b3cf16b"
      }
     },
     "output_type": "display_data"
    }
   ],
   "source": [
    "## select\n",
    "from bokeh.layouts import column\n",
    "from bokeh.models import CustomJS, ColumnDataSource\n",
    "from bokeh.plotting import Figure, output_file, show\n",
    "from bokeh.models.widgets import RadioGroup, Select\n",
    "x = [x*0.05 for x in range(0, 200)]\n",
    "y = x\n",
    "source = ColumnDataSource(data=dict(x=x, y=y))\n",
    "plot = Figure(plot_width=400, plot_height=400)\n",
    "plot.line('x', 'y', source=source, line_width=3, line_alpha=0.6)\n",
    "radiohandler = CustomJS(args=dict(source=source), code=\"\"\"\n",
    " var data = source.data;\n",
    " console.log('Tap event occurred at x-position: ' + cb_obj.active);\n",
    " //plot.title.text=cb_obj.value;\n",
    " x = data['x']\n",
    " y = data['y']\n",
    " if (cb_obj.active==0)\n",
    " {\n",
    " for (i = 0; i < x.length; i++) {\n",
    " y[i] = x[i];\n",
    " }\n",
    " }\n",
    " if (cb_obj.active==1)\n",
    " {\n",
    " for (i = 0; i < x.length; i++) {\n",
    " y[i] = Math.pow(x[i], 2)\n",
    " }\n",
    " }\n",
    " if (cb_obj.active==2)\n",
    " {\n",
    " for (i = 0; i < x.length; i++) {\n",
    " y[i] = Math.pow(x[i], 4)\n",
    " }\n",
    " }\n",
    " source.change.emit();\n",
    "\"\"\")\n",
    "selecthandler = CustomJS(args=dict(source=source), code=\"\"\"\n",
    " var data = source.data;\n",
    " console.log('Tap event occurred at x-position: ' + cb_obj.value);\n",
    " //plot.title.text=cb_obj.value;\n",
    " x = data['x']\n",
    " y = data['y']\n",
    " if (cb_obj.value==\"line\")\n",
    " {\n",
    " for (i = 0; i < x.length; i++) {\n",
    " y[i] = x[i];\n",
    " }\n",
    " }\n",
    " if (cb_obj.value==\"SquareCurve\")\n",
    " {\n",
    " for (i = 0; i < x.length; i++) {\n",
    " y[i] = Math.pow(x[i], 2)\n",
    " }\n",
    " }\n",
    " if (cb_obj.value==\"CubeCurve\")\n",
    " {\n",
    " for (i = 0; i < x.length; i++) {\n",
    " y[i] = Math.pow(x[i], 4)\n",
    " }\n",
    " }\n",
    " source.change.emit();\n",
    "\"\"\")\n",
    "radio = RadioGroup(\n",
    " labels=[\"line\", \"SqureCurve\", \"CubeCurve\"], active=0)\n",
    "radio.js_on_change('active', radiohandler)\n",
    "select = Select(title=\"Select:\", value='line', options=[\"line\", \"SquareCurve\",\n",
    "\"CubeCurve\"])\n",
    "select.js_on_change('value', selecthandler)\n",
    "layout = column(radio, select, plot)\n",
    "show(layout)\n"
   ]
  },
  {
   "cell_type": "code",
   "execution_count": 59,
   "metadata": {},
   "outputs": [
    {
     "data": {
      "text/html": [
       "\n",
       "<div class=\"bk-root\">\n",
       "    <div class=\"bk-plotdiv\" id=\"8c951333-53db-4e50-9c37-150fb0978c25\"></div>\n",
       "</div>"
      ]
     },
     "metadata": {},
     "output_type": "display_data"
    },
    {
     "data": {
      "application/javascript": [
       "(function(root) {\n",
       "  function embed_document(root) {\n",
       "    \n",
       "  var docs_json = {\"6f2096c1-aaf6-4e94-b78e-c9db5586c43f\":{\"roots\":{\"references\":[{\"attributes\":{},\"id\":\"e97bb324-b7d4-422a-91cc-b89142924da1\",\"type\":\"LinearScale\"},{\"attributes\":{\"overlay\":{\"id\":\"f06e2576-5019-40b7-aa3a-685c84726027\",\"type\":\"BoxAnnotation\"}},\"id\":\"beb469ff-aaf1-4fd6-a0dc-ba94bb139e39\",\"type\":\"BoxZoomTool\"},{\"attributes\":{},\"id\":\"582f71af-0810-411a-8fab-4d660beca3df\",\"type\":\"HelpTool\"},{\"attributes\":{},\"id\":\"52a8e0b6-dac4-4330-aae2-de33a854fc20\",\"type\":\"BasicTicker\"},{\"attributes\":{\"line_alpha\":0.1,\"line_color\":\"#1f77b4\",\"line_width\":2,\"x\":{\"field\":\"x\"},\"y\":{\"field\":\"y\"}},\"id\":\"ef537080-75b5-48ba-a14e-0e79f163392d\",\"type\":\"Line\"},{\"attributes\":{\"plot\":null,\"text\":\"\"},\"id\":\"2bab3d1c-dca1-41f9-8159-7641d62cd89f\",\"type\":\"Title\"},{\"attributes\":{\"bottom_units\":\"screen\",\"fill_alpha\":{\"value\":0.5},\"fill_color\":{\"value\":\"lightgrey\"},\"left_units\":\"screen\",\"level\":\"overlay\",\"line_alpha\":{\"value\":1.0},\"line_color\":{\"value\":\"black\"},\"line_dash\":[4,4],\"line_width\":{\"value\":2},\"plot\":null,\"render_mode\":\"css\",\"right_units\":\"screen\",\"top_units\":\"screen\"},\"id\":\"f06e2576-5019-40b7-aa3a-685c84726027\",\"type\":\"BoxAnnotation\"},{\"attributes\":{\"callback\":null},\"id\":\"f01ae6e4-795d-4852-804c-80787185ac4a\",\"type\":\"DataRange1d\"},{\"attributes\":{\"callback\":null},\"id\":\"e301dfd6-f091-4c1b-a89c-401a75f58444\",\"type\":\"DataRange1d\"},{\"attributes\":{\"line_color\":\"orange\",\"line_width\":2,\"x\":{\"field\":\"x\"},\"y\":{\"field\":\"y\"}},\"id\":\"ce83e51e-4d11-405a-8938-eecc1a9e2c83\",\"type\":\"Line\"},{\"attributes\":{\"callback\":null},\"id\":\"dea2f82f-ce74-423e-8933-9cfcd78b08d0\",\"type\":\"DataRange1d\"},{\"attributes\":{},\"id\":\"0fc85263-fa44-47f1-b2e1-1a16c97f97a4\",\"type\":\"BasicTickFormatter\"},{\"attributes\":{},\"id\":\"cbc57145-ede8-4f9c-b551-73c2b8901bb5\",\"type\":\"ResetTool\"},{\"attributes\":{},\"id\":\"b8aeb3d8-e122-4804-bd88-9848f6427c77\",\"type\":\"Selection\"},{\"attributes\":{\"formatter\":{\"id\":\"d0c20f93-2716-4fe2-8655-9d2ab546877c\",\"type\":\"BasicTickFormatter\"},\"plot\":{\"id\":\"5843a137-1d33-4d34-89b4-0d810ec14310\",\"subtype\":\"Figure\",\"type\":\"Plot\"},\"ticker\":{\"id\":\"a542ad0c-1ead-46ee-8972-60ff528dc8f7\",\"type\":\"BasicTicker\"}},\"id\":\"8dd4b2f6-2f55-470e-a18f-1ca608ac5860\",\"type\":\"LinearAxis\"},{\"attributes\":{},\"id\":\"cf021980-440d-4629-a8e5-c405a033f4ed\",\"type\":\"BasicTickFormatter\"},{\"attributes\":{},\"id\":\"de525149-98f5-47b8-97aa-4801db67e32b\",\"type\":\"BasicTicker\"},{\"attributes\":{},\"id\":\"cbe8829b-d4e7-40ed-b417-8fce9f2c3787\",\"type\":\"PanTool\"},{\"attributes\":{},\"id\":\"d0c20f93-2716-4fe2-8655-9d2ab546877c\",\"type\":\"BasicTickFormatter\"},{\"attributes\":{\"overlay\":{\"id\":\"2c566c86-99da-454c-a7ca-442cf2818e26\",\"type\":\"BoxAnnotation\"}},\"id\":\"e9a966d8-ef12-45b7-a983-78331e1fdd20\",\"type\":\"BoxZoomTool\"},{\"attributes\":{},\"id\":\"0c28c203-33e2-4026-a844-015b004f0035\",\"type\":\"UnionRenderers\"},{\"attributes\":{\"data_source\":{\"id\":\"a5bbd6ed-3877-4b9c-99f0-57b8e278bc5c\",\"type\":\"ColumnDataSource\"},\"glyph\":{\"id\":\"ce83e51e-4d11-405a-8938-eecc1a9e2c83\",\"type\":\"Line\"},\"hover_glyph\":null,\"muted_glyph\":null,\"nonselection_glyph\":{\"id\":\"ef537080-75b5-48ba-a14e-0e79f163392d\",\"type\":\"Line\"},\"selection_glyph\":null,\"view\":{\"id\":\"e08d9df4-c059-4edf-a869-53306091e9ad\",\"type\":\"CDSView\"}},\"id\":\"2b0412dd-e794-4e84-9783-397622e70366\",\"type\":\"GlyphRenderer\"},{\"attributes\":{\"plot\":{\"id\":\"1bf312c0-a571-47bc-9923-7cba9a65ea19\",\"subtype\":\"Figure\",\"type\":\"Plot\"},\"ticker\":{\"id\":\"52a8e0b6-dac4-4330-aae2-de33a854fc20\",\"type\":\"BasicTicker\"}},\"id\":\"5948718b-ff51-4628-a6cb-0dc308317415\",\"type\":\"Grid\"},{\"attributes\":{},\"id\":\"a542ad0c-1ead-46ee-8972-60ff528dc8f7\",\"type\":\"BasicTicker\"},{\"attributes\":{\"below\":[{\"id\":\"ae419060-cee6-40fb-a5fd-c6d2e1a21a9e\",\"type\":\"LinearAxis\"}],\"left\":[{\"id\":\"3973a047-ea7b-4d23-ba6a-dbefb4918eec\",\"type\":\"LinearAxis\"}],\"plot_height\":300,\"plot_width\":300,\"renderers\":[{\"id\":\"ae419060-cee6-40fb-a5fd-c6d2e1a21a9e\",\"type\":\"LinearAxis\"},{\"id\":\"5948718b-ff51-4628-a6cb-0dc308317415\",\"type\":\"Grid\"},{\"id\":\"3973a047-ea7b-4d23-ba6a-dbefb4918eec\",\"type\":\"LinearAxis\"},{\"id\":\"1533bb43-1831-4f30-8120-0f8a527234c3\",\"type\":\"Grid\"},{\"id\":\"f06e2576-5019-40b7-aa3a-685c84726027\",\"type\":\"BoxAnnotation\"},{\"id\":\"2b0412dd-e794-4e84-9783-397622e70366\",\"type\":\"GlyphRenderer\"}],\"title\":{\"id\":\"129766dd-962a-4729-8b37-4acf5ca635d2\",\"type\":\"Title\"},\"toolbar\":{\"id\":\"6dcb930a-e3fa-453f-9bd7-8127d47ee389\",\"type\":\"Toolbar\"},\"x_range\":{\"id\":\"dea2f82f-ce74-423e-8933-9cfcd78b08d0\",\"type\":\"DataRange1d\"},\"x_scale\":{\"id\":\"38fa4f4c-4bfd-4540-aa91-6aa77a257fe5\",\"type\":\"LinearScale\"},\"y_range\":{\"id\":\"e301dfd6-f091-4c1b-a89c-401a75f58444\",\"type\":\"DataRange1d\"},\"y_scale\":{\"id\":\"42fdcb93-0617-4a97-9154-1d61a905988f\",\"type\":\"LinearScale\"}},\"id\":\"1bf312c0-a571-47bc-9923-7cba9a65ea19\",\"subtype\":\"Figure\",\"type\":\"Plot\"},{\"attributes\":{\"callback\":null,\"data\":{\"x\":{\"__ndarray__\":\"AAAAAAAAAACamZmZmZmpP5qZmZmZmbk/NDMzMzMzwz+amZmZmZnJPwAAAAAAANA/NDMzMzMz0z9nZmZmZmbWP5qZmZmZmdk/zczMzMzM3D8AAAAAAADgP5qZmZmZmeE/NDMzMzMz4z/NzMzMzMzkP2dmZmZmZuY/AAAAAAAA6D+amZmZmZnpPzQzMzMzM+s/zczMzMzM7D9nZmZmZmbuPwAAAAAAAPA/zczMzMzM8D+amZmZmZnxP2dmZmZmZvI/NDMzMzMz8z8AAAAAAAD0P83MzMzMzPQ/mpmZmZmZ9T9nZmZmZmb2PzQzMzMzM/c/AAAAAAAA+D/NzMzMzMz4P5qZmZmZmfk/Z2ZmZmZm+j80MzMzMzP7PwAAAAAAAPw/zczMzMzM/D+amZmZmZn9P2dmZmZmZv4/NDMzMzMz/z8AAAAAAAAAQGdmZmZmZgBAzczMzMzMAEAzMzMzMzMBQJqZmZmZmQFAAAAAAAAAAkBnZmZmZmYCQM3MzMzMzAJANDMzMzMzA0CamZmZmZkDQAAAAAAAAARAZ2ZmZmZmBEDNzMzMzMwEQDQzMzMzMwVAmpmZmZmZBUAAAAAAAAAGQGdmZmZmZgZAzczMzMzMBkA0MzMzMzMHQJqZmZmZmQdAAAAAAAAACEBnZmZmZmYIQM3MzMzMzAhANDMzMzMzCUCamZmZmZkJQAAAAAAAAApAZ2ZmZmZmCkDNzMzMzMwKQDQzMzMzMwtAmpmZmZmZC0AAAAAAAAAMQGdmZmZmZgxAzczMzMzMDEA0MzMzMzMNQJqZmZmZmQ1AAAAAAAAADkBnZmZmZmYOQM3MzMzMzA5ANDMzMzMzD0CamZmZmZkPQAAAAAAAABBAMzMzMzMzEEBnZmZmZmYQQJqZmZmZmRBAzczMzMzMEEAAAAAAAAARQDMzMzMzMxFAZ2ZmZmZmEUCamZmZmZkRQM3MzMzMzBFAAAAAAAAAEkAzMzMzMzMSQGdmZmZmZhJAmpmZmZmZEkDNzMzMzMwSQAAAAAAAABNANDMzMzMzE0BnZmZmZmYTQJqZmZmZmRNAzczMzMzME0AAAAAAAAAUQDQzMzMzMxRAZ2ZmZmZmFECamZmZmZkUQM3MzMzMzBRAAAAAAAAAFUA0MzMzMzMVQGdmZmZmZhVAmpmZmZmZFUDNzMzMzMwVQAAAAAAAABZANDMzMzMzFkBnZmZmZmYWQJqZmZmZmRZAzczMzMzMFkAAAAAAAAAXQDQzMzMzMxdAZ2ZmZmZmF0CamZmZmZkXQM3MzMzMzBdAAAAAAAAAGEA0MzMzMzMYQGdmZmZmZhhAmpmZmZmZGEDNzMzMzMwYQAAAAAAAABlA\",\"dtype\":\"float64\",\"shape\":[126]},\"y\":{\"__ndarray__\":\"AAAAAAAAAAA8ZP+i3papPyzLi8uujrk/I+3f6ckgwz+80j0j/23JP3cV89Tuqs8/NLq6lc3p0j+MCjmlCfLVP2tnK+k67Ng/JUb5rXnW2z/wBUt06K7eP9RoSZHaueA/WkGlF40R4j+r15Phr13jP7kZRmluneQ/DY+/FvzP5T/N/r/ClPTmP4OARjR9Cug/QahdmAMR6T9vJuTzfwfqP+4MCY9U7eo/wfI2Wu7B6z84Yy1MxYTsP5liDLlcNe0/xVUaokPT7T+MQRH+FF7uP0sexfl31e4/vuH5MCA57z8D4UTfzYjvP9xD2ghOxO8/i20sm3rr7z9oe0iFOv7vP8VC4MeB/O8/yIr3fFHm7z+2mC/Xt7vvP0aCsRjQfO8/8BW9gcIp7z91guc2xMLuP1c4Gh8XSO4/d8dnuQm67T9GtNHq9hjtP/tnH8RFZew/+3LrP2mf6z/qUxH538fqPwjXqtkz3+k/qePQwvnl6D8iL1gt0dznP+jJxsNjxOY/mNHD9WSd5T98v0aFkWjkP7DKzw2vJuM/oqb2hYvY4T+7haC7/H7gP/1nY5a/Nd4/DKckJDFa2z/8g8E5Im3YP8DlXSNycNU/1yNVLQpm0j/TMEjWuJ/OP0aravHEX8g/W9W2bTgQwj+e7yAPOmq3Py4QmIIPSqU/DSjuo9E3gb8yLeg5N+Otv4ykZCStsru/lwy3ygIxxL+AV+iIw3vKv3RM/xDJWtC/nOiDYTlt078fYrp+O3PWv9c1iiXgatm/8dHwQ0FS3L9YwwYwgyffv0EbLuxq9OC/IQZ19jpK4r+gwOz/VpTjvyvQtM7r0eS/zrMfLS4C5r9A1LlrWyTnv64e3N25N+i/K5R6UJk76b+9yOJ6Uy/qv7wtImlMEuu/2BLQ3/Lj679wg/u4wKPsvyWKATo7Ue2/7e0UYvPr7b/wKEUxhnPuv6km1+ec5+6/gEDHPe1H77+N9FCSOZTvv7rsXRNRzO+/zhrD3A/w779S7DcPX//vv2Dk+N40+u+//z0MmpTg779ylCSmjrLvv6TrInZAcO+/k88+d9QZ778zmeD1ga/uv8c3P/qMMe6/uSLYHEag7b+WTt1SCvzsv9ckurJCRey/o43VMGR86783ErxU76Hqv4P64eZvtum/cAUyl3y66L9P96Gctq7nv1ewCk7Jk+a/zcyFtGlq5b+09ZYXVjPkv7UAa4NV7+K/oMd6STef4b8uNuN70kPgv8rfjscKvN2/azkq5mnd2r8bvQtkmO3Xvwpad1F37tS/wKKwivHh0b+L+Mn79JPNv1z7M9cZUce/2vTYRFP/wL8dzb7bWEW1v7wS9cPd/KC/\",\"dtype\":\"float64\",\"shape\":[126]}},\"selected\":{\"id\":\"b8aeb3d8-e122-4804-bd88-9848f6427c77\",\"type\":\"Selection\"},\"selection_policy\":{\"id\":\"9b1a4af8-2d2a-4d22-9344-20488cb2bebd\",\"type\":\"UnionRenderers\"}},\"id\":\"ac4ea197-856c-4063-8166-a17c6bc37492\",\"type\":\"ColumnDataSource\"},{\"attributes\":{},\"id\":\"a5b5b24b-aeb5-4e15-8579-42a35460759a\",\"type\":\"WheelZoomTool\"},{\"attributes\":{},\"id\":\"94149be4-6a3f-4493-a302-37df1e74e68d\",\"type\":\"PanTool\"},{\"attributes\":{\"callback\":null,\"data\":{\"x\":{\"__ndarray__\":\"AAAAAAAAAACamZmZmZmpP5qZmZmZmbk/NDMzMzMzwz+amZmZmZnJPwAAAAAAANA/NDMzMzMz0z9nZmZmZmbWP5qZmZmZmdk/zczMzMzM3D8AAAAAAADgP5qZmZmZmeE/NDMzMzMz4z/NzMzMzMzkP2dmZmZmZuY/AAAAAAAA6D+amZmZmZnpPzQzMzMzM+s/zczMzMzM7D9nZmZmZmbuPwAAAAAAAPA/zczMzMzM8D+amZmZmZnxP2dmZmZmZvI/NDMzMzMz8z8AAAAAAAD0P83MzMzMzPQ/mpmZmZmZ9T9nZmZmZmb2PzQzMzMzM/c/AAAAAAAA+D/NzMzMzMz4P5qZmZmZmfk/Z2ZmZmZm+j80MzMzMzP7PwAAAAAAAPw/zczMzMzM/D+amZmZmZn9P2dmZmZmZv4/NDMzMzMz/z8AAAAAAAAAQGdmZmZmZgBAzczMzMzMAEAzMzMzMzMBQJqZmZmZmQFAAAAAAAAAAkBnZmZmZmYCQM3MzMzMzAJANDMzMzMzA0CamZmZmZkDQAAAAAAAAARAZ2ZmZmZmBEDNzMzMzMwEQDQzMzMzMwVAmpmZmZmZBUAAAAAAAAAGQGdmZmZmZgZAzczMzMzMBkA0MzMzMzMHQJqZmZmZmQdAAAAAAAAACEBnZmZmZmYIQM3MzMzMzAhANDMzMzMzCUCamZmZmZkJQAAAAAAAAApAZ2ZmZmZmCkDNzMzMzMwKQDQzMzMzMwtAmpmZmZmZC0AAAAAAAAAMQGdmZmZmZgxAzczMzMzMDEA0MzMzMzMNQJqZmZmZmQ1AAAAAAAAADkBnZmZmZmYOQM3MzMzMzA5ANDMzMzMzD0CamZmZmZkPQAAAAAAAABBAMzMzMzMzEEBnZmZmZmYQQJqZmZmZmRBAzczMzMzMEEAAAAAAAAARQDMzMzMzMxFAZ2ZmZmZmEUCamZmZmZkRQM3MzMzMzBFAAAAAAAAAEkAzMzMzMzMSQGdmZmZmZhJAmpmZmZmZEkDNzMzMzMwSQAAAAAAAABNANDMzMzMzE0BnZmZmZmYTQJqZmZmZmRNAzczMzMzME0AAAAAAAAAUQDQzMzMzMxRAZ2ZmZmZmFECamZmZmZkUQM3MzMzMzBRAAAAAAAAAFUA0MzMzMzMVQGdmZmZmZhVAmpmZmZmZFUDNzMzMzMwVQAAAAAAAABZANDMzMzMzFkBnZmZmZmYWQJqZmZmZmRZAzczMzMzMFkAAAAAAAAAXQDQzMzMzMxdAZ2ZmZmZmF0CamZmZmZkXQM3MzMzMzBdAAAAAAAAAGEA0MzMzMzMYQGdmZmZmZhhAmpmZmZmZGEDNzMzMzMwYQAAAAAAAABlA\",\"dtype\":\"float64\",\"shape\":[126]},\"y\":{\"__ndarray__\":\"AAAAAAAA8D9Ykigbw/XvP8EXqPkS1+8/N+lePgOk7z96YneVtFzvP6HufZ9UAe8/ugkv1B2S7j+35Q1dVw/uP/ii2+dUee0/LT8McXbQ7D9QfVsGKBXsP1ATqYHhR+s/FFtIPCZp6j/CmPS6hHnpP5Kdn1KWeeg/HyFVxv5p5z9lmHHea0vmPxqXb/mUHuU/HOKSljrk4z+hRrzaJZ3iP4wGtQ8oSuE/I2mIPDTY3z8RYccGuAfdP+cl24GoJNo/0Hk7lN4w1z9S2YvYPS7UP19MKmizHtE/5L9VP2kIzD8DVxO8e8HFPwKhgv1E2b4/p/nFT9Ubsj8sZlxFPUuVPzMWX8V65p2/4fnaPURBtL+ObKL0+X3Av4rp00nE0Ma/eg4lT/UUzb9uTU1GRaPRv69FNLnGsNS/tKEQ8Qqx178FclNXJqLav/Sqogg3gt2/yp6YBLMn4L9KfA459IPhv3CtiEsA1eK/bbq5kf8Z5L/kLzAXIlLlv7DYZiKgfOa/iNGQtLqY578nsM8DvKXov32Lhe/3oum/fXZ4bsyP6r9w9ID2oWvrvzIPgd3rNey/pgNmsyju7L8U7fqU4pPtv0xwV3evJu6/dSK6azGm7r/KQKPbFhLvv7JDCb0aau+/0uWFvgSu77+0Wl9rqd3vvySmVkfq+O+/gkkp4rX/77+2y7niB/Lvv/j31wnpz++/tgunLG+Z778HaaUmvU7vvwK+XsMC8O6/mObWn3x97r9fGsEDdPftv6M3nLI+Xu2/WSzStD6y7L82mv0Y4vPrvzfZfa2iI+u/92eGsgVC6r/oqNuEm0/pvwR7c0H/TOi/58g0YtY657+8kBVU0Bnmv8Ek2wam6uS/xXfEdhmu479kLWow9WTiv3zaI88LEOG/HceK7G5g37/1ZxWLsozcv1M7FpKxptm/yRohykaw1r+qwmJ8V6vTv3wmHDzSmdC/aj1YVFv7yr9y2uNmzrHEv4qNWSsHtry/8uVh/iTsr780alBDOl+Jv3R70+GWQKM/f0BOWFVmtj8W1x0FBY/BP2QWfCej38c/YI7Jp/ogzj/ZSmtwhSfSP/GIr8HvMtU/q1zkjskw2D8+HC/NKB/bP+5qN1kt/N0/CVQwFQFj4D/cMnQ/b73hP7DuFICDDOM/jLAlb2dP5D/rIVBxTIXlP0jUBzxsreY/h4RrVAnH5z+ECoOIb9HoP/NgjGL0y+k/Kv4Nlve16j+Us2hm447rPydypwYtVuw/SaVP8lQL7T8pUPk+563tP5K3euZ7Pe4/9SJ4Cbe57j9cHS0qSSLvP7SYSV/vdu8/1WfCfnO37z/OqXlArOPvP3X5qFh9++8/\",\"dtype\":\"float64\",\"shape\":[126]}},\"selected\":{\"id\":\"20d4013f-834a-434e-a553-eaa556bc56fb\",\"type\":\"Selection\"},\"selection_policy\":{\"id\":\"0c28c203-33e2-4026-a844-015b004f0035\",\"type\":\"UnionRenderers\"}},\"id\":\"a5bbd6ed-3877-4b9c-99f0-57b8e278bc5c\",\"type\":\"ColumnDataSource\"},{\"attributes\":{},\"id\":\"27b08509-d0ef-4a5a-8818-ebb78d5258b5\",\"type\":\"SaveTool\"},{\"attributes\":{},\"id\":\"38fa4f4c-4bfd-4540-aa91-6aa77a257fe5\",\"type\":\"LinearScale\"},{\"attributes\":{\"below\":[{\"id\":\"b0cbf628-9622-4046-9560-59952facc2f5\",\"type\":\"LinearAxis\"}],\"left\":[{\"id\":\"8dd4b2f6-2f55-470e-a18f-1ca608ac5860\",\"type\":\"LinearAxis\"}],\"plot_height\":300,\"plot_width\":300,\"renderers\":[{\"id\":\"b0cbf628-9622-4046-9560-59952facc2f5\",\"type\":\"LinearAxis\"},{\"id\":\"cc7d925b-3fd4-4322-b578-0a00c075f223\",\"type\":\"Grid\"},{\"id\":\"8dd4b2f6-2f55-470e-a18f-1ca608ac5860\",\"type\":\"LinearAxis\"},{\"id\":\"dd70f311-1e1f-4793-b31c-03c6363a3fcd\",\"type\":\"Grid\"},{\"id\":\"2c566c86-99da-454c-a7ca-442cf2818e26\",\"type\":\"BoxAnnotation\"},{\"id\":\"b7a42967-4f3a-4b64-861f-4aa39d278344\",\"type\":\"GlyphRenderer\"}],\"title\":{\"id\":\"2bab3d1c-dca1-41f9-8159-7641d62cd89f\",\"type\":\"Title\"},\"toolbar\":{\"id\":\"7f2425a4-7d80-44de-9b4c-529b785130d7\",\"type\":\"Toolbar\"},\"x_range\":{\"id\":\"f01ae6e4-795d-4852-804c-80787185ac4a\",\"type\":\"DataRange1d\"},\"x_scale\":{\"id\":\"e97bb324-b7d4-422a-91cc-b89142924da1\",\"type\":\"LinearScale\"},\"y_range\":{\"id\":\"8237f2c5-5ca3-478e-a7e1-0e389b578124\",\"type\":\"DataRange1d\"},\"y_scale\":{\"id\":\"5c385832-a950-4ed6-ab41-969c602d8115\",\"type\":\"LinearScale\"}},\"id\":\"5843a137-1d33-4d34-89b4-0d810ec14310\",\"subtype\":\"Figure\",\"type\":\"Plot\"},{\"attributes\":{\"formatter\":{\"id\":\"0fc85263-fa44-47f1-b2e1-1a16c97f97a4\",\"type\":\"BasicTickFormatter\"},\"plot\":{\"id\":\"1bf312c0-a571-47bc-9923-7cba9a65ea19\",\"subtype\":\"Figure\",\"type\":\"Plot\"},\"ticker\":{\"id\":\"de525149-98f5-47b8-97aa-4801db67e32b\",\"type\":\"BasicTicker\"}},\"id\":\"3973a047-ea7b-4d23-ba6a-dbefb4918eec\",\"type\":\"LinearAxis\"},{\"attributes\":{\"active_drag\":\"auto\",\"active_inspect\":\"auto\",\"active_scroll\":\"auto\",\"active_tap\":\"auto\",\"tools\":[{\"id\":\"cbe8829b-d4e7-40ed-b417-8fce9f2c3787\",\"type\":\"PanTool\"},{\"id\":\"a5b5b24b-aeb5-4e15-8579-42a35460759a\",\"type\":\"WheelZoomTool\"},{\"id\":\"e9a966d8-ef12-45b7-a983-78331e1fdd20\",\"type\":\"BoxZoomTool\"},{\"id\":\"27b08509-d0ef-4a5a-8818-ebb78d5258b5\",\"type\":\"SaveTool\"},{\"id\":\"cbc57145-ede8-4f9c-b551-73c2b8901bb5\",\"type\":\"ResetTool\"},{\"id\":\"41a1d716-8c37-415b-b612-00a4c324eaf7\",\"type\":\"HelpTool\"}]},\"id\":\"7f2425a4-7d80-44de-9b4c-529b785130d7\",\"type\":\"Toolbar\"},{\"attributes\":{},\"id\":\"602f6741-3a5e-4cf0-9dc5-7ec3097c574c\",\"type\":\"SaveTool\"},{\"attributes\":{},\"id\":\"42fdcb93-0617-4a97-9154-1d61a905988f\",\"type\":\"LinearScale\"},{\"attributes\":{\"source\":{\"id\":\"a5bbd6ed-3877-4b9c-99f0-57b8e278bc5c\",\"type\":\"ColumnDataSource\"}},\"id\":\"e08d9df4-c059-4edf-a869-53306091e9ad\",\"type\":\"CDSView\"},{\"attributes\":{\"formatter\":{\"id\":\"d9352844-876a-41d9-851a-0a57bf83b89f\",\"type\":\"BasicTickFormatter\"},\"plot\":{\"id\":\"1bf312c0-a571-47bc-9923-7cba9a65ea19\",\"subtype\":\"Figure\",\"type\":\"Plot\"},\"ticker\":{\"id\":\"52a8e0b6-dac4-4330-aae2-de33a854fc20\",\"type\":\"BasicTicker\"}},\"id\":\"ae419060-cee6-40fb-a5fd-c6d2e1a21a9e\",\"type\":\"LinearAxis\"},{\"attributes\":{\"source\":{\"id\":\"ac4ea197-856c-4063-8166-a17c6bc37492\",\"type\":\"ColumnDataSource\"}},\"id\":\"5a04c7a3-f0b2-4dbd-9f66-afe3dc15172d\",\"type\":\"CDSView\"},{\"attributes\":{},\"id\":\"a794562f-7433-4aa7-a359-d4953b036e09\",\"type\":\"ResetTool\"},{\"attributes\":{\"line_alpha\":0.1,\"line_color\":\"#1f77b4\",\"line_width\":2,\"x\":{\"field\":\"x\"},\"y\":{\"field\":\"y\"}},\"id\":\"c6f4e1d8-999e-4de9-9fa0-af77a552f9bc\",\"type\":\"Line\"},{\"attributes\":{\"active_drag\":\"auto\",\"active_inspect\":\"auto\",\"active_scroll\":\"auto\",\"active_tap\":\"auto\",\"tools\":[{\"id\":\"94149be4-6a3f-4493-a302-37df1e74e68d\",\"type\":\"PanTool\"},{\"id\":\"efa0d679-eb5c-468f-b84b-e96d9be0acf6\",\"type\":\"WheelZoomTool\"},{\"id\":\"beb469ff-aaf1-4fd6-a0dc-ba94bb139e39\",\"type\":\"BoxZoomTool\"},{\"id\":\"602f6741-3a5e-4cf0-9dc5-7ec3097c574c\",\"type\":\"SaveTool\"},{\"id\":\"a794562f-7433-4aa7-a359-d4953b036e09\",\"type\":\"ResetTool\"},{\"id\":\"582f71af-0810-411a-8fab-4d660beca3df\",\"type\":\"HelpTool\"}]},\"id\":\"6dcb930a-e3fa-453f-9bd7-8127d47ee389\",\"type\":\"Toolbar\"},{\"attributes\":{},\"id\":\"5c385832-a950-4ed6-ab41-969c602d8115\",\"type\":\"LinearScale\"},{\"attributes\":{\"line_color\":\"navy\",\"line_width\":2,\"x\":{\"field\":\"x\"},\"y\":{\"field\":\"y\"}},\"id\":\"2319ad85-ccbf-4ace-beb6-84ba85dd4062\",\"type\":\"Line\"},{\"attributes\":{\"bottom_units\":\"screen\",\"fill_alpha\":{\"value\":0.5},\"fill_color\":{\"value\":\"lightgrey\"},\"left_units\":\"screen\",\"level\":\"overlay\",\"line_alpha\":{\"value\":1.0},\"line_color\":{\"value\":\"black\"},\"line_dash\":[4,4],\"line_width\":{\"value\":2},\"plot\":null,\"render_mode\":\"css\",\"right_units\":\"screen\",\"top_units\":\"screen\"},\"id\":\"2c566c86-99da-454c-a7ca-442cf2818e26\",\"type\":\"BoxAnnotation\"},{\"attributes\":{\"child\":{\"id\":\"5843a137-1d33-4d34-89b4-0d810ec14310\",\"subtype\":\"Figure\",\"type\":\"Plot\"},\"title\":\"sine\"},\"id\":\"d895e434-6bf6-4977-9977-ce90dc6d73c1\",\"type\":\"Panel\"},{\"attributes\":{\"child\":{\"id\":\"1bf312c0-a571-47bc-9923-7cba9a65ea19\",\"subtype\":\"Figure\",\"type\":\"Plot\"},\"title\":\"cos\"},\"id\":\"0ce8efbc-89b0-4b4a-ba34-bdc035330a2d\",\"type\":\"Panel\"},{\"attributes\":{},\"id\":\"d9352844-876a-41d9-851a-0a57bf83b89f\",\"type\":\"BasicTickFormatter\"},{\"attributes\":{},\"id\":\"20d4013f-834a-434e-a553-eaa556bc56fb\",\"type\":\"Selection\"},{\"attributes\":{\"formatter\":{\"id\":\"cf021980-440d-4629-a8e5-c405a033f4ed\",\"type\":\"BasicTickFormatter\"},\"plot\":{\"id\":\"5843a137-1d33-4d34-89b4-0d810ec14310\",\"subtype\":\"Figure\",\"type\":\"Plot\"},\"ticker\":{\"id\":\"6007faea-8eba-4e4b-a2d6-a661ac277c78\",\"type\":\"BasicTicker\"}},\"id\":\"b0cbf628-9622-4046-9560-59952facc2f5\",\"type\":\"LinearAxis\"},{\"attributes\":{\"plot\":null,\"text\":\"\"},\"id\":\"129766dd-962a-4729-8b37-4acf5ca635d2\",\"type\":\"Title\"},{\"attributes\":{},\"id\":\"efa0d679-eb5c-468f-b84b-e96d9be0acf6\",\"type\":\"WheelZoomTool\"},{\"attributes\":{\"dimension\":1,\"plot\":{\"id\":\"1bf312c0-a571-47bc-9923-7cba9a65ea19\",\"subtype\":\"Figure\",\"type\":\"Plot\"},\"ticker\":{\"id\":\"de525149-98f5-47b8-97aa-4801db67e32b\",\"type\":\"BasicTicker\"}},\"id\":\"1533bb43-1831-4f30-8120-0f8a527234c3\",\"type\":\"Grid\"},{\"attributes\":{},\"id\":\"41a1d716-8c37-415b-b612-00a4c324eaf7\",\"type\":\"HelpTool\"},{\"attributes\":{},\"id\":\"6007faea-8eba-4e4b-a2d6-a661ac277c78\",\"type\":\"BasicTicker\"},{\"attributes\":{\"plot\":{\"id\":\"5843a137-1d33-4d34-89b4-0d810ec14310\",\"subtype\":\"Figure\",\"type\":\"Plot\"},\"ticker\":{\"id\":\"6007faea-8eba-4e4b-a2d6-a661ac277c78\",\"type\":\"BasicTicker\"}},\"id\":\"cc7d925b-3fd4-4322-b578-0a00c075f223\",\"type\":\"Grid\"},{\"attributes\":{\"data_source\":{\"id\":\"ac4ea197-856c-4063-8166-a17c6bc37492\",\"type\":\"ColumnDataSource\"},\"glyph\":{\"id\":\"2319ad85-ccbf-4ace-beb6-84ba85dd4062\",\"type\":\"Line\"},\"hover_glyph\":null,\"muted_glyph\":null,\"nonselection_glyph\":{\"id\":\"c6f4e1d8-999e-4de9-9fa0-af77a552f9bc\",\"type\":\"Line\"},\"selection_glyph\":null,\"view\":{\"id\":\"5a04c7a3-f0b2-4dbd-9f66-afe3dc15172d\",\"type\":\"CDSView\"}},\"id\":\"b7a42967-4f3a-4b64-861f-4aa39d278344\",\"type\":\"GlyphRenderer\"},{\"attributes\":{\"callback\":null,\"tabs\":[{\"id\":\"d895e434-6bf6-4977-9977-ce90dc6d73c1\",\"type\":\"Panel\"},{\"id\":\"0ce8efbc-89b0-4b4a-ba34-bdc035330a2d\",\"type\":\"Panel\"}]},\"id\":\"74c2546e-605e-4e1a-9fdd-0670a9b9a4f2\",\"type\":\"Tabs\"},{\"attributes\":{},\"id\":\"9b1a4af8-2d2a-4d22-9344-20488cb2bebd\",\"type\":\"UnionRenderers\"},{\"attributes\":{\"callback\":null},\"id\":\"8237f2c5-5ca3-478e-a7e1-0e389b578124\",\"type\":\"DataRange1d\"},{\"attributes\":{\"dimension\":1,\"plot\":{\"id\":\"5843a137-1d33-4d34-89b4-0d810ec14310\",\"subtype\":\"Figure\",\"type\":\"Plot\"},\"ticker\":{\"id\":\"a542ad0c-1ead-46ee-8972-60ff528dc8f7\",\"type\":\"BasicTicker\"}},\"id\":\"dd70f311-1e1f-4793-b31c-03c6363a3fcd\",\"type\":\"Grid\"}],\"root_ids\":[\"74c2546e-605e-4e1a-9fdd-0670a9b9a4f2\"]},\"title\":\"Bokeh Application\",\"version\":\"0.12.16\"}};\n",
       "  var render_items = [{\"docid\":\"6f2096c1-aaf6-4e94-b78e-c9db5586c43f\",\"elementid\":\"8c951333-53db-4e50-9c37-150fb0978c25\",\"modelid\":\"74c2546e-605e-4e1a-9fdd-0670a9b9a4f2\"}];\n",
       "  root.Bokeh.embed.embed_items_notebook(docs_json, render_items);\n",
       "\n",
       "  }\n",
       "  if (root.Bokeh !== undefined) {\n",
       "    embed_document(root);\n",
       "  } else {\n",
       "    var attempts = 0;\n",
       "    var timer = setInterval(function(root) {\n",
       "      if (root.Bokeh !== undefined) {\n",
       "        embed_document(root);\n",
       "        clearInterval(timer);\n",
       "      }\n",
       "      attempts++;\n",
       "      if (attempts > 100) {\n",
       "        console.log(\"Bokeh: ERROR: Unable to run BokehJS code because BokehJS library is missing\")\n",
       "        clearInterval(timer);\n",
       "      }\n",
       "    }, 10, root)\n",
       "  }\n",
       "})(window);"
      ],
      "application/vnd.bokehjs_exec.v0+json": ""
     },
     "metadata": {
      "application/vnd.bokehjs_exec.v0+json": {
       "id": "74c2546e-605e-4e1a-9fdd-0670a9b9a4f2"
      }
     },
     "output_type": "display_data"
    }
   ],
   "source": [
    "## Tab Widget\n",
    "from bokeh.plotting import figure, output_file, show\n",
    "from bokeh.models import Panel, Tabs\n",
    "import numpy as np\n",
    "import math\n",
    "x=np.arange(0, math.pi*2, 0.05)\n",
    "fig1=figure(plot_width=300, plot_height=300)\n",
    "fig1.line(x, np.sin(x),line_width=2, line_color='navy')\n",
    "tab1 = Panel(child=fig1, title=\"sine\")\n",
    "fig2=figure(plot_width=300, plot_height=300)\n",
    "fig2.line(x,np.cos(x), line_width=2, line_color='orange')\n",
    "tab2 = Panel(child=fig2, title=\"cos\")\n",
    "tabs = Tabs(tabs=[ tab1, tab2 ])\n",
    "show(tabs)"
   ]
  },
  {
   "cell_type": "code",
   "execution_count": null,
   "metadata": {},
   "outputs": [],
   "source": []
  }
 ],
 "metadata": {
  "kernelspec": {
   "display_name": "Python 3",
   "language": "python",
   "name": "python3"
  },
  "language_info": {
   "codemirror_mode": {
    "name": "ipython",
    "version": 3
   },
   "file_extension": ".py",
   "mimetype": "text/x-python",
   "name": "python",
   "nbconvert_exporter": "python",
   "pygments_lexer": "ipython3",
   "version": "3.6.9"
  }
 },
 "nbformat": 4,
 "nbformat_minor": 2
}
