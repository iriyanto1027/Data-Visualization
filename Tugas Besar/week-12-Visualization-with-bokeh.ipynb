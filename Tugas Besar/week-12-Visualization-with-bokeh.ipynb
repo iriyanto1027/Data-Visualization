{
 "cells": [
  {
   "cell_type": "code",
   "execution_count": null,
   "metadata": {},
   "outputs": [],
   "source": [
    "import bokeh\n",
    "bokeh.__version__\n",
    "import sys"
   ]
  },
  {
   "cell_type": "markdown",
   "metadata": {},
   "source": [
    "### Getting Started"
   ]
  },
  {
   "cell_type": "code",
   "execution_count": null,
   "metadata": {},
   "outputs": [],
   "source": [
    "from bokeh.plotting import figure, show\n",
    "from bokeh.io import output_file, output_notebook"
   ]
  },
  {
   "cell_type": "raw",
   "metadata": {},
   "source": [
    "The figure() function creates a new figure for plotting.\n",
    "The output_file() function is used to specify a HTML file to store output.\n",
    "The show() function displays the Bokeh figure in browser on in notebook.\n",
    "Next, set up two numpy arrays where second array is sine value of first."
   ]
  },
  {
   "cell_type": "code",
   "execution_count": null,
   "metadata": {},
   "outputs": [],
   "source": [
    "import numpy as np\n",
    "import math\n",
    "x=np.arange(0, math.pi*2, 0.05)\n",
    "y=np.sin(x)\n",
    "## To obtain a Bokeh Figure object, specify the title and x and y axis labels as below:\n",
    "p = figure(title=\"sine wave example\", x_axis_label='x', y_axis_label='y')\n",
    "## The Figure object contains a line() method that adds a line glyph to the figure. It needs data series for x and y axes.\n",
    "p.line(x, y, legend=\"sine\", line_width=2)\n",
    "##  set the output file and call show() function.\n",
    "output_file(\"sine.html\")\n",
    "show(p)"
   ]
  },
  {
   "cell_type": "markdown",
   "metadata": {},
   "source": [
    "If you want to display the html in jupyter notebook, use the function \"output_notebook\""
   ]
  },
  {
   "cell_type": "code",
   "execution_count": null,
   "metadata": {},
   "outputs": [],
   "source": [
    "#from bokeh.plotting import figure, output_notebook, show\n",
    "output_notebook()\n",
    "# show(p)"
   ]
  },
  {
   "cell_type": "markdown",
   "metadata": {},
   "source": [
    "### Plots with Glyphs"
   ]
  },
  {
   "cell_type": "code",
   "execution_count": null,
   "metadata": {},
   "outputs": [],
   "source": [
    "# Line PLot\n",
    "from bokeh.plotting import figure, output_file, show\n",
    "x=[1,2,3,4,5]\n",
    "y=[2,4,6,8,10]\n",
    "output_file('line.html')\n",
    "fig=figure(title='Line Plot example', x_axis_label='x', y_axis_label='y')\n",
    "fig.line(x,y)\n",
    "show(fig)"
   ]
  },
  {
   "cell_type": "code",
   "execution_count": null,
   "metadata": {},
   "outputs": [],
   "source": [
    "## Bar Plot\n",
    "from bokeh.plotting import figure, output_file, show\n",
    "fig = figure(plot_width=400, plot_height=200)\n",
    "fig.hbar(y=[2,4,6], height=1, left=0, right=[1,2,3], color=\"Cyan\")\n",
    "output_file('bar.html')\n",
    "show(fig)"
   ]
  },
  {
   "cell_type": "code",
   "execution_count": null,
   "metadata": {},
   "outputs": [],
   "source": [
    "# Vertical Bar\n",
    "from bokeh.plotting import figure, output_file, show\n",
    "fig = figure(plot_width=200, plot_height=400)\n",
    "fig.vbar(x=[1,2,3], width=0.5, bottom=0, top=[2,4,6], color=\"Cyan\")\n",
    "output_file('bar.html')\n",
    "show(fig)"
   ]
  },
  {
   "cell_type": "code",
   "execution_count": null,
   "metadata": {},
   "outputs": [],
   "source": [
    "## Patch PLots\n",
    "from bokeh.plotting import figure, output_file, show\n",
    "p = figure(plot_width=300, plot_height=300)\n",
    "p.patch(x=[1, 3,2,4], y=[2,3,5,7], color=\"green\")\n",
    "output_file('patch.html')\n",
    "show(p)"
   ]
  },
  {
   "cell_type": "code",
   "execution_count": null,
   "metadata": {},
   "outputs": [],
   "source": [
    "## Other example\n",
    "from bokeh.plotting import figure, output_file, show\n",
    "xs = [[5,3,4], [2,4,3], [2,3,5,4]]\n",
    "ys = [[6,4,2], [3,6,7], [2,4,7,8]]\n",
    "fig = figure()\n",
    "fig.patches(xs, ys, fill_color = ['red', 'blue', 'black'], line_color =\n",
    "'white')\n",
    "output_file('patch_plot.html')\n",
    "show(fig)\n"
   ]
  },
  {
   "cell_type": "code",
   "execution_count": null,
   "metadata": {},
   "outputs": [],
   "source": [
    "## Scatter plot\n",
    "from bokeh.plotting import figure, output_file, show\n",
    "fig = figure()\n",
    "fig.scatter([1, 4, 3, 2, 5], [6, 5, 2, 4, 7], marker=\"circle\", size=20,\n",
    "fill_color=\"grey\")\n",
    "output_file('scatter.html')\n",
    "show(fig)"
   ]
  },
  {
   "cell_type": "markdown",
   "metadata": {},
   "source": [
    "## Area Plots"
   ]
  },
  {
   "cell_type": "code",
   "execution_count": null,
   "metadata": {},
   "outputs": [],
   "source": [
    "#Vertical Area\n",
    "from bokeh.plotting import figure, output_file, show\n",
    "fig = figure()\n",
    "x=[1, 2, 3, 4, 5]\n",
    "y1=[2, 6, 4, 3, 5]\n",
    "y2=[1, 4, 2, 2, 3]\n",
    "fig.varea(x=x,y1=y1,y2=y2)\n",
    "output_file('area.html')\n",
    "show(fig)"
   ]
  },
  {
   "cell_type": "code",
   "execution_count": null,
   "metadata": {},
   "outputs": [],
   "source": [
    "# Horizontal Area\n",
    "from bokeh.plotting import figure, output_file, show\n",
    "fig = figure()\n",
    "y=[1, 2, 3, 4, 5]\n",
    "x1=[2, 6, 4, 3, 5]\n",
    "x2=[1, 4, 2, 2, 3]\n",
    "fig.harea(x1=x1,x2=x2,y=y)\n",
    "output_file('area.html')\n",
    "show(fig)"
   ]
  },
  {
   "cell_type": "code",
   "execution_count": null,
   "metadata": {},
   "outputs": [],
   "source": [
    "#Circle plots\n",
    "from bokeh.plotting import figure, output_file, show\n",
    "plot = figure(plot_width=300, plot_height=300)\n",
    "plot.circle(x=[1, 2, 3], y=[3,7,5], size=20, fill_color='red')\n",
    "plot.circle_cross(x=[2,4,6], y=[5,8,9], size=20,\n",
    "fill_color='blue',fill_alpha=0.2, line_width=2)\n",
    "plot.circle_x(x=[5,7,2], y=[2,4,9], size=20, fill_color='green',fill_alpha=0.6,\n",
    "line_width=2)\n",
    "show(plot)\n"
   ]
  },
  {
   "cell_type": "code",
   "execution_count": null,
   "metadata": {},
   "outputs": [],
   "source": [
    "# Rectangle, Oval, and Polygon\n",
    "from bokeh.plotting import figure, output_file, show\n",
    "fig = figure(plot_width=300, plot_height=300)\n",
    "fig.rect(x=10,y=10,width=100, height=50, width_units='screen',\n",
    "height_units='screen')\n",
    "fig.square(x=2,y=3,size=80, color='red')\n",
    "fig.ellipse(x=7,y=6, width=30, height=10, fill_color=None, line_width=2)\n",
    "fig.oval(x=6,y=6,width=2, height=1, angle=-0.4)\n",
    "show(fig)\n"
   ]
  },
  {
   "cell_type": "code",
   "execution_count": null,
   "metadata": {},
   "outputs": [],
   "source": [
    "## Wedges and Arch\n",
    "from bokeh.plotting import figure, output_file, show\n",
    "import math\n",
    "fig = figure(plot_width=300, plot_height=300)\n",
    "fig.arc(x=3, y=3, radius=50, radius_units='screen', start_angle=0.0,\n",
    "end_angle=math.pi/2)\n",
    "fig.wedge(x=3, y=3, radius=30, radius_units='screen',\n",
    " start_angle=0, end_angle=math.pi, direction='clock')\n",
    "fig.annular_wedge(x=3,y=3, inner_radius=100,\n",
    "outer_radius=75,outer_radius_units='screen',\n",
    " inner_radius_units='screen',start_angle=0.4,\n",
    "end_angle=4.5,color=\"green\", alpha=0.6)\n",
    "show(fig)"
   ]
  },
  {
   "cell_type": "markdown",
   "metadata": {},
   "source": [
    "### Specialized Curves "
   ]
  },
  {
   "cell_type": "code",
   "execution_count": null,
   "metadata": {},
   "outputs": [],
   "source": [
    "### Beizer\n",
    "x=2\n",
    "y=4\n",
    "xp02=x+0.4\n",
    "xp01=x+0.1\n",
    "xm01=x-0.1\n",
    "yp01=y+0.2\n",
    "ym01=y-0.2\n",
    "fig=figure(plot_width=300, plot_height=300)\n",
    "fig.bezier(x0=x, y0=y, x1=xp02, y1=y, cx0=xp01, cy0=yp01,cx1=xm01, cy1=ym01, line_color=\"red\", line_width=2)\n",
    "show(fig)"
   ]
  },
  {
   "cell_type": "markdown",
   "metadata": {},
   "source": [
    "### Categorical Axes"
   ]
  },
  {
   "cell_type": "code",
   "execution_count": null,
   "metadata": {},
   "outputs": [],
   "source": [
    "langs=['C', 'C++', 'Java', 'Python', 'PHP']\n",
    "fig=figure(x_range=langs, plot_width=300, plot_height=300)\n",
    "from bokeh.plotting import figure, output_file, show\n",
    "langs=['C', 'C++', 'Java', 'Python', 'PHP']\n",
    "students=[23,17,35,29,12]\n",
    "fig=figure(x_range=langs, plot_width=300, plot_height=300)\n",
    "fig.vbar(x=langs, top=students, width=0.5)\n",
    "show(fig)\n"
   ]
  },
  {
   "cell_type": "code",
   "execution_count": null,
   "metadata": {},
   "outputs": [],
   "source": [
    "## or you can show with the different colors"
   ]
  },
  {
   "cell_type": "code",
   "execution_count": null,
   "metadata": {},
   "outputs": [],
   "source": [
    "cols=['red','green','orange','navy', 'cyan']\n",
    "fig.vbar(x=langs, top=students, color=cols,width=0.5)\n",
    "show(fig)"
   ]
  },
  {
   "cell_type": "code",
   "execution_count": null,
   "metadata": {},
   "outputs": [],
   "source": [
    "# Other Example\n",
    "from bokeh.plotting import figure, output_file, show\n",
    "products=['computer','mobile','printer']\n",
    "months=['Jan','Feb','Mar']\n",
    "sales={'products':products,\n",
    " 'Jan':[10,40,5],\n",
    " 'Feb':[8,45,10],\n",
    " 'Mar':[25,60,22]}\n",
    "cols=['red','green','blue']#,'navy', 'cyan']\n",
    "fig=figure(x_range=products, plot_width=300, plot_height=300)\n",
    "fig.vbar_stack(months, x='products', source=sales, color=cols,width=0.5)\n",
    "show(fig)\n"
   ]
  },
  {
   "cell_type": "code",
   "execution_count": null,
   "metadata": {},
   "outputs": [],
   "source": [
    "# Or by using this representation\n",
    "from bokeh.plotting import figure, output_file, show\n",
    "from bokeh.transform import dodge\n",
    "products=['computer','mobile','printer']\n",
    "months=['Jan','Feb','Mar']\n",
    "sales={'products':products,\n",
    " 'Jan':[10,40,5],\n",
    " 'Feb':[8,45,10],\n",
    " 'Mar':[25,60,22]}\n",
    "fig=figure(x_range=products, plot_width=300, plot_height=300)\n",
    "fig.vbar(x=dodge('products', -0.25, range=fig.x_range), top='Jan',\n",
    " width=0.2,source=sales, color=\"red\")\n",
    "fig.vbar(x=dodge('products', 0.0, range=fig.x_range), top='Feb',\n",
    " width=0.2, source=sales,color=\"green\")\n",
    "fig.vbar(x=dodge('products', 0.25, range=fig.x_range), top='Mar',\n",
    " width=0.2,source=sales,color=\"blue\")\n",
    "show(fig)"
   ]
  },
  {
   "cell_type": "markdown",
   "metadata": {},
   "source": [
    "### Twin Axes or Replot"
   ]
  },
  {
   "cell_type": "code",
   "execution_count": null,
   "metadata": {},
   "outputs": [],
   "source": [
    "from numpy import pi, arange, sin, linspace\n",
    "x = arange(-2*pi, 2*pi, 0.1)\n",
    "y = sin(x)\n",
    "y2 = linspace(0, 100, len(y))\n",
    "from bokeh.plotting import output_file, figure, show\n",
    "from bokeh.models import LinearAxis, Range1d\n",
    "fig = figure(title='Twin Axis Example', y_range=(-1.1, 1.1))\n",
    "fig.line(x, y, color=\"red\")\n",
    "fig.extra_y_ranges = {\"y2\": Range1d(start=0, end=100)}\n",
    "fig.add_layout(LinearAxis(y_range_name=\"y2\"), 'right')\n",
    "fig.line(x, y2, color=\"blue\", y_range_name=\"y2\")\n",
    "show(fig)\n"
   ]
  },
  {
   "cell_type": "code",
   "execution_count": null,
   "metadata": {},
   "outputs": [],
   "source": [
    "# You may create the legend\n",
    "from bokeh.plotting import figure, output_file, show\n",
    "import numpy as np\n",
    "import math\n",
    "x=np.arange(0, math.pi*2, 0.05)\n",
    "fig=figure()\n",
    "fig.line(x, np.sin(x),line_width=2, line_color='navy', legend='sine')\n",
    "fig.circle(x,np.cos(x), line_width=2, line_color='orange', legend='cosine')\n",
    "fig.square(x,-np.sin(x),line_width=2, line_color='grey', legend='-sine')\n",
    "show(fig)\n"
   ]
  },
  {
   "cell_type": "markdown",
   "metadata": {},
   "source": [
    "## Bokeh and Pandas "
   ]
  },
  {
   "cell_type": "code",
   "execution_count": null,
   "metadata": {},
   "outputs": [],
   "source": [
    "import pandas as pd\n",
    "df=pd.read_csv('test.csv')\n",
    "print (df)"
   ]
  },
  {
   "cell_type": "code",
   "execution_count": null,
   "metadata": {},
   "outputs": [],
   "source": [
    "from bokeh.plotting import figure, output_file, show\n",
    "p = figure()\n",
    "x=df['x']\n",
    "y=df['pow']\n",
    "p.line(x,y,line_width=2)\n",
    "p.circle(x, y,size=20)\n",
    "show(p)"
   ]
  },
  {
   "cell_type": "code",
   "execution_count": null,
   "metadata": {},
   "outputs": [],
   "source": [
    "# Filtering Data\n",
    "from bokeh.models import ColumnDataSource, CDSView, BooleanFilter\n",
    "from bokeh.plotting import figure, show\n",
    "from bokeh.sampledata.unemployment1948 import data\n",
    "source = ColumnDataSource(data)\n",
    "booleans = [True if int(year) >= 1980 else False for year in\n",
    "source.data['Year']]\n",
    "print (booleans)\n",
    "view1 = CDSView(source=source, filters=[BooleanFilter(booleans)])\n",
    "p = figure(title=\"Unemployment data\", x_range=(1980,2020), x_axis_label='Year',\n",
    "y_axis_label='Percentage')\n",
    "p.line(x='Year', y='Annual', source=source, view=view1, color='red',\n",
    "line_width=2)\n",
    "show(p)\n"
   ]
  },
  {
   "cell_type": "markdown",
   "metadata": {},
   "source": [
    "## Bokeh Layout"
   ]
  },
  {
   "cell_type": "code",
   "execution_count": null,
   "metadata": {},
   "outputs": [],
   "source": [
    "from bokeh.plotting import figure, output_file, show\n",
    "from bokeh.layouts import column\n",
    "import numpy as np\n",
    "import math\n",
    "x=np.arange(0, math.pi*2, 0.05)\n",
    "y1=np.sin(x)\n",
    "y2=np.cos(x)\n",
    "fig1 = figure(plot_width=200, plot_height=200)\n",
    "fig1.line(x, y1,line_width=2, line_color='blue')\n",
    "fig2 = figure(plot_width=200, plot_height=200)\n",
    "fig2.line(x, y2,line_width=2, line_color='red')\n",
    "c=column(children=[fig1, fig2], sizing_mode='stretch_both')\n",
    "show(c)\n"
   ]
  },
  {
   "cell_type": "code",
   "execution_count": null,
   "metadata": {},
   "outputs": [],
   "source": [
    "from bokeh.plotting import figure, output_file, show\n",
    "from bokeh.layouts import row\n",
    "import numpy as np\n",
    "import math\n",
    "x=np.arange(0, math.pi*2, 0.05)\n",
    "y1=np.sin(x)\n",
    "y2=np.cos(x)\n",
    "fig1 = figure(plot_width=200, plot_height=200)\n",
    "fig1.line(x, y1,line_width=2, line_color='blue')\n",
    "fig2 = figure(plot_width=200, plot_height=200)\n",
    "fig2.line(x, y2,line_width=2, line_color='red')\n",
    "r=row(children=[fig1, fig2], sizing_mode='stretch_both')\n",
    "show(r)"
   ]
  },
  {
   "cell_type": "code",
   "execution_count": null,
   "metadata": {},
   "outputs": [],
   "source": [
    "from bokeh.plotting import figure, output_file, show\n",
    "from bokeh.layouts import gridplot\n",
    "import math\n",
    "x=list(range(1,11))\n",
    "y1=x\n",
    "y2=[11-i for i in x]\n",
    "y3=[i*i for i in x]\n",
    "y4=[math.log10(i) for i in x]\n",
    "\n",
    "fig1 = figure(plot_width=200, plot_height=200)\n",
    "fig1.line(x, y1,line_width=2, line_color='blue')\n",
    "fig2 = figure(plot_width=200, plot_height=200)\n",
    "fig2.circle(x, y2,size=10, color='green')\n",
    "fig3=figure(plot_width=200, plot_height=200)\n",
    "fig3.circle(x,y3, size=10, color='grey')\n",
    "fig4=figure(plot_width=200, plot_height=200, y_axis_type='log')\n",
    "fig4.line(x,y4, line_width=2, line_color='red')\n",
    "grid = gridplot(children=[[fig1, fig2], [fig3,fig4]],\n",
    "sizing_mode='stretch_both')\n",
    "show(grid)"
   ]
  },
  {
   "cell_type": "markdown",
   "metadata": {},
   "source": [
    "## Widgets"
   ]
  },
  {
   "cell_type": "code",
   "execution_count": null,
   "metadata": {},
   "outputs": [],
   "source": [
    "from bokeh.layouts import column\n",
    "from bokeh.models import CustomJS, ColumnDataSource\n",
    "from bokeh.plotting import Figure, output_file, show\n",
    "from bokeh.models.widgets import Button\n",
    "x = [x*0.05 for x in range(0, 200)]\n",
    "y = x\n",
    "source = ColumnDataSource(data=dict(x=x, y=y))\n",
    "plot = Figure(plot_width=400, plot_height=400)\n",
    "plot.line('x', 'y', source=source, line_width=3, line_alpha=0.6)\n",
    "callback = CustomJS(args=dict(source=source), code=\"\"\"\n",
    " var data = source.data;\n",
    " x = data['x']\n",
    " y = data['y']\n",
    " for (i = 0; i < x.length; i++) {\n",
    " y[i] = Math.pow(x[i], 4)\n",
    " }\n",
    " source.change.emit();\n",
    "\"\"\")\n",
    "btn = Button(label=\"click here\", callback=callback, name=\"1\")\n",
    "layout = column(btn , plot)\n",
    "show(layout)\n"
   ]
  },
  {
   "cell_type": "code",
   "execution_count": null,
   "metadata": {},
   "outputs": [],
   "source": [
    "## slider\n",
    "from bokeh.layouts import column\n",
    "from bokeh.models import CustomJS, ColumnDataSource\n",
    "from bokeh.plotting import Figure, output_file, show\n",
    "from bokeh.models.widgets import Slider\n",
    "x = [x*0.05 for x in range(0, 200)]\n",
    "y = x\n",
    "source = ColumnDataSource(data=dict(x=x, y=y))\n",
    "plot = Figure(plot_width=400, plot_height=400)\n",
    "plot.line('x', 'y', source=source, line_width=3, line_alpha=0.6)\n",
    "handler = CustomJS(args=dict(source=source), code=\"\"\"\n",
    " var data = source.data;\n",
    " var f = cb_obj.value\n",
    " var x = data['x']\n",
    " var y = data['y']\n",
    " for (var i = 0; i < x.length; i++) {\n",
    " y[i] = Math.pow(x[i], f)\n",
    " }\n",
    " source.change.emit();\n",
    " \"\"\")\n",
    "slider = Slider(start=0.0, end=5, value=1, step=.25, title=\"Slider Value\")\n",
    "slider.js_on_change('value', handler)\n",
    "layout = column(slider, plot)\n",
    "show(layout)\n"
   ]
  },
  {
   "cell_type": "code",
   "execution_count": null,
   "metadata": {},
   "outputs": [],
   "source": [
    "## select\n",
    "from bokeh.layouts import column\n",
    "from bokeh.models import CustomJS, ColumnDataSource\n",
    "from bokeh.plotting import Figure, output_file, show\n",
    "from bokeh.models.widgets import RadioGroup, Select\n",
    "x = [x*0.05 for x in range(0, 200)]\n",
    "y = x\n",
    "source = ColumnDataSource(data=dict(x=x, y=y))\n",
    "plot = Figure(plot_width=400, plot_height=400)\n",
    "plot.line('x', 'y', source=source, line_width=3, line_alpha=0.6)\n",
    "radiohandler = CustomJS(args=dict(source=source), code=\"\"\"\n",
    " var data = source.data;\n",
    " console.log('Tap event occurred at x-position: ' + cb_obj.active);\n",
    " //plot.title.text=cb_obj.value;\n",
    " x = data['x']\n",
    " y = data['y']\n",
    " if (cb_obj.active==0)\n",
    " {\n",
    " for (i = 0; i < x.length; i++) {\n",
    " y[i] = x[i];\n",
    " }\n",
    " }\n",
    " if (cb_obj.active==1)\n",
    " {\n",
    " for (i = 0; i < x.length; i++) {\n",
    " y[i] = Math.pow(x[i], 2)\n",
    " }\n",
    " }\n",
    " if (cb_obj.active==2)\n",
    " {\n",
    " for (i = 0; i < x.length; i++) {\n",
    " y[i] = Math.pow(x[i], 4)\n",
    " }\n",
    " }\n",
    " source.change.emit();\n",
    "\"\"\")\n",
    "selecthandler = CustomJS(args=dict(source=source), code=\"\"\"\n",
    " var data = source.data;\n",
    " console.log('Tap event occurred at x-position: ' + cb_obj.value);\n",
    " //plot.title.text=cb_obj.value;\n",
    " x = data['x']\n",
    " y = data['y']\n",
    " if (cb_obj.value==\"line\")\n",
    " {\n",
    " for (i = 0; i < x.length; i++) {\n",
    " y[i] = x[i];\n",
    " }\n",
    " }\n",
    " if (cb_obj.value==\"SquareCurve\")\n",
    " {\n",
    " for (i = 0; i < x.length; i++) {\n",
    " y[i] = Math.pow(x[i], 2)\n",
    " }\n",
    " }\n",
    " if (cb_obj.value==\"CubeCurve\")\n",
    " {\n",
    " for (i = 0; i < x.length; i++) {\n",
    " y[i] = Math.pow(x[i], 4)\n",
    " }\n",
    " }\n",
    " source.change.emit();\n",
    "\"\"\")\n",
    "radio = RadioGroup(\n",
    " labels=[\"line\", \"SqureCurve\", \"CubeCurve\"], active=0)\n",
    "radio.js_on_change('active', radiohandler)\n",
    "select = Select(title=\"Select:\", value='line', options=[\"line\", \"SquareCurve\",\n",
    "\"CubeCurve\"])\n",
    "select.js_on_change('value', selecthandler)\n",
    "layout = column(radio, select, plot)\n",
    "show(layout)\n"
   ]
  },
  {
   "cell_type": "code",
   "execution_count": null,
   "metadata": {},
   "outputs": [],
   "source": [
    "## Tab Widget\n",
    "from bokeh.plotting import figure, output_file, show\n",
    "from bokeh.models import Panel, Tabs\n",
    "import numpy as np\n",
    "import math\n",
    "x=np.arange(0, math.pi*2, 0.05)\n",
    "fig1=figure(plot_width=300, plot_height=300)\n",
    "fig1.line(x, np.sin(x),line_width=2, line_color='navy')\n",
    "tab1 = Panel(child=fig1, title=\"sine\")\n",
    "fig2=figure(plot_width=300, plot_height=300)\n",
    "fig2.line(x,np.cos(x), line_width=2, line_color='orange')\n",
    "tab2 = Panel(child=fig2, title=\"cos\")\n",
    "tabs = Tabs(tabs=[ tab1, tab2 ])\n",
    "show(tabs)"
   ]
  },
  {
   "cell_type": "code",
   "execution_count": null,
   "metadata": {},
   "outputs": [],
   "source": []
  }
 ],
 "metadata": {
  "kernelspec": {
   "display_name": "Python 3",
   "language": "python",
   "name": "python3"
  },
  "language_info": {
   "codemirror_mode": {
    "name": "ipython",
    "version": 3
   },
   "file_extension": ".py",
   "mimetype": "text/x-python",
   "name": "python",
   "nbconvert_exporter": "python",
   "pygments_lexer": "ipython3",
   "version": "3.7.3"
  }
 },
 "nbformat": 4,
 "nbformat_minor": 2
}
